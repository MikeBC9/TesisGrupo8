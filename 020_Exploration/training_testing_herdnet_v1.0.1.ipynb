{
  "cells": [
    {
      "cell_type": "markdown",
      "metadata": {
        "id": "tOMmy2YvTHSy"
      },
      "source": [
        "# DEMO - Training and testing HerdNet on nadir aerial images"
      ]
    },
    {
      "cell_type": "code",
      "source": [],
      "metadata": {
        "id": "SgpP9T6AN3R6"
      },
      "execution_count": null,
      "outputs": []
    },
    {
      "cell_type": "markdown",
      "metadata": {
        "id": "_XTpIbRwT9PO"
      },
      "source": [
        "## Installations"
      ]
    },
    {
      "cell_type": "code",
      "execution_count": 1,
      "metadata": {
        "id": "9v5ab5BbSrVl",
        "outputId": "d86cee85-40aa-4741-93b4-690fcb0f5951",
        "colab": {
          "base_uri": "https://localhost:8080/"
        }
      },
      "outputs": [
        {
          "output_type": "stream",
          "name": "stdout",
          "text": [
            "Tue Apr  8 21:28:26 2025       \n",
            "+-----------------------------------------------------------------------------------------+\n",
            "| NVIDIA-SMI 550.54.15              Driver Version: 550.54.15      CUDA Version: 12.4     |\n",
            "|-----------------------------------------+------------------------+----------------------+\n",
            "| GPU  Name                 Persistence-M | Bus-Id          Disp.A | Volatile Uncorr. ECC |\n",
            "| Fan  Temp   Perf          Pwr:Usage/Cap |           Memory-Usage | GPU-Util  Compute M. |\n",
            "|                                         |                        |               MIG M. |\n",
            "|=========================================+========================+======================|\n",
            "|   0  NVIDIA A100-SXM4-40GB          Off |   00000000:00:04.0 Off |                    0 |\n",
            "| N/A   34C    P0             49W /  400W |       0MiB /  40960MiB |      0%      Default |\n",
            "|                                         |                        |             Disabled |\n",
            "+-----------------------------------------+------------------------+----------------------+\n",
            "                                                                                         \n",
            "+-----------------------------------------------------------------------------------------+\n",
            "| Processes:                                                                              |\n",
            "|  GPU   GI   CI        PID   Type   Process name                              GPU Memory |\n",
            "|        ID   ID                                                               Usage      |\n",
            "|=========================================================================================|\n",
            "|  No running processes found                                                             |\n",
            "+-----------------------------------------------------------------------------------------+\n"
          ]
        }
      ],
      "source": [
        "# Check GPU\n",
        "!nvidia-smi"
      ]
    },
    {
      "cell_type": "code",
      "execution_count": 1,
      "metadata": {
        "id": "z9RVoQx5UOkg",
        "outputId": "e427d959-3f33-441c-b5cf-b5e107beefa4",
        "colab": {
          "base_uri": "https://localhost:8080/"
        }
      },
      "outputs": [
        {
          "output_type": "stream",
          "name": "stdout",
          "text": [
            "Requirement already satisfied: albumentations in /usr/local/lib/python3.11/dist-packages (2.0.5)\n",
            "Requirement already satisfied: numpy>=1.24.4 in /usr/local/lib/python3.11/dist-packages (from albumentations) (2.0.2)\n",
            "Requirement already satisfied: scipy>=1.10.0 in /usr/local/lib/python3.11/dist-packages (from albumentations) (1.14.1)\n",
            "Requirement already satisfied: PyYAML in /usr/local/lib/python3.11/dist-packages (from albumentations) (6.0.2)\n",
            "Requirement already satisfied: pydantic>=2.9.2 in /usr/local/lib/python3.11/dist-packages (from albumentations) (2.11.2)\n",
            "Requirement already satisfied: albucore==0.0.23 in /usr/local/lib/python3.11/dist-packages (from albumentations) (0.0.23)\n",
            "Requirement already satisfied: opencv-python-headless>=4.9.0.80 in /usr/local/lib/python3.11/dist-packages (from albumentations) (4.11.0.86)\n",
            "Requirement already satisfied: stringzilla>=3.10.4 in /usr/local/lib/python3.11/dist-packages (from albucore==0.0.23->albumentations) (3.12.3)\n",
            "Requirement already satisfied: simsimd>=5.9.2 in /usr/local/lib/python3.11/dist-packages (from albucore==0.0.23->albumentations) (6.2.1)\n",
            "Requirement already satisfied: annotated-types>=0.6.0 in /usr/local/lib/python3.11/dist-packages (from pydantic>=2.9.2->albumentations) (0.7.0)\n",
            "Requirement already satisfied: pydantic-core==2.33.1 in /usr/local/lib/python3.11/dist-packages (from pydantic>=2.9.2->albumentations) (2.33.1)\n",
            "Requirement already satisfied: typing-extensions>=4.12.2 in /usr/local/lib/python3.11/dist-packages (from pydantic>=2.9.2->albumentations) (4.13.1)\n",
            "Requirement already satisfied: typing-inspection>=0.4.0 in /usr/local/lib/python3.11/dist-packages (from pydantic>=2.9.2->albumentations) (0.4.0)\n",
            "Requirement already satisfied: fiftyone in /usr/local/lib/python3.11/dist-packages (1.4.1)\n",
            "Requirement already satisfied: aiofiles in /usr/local/lib/python3.11/dist-packages (from fiftyone) (24.1.0)\n",
            "Requirement already satisfied: argcomplete in /usr/local/lib/python3.11/dist-packages (from fiftyone) (3.6.2)\n",
            "Requirement already satisfied: beautifulsoup4 in /usr/local/lib/python3.11/dist-packages (from fiftyone) (4.13.3)\n",
            "Requirement already satisfied: boto3 in /usr/local/lib/python3.11/dist-packages (from fiftyone) (1.37.29)\n",
            "Requirement already satisfied: cachetools in /usr/local/lib/python3.11/dist-packages (from fiftyone) (5.5.2)\n",
            "Requirement already satisfied: dacite<1.8.0,>=1.6.0 in /usr/local/lib/python3.11/dist-packages (from fiftyone) (1.7.0)\n",
            "Requirement already satisfied: Deprecated in /usr/local/lib/python3.11/dist-packages (from fiftyone) (1.2.18)\n",
            "Requirement already satisfied: ftfy in /usr/local/lib/python3.11/dist-packages (from fiftyone) (6.3.1)\n",
            "Requirement already satisfied: humanize in /usr/local/lib/python3.11/dist-packages (from fiftyone) (4.12.2)\n",
            "Requirement already satisfied: hypercorn>=0.13.2 in /usr/local/lib/python3.11/dist-packages (from fiftyone) (0.17.3)\n",
            "Requirement already satisfied: Jinja2>=3 in /usr/local/lib/python3.11/dist-packages (from fiftyone) (3.1.6)\n",
            "Requirement already satisfied: kaleido!=0.2.1.post1 in /usr/local/lib/python3.11/dist-packages (from fiftyone) (0.2.1)\n",
            "Requirement already satisfied: matplotlib in /usr/local/lib/python3.11/dist-packages (from fiftyone) (3.10.0)\n",
            "Requirement already satisfied: mongoengine~=0.29.1 in /usr/local/lib/python3.11/dist-packages (from fiftyone) (0.29.1)\n",
            "Requirement already satisfied: motor~=3.6.0 in /usr/local/lib/python3.11/dist-packages (from fiftyone) (3.6.1)\n",
            "Requirement already satisfied: numpy in /usr/local/lib/python3.11/dist-packages (from fiftyone) (2.0.2)\n",
            "Requirement already satisfied: packaging in /usr/local/lib/python3.11/dist-packages (from fiftyone) (24.2)\n",
            "Requirement already satisfied: pandas in /usr/local/lib/python3.11/dist-packages (from fiftyone) (2.2.2)\n",
            "Requirement already satisfied: Pillow>=6.2 in /usr/local/lib/python3.11/dist-packages (from fiftyone) (11.1.0)\n",
            "Requirement already satisfied: plotly>=4.14 in /usr/local/lib/python3.11/dist-packages (from fiftyone) (5.24.1)\n",
            "Requirement already satisfied: pprintpp in /usr/local/lib/python3.11/dist-packages (from fiftyone) (0.4.0)\n",
            "Requirement already satisfied: psutil in /usr/local/lib/python3.11/dist-packages (from fiftyone) (5.9.5)\n",
            "Requirement already satisfied: pymongo~=4.9.2 in /usr/local/lib/python3.11/dist-packages (from fiftyone) (4.9.2)\n",
            "Requirement already satisfied: pytz in /usr/local/lib/python3.11/dist-packages (from fiftyone) (2025.2)\n",
            "Requirement already satisfied: PyYAML in /usr/local/lib/python3.11/dist-packages (from fiftyone) (6.0.2)\n",
            "Requirement already satisfied: regex in /usr/local/lib/python3.11/dist-packages (from fiftyone) (2024.11.6)\n",
            "Requirement already satisfied: retrying in /usr/local/lib/python3.11/dist-packages (from fiftyone) (1.3.4)\n",
            "Requirement already satisfied: rtree in /usr/local/lib/python3.11/dist-packages (from fiftyone) (1.4.0)\n",
            "Requirement already satisfied: scikit-learn in /usr/local/lib/python3.11/dist-packages (from fiftyone) (1.6.1)\n",
            "Requirement already satisfied: scikit-image in /usr/local/lib/python3.11/dist-packages (from fiftyone) (0.25.2)\n",
            "Requirement already satisfied: scipy in /usr/local/lib/python3.11/dist-packages (from fiftyone) (1.14.1)\n",
            "Requirement already satisfied: setuptools in /usr/local/lib/python3.11/dist-packages (from fiftyone) (75.2.0)\n",
            "Requirement already satisfied: sseclient-py<2,>=1.7.2 in /usr/local/lib/python3.11/dist-packages (from fiftyone) (1.8.0)\n",
            "Requirement already satisfied: sse-starlette<1,>=0.10.3 in /usr/local/lib/python3.11/dist-packages (from fiftyone) (0.10.3)\n",
            "Requirement already satisfied: starlette>=0.24.0 in /usr/local/lib/python3.11/dist-packages (from fiftyone) (0.46.1)\n",
            "Requirement already satisfied: strawberry-graphql in /usr/local/lib/python3.11/dist-packages (from fiftyone) (0.263.2)\n",
            "Requirement already satisfied: tabulate in /usr/local/lib/python3.11/dist-packages (from fiftyone) (0.9.0)\n",
            "Requirement already satisfied: xmltodict in /usr/local/lib/python3.11/dist-packages (from fiftyone) (0.14.2)\n",
            "Requirement already satisfied: universal-analytics-python3<2,>=1.0.1 in /usr/local/lib/python3.11/dist-packages (from fiftyone) (1.1.1)\n",
            "Requirement already satisfied: pydash in /usr/local/lib/python3.11/dist-packages (from fiftyone) (8.0.5)\n",
            "Requirement already satisfied: fiftyone-brain<0.21,>=0.20.1 in /usr/local/lib/python3.11/dist-packages (from fiftyone) (0.20.1)\n",
            "Requirement already satisfied: fiftyone-db<2.0,>=0.4 in /usr/local/lib/python3.11/dist-packages (from fiftyone) (1.1.7)\n",
            "Requirement already satisfied: voxel51-eta<0.15,>=0.14.0 in /usr/local/lib/python3.11/dist-packages (from fiftyone) (0.14.0)\n",
            "Requirement already satisfied: opencv-python-headless in /usr/local/lib/python3.11/dist-packages (from fiftyone) (4.11.0.86)\n",
            "Requirement already satisfied: h11 in /usr/local/lib/python3.11/dist-packages (from hypercorn>=0.13.2->fiftyone) (0.14.0)\n",
            "Requirement already satisfied: h2>=3.1.0 in /usr/local/lib/python3.11/dist-packages (from hypercorn>=0.13.2->fiftyone) (4.2.0)\n",
            "Requirement already satisfied: priority in /usr/local/lib/python3.11/dist-packages (from hypercorn>=0.13.2->fiftyone) (2.0.0)\n",
            "Requirement already satisfied: wsproto>=0.14.0 in /usr/local/lib/python3.11/dist-packages (from hypercorn>=0.13.2->fiftyone) (1.2.0)\n",
            "Requirement already satisfied: MarkupSafe>=2.0 in /usr/local/lib/python3.11/dist-packages (from Jinja2>=3->fiftyone) (3.0.2)\n",
            "Requirement already satisfied: tenacity>=6.2.0 in /usr/local/lib/python3.11/dist-packages (from plotly>=4.14->fiftyone) (9.1.2)\n",
            "Requirement already satisfied: dnspython<3.0.0,>=1.16.0 in /usr/local/lib/python3.11/dist-packages (from pymongo~=4.9.2->fiftyone) (2.7.0)\n",
            "Requirement already satisfied: anyio<5,>=3.6.2 in /usr/local/lib/python3.11/dist-packages (from starlette>=0.24.0->fiftyone) (4.9.0)\n",
            "Requirement already satisfied: httpx>=0.10.0 in /usr/local/lib/python3.11/dist-packages (from universal-analytics-python3<2,>=1.0.1->fiftyone) (0.28.1)\n",
            "Requirement already satisfied: dill in /usr/local/lib/python3.11/dist-packages (from voxel51-eta<0.15,>=0.14.0->fiftyone) (0.3.9)\n",
            "Requirement already satisfied: future in /usr/local/lib/python3.11/dist-packages (from voxel51-eta<0.15,>=0.14.0->fiftyone) (1.0.0)\n",
            "Requirement already satisfied: glob2 in /usr/local/lib/python3.11/dist-packages (from voxel51-eta<0.15,>=0.14.0->fiftyone) (0.7)\n",
            "Requirement already satisfied: jsonlines in /usr/local/lib/python3.11/dist-packages (from voxel51-eta<0.15,>=0.14.0->fiftyone) (4.0.0)\n",
            "Requirement already satisfied: py7zr in /usr/local/lib/python3.11/dist-packages (from voxel51-eta<0.15,>=0.14.0->fiftyone) (0.22.0)\n",
            "Requirement already satisfied: python-dateutil in /usr/local/lib/python3.11/dist-packages (from voxel51-eta<0.15,>=0.14.0->fiftyone) (2.8.2)\n",
            "Requirement already satisfied: rarfile in /usr/local/lib/python3.11/dist-packages (from voxel51-eta<0.15,>=0.14.0->fiftyone) (4.2)\n",
            "Requirement already satisfied: requests in /usr/local/lib/python3.11/dist-packages (from voxel51-eta<0.15,>=0.14.0->fiftyone) (2.32.3)\n",
            "Requirement already satisfied: six in /usr/local/lib/python3.11/dist-packages (from voxel51-eta<0.15,>=0.14.0->fiftyone) (1.17.0)\n",
            "Requirement already satisfied: sortedcontainers in /usr/local/lib/python3.11/dist-packages (from voxel51-eta<0.15,>=0.14.0->fiftyone) (2.4.0)\n",
            "Requirement already satisfied: tzlocal in /usr/local/lib/python3.11/dist-packages (from voxel51-eta<0.15,>=0.14.0->fiftyone) (5.3.1)\n",
            "Requirement already satisfied: urllib3 in /usr/local/lib/python3.11/dist-packages (from voxel51-eta<0.15,>=0.14.0->fiftyone) (2.3.0)\n",
            "Requirement already satisfied: soupsieve>1.2 in /usr/local/lib/python3.11/dist-packages (from beautifulsoup4->fiftyone) (2.6)\n",
            "Requirement already satisfied: typing-extensions>=4.0.0 in /usr/local/lib/python3.11/dist-packages (from beautifulsoup4->fiftyone) (4.13.1)\n",
            "Requirement already satisfied: botocore<1.38.0,>=1.37.29 in /usr/local/lib/python3.11/dist-packages (from boto3->fiftyone) (1.37.29)\n",
            "Requirement already satisfied: jmespath<2.0.0,>=0.7.1 in /usr/local/lib/python3.11/dist-packages (from boto3->fiftyone) (1.0.1)\n",
            "Requirement already satisfied: s3transfer<0.12.0,>=0.11.0 in /usr/local/lib/python3.11/dist-packages (from boto3->fiftyone) (0.11.4)\n",
            "Requirement already satisfied: wrapt<2,>=1.10 in /usr/local/lib/python3.11/dist-packages (from Deprecated->fiftyone) (1.17.2)\n",
            "Requirement already satisfied: wcwidth in /usr/local/lib/python3.11/dist-packages (from ftfy->fiftyone) (0.2.13)\n",
            "Requirement already satisfied: contourpy>=1.0.1 in /usr/local/lib/python3.11/dist-packages (from matplotlib->fiftyone) (1.3.1)\n",
            "Requirement already satisfied: cycler>=0.10 in /usr/local/lib/python3.11/dist-packages (from matplotlib->fiftyone) (0.12.1)\n",
            "Requirement already satisfied: fonttools>=4.22.0 in /usr/local/lib/python3.11/dist-packages (from matplotlib->fiftyone) (4.57.0)\n",
            "Requirement already satisfied: kiwisolver>=1.3.1 in /usr/local/lib/python3.11/dist-packages (from matplotlib->fiftyone) (1.4.8)\n",
            "Requirement already satisfied: pyparsing>=2.3.1 in /usr/local/lib/python3.11/dist-packages (from matplotlib->fiftyone) (3.2.3)\n",
            "Requirement already satisfied: tzdata>=2022.7 in /usr/local/lib/python3.11/dist-packages (from pandas->fiftyone) (2025.2)\n",
            "Requirement already satisfied: networkx>=3.0 in /usr/local/lib/python3.11/dist-packages (from scikit-image->fiftyone) (3.4.2)\n",
            "Requirement already satisfied: imageio!=2.35.0,>=2.33 in /usr/local/lib/python3.11/dist-packages (from scikit-image->fiftyone) (2.37.0)\n",
            "Requirement already satisfied: tifffile>=2022.8.12 in /usr/local/lib/python3.11/dist-packages (from scikit-image->fiftyone) (2025.3.30)\n",
            "Requirement already satisfied: lazy-loader>=0.4 in /usr/local/lib/python3.11/dist-packages (from scikit-image->fiftyone) (0.4)\n",
            "Requirement already satisfied: joblib>=1.2.0 in /usr/local/lib/python3.11/dist-packages (from scikit-learn->fiftyone) (1.4.2)\n",
            "Requirement already satisfied: threadpoolctl>=3.1.0 in /usr/local/lib/python3.11/dist-packages (from scikit-learn->fiftyone) (3.6.0)\n",
            "Requirement already satisfied: graphql-core<3.4.0,>=3.2.0 in /usr/local/lib/python3.11/dist-packages (from strawberry-graphql->fiftyone) (3.2.6)\n",
            "Requirement already satisfied: idna>=2.8 in /usr/local/lib/python3.11/dist-packages (from anyio<5,>=3.6.2->starlette>=0.24.0->fiftyone) (3.10)\n",
            "Requirement already satisfied: sniffio>=1.1 in /usr/local/lib/python3.11/dist-packages (from anyio<5,>=3.6.2->starlette>=0.24.0->fiftyone) (1.3.1)\n",
            "Requirement already satisfied: hyperframe<7,>=6.1 in /usr/local/lib/python3.11/dist-packages (from h2>=3.1.0->hypercorn>=0.13.2->fiftyone) (6.1.0)\n",
            "Requirement already satisfied: hpack<5,>=4.1 in /usr/local/lib/python3.11/dist-packages (from h2>=3.1.0->hypercorn>=0.13.2->fiftyone) (4.1.0)\n",
            "Requirement already satisfied: certifi in /usr/local/lib/python3.11/dist-packages (from httpx>=0.10.0->universal-analytics-python3<2,>=1.0.1->fiftyone) (2025.1.31)\n",
            "Requirement already satisfied: httpcore==1.* in /usr/local/lib/python3.11/dist-packages (from httpx>=0.10.0->universal-analytics-python3<2,>=1.0.1->fiftyone) (1.0.7)\n",
            "Requirement already satisfied: attrs>=19.2.0 in /usr/local/lib/python3.11/dist-packages (from jsonlines->voxel51-eta<0.15,>=0.14.0->fiftyone) (25.3.0)\n",
            "Requirement already satisfied: texttable in /usr/local/lib/python3.11/dist-packages (from py7zr->voxel51-eta<0.15,>=0.14.0->fiftyone) (1.7.0)\n",
            "Requirement already satisfied: pycryptodomex>=3.16.0 in /usr/local/lib/python3.11/dist-packages (from py7zr->voxel51-eta<0.15,>=0.14.0->fiftyone) (3.22.0)\n",
            "Requirement already satisfied: pyzstd>=0.15.9 in /usr/local/lib/python3.11/dist-packages (from py7zr->voxel51-eta<0.15,>=0.14.0->fiftyone) (0.16.2)\n",
            "Requirement already satisfied: pyppmd<1.2.0,>=1.1.0 in /usr/local/lib/python3.11/dist-packages (from py7zr->voxel51-eta<0.15,>=0.14.0->fiftyone) (1.1.1)\n",
            "Requirement already satisfied: pybcj<1.1.0,>=1.0.0 in /usr/local/lib/python3.11/dist-packages (from py7zr->voxel51-eta<0.15,>=0.14.0->fiftyone) (1.0.3)\n",
            "Requirement already satisfied: multivolumefile>=0.2.3 in /usr/local/lib/python3.11/dist-packages (from py7zr->voxel51-eta<0.15,>=0.14.0->fiftyone) (0.2.3)\n",
            "Requirement already satisfied: inflate64<1.1.0,>=1.0.0 in /usr/local/lib/python3.11/dist-packages (from py7zr->voxel51-eta<0.15,>=0.14.0->fiftyone) (1.0.1)\n",
            "Requirement already satisfied: brotli>=1.1.0 in /usr/local/lib/python3.11/dist-packages (from py7zr->voxel51-eta<0.15,>=0.14.0->fiftyone) (1.1.0)\n",
            "Requirement already satisfied: charset-normalizer<4,>=2 in /usr/local/lib/python3.11/dist-packages (from requests->voxel51-eta<0.15,>=0.14.0->fiftyone) (3.4.1)\n",
            "Requirement already satisfied: hydra-core in /usr/local/lib/python3.11/dist-packages (1.3.2)\n",
            "Requirement already satisfied: omegaconf<2.4,>=2.2 in /usr/local/lib/python3.11/dist-packages (from hydra-core) (2.3.0)\n",
            "Requirement already satisfied: antlr4-python3-runtime==4.9.* in /usr/local/lib/python3.11/dist-packages (from hydra-core) (4.9.3)\n",
            "Requirement already satisfied: packaging in /usr/local/lib/python3.11/dist-packages (from hydra-core) (24.2)\n",
            "Requirement already satisfied: PyYAML>=5.1.0 in /usr/local/lib/python3.11/dist-packages (from omegaconf<2.4,>=2.2->hydra-core) (6.0.2)\n",
            "Requirement already satisfied: opencv-python in /usr/local/lib/python3.11/dist-packages (4.11.0.86)\n",
            "Requirement already satisfied: numpy>=1.21.2 in /usr/local/lib/python3.11/dist-packages (from opencv-python) (2.0.2)\n",
            "Requirement already satisfied: pandas in /usr/local/lib/python3.11/dist-packages (2.2.2)\n",
            "Requirement already satisfied: numpy>=1.23.2 in /usr/local/lib/python3.11/dist-packages (from pandas) (2.0.2)\n",
            "Requirement already satisfied: python-dateutil>=2.8.2 in /usr/local/lib/python3.11/dist-packages (from pandas) (2.8.2)\n",
            "Requirement already satisfied: pytz>=2020.1 in /usr/local/lib/python3.11/dist-packages (from pandas) (2025.2)\n",
            "Requirement already satisfied: tzdata>=2022.7 in /usr/local/lib/python3.11/dist-packages (from pandas) (2025.2)\n",
            "Requirement already satisfied: six>=1.5 in /usr/local/lib/python3.11/dist-packages (from python-dateutil>=2.8.2->pandas) (1.17.0)\n",
            "Requirement already satisfied: pillow in /usr/local/lib/python3.11/dist-packages (11.1.0)\n",
            "Requirement already satisfied: scikit-image in /usr/local/lib/python3.11/dist-packages (0.25.2)\n",
            "Requirement already satisfied: numpy>=1.24 in /usr/local/lib/python3.11/dist-packages (from scikit-image) (2.0.2)\n",
            "Requirement already satisfied: scipy>=1.11.4 in /usr/local/lib/python3.11/dist-packages (from scikit-image) (1.14.1)\n",
            "Requirement already satisfied: networkx>=3.0 in /usr/local/lib/python3.11/dist-packages (from scikit-image) (3.4.2)\n",
            "Requirement already satisfied: pillow>=10.1 in /usr/local/lib/python3.11/dist-packages (from scikit-image) (11.1.0)\n",
            "Requirement already satisfied: imageio!=2.35.0,>=2.33 in /usr/local/lib/python3.11/dist-packages (from scikit-image) (2.37.0)\n",
            "Requirement already satisfied: tifffile>=2022.8.12 in /usr/local/lib/python3.11/dist-packages (from scikit-image) (2025.3.30)\n",
            "Requirement already satisfied: packaging>=21 in /usr/local/lib/python3.11/dist-packages (from scikit-image) (24.2)\n",
            "Requirement already satisfied: lazy-loader>=0.4 in /usr/local/lib/python3.11/dist-packages (from scikit-image) (0.4)\n",
            "Requirement already satisfied: scikit-learn in /usr/local/lib/python3.11/dist-packages (1.6.1)\n",
            "Requirement already satisfied: numpy>=1.19.5 in /usr/local/lib/python3.11/dist-packages (from scikit-learn) (2.0.2)\n",
            "Requirement already satisfied: scipy>=1.6.0 in /usr/local/lib/python3.11/dist-packages (from scikit-learn) (1.14.1)\n",
            "Requirement already satisfied: joblib>=1.2.0 in /usr/local/lib/python3.11/dist-packages (from scikit-learn) (1.4.2)\n",
            "Requirement already satisfied: threadpoolctl>=3.1.0 in /usr/local/lib/python3.11/dist-packages (from scikit-learn) (3.6.0)\n",
            "Requirement already satisfied: scipy in /usr/local/lib/python3.11/dist-packages (1.14.1)\n",
            "Requirement already satisfied: numpy<2.3,>=1.23.5 in /usr/local/lib/python3.11/dist-packages (from scipy) (2.0.2)\n",
            "Requirement already satisfied: wandb in /usr/local/lib/python3.11/dist-packages (0.19.9)\n",
            "Requirement already satisfied: click!=8.0.0,>=7.1 in /usr/local/lib/python3.11/dist-packages (from wandb) (8.1.8)\n",
            "Requirement already satisfied: docker-pycreds>=0.4.0 in /usr/local/lib/python3.11/dist-packages (from wandb) (0.4.0)\n",
            "Requirement already satisfied: gitpython!=3.1.29,>=1.0.0 in /usr/local/lib/python3.11/dist-packages (from wandb) (3.1.44)\n",
            "Requirement already satisfied: platformdirs in /usr/local/lib/python3.11/dist-packages (from wandb) (4.3.7)\n",
            "Requirement already satisfied: protobuf!=4.21.0,!=5.28.0,<6,>=3.19.0 in /usr/local/lib/python3.11/dist-packages (from wandb) (5.29.4)\n",
            "Requirement already satisfied: psutil>=5.0.0 in /usr/local/lib/python3.11/dist-packages (from wandb) (5.9.5)\n",
            "Requirement already satisfied: pydantic<3 in /usr/local/lib/python3.11/dist-packages (from wandb) (2.11.2)\n",
            "Requirement already satisfied: pyyaml in /usr/local/lib/python3.11/dist-packages (from wandb) (6.0.2)\n",
            "Requirement already satisfied: requests<3,>=2.0.0 in /usr/local/lib/python3.11/dist-packages (from wandb) (2.32.3)\n",
            "Requirement already satisfied: sentry-sdk>=2.0.0 in /usr/local/lib/python3.11/dist-packages (from wandb) (2.25.1)\n",
            "Requirement already satisfied: setproctitle in /usr/local/lib/python3.11/dist-packages (from wandb) (1.3.5)\n",
            "Requirement already satisfied: setuptools in /usr/local/lib/python3.11/dist-packages (from wandb) (75.2.0)\n",
            "Requirement already satisfied: typing-extensions<5,>=4.4 in /usr/local/lib/python3.11/dist-packages (from wandb) (4.13.1)\n",
            "Requirement already satisfied: six>=1.4.0 in /usr/local/lib/python3.11/dist-packages (from docker-pycreds>=0.4.0->wandb) (1.17.0)\n",
            "Requirement already satisfied: gitdb<5,>=4.0.1 in /usr/local/lib/python3.11/dist-packages (from gitpython!=3.1.29,>=1.0.0->wandb) (4.0.12)\n",
            "Requirement already satisfied: annotated-types>=0.6.0 in /usr/local/lib/python3.11/dist-packages (from pydantic<3->wandb) (0.7.0)\n",
            "Requirement already satisfied: pydantic-core==2.33.1 in /usr/local/lib/python3.11/dist-packages (from pydantic<3->wandb) (2.33.1)\n",
            "Requirement already satisfied: typing-inspection>=0.4.0 in /usr/local/lib/python3.11/dist-packages (from pydantic<3->wandb) (0.4.0)\n",
            "Requirement already satisfied: charset-normalizer<4,>=2 in /usr/local/lib/python3.11/dist-packages (from requests<3,>=2.0.0->wandb) (3.4.1)\n",
            "Requirement already satisfied: idna<4,>=2.5 in /usr/local/lib/python3.11/dist-packages (from requests<3,>=2.0.0->wandb) (3.10)\n",
            "Requirement already satisfied: urllib3<3,>=1.21.1 in /usr/local/lib/python3.11/dist-packages (from requests<3,>=2.0.0->wandb) (2.3.0)\n",
            "Requirement already satisfied: certifi>=2017.4.17 in /usr/local/lib/python3.11/dist-packages (from requests<3,>=2.0.0->wandb) (2025.1.31)\n",
            "Requirement already satisfied: smmap<6,>=3.0.1 in /usr/local/lib/python3.11/dist-packages (from gitdb<5,>=4.0.1->gitpython!=3.1.29,>=1.0.0->wandb) (5.0.2)\n"
          ]
        }
      ],
      "source": [
        "# Install the dependencies\n",
        "!pip install albumentations\n",
        "!pip install fiftyone\n",
        "!pip install hydra-core\n",
        "!pip install opencv-python\n",
        "!pip install pandas\n",
        "!pip install pillow\n",
        "!pip install scikit-image\n",
        "!pip install scikit-learn\n",
        "!pip install scipy\n",
        "!pip install wandb"
      ]
    },
    {
      "cell_type": "code",
      "source": [
        "import os\n",
        "num_workers = os.cpu_count()\n",
        "print(num_workers)"
      ],
      "metadata": {
        "colab": {
          "base_uri": "https://localhost:8080/"
        },
        "id": "tbTnYuGpuBDb",
        "outputId": "29a0726d-f5dd-4c89-a021-0ecd925d81ed"
      },
      "execution_count": 2,
      "outputs": [
        {
          "output_type": "stream",
          "name": "stdout",
          "text": [
            "12\n"
          ]
        }
      ]
    },
    {
      "cell_type": "code",
      "execution_count": 3,
      "metadata": {
        "id": "oJydpjxoUGAC",
        "colab": {
          "base_uri": "https://localhost:8080/"
        },
        "outputId": "e4c94f84-be56-42d4-aa1f-b0caf62a77f1"
      },
      "outputs": [
        {
          "output_type": "stream",
          "name": "stdout",
          "text": [
            "Cloning into 'HerdNet'...\n",
            "remote: Enumerating objects: 570, done.\u001b[K\n",
            "remote: Counting objects: 100% (193/193), done.\u001b[K\n",
            "remote: Compressing objects: 100% (61/61), done.\u001b[K\n",
            "remote: Total 570 (delta 149), reused 132 (delta 132), pack-reused 377 (from 2)\u001b[K\n",
            "Receiving objects: 100% (570/570), 205.52 KiB | 2.63 MiB/s, done.\n",
            "Resolving deltas: 100% (370/370), done.\n",
            "running install\n",
            "/usr/local/lib/python3.11/dist-packages/setuptools/_distutils/cmd.py:66: SetuptoolsDeprecationWarning: setup.py install is deprecated.\n",
            "!!\n",
            "\n",
            "        ********************************************************************************\n",
            "        Please avoid running ``setup.py`` directly.\n",
            "        Instead, use pypa/build, pypa/installer or other\n",
            "        standards-based tools.\n",
            "\n",
            "        See https://blog.ganssle.io/articles/2021/10/setup-py-deprecated.html for details.\n",
            "        ********************************************************************************\n",
            "\n",
            "!!\n",
            "  self.initialize_options()\n",
            "/usr/local/lib/python3.11/dist-packages/setuptools/_distutils/cmd.py:66: EasyInstallDeprecationWarning: easy_install command is deprecated.\n",
            "!!\n",
            "\n",
            "        ********************************************************************************\n",
            "        Please avoid running ``setup.py`` and ``easy_install``.\n",
            "        Instead, use pypa/build, pypa/installer or other\n",
            "        standards-based tools.\n",
            "\n",
            "        See https://github.com/pypa/setuptools/issues/917 for details.\n",
            "        ********************************************************************************\n",
            "\n",
            "!!\n",
            "  self.initialize_options()\n",
            "running bdist_egg\n",
            "running egg_info\n",
            "creating animaloc.egg-info\n",
            "writing animaloc.egg-info/PKG-INFO\n",
            "writing dependency_links to animaloc.egg-info/dependency_links.txt\n",
            "writing top-level names to animaloc.egg-info/top_level.txt\n",
            "writing manifest file 'animaloc.egg-info/SOURCES.txt'\n",
            "reading manifest file 'animaloc.egg-info/SOURCES.txt'\n",
            "writing manifest file 'animaloc.egg-info/SOURCES.txt'\n",
            "installing library code to build/bdist.linux-x86_64/egg\n",
            "running install_lib\n",
            "running build_py\n",
            "creating build/lib/animaloc\n",
            "copying animaloc/__init__.py -> build/lib/animaloc\n",
            "creating build/lib/animaloc/datasets\n",
            "copying animaloc/datasets/folder.py -> build/lib/animaloc/datasets\n",
            "copying animaloc/datasets/csv.py -> build/lib/animaloc/datasets\n",
            "copying animaloc/datasets/register.py -> build/lib/animaloc/datasets\n",
            "copying animaloc/datasets/__init__.py -> build/lib/animaloc/datasets\n",
            "copying animaloc/datasets/patched.py -> build/lib/animaloc/datasets\n",
            "creating build/lib/animaloc/models\n",
            "copying animaloc/models/ss_dla.py -> build/lib/animaloc/models\n",
            "copying animaloc/models/register.py -> build/lib/animaloc/models\n",
            "copying animaloc/models/utils.py -> build/lib/animaloc/models\n",
            "copying animaloc/models/herdnet.py -> build/lib/animaloc/models\n",
            "copying animaloc/models/__init__.py -> build/lib/animaloc/models\n",
            "copying animaloc/models/dla.py -> build/lib/animaloc/models\n",
            "copying animaloc/models/faster_rcnn.py -> build/lib/animaloc/models\n",
            "creating build/lib/animaloc/eval\n",
            "copying animaloc/eval/stitchers.py -> build/lib/animaloc/eval\n",
            "copying animaloc/eval/utils.py -> build/lib/animaloc/eval\n",
            "copying animaloc/eval/metrics.py -> build/lib/animaloc/eval\n",
            "copying animaloc/eval/__init__.py -> build/lib/animaloc/eval\n",
            "copying animaloc/eval/lmds.py -> build/lib/animaloc/eval\n",
            "copying animaloc/eval/evaluators.py -> build/lib/animaloc/eval\n",
            "creating build/lib/animaloc/train\n",
            "copying animaloc/train/adaloss.py -> build/lib/animaloc/train\n",
            "copying animaloc/train/trainers.py -> build/lib/animaloc/train\n",
            "copying animaloc/train/__init__.py -> build/lib/animaloc/train\n",
            "creating build/lib/animaloc/vizual\n",
            "copying animaloc/vizual/plots.py -> build/lib/animaloc/vizual\n",
            "copying animaloc/vizual/__init__.py -> build/lib/animaloc/vizual\n",
            "copying animaloc/vizual/image.py -> build/lib/animaloc/vizual\n",
            "copying animaloc/vizual/objects.py -> build/lib/animaloc/vizual\n",
            "creating build/lib/animaloc/utils\n",
            "copying animaloc/utils/timer.py -> build/lib/animaloc/utils\n",
            "copying animaloc/utils/seed.py -> build/lib/animaloc/utils\n",
            "copying animaloc/utils/registry.py -> build/lib/animaloc/utils\n",
            "copying animaloc/utils/__init__.py -> build/lib/animaloc/utils\n",
            "copying animaloc/utils/torchvision_utils.py -> build/lib/animaloc/utils\n",
            "copying animaloc/utils/useful_funcs.py -> build/lib/animaloc/utils\n",
            "copying animaloc/utils/logger.py -> build/lib/animaloc/utils\n",
            "creating build/lib/animaloc/data\n",
            "copying animaloc/data/types.py -> build/lib/animaloc/data\n",
            "copying animaloc/data/transforms.py -> build/lib/animaloc/data\n",
            "copying animaloc/data/samplers.py -> build/lib/animaloc/data\n",
            "copying animaloc/data/utils.py -> build/lib/animaloc/data\n",
            "copying animaloc/data/__init__.py -> build/lib/animaloc/data\n",
            "copying animaloc/data/patches.py -> build/lib/animaloc/data\n",
            "copying animaloc/data/batch_utils.py -> build/lib/animaloc/data\n",
            "copying animaloc/data/annotations.py -> build/lib/animaloc/data\n",
            "copying animaloc/data/processors.py -> build/lib/animaloc/data\n",
            "creating build/lib/animaloc/train/losses\n",
            "copying animaloc/train/losses/ssim.py -> build/lib/animaloc/train/losses\n",
            "copying animaloc/train/losses/register.py -> build/lib/animaloc/train/losses\n",
            "copying animaloc/train/losses/__init__.py -> build/lib/animaloc/train/losses\n",
            "copying animaloc/train/losses/focal.py -> build/lib/animaloc/train/losses\n",
            "creating build/bdist.linux-x86_64/egg\n",
            "creating build/bdist.linux-x86_64/egg/animaloc\n",
            "creating build/bdist.linux-x86_64/egg/animaloc/datasets\n",
            "copying build/lib/animaloc/datasets/folder.py -> build/bdist.linux-x86_64/egg/animaloc/datasets\n",
            "copying build/lib/animaloc/datasets/csv.py -> build/bdist.linux-x86_64/egg/animaloc/datasets\n",
            "copying build/lib/animaloc/datasets/register.py -> build/bdist.linux-x86_64/egg/animaloc/datasets\n",
            "copying build/lib/animaloc/datasets/__init__.py -> build/bdist.linux-x86_64/egg/animaloc/datasets\n",
            "copying build/lib/animaloc/datasets/patched.py -> build/bdist.linux-x86_64/egg/animaloc/datasets\n",
            "creating build/bdist.linux-x86_64/egg/animaloc/models\n",
            "copying build/lib/animaloc/models/ss_dla.py -> build/bdist.linux-x86_64/egg/animaloc/models\n",
            "copying build/lib/animaloc/models/register.py -> build/bdist.linux-x86_64/egg/animaloc/models\n",
            "copying build/lib/animaloc/models/utils.py -> build/bdist.linux-x86_64/egg/animaloc/models\n",
            "copying build/lib/animaloc/models/herdnet.py -> build/bdist.linux-x86_64/egg/animaloc/models\n",
            "copying build/lib/animaloc/models/__init__.py -> build/bdist.linux-x86_64/egg/animaloc/models\n",
            "copying build/lib/animaloc/models/dla.py -> build/bdist.linux-x86_64/egg/animaloc/models\n",
            "copying build/lib/animaloc/models/faster_rcnn.py -> build/bdist.linux-x86_64/egg/animaloc/models\n",
            "creating build/bdist.linux-x86_64/egg/animaloc/eval\n",
            "copying build/lib/animaloc/eval/stitchers.py -> build/bdist.linux-x86_64/egg/animaloc/eval\n",
            "copying build/lib/animaloc/eval/utils.py -> build/bdist.linux-x86_64/egg/animaloc/eval\n",
            "copying build/lib/animaloc/eval/metrics.py -> build/bdist.linux-x86_64/egg/animaloc/eval\n",
            "copying build/lib/animaloc/eval/__init__.py -> build/bdist.linux-x86_64/egg/animaloc/eval\n",
            "copying build/lib/animaloc/eval/lmds.py -> build/bdist.linux-x86_64/egg/animaloc/eval\n",
            "copying build/lib/animaloc/eval/evaluators.py -> build/bdist.linux-x86_64/egg/animaloc/eval\n",
            "creating build/bdist.linux-x86_64/egg/animaloc/train\n",
            "copying build/lib/animaloc/train/adaloss.py -> build/bdist.linux-x86_64/egg/animaloc/train\n",
            "copying build/lib/animaloc/train/trainers.py -> build/bdist.linux-x86_64/egg/animaloc/train\n",
            "creating build/bdist.linux-x86_64/egg/animaloc/train/losses\n",
            "copying build/lib/animaloc/train/losses/ssim.py -> build/bdist.linux-x86_64/egg/animaloc/train/losses\n",
            "copying build/lib/animaloc/train/losses/register.py -> build/bdist.linux-x86_64/egg/animaloc/train/losses\n",
            "copying build/lib/animaloc/train/losses/__init__.py -> build/bdist.linux-x86_64/egg/animaloc/train/losses\n",
            "copying build/lib/animaloc/train/losses/focal.py -> build/bdist.linux-x86_64/egg/animaloc/train/losses\n",
            "copying build/lib/animaloc/train/__init__.py -> build/bdist.linux-x86_64/egg/animaloc/train\n",
            "creating build/bdist.linux-x86_64/egg/animaloc/vizual\n",
            "copying build/lib/animaloc/vizual/plots.py -> build/bdist.linux-x86_64/egg/animaloc/vizual\n",
            "copying build/lib/animaloc/vizual/__init__.py -> build/bdist.linux-x86_64/egg/animaloc/vizual\n",
            "copying build/lib/animaloc/vizual/image.py -> build/bdist.linux-x86_64/egg/animaloc/vizual\n",
            "copying build/lib/animaloc/vizual/objects.py -> build/bdist.linux-x86_64/egg/animaloc/vizual\n",
            "copying build/lib/animaloc/__init__.py -> build/bdist.linux-x86_64/egg/animaloc\n",
            "creating build/bdist.linux-x86_64/egg/animaloc/utils\n",
            "copying build/lib/animaloc/utils/timer.py -> build/bdist.linux-x86_64/egg/animaloc/utils\n",
            "copying build/lib/animaloc/utils/seed.py -> build/bdist.linux-x86_64/egg/animaloc/utils\n",
            "copying build/lib/animaloc/utils/registry.py -> build/bdist.linux-x86_64/egg/animaloc/utils\n",
            "copying build/lib/animaloc/utils/__init__.py -> build/bdist.linux-x86_64/egg/animaloc/utils\n",
            "copying build/lib/animaloc/utils/torchvision_utils.py -> build/bdist.linux-x86_64/egg/animaloc/utils\n",
            "copying build/lib/animaloc/utils/useful_funcs.py -> build/bdist.linux-x86_64/egg/animaloc/utils\n",
            "copying build/lib/animaloc/utils/logger.py -> build/bdist.linux-x86_64/egg/animaloc/utils\n",
            "creating build/bdist.linux-x86_64/egg/animaloc/data\n",
            "copying build/lib/animaloc/data/types.py -> build/bdist.linux-x86_64/egg/animaloc/data\n",
            "copying build/lib/animaloc/data/transforms.py -> build/bdist.linux-x86_64/egg/animaloc/data\n",
            "copying build/lib/animaloc/data/samplers.py -> build/bdist.linux-x86_64/egg/animaloc/data\n",
            "copying build/lib/animaloc/data/utils.py -> build/bdist.linux-x86_64/egg/animaloc/data\n",
            "copying build/lib/animaloc/data/__init__.py -> build/bdist.linux-x86_64/egg/animaloc/data\n",
            "copying build/lib/animaloc/data/patches.py -> build/bdist.linux-x86_64/egg/animaloc/data\n",
            "copying build/lib/animaloc/data/batch_utils.py -> build/bdist.linux-x86_64/egg/animaloc/data\n",
            "copying build/lib/animaloc/data/annotations.py -> build/bdist.linux-x86_64/egg/animaloc/data\n",
            "copying build/lib/animaloc/data/processors.py -> build/bdist.linux-x86_64/egg/animaloc/data\n",
            "byte-compiling build/bdist.linux-x86_64/egg/animaloc/datasets/folder.py to folder.cpython-311.pyc\n",
            "byte-compiling build/bdist.linux-x86_64/egg/animaloc/datasets/csv.py to csv.cpython-311.pyc\n",
            "byte-compiling build/bdist.linux-x86_64/egg/animaloc/datasets/register.py to register.cpython-311.pyc\n",
            "byte-compiling build/bdist.linux-x86_64/egg/animaloc/datasets/__init__.py to __init__.cpython-311.pyc\n",
            "byte-compiling build/bdist.linux-x86_64/egg/animaloc/datasets/patched.py to patched.cpython-311.pyc\n",
            "byte-compiling build/bdist.linux-x86_64/egg/animaloc/models/ss_dla.py to ss_dla.cpython-311.pyc\n",
            "byte-compiling build/bdist.linux-x86_64/egg/animaloc/models/register.py to register.cpython-311.pyc\n",
            "byte-compiling build/bdist.linux-x86_64/egg/animaloc/models/utils.py to utils.cpython-311.pyc\n",
            "byte-compiling build/bdist.linux-x86_64/egg/animaloc/models/herdnet.py to herdnet.cpython-311.pyc\n",
            "byte-compiling build/bdist.linux-x86_64/egg/animaloc/models/__init__.py to __init__.cpython-311.pyc\n",
            "byte-compiling build/bdist.linux-x86_64/egg/animaloc/models/dla.py to dla.cpython-311.pyc\n",
            "byte-compiling build/bdist.linux-x86_64/egg/animaloc/models/faster_rcnn.py to faster_rcnn.cpython-311.pyc\n",
            "byte-compiling build/bdist.linux-x86_64/egg/animaloc/eval/stitchers.py to stitchers.cpython-311.pyc\n",
            "byte-compiling build/bdist.linux-x86_64/egg/animaloc/eval/utils.py to utils.cpython-311.pyc\n",
            "byte-compiling build/bdist.linux-x86_64/egg/animaloc/eval/metrics.py to metrics.cpython-311.pyc\n",
            "byte-compiling build/bdist.linux-x86_64/egg/animaloc/eval/__init__.py to __init__.cpython-311.pyc\n",
            "byte-compiling build/bdist.linux-x86_64/egg/animaloc/eval/lmds.py to lmds.cpython-311.pyc\n",
            "byte-compiling build/bdist.linux-x86_64/egg/animaloc/eval/evaluators.py to evaluators.cpython-311.pyc\n",
            "byte-compiling build/bdist.linux-x86_64/egg/animaloc/train/adaloss.py to adaloss.cpython-311.pyc\n",
            "byte-compiling build/bdist.linux-x86_64/egg/animaloc/train/trainers.py to trainers.cpython-311.pyc\n",
            "byte-compiling build/bdist.linux-x86_64/egg/animaloc/train/losses/ssim.py to ssim.cpython-311.pyc\n",
            "byte-compiling build/bdist.linux-x86_64/egg/animaloc/train/losses/register.py to register.cpython-311.pyc\n",
            "byte-compiling build/bdist.linux-x86_64/egg/animaloc/train/losses/__init__.py to __init__.cpython-311.pyc\n",
            "byte-compiling build/bdist.linux-x86_64/egg/animaloc/train/losses/focal.py to focal.cpython-311.pyc\n",
            "byte-compiling build/bdist.linux-x86_64/egg/animaloc/train/__init__.py to __init__.cpython-311.pyc\n",
            "byte-compiling build/bdist.linux-x86_64/egg/animaloc/vizual/plots.py to plots.cpython-311.pyc\n",
            "byte-compiling build/bdist.linux-x86_64/egg/animaloc/vizual/__init__.py to __init__.cpython-311.pyc\n",
            "byte-compiling build/bdist.linux-x86_64/egg/animaloc/vizual/image.py to image.cpython-311.pyc\n",
            "byte-compiling build/bdist.linux-x86_64/egg/animaloc/vizual/objects.py to objects.cpython-311.pyc\n",
            "byte-compiling build/bdist.linux-x86_64/egg/animaloc/__init__.py to __init__.cpython-311.pyc\n",
            "byte-compiling build/bdist.linux-x86_64/egg/animaloc/utils/timer.py to timer.cpython-311.pyc\n",
            "byte-compiling build/bdist.linux-x86_64/egg/animaloc/utils/seed.py to seed.cpython-311.pyc\n",
            "byte-compiling build/bdist.linux-x86_64/egg/animaloc/utils/registry.py to registry.cpython-311.pyc\n",
            "byte-compiling build/bdist.linux-x86_64/egg/animaloc/utils/__init__.py to __init__.cpython-311.pyc\n",
            "byte-compiling build/bdist.linux-x86_64/egg/animaloc/utils/torchvision_utils.py to torchvision_utils.cpython-311.pyc\n",
            "byte-compiling build/bdist.linux-x86_64/egg/animaloc/utils/useful_funcs.py to useful_funcs.cpython-311.pyc\n",
            "byte-compiling build/bdist.linux-x86_64/egg/animaloc/utils/logger.py to logger.cpython-311.pyc\n",
            "byte-compiling build/bdist.linux-x86_64/egg/animaloc/data/types.py to types.cpython-311.pyc\n",
            "byte-compiling build/bdist.linux-x86_64/egg/animaloc/data/transforms.py to transforms.cpython-311.pyc\n",
            "byte-compiling build/bdist.linux-x86_64/egg/animaloc/data/samplers.py to samplers.cpython-311.pyc\n",
            "byte-compiling build/bdist.linux-x86_64/egg/animaloc/data/utils.py to utils.cpython-311.pyc\n",
            "byte-compiling build/bdist.linux-x86_64/egg/animaloc/data/__init__.py to __init__.cpython-311.pyc\n",
            "byte-compiling build/bdist.linux-x86_64/egg/animaloc/data/patches.py to patches.cpython-311.pyc\n",
            "byte-compiling build/bdist.linux-x86_64/egg/animaloc/data/batch_utils.py to batch_utils.cpython-311.pyc\n",
            "byte-compiling build/bdist.linux-x86_64/egg/animaloc/data/annotations.py to annotations.cpython-311.pyc\n",
            "byte-compiling build/bdist.linux-x86_64/egg/animaloc/data/processors.py to processors.cpython-311.pyc\n",
            "creating build/bdist.linux-x86_64/egg/EGG-INFO\n",
            "copying animaloc.egg-info/PKG-INFO -> build/bdist.linux-x86_64/egg/EGG-INFO\n",
            "copying animaloc.egg-info/SOURCES.txt -> build/bdist.linux-x86_64/egg/EGG-INFO\n",
            "copying animaloc.egg-info/dependency_links.txt -> build/bdist.linux-x86_64/egg/EGG-INFO\n",
            "copying animaloc.egg-info/top_level.txt -> build/bdist.linux-x86_64/egg/EGG-INFO\n",
            "zip_safe flag not set; analyzing archive contents...\n",
            "creating dist\n",
            "creating 'dist/animaloc-0.2.1-py3.11.egg' and adding 'build/bdist.linux-x86_64/egg' to it\n",
            "removing 'build/bdist.linux-x86_64/egg' (and everything under it)\n",
            "Processing animaloc-0.2.1-py3.11.egg\n",
            "Copying animaloc-0.2.1-py3.11.egg to /usr/local/lib/python3.11/dist-packages\n",
            "Adding animaloc 0.2.1 to easy-install.pth file\n",
            "\n",
            "Installed /usr/local/lib/python3.11/dist-packages/animaloc-0.2.1-py3.11.egg\n",
            "Processing dependencies for animaloc==0.2.1\n",
            "Finished processing dependencies for animaloc==0.2.1\n"
          ]
        }
      ],
      "source": [
        "# Download and install the code\n",
        "import sys\n",
        "\n",
        "!git clone https://github.com/Alexandre-Delplanque/HerdNet\n",
        "!cd '/content/HerdNet' && python setup.py install\n",
        "\n",
        "sys.path.append('/content/HerdNet')"
      ]
    },
    {
      "cell_type": "markdown",
      "metadata": {
        "id": "cuxaC9qGVk5S"
      },
      "source": [
        "## Create datasets"
      ]
    },
    {
      "cell_type": "code",
      "execution_count": 13,
      "metadata": {
        "id": "0yt06VTPVtsq",
        "colab": {
          "base_uri": "https://localhost:8080/"
        },
        "outputId": "59f42c6c-4303-4b49-9e6c-625f199fe3a6"
      },
      "outputs": [
        {
          "output_type": "stream",
          "name": "stdout",
          "text": [
            "Failed to retrieve file url:\n",
            "\n",
            "\tToo many users have viewed or downloaded this file recently. Please\n",
            "\ttry accessing the file again later. If the file you are trying to\n",
            "\taccess is particularly large or is shared with many people, it may\n",
            "\ttake up to 24 hours to be able to view or download the file. If you\n",
            "\tstill can't access a file after 24 hours, contact your domain\n",
            "\tadministrator.\n",
            "\n",
            "You may still be able to access the file from the browser:\n",
            "\n",
            "\thttps://drive.google.com/uc?id=1CcTAZZJdwrBfCPJtVH6VBU3luGKIN9st\n",
            "\n",
            "but Gdown can't. Please check connections and permissions.\n",
            "unzip:  cannot find or open /content/data.zip, /content/data.zip.zip or /content/data.zip.ZIP.\n"
          ]
        }
      ],
      "source": [
        "# Download some of the data of Delplanque et al. (2021) as an example\n",
        "!gdown 1CcTAZZJdwrBfCPJtVH6VBU3luGKIN9st -O /content/data.zip\n",
        "!unzip -oq /content/data.zip -d /content"
      ]
    },
    {
      "cell_type": "code",
      "source": [
        "from google.colab import drive\n",
        "drive.mount('/content/drive')\n"
      ],
      "metadata": {
        "colab": {
          "base_uri": "https://localhost:8080/"
        },
        "id": "X2C4C2DbvtuT",
        "outputId": "2190a56b-c0da-4bd9-a475-3658d9e648f3"
      },
      "execution_count": 4,
      "outputs": [
        {
          "output_type": "stream",
          "name": "stdout",
          "text": [
            "Mounted at /content/drive\n"
          ]
        }
      ]
    },
    {
      "cell_type": "code",
      "source": [
        "!cp '/content/drive/MyDrive/Colab Notebooks/trabajo_grado/data.zip' /content/"
      ],
      "metadata": {
        "id": "v9L2j-DeBkBT"
      },
      "execution_count": 5,
      "outputs": []
    },
    {
      "cell_type": "code",
      "source": [
        "!unzip -oq /content/data.zip -d /content\n"
      ],
      "metadata": {
        "id": "gRsCtrQ5CREe"
      },
      "execution_count": 6,
      "outputs": []
    },
    {
      "cell_type": "code",
      "execution_count": 7,
      "metadata": {
        "id": "y1n_cQLFYBsJ"
      },
      "outputs": [],
      "source": [
        "# Set the seed\n",
        "from animaloc.utils.seed import set_seed\n",
        "\n",
        "set_seed(9292)"
      ]
    },
    {
      "cell_type": "code",
      "execution_count": 8,
      "metadata": {
        "id": "9tGqtLNG21Jf",
        "colab": {
          "base_uri": "https://localhost:8080/"
        },
        "outputId": "1633a4d2-4f45-4df4-a448-667557e10da1"
      },
      "outputs": [
        {
          "output_type": "stream",
          "name": "stdout",
          "text": [
            "Creating the buffer: 100% 111/111 [00:46<00:00,  2.40it/s]\n",
            "Exporting patches: 100% 111/111 [02:11<00:00,  1.19s/it]\n"
          ]
        }
      ],
      "source": [
        "# Create validation patches using the patcher tool (for demo)\n",
        "from animaloc.utils.useful_funcs import mkdir\n",
        "\n",
        "mkdir('/content/data/val_patches')\n",
        "!python /content/HerdNet/tools/patcher.py /content/data/val 512 512 0 /content/data/val_patches -csv /content/data/val.csv -min 0.0 -all False"
      ]
    },
    {
      "cell_type": "code",
      "execution_count": 9,
      "metadata": {
        "id": "Bwp4XPR8YNMR"
      },
      "outputs": [],
      "source": [
        "# Training, validation and test datasets\n",
        "import albumentations as A\n",
        "\n",
        "from animaloc.datasets import CSVDataset\n",
        "from animaloc.data.transforms import MultiTransformsWrapper, DownSample, PointsToMask, FIDT\n",
        "\n",
        "patch_size = 512\n",
        "num_classes = 7\n",
        "down_ratio = 2\n",
        "\n",
        "train_dataset = CSVDataset(\n",
        "    csv_file = '/content/data/train_patches.csv',\n",
        "    root_dir = '/content/data/train_patches',\n",
        "    albu_transforms = [\n",
        "        A.VerticalFlip(p=0.5),\n",
        "        A.HorizontalFlip(p=0.5),\n",
        "        A.RandomRotate90(p=0.5),\n",
        "        A.RandomBrightnessContrast(brightness_limit=0.2, contrast_limit=0.2, p=0.2),\n",
        "        A.Blur(blur_limit=15, p=0.2),\n",
        "        A.Normalize(p=1.0)\n",
        "        ],\n",
        "    end_transforms = [MultiTransformsWrapper([\n",
        "        FIDT(num_classes=num_classes, down_ratio=down_ratio),\n",
        "        PointsToMask(radius=2, num_classes=num_classes, squeeze=True, down_ratio=int(patch_size//16))\n",
        "        ])]\n",
        "    )\n",
        "\n",
        "val_dataset = CSVDataset(\n",
        "    csv_file = '/content/data/val_patches/gt.csv',\n",
        "    root_dir = '/content/data/val_patches',\n",
        "    albu_transforms = [A.Normalize(p=1.0)],\n",
        "    end_transforms = [DownSample(down_ratio=down_ratio, anno_type='point')]\n",
        "    )\n",
        "\n",
        "test_dataset = CSVDataset(\n",
        "    csv_file = '/content/data/test.csv',\n",
        "    root_dir = '/content/data/test',\n",
        "    albu_transforms = [A.Normalize(p=1.0)],\n",
        "    end_transforms = [DownSample(down_ratio=down_ratio, anno_type='point')]\n",
        "    )"
      ]
    },
    {
      "cell_type": "code",
      "execution_count": 10,
      "metadata": {
        "id": "lR1W5NVFYhiZ"
      },
      "outputs": [],
      "source": [
        "# Dataloaders\n",
        "from torch.utils.data import DataLoader\n",
        "\n",
        "train_dataloader = DataLoader(\n",
        "    dataset=train_dataset,\n",
        "    batch_size=32,  # o el que aguante la GPU\n",
        "    shuffle=True,\n",
        "    num_workers= num_workers,\n",
        "    pin_memory=True\n",
        ")\n"
      ]
    },
    {
      "cell_type": "code",
      "source": [
        "val_dataloader = DataLoader(dataset = val_dataset, batch_size = 1, shuffle = False)"
      ],
      "metadata": {
        "id": "cukF4GWAwNsv"
      },
      "execution_count": 11,
      "outputs": []
    },
    {
      "cell_type": "code",
      "source": [
        "test_dataloader = DataLoader(dataset = test_dataset, batch_size = 1, shuffle = False)"
      ],
      "metadata": {
        "id": "WGhbd16_wNP3"
      },
      "execution_count": 12,
      "outputs": []
    },
    {
      "cell_type": "markdown",
      "metadata": {
        "id": "emWQUMq2Vwpj"
      },
      "source": [
        "## Define HerdNet for training"
      ]
    },
    {
      "cell_type": "code",
      "execution_count": 13,
      "metadata": {
        "id": "JIBKygFlV0V1",
        "colab": {
          "base_uri": "https://localhost:8080/"
        },
        "outputId": "2bb2805d-6898-4bbc-b6f0-73b2d1ad9756"
      },
      "outputs": [
        {
          "output_type": "stream",
          "name": "stderr",
          "text": [
            "Downloading: \"http://dl.yf.io/dla/models/imagenet/dla34-ba72cf86.pth\" to /root/.cache/torch/hub/checkpoints/dla34-ba72cf86.pth\n",
            "100%|██████████| 60.3M/60.3M [00:04<00:00, 14.0MB/s]\n"
          ]
        }
      ],
      "source": [
        "from animaloc.models import HerdNet\n",
        "from torch import Tensor\n",
        "from animaloc.models import LossWrapper\n",
        "from animaloc.train.losses import FocalLoss\n",
        "from torch.nn import CrossEntropyLoss\n",
        "\n",
        "herdnet = HerdNet(num_classes=num_classes, down_ratio=down_ratio).cuda()\n",
        "\n",
        "weight = Tensor([0.1, 1.0, 2.0, 1.0, 6.0, 12.0, 1.0]).cuda()\n",
        "\n",
        "losses = [\n",
        "    {'loss': FocalLoss(reduction='mean'), 'idx': 0, 'idy': 0, 'lambda': 1.0, 'name': 'focal_loss'},\n",
        "    {'loss': CrossEntropyLoss(reduction='mean', weight=weight), 'idx': 1, 'idy': 1, 'lambda': 1.0, 'name': 'ce_loss'}\n",
        "    ]\n",
        "\n",
        "herdnet = LossWrapper(herdnet, losses=losses)"
      ]
    },
    {
      "cell_type": "markdown",
      "metadata": {
        "id": "Nm5u6yg4V78C"
      },
      "source": [
        "## Create the Trainer"
      ]
    },
    {
      "cell_type": "code",
      "execution_count": 14,
      "metadata": {
        "id": "MSBimwtzWDZp"
      },
      "outputs": [],
      "source": [
        "from torch.optim import Adam\n",
        "from animaloc.train import Trainer\n",
        "from animaloc.eval import PointsMetrics, HerdNetStitcher, HerdNetEvaluator\n",
        "from animaloc.utils.useful_funcs import mkdir\n",
        "\n",
        "work_dir = '/content/output'\n",
        "mkdir(work_dir)\n",
        "\n",
        "lr = 1e-4\n",
        "weight_decay = 1e-3\n",
        "epochs = 2\n",
        "\n",
        "optimizer = Adam(params=herdnet.parameters(), lr=lr, weight_decay=weight_decay)\n",
        "\n",
        "metrics = PointsMetrics(radius=20, num_classes=num_classes)\n",
        "\n",
        "stitcher = HerdNetStitcher(\n",
        "    model=herdnet,\n",
        "    size=(patch_size,patch_size),\n",
        "    overlap=160,\n",
        "    down_ratio=down_ratio,\n",
        "    reduction='mean'\n",
        "    )\n",
        "\n",
        "evaluator = HerdNetEvaluator(\n",
        "    model=herdnet,\n",
        "    dataloader=val_dataloader,\n",
        "    metrics=metrics,\n",
        "    stitcher=stitcher,\n",
        "    work_dir=work_dir,\n",
        "    header='validation'\n",
        "    )\n",
        "\n",
        "trainer = Trainer(\n",
        "    model=herdnet,\n",
        "    train_dataloader=train_dataloader,\n",
        "    optimizer=optimizer,\n",
        "    num_epochs=epochs,\n",
        "    evaluator=evaluator,\n",
        "    work_dir=work_dir\n",
        "    )"
      ]
    },
    {
      "cell_type": "markdown",
      "source": [
        "# Solo por si toca vaciar memoria de GPU"
      ],
      "metadata": {
        "id": "je-EXX8mUVs6"
      }
    },
    {
      "cell_type": "code",
      "source": [
        "import torch\n",
        "torch.cuda.empty_cache()"
      ],
      "metadata": {
        "id": "FV4KuYQkHxQo"
      },
      "execution_count": 21,
      "outputs": []
    },
    {
      "cell_type": "code",
      "source": [
        "import gc\n",
        "gc.collect()\n",
        "torch.cuda.empty_cache()"
      ],
      "metadata": {
        "id": "aIIY7tVSH0Lw"
      },
      "execution_count": 23,
      "outputs": []
    },
    {
      "cell_type": "markdown",
      "metadata": {
        "id": "axsTtq4WV0ot"
      },
      "source": [
        "## Start training"
      ]
    },
    {
      "cell_type": "code",
      "execution_count": 24,
      "metadata": {
        "id": "malFT6r5V4rC",
        "colab": {
          "base_uri": "https://localhost:8080/"
        },
        "outputId": "9a464616-f1ac-474e-c593-0dbb28517b78"
      },
      "outputs": [
        {
          "output_type": "stream",
          "name": "stderr",
          "text": [
            "INFO:20250408_training:[TRAINING] - Epoch: [1] [  1/389] eta: 0:20:39 lr: 0.000002 loss: 20.8399 (20.8399) focal_loss: 19.6296 (19.6296) ce_loss: 1.2103 (1.2103) time: 3.1874 data: 1.7886 max mem: 14747\n"
          ]
        },
        {
          "output_type": "stream",
          "name": "stdout",
          "text": [
            "[TRAINING] - Epoch: [1] [  1/389] eta: 0:20:39 lr: 0.000002 loss: 20.8399 (20.8399) focal_loss: 19.6296 (19.6296) ce_loss: 1.2103 (1.2103) time: 3.1874 data: 1.7886 max mem: 14747\n"
          ]
        },
        {
          "output_type": "stream",
          "name": "stderr",
          "text": [
            "INFO:20250408_training:[TRAINING] - Epoch: [1] [ 51/389] eta: 0:07:35 lr: 0.000051 loss: 9.6175 (14.7240) focal_loss: 8.4885 (13.5756) ce_loss: 0.9962 (1.1483) time: 1.2795 data: 0.0010 max mem: 14747\n"
          ]
        },
        {
          "output_type": "stream",
          "name": "stdout",
          "text": [
            "[TRAINING] - Epoch: [1] [ 51/389] eta: 0:07:35 lr: 0.000051 loss: 9.6175 (14.7240) focal_loss: 8.4885 (13.5756) ce_loss: 0.9962 (1.1483) time: 1.2795 data: 0.0010 max mem: 14747\n"
          ]
        },
        {
          "output_type": "stream",
          "name": "stderr",
          "text": [
            "INFO:20250408_training:[TRAINING] - Epoch: [1] [101/389] eta: 0:06:20 lr: 0.000100 loss: 3.1990 (9.5922) focal_loss: 2.4551 (8.5731) ce_loss: 0.7300 (1.0192) time: 1.2981 data: 0.0019 max mem: 14747\n"
          ]
        },
        {
          "output_type": "stream",
          "name": "stdout",
          "text": [
            "[TRAINING] - Epoch: [1] [101/389] eta: 0:06:20 lr: 0.000100 loss: 3.1990 (9.5922) focal_loss: 2.4551 (8.5731) ce_loss: 0.7300 (1.0192) time: 1.2981 data: 0.0019 max mem: 14747\n"
          ]
        },
        {
          "output_type": "stream",
          "name": "stderr",
          "text": [
            "INFO:20250408_training:[TRAINING] - Epoch: [1] [151/389] eta: 0:05:12 lr: 0.000100 loss: 2.2211 (7.2234) focal_loss: 1.4571 (6.2996) ce_loss: 0.6602 (0.9237) time: 1.2907 data: 0.0023 max mem: 14747\n"
          ]
        },
        {
          "output_type": "stream",
          "name": "stdout",
          "text": [
            "[TRAINING] - Epoch: [1] [151/389] eta: 0:05:12 lr: 0.000100 loss: 2.2211 (7.2234) focal_loss: 1.4571 (6.2996) ce_loss: 0.6602 (0.9237) time: 1.2907 data: 0.0023 max mem: 14747\n"
          ]
        },
        {
          "output_type": "stream",
          "name": "stderr",
          "text": [
            "INFO:20250408_training:[TRAINING] - Epoch: [1] [201/389] eta: 0:04:06 lr: 0.000100 loss: 1.9123 (5.9086) focal_loss: 1.2135 (5.0499) ce_loss: 0.6333 (0.8586) time: 1.2920 data: 0.0013 max mem: 14747\n"
          ]
        },
        {
          "output_type": "stream",
          "name": "stdout",
          "text": [
            "[TRAINING] - Epoch: [1] [201/389] eta: 0:04:06 lr: 0.000100 loss: 1.9123 (5.9086) focal_loss: 1.2135 (5.0499) ce_loss: 0.6333 (0.8586) time: 1.2920 data: 0.0013 max mem: 14747\n"
          ]
        },
        {
          "output_type": "stream",
          "name": "stderr",
          "text": [
            "INFO:20250408_training:[TRAINING] - Epoch: [1] [251/389] eta: 0:03:01 lr: 0.000100 loss: 1.5714 (5.0574) focal_loss: 1.0436 (4.2659) ce_loss: 0.4423 (0.7915) time: 1.2970 data: 0.0009 max mem: 14747\n"
          ]
        },
        {
          "output_type": "stream",
          "name": "stdout",
          "text": [
            "[TRAINING] - Epoch: [1] [251/389] eta: 0:03:01 lr: 0.000100 loss: 1.5714 (5.0574) focal_loss: 1.0436 (4.2659) ce_loss: 0.4423 (0.7915) time: 1.2970 data: 0.0009 max mem: 14747\n"
          ]
        },
        {
          "output_type": "stream",
          "name": "stderr",
          "text": [
            "INFO:20250408_training:[TRAINING] - Epoch: [1] [301/389] eta: 0:01:55 lr: 0.000100 loss: 1.4969 (4.4836) focal_loss: 0.9567 (3.7320) ce_loss: 0.5049 (0.7516) time: 1.2949 data: 0.0024 max mem: 14747\n"
          ]
        },
        {
          "output_type": "stream",
          "name": "stdout",
          "text": [
            "[TRAINING] - Epoch: [1] [301/389] eta: 0:01:55 lr: 0.000100 loss: 1.4969 (4.4836) focal_loss: 0.9567 (3.7320) ce_loss: 0.5049 (0.7516) time: 1.2949 data: 0.0024 max mem: 14747\n"
          ]
        },
        {
          "output_type": "stream",
          "name": "stderr",
          "text": [
            "INFO:20250408_training:[TRAINING] - Epoch: [1] [351/389] eta: 0:00:50 lr: 0.000100 loss: 1.2744 (4.0513) focal_loss: 0.8112 (3.3393) ce_loss: 0.4057 (0.7121) time: 1.3046 data: 0.0032 max mem: 14747\n"
          ]
        },
        {
          "output_type": "stream",
          "name": "stdout",
          "text": [
            "[TRAINING] - Epoch: [1] [351/389] eta: 0:00:50 lr: 0.000100 loss: 1.2744 (4.0513) focal_loss: 0.8112 (3.3393) ce_loss: 0.4057 (0.7121) time: 1.3046 data: 0.0032 max mem: 14747\n"
          ]
        },
        {
          "output_type": "stream",
          "name": "stderr",
          "text": [
            "INFO:20250408_training:[TRAINING] - Epoch: [1] [389/389] eta: 0:00:01 lr: 0.000100 loss: 1.3016 (3.7973) focal_loss: 0.8605 (3.1066) ce_loss: 0.3846 (0.6907) time: 1.2327 data: 0.0015 max mem: 14747\n",
            "INFO:20250408_training:[TRAINING] - Epoch: [1] Total time: 0:08:24 (1.2981 s / it)\n"
          ]
        },
        {
          "output_type": "stream",
          "name": "stdout",
          "text": [
            "[TRAINING] - Epoch: [1] [389/389] eta: 0:00:01 lr: 0.000100 loss: 1.3016 (3.7973) focal_loss: 0.8605 (3.1066) ce_loss: 0.3846 (0.6907) time: 1.2327 data: 0.0015 max mem: 14747\n",
            "[TRAINING] - Epoch: [1] Total time: 0:08:24 (1.2981 s / it)\n",
            "[TRAINING] - Epoch: [1] mean loss: 3.7973\n"
          ]
        },
        {
          "output_type": "stream",
          "name": "stderr",
          "text": [
            "/usr/local/lib/python3.11/dist-packages/albumentations/core/composition.py:250: UserWarning: Got processor for keypoints, but no transform to process it.\n",
            "  self._set_keys()\n",
            "INFO:20250408_validation:[VALIDATION] - Epoch: [1] [  1/532] eta: 0:05:18 n: 1 recall: 1.0 precision: 0.5 f1-score: 0.67 MAE: 1.0 MSE: 1.0 RMSE: 1.0 time: 0.5984 data: 0.0320 max mem: 14747\n"
          ]
        },
        {
          "output_type": "stream",
          "name": "stdout",
          "text": [
            "[VALIDATION] - Epoch: [1] [  1/532] eta: 0:05:18 n: 1 recall: 1.0 precision: 0.5 f1-score: 0.67 MAE: 1.0 MSE: 1.0 RMSE: 1.0 time: 0.5984 data: 0.0320 max mem: 14747\n"
          ]
        },
        {
          "output_type": "stream",
          "name": "stderr",
          "text": [
            "/usr/local/lib/python3.11/dist-packages/albumentations/core/composition.py:250: UserWarning: Got processor for keypoints, but no transform to process it.\n",
            "  self._set_keys()\n",
            "/usr/local/lib/python3.11/dist-packages/albumentations/core/composition.py:250: UserWarning: Got processor for keypoints, but no transform to process it.\n",
            "  self._set_keys()\n",
            "/usr/local/lib/python3.11/dist-packages/albumentations/core/composition.py:250: UserWarning: Got processor for keypoints, but no transform to process it.\n",
            "  self._set_keys()\n",
            "/usr/local/lib/python3.11/dist-packages/albumentations/core/composition.py:250: UserWarning: Got processor for keypoints, but no transform to process it.\n",
            "  self._set_keys()\n",
            "/usr/local/lib/python3.11/dist-packages/albumentations/core/composition.py:250: UserWarning: Got processor for keypoints, but no transform to process it.\n",
            "  self._set_keys()\n",
            "/usr/local/lib/python3.11/dist-packages/albumentations/core/composition.py:250: UserWarning: Got processor for keypoints, but no transform to process it.\n",
            "  self._set_keys()\n",
            "/usr/local/lib/python3.11/dist-packages/albumentations/core/composition.py:250: UserWarning: Got processor for keypoints, but no transform to process it.\n",
            "  self._set_keys()\n",
            "/usr/local/lib/python3.11/dist-packages/albumentations/core/composition.py:250: UserWarning: Got processor for keypoints, but no transform to process it.\n",
            "  self._set_keys()\n",
            "/usr/local/lib/python3.11/dist-packages/albumentations/core/composition.py:250: UserWarning: Got processor for keypoints, but no transform to process it.\n",
            "  self._set_keys()\n",
            "/usr/local/lib/python3.11/dist-packages/albumentations/core/composition.py:250: UserWarning: Got processor for keypoints, but no transform to process it.\n",
            "  self._set_keys()\n",
            "INFO:20250408_validation:[VALIDATION] - Epoch: [1] [ 11/532] eta: 0:01:44 n: 1 recall: 0.0 precision: 0.0 f1-score: 0.0 MAE: 1.0 MSE: 1.0 RMSE: 1.0 time: 0.1998 data: 0.0189 max mem: 14747\n",
            "/usr/local/lib/python3.11/dist-packages/albumentations/core/composition.py:250: UserWarning: Got processor for keypoints, but no transform to process it.\n",
            "  self._set_keys()\n"
          ]
        },
        {
          "output_type": "stream",
          "name": "stdout",
          "text": [
            "[VALIDATION] - Epoch: [1] [ 11/532] eta: 0:01:44 n: 1 recall: 0.0 precision: 0.0 f1-score: 0.0 MAE: 1.0 MSE: 1.0 RMSE: 1.0 time: 0.1998 data: 0.0189 max mem: 14747\n"
          ]
        },
        {
          "output_type": "stream",
          "name": "stderr",
          "text": [
            "/usr/local/lib/python3.11/dist-packages/albumentations/core/composition.py:250: UserWarning: Got processor for keypoints, but no transform to process it.\n",
            "  self._set_keys()\n",
            "/usr/local/lib/python3.11/dist-packages/albumentations/core/composition.py:250: UserWarning: Got processor for keypoints, but no transform to process it.\n",
            "  self._set_keys()\n",
            "/usr/local/lib/python3.11/dist-packages/albumentations/core/composition.py:250: UserWarning: Got processor for keypoints, but no transform to process it.\n",
            "  self._set_keys()\n",
            "/usr/local/lib/python3.11/dist-packages/albumentations/core/composition.py:250: UserWarning: Got processor for keypoints, but no transform to process it.\n",
            "  self._set_keys()\n",
            "/usr/local/lib/python3.11/dist-packages/albumentations/core/composition.py:250: UserWarning: Got processor for keypoints, but no transform to process it.\n",
            "  self._set_keys()\n",
            "/usr/local/lib/python3.11/dist-packages/albumentations/core/composition.py:250: UserWarning: Got processor for keypoints, but no transform to process it.\n",
            "  self._set_keys()\n",
            "/usr/local/lib/python3.11/dist-packages/albumentations/core/composition.py:250: UserWarning: Got processor for keypoints, but no transform to process it.\n",
            "  self._set_keys()\n",
            "/usr/local/lib/python3.11/dist-packages/albumentations/core/composition.py:250: UserWarning: Got processor for keypoints, but no transform to process it.\n",
            "  self._set_keys()\n",
            "/usr/local/lib/python3.11/dist-packages/albumentations/core/composition.py:250: UserWarning: Got processor for keypoints, but no transform to process it.\n",
            "  self._set_keys()\n",
            "INFO:20250408_validation:[VALIDATION] - Epoch: [1] [ 21/532] eta: 0:01:25 n: 1 recall: 0.0 precision: 0.0 f1-score: 0.0 MAE: 1.0 MSE: 1.0 RMSE: 1.0 time: 0.1445 data: 0.0145 max mem: 14747\n",
            "/usr/local/lib/python3.11/dist-packages/albumentations/core/composition.py:250: UserWarning: Got processor for keypoints, but no transform to process it.\n",
            "  self._set_keys()\n"
          ]
        },
        {
          "output_type": "stream",
          "name": "stdout",
          "text": [
            "[VALIDATION] - Epoch: [1] [ 21/532] eta: 0:01:25 n: 1 recall: 0.0 precision: 0.0 f1-score: 0.0 MAE: 1.0 MSE: 1.0 RMSE: 1.0 time: 0.1445 data: 0.0145 max mem: 14747\n"
          ]
        },
        {
          "output_type": "stream",
          "name": "stderr",
          "text": [
            "/usr/local/lib/python3.11/dist-packages/albumentations/core/composition.py:250: UserWarning: Got processor for keypoints, but no transform to process it.\n",
            "  self._set_keys()\n",
            "/usr/local/lib/python3.11/dist-packages/albumentations/core/composition.py:250: UserWarning: Got processor for keypoints, but no transform to process it.\n",
            "  self._set_keys()\n",
            "/usr/local/lib/python3.11/dist-packages/albumentations/core/composition.py:250: UserWarning: Got processor for keypoints, but no transform to process it.\n",
            "  self._set_keys()\n",
            "/usr/local/lib/python3.11/dist-packages/albumentations/core/composition.py:250: UserWarning: Got processor for keypoints, but no transform to process it.\n",
            "  self._set_keys()\n",
            "/usr/local/lib/python3.11/dist-packages/albumentations/core/composition.py:250: UserWarning: Got processor for keypoints, but no transform to process it.\n",
            "  self._set_keys()\n",
            "/usr/local/lib/python3.11/dist-packages/albumentations/core/composition.py:250: UserWarning: Got processor for keypoints, but no transform to process it.\n",
            "  self._set_keys()\n",
            "/usr/local/lib/python3.11/dist-packages/albumentations/core/composition.py:250: UserWarning: Got processor for keypoints, but no transform to process it.\n",
            "  self._set_keys()\n",
            "/usr/local/lib/python3.11/dist-packages/albumentations/core/composition.py:250: UserWarning: Got processor for keypoints, but no transform to process it.\n",
            "  self._set_keys()\n",
            "/usr/local/lib/python3.11/dist-packages/albumentations/core/composition.py:250: UserWarning: Got processor for keypoints, but no transform to process it.\n",
            "  self._set_keys()\n",
            "INFO:20250408_validation:[VALIDATION] - Epoch: [1] [ 31/532] eta: 0:01:15 n: 6 recall: 0.0 precision: 0.0 f1-score: 0.0 MAE: 6.0 MSE: 36.0 RMSE: 6.0 time: 0.1233 data: 0.0112 max mem: 14747\n",
            "/usr/local/lib/python3.11/dist-packages/albumentations/core/composition.py:250: UserWarning: Got processor for keypoints, but no transform to process it.\n",
            "  self._set_keys()\n"
          ]
        },
        {
          "output_type": "stream",
          "name": "stdout",
          "text": [
            "[VALIDATION] - Epoch: [1] [ 31/532] eta: 0:01:15 n: 6 recall: 0.0 precision: 0.0 f1-score: 0.0 MAE: 6.0 MSE: 36.0 RMSE: 6.0 time: 0.1233 data: 0.0112 max mem: 14747\n"
          ]
        },
        {
          "output_type": "stream",
          "name": "stderr",
          "text": [
            "/usr/local/lib/python3.11/dist-packages/albumentations/core/composition.py:250: UserWarning: Got processor for keypoints, but no transform to process it.\n",
            "  self._set_keys()\n",
            "/usr/local/lib/python3.11/dist-packages/albumentations/core/composition.py:250: UserWarning: Got processor for keypoints, but no transform to process it.\n",
            "  self._set_keys()\n",
            "/usr/local/lib/python3.11/dist-packages/albumentations/core/composition.py:250: UserWarning: Got processor for keypoints, but no transform to process it.\n",
            "  self._set_keys()\n",
            "/usr/local/lib/python3.11/dist-packages/albumentations/core/composition.py:250: UserWarning: Got processor for keypoints, but no transform to process it.\n",
            "  self._set_keys()\n",
            "/usr/local/lib/python3.11/dist-packages/albumentations/core/composition.py:250: UserWarning: Got processor for keypoints, but no transform to process it.\n",
            "  self._set_keys()\n",
            "/usr/local/lib/python3.11/dist-packages/albumentations/core/composition.py:250: UserWarning: Got processor for keypoints, but no transform to process it.\n",
            "  self._set_keys()\n",
            "/usr/local/lib/python3.11/dist-packages/albumentations/core/composition.py:250: UserWarning: Got processor for keypoints, but no transform to process it.\n",
            "  self._set_keys()\n",
            "/usr/local/lib/python3.11/dist-packages/albumentations/core/composition.py:250: UserWarning: Got processor for keypoints, but no transform to process it.\n",
            "  self._set_keys()\n",
            "/usr/local/lib/python3.11/dist-packages/albumentations/core/composition.py:250: UserWarning: Got processor for keypoints, but no transform to process it.\n",
            "  self._set_keys()\n",
            "INFO:20250408_validation:[VALIDATION] - Epoch: [1] [ 41/532] eta: 0:01:10 n: 1 recall: 0.0 precision: 0.0 f1-score: 0.0 MAE: 1.0 MSE: 1.0 RMSE: 1.0 time: 0.1189 data: 0.0106 max mem: 14747\n",
            "/usr/local/lib/python3.11/dist-packages/albumentations/core/composition.py:250: UserWarning: Got processor for keypoints, but no transform to process it.\n",
            "  self._set_keys()\n"
          ]
        },
        {
          "output_type": "stream",
          "name": "stdout",
          "text": [
            "[VALIDATION] - Epoch: [1] [ 41/532] eta: 0:01:10 n: 1 recall: 0.0 precision: 0.0 f1-score: 0.0 MAE: 1.0 MSE: 1.0 RMSE: 1.0 time: 0.1189 data: 0.0106 max mem: 14747\n"
          ]
        },
        {
          "output_type": "stream",
          "name": "stderr",
          "text": [
            "/usr/local/lib/python3.11/dist-packages/albumentations/core/composition.py:250: UserWarning: Got processor for keypoints, but no transform to process it.\n",
            "  self._set_keys()\n",
            "/usr/local/lib/python3.11/dist-packages/albumentations/core/composition.py:250: UserWarning: Got processor for keypoints, but no transform to process it.\n",
            "  self._set_keys()\n",
            "/usr/local/lib/python3.11/dist-packages/albumentations/core/composition.py:250: UserWarning: Got processor for keypoints, but no transform to process it.\n",
            "  self._set_keys()\n",
            "/usr/local/lib/python3.11/dist-packages/albumentations/core/composition.py:250: UserWarning: Got processor for keypoints, but no transform to process it.\n",
            "  self._set_keys()\n",
            "/usr/local/lib/python3.11/dist-packages/albumentations/core/composition.py:250: UserWarning: Got processor for keypoints, but no transform to process it.\n",
            "  self._set_keys()\n",
            "/usr/local/lib/python3.11/dist-packages/albumentations/core/composition.py:250: UserWarning: Got processor for keypoints, but no transform to process it.\n",
            "  self._set_keys()\n",
            "/usr/local/lib/python3.11/dist-packages/albumentations/core/composition.py:250: UserWarning: Got processor for keypoints, but no transform to process it.\n",
            "  self._set_keys()\n",
            "/usr/local/lib/python3.11/dist-packages/albumentations/core/composition.py:250: UserWarning: Got processor for keypoints, but no transform to process it.\n",
            "  self._set_keys()\n",
            "/usr/local/lib/python3.11/dist-packages/albumentations/core/composition.py:250: UserWarning: Got processor for keypoints, but no transform to process it.\n",
            "  self._set_keys()\n",
            "INFO:20250408_validation:[VALIDATION] - Epoch: [1] [ 51/532] eta: 0:01:06 n: 4 recall: 0.0 precision: 0.0 f1-score: 0.0 MAE: 4.0 MSE: 16.0 RMSE: 4.0 time: 0.1191 data: 0.0097 max mem: 14747\n",
            "/usr/local/lib/python3.11/dist-packages/albumentations/core/composition.py:250: UserWarning: Got processor for keypoints, but no transform to process it.\n",
            "  self._set_keys()\n"
          ]
        },
        {
          "output_type": "stream",
          "name": "stdout",
          "text": [
            "[VALIDATION] - Epoch: [1] [ 51/532] eta: 0:01:06 n: 4 recall: 0.0 precision: 0.0 f1-score: 0.0 MAE: 4.0 MSE: 16.0 RMSE: 4.0 time: 0.1191 data: 0.0097 max mem: 14747\n"
          ]
        },
        {
          "output_type": "stream",
          "name": "stderr",
          "text": [
            "/usr/local/lib/python3.11/dist-packages/albumentations/core/composition.py:250: UserWarning: Got processor for keypoints, but no transform to process it.\n",
            "  self._set_keys()\n",
            "/usr/local/lib/python3.11/dist-packages/albumentations/core/composition.py:250: UserWarning: Got processor for keypoints, but no transform to process it.\n",
            "  self._set_keys()\n",
            "/usr/local/lib/python3.11/dist-packages/albumentations/core/composition.py:250: UserWarning: Got processor for keypoints, but no transform to process it.\n",
            "  self._set_keys()\n",
            "/usr/local/lib/python3.11/dist-packages/albumentations/core/composition.py:250: UserWarning: Got processor for keypoints, but no transform to process it.\n",
            "  self._set_keys()\n",
            "/usr/local/lib/python3.11/dist-packages/albumentations/core/composition.py:250: UserWarning: Got processor for keypoints, but no transform to process it.\n",
            "  self._set_keys()\n",
            "/usr/local/lib/python3.11/dist-packages/albumentations/core/composition.py:250: UserWarning: Got processor for keypoints, but no transform to process it.\n",
            "  self._set_keys()\n",
            "/usr/local/lib/python3.11/dist-packages/albumentations/core/composition.py:250: UserWarning: Got processor for keypoints, but no transform to process it.\n",
            "  self._set_keys()\n",
            "/usr/local/lib/python3.11/dist-packages/albumentations/core/composition.py:250: UserWarning: Got processor for keypoints, but no transform to process it.\n",
            "  self._set_keys()\n",
            "/usr/local/lib/python3.11/dist-packages/albumentations/core/composition.py:250: UserWarning: Got processor for keypoints, but no transform to process it.\n",
            "  self._set_keys()\n",
            "INFO:20250408_validation:[VALIDATION] - Epoch: [1] [ 61/532] eta: 0:01:03 n: 4 recall: 0.0 precision: 0.0 f1-score: 0.0 MAE: 4.0 MSE: 16.0 RMSE: 4.0 time: 0.1175 data: 0.0094 max mem: 14747\n",
            "/usr/local/lib/python3.11/dist-packages/albumentations/core/composition.py:250: UserWarning: Got processor for keypoints, but no transform to process it.\n",
            "  self._set_keys()\n"
          ]
        },
        {
          "output_type": "stream",
          "name": "stdout",
          "text": [
            "[VALIDATION] - Epoch: [1] [ 61/532] eta: 0:01:03 n: 4 recall: 0.0 precision: 0.0 f1-score: 0.0 MAE: 4.0 MSE: 16.0 RMSE: 4.0 time: 0.1175 data: 0.0094 max mem: 14747\n"
          ]
        },
        {
          "output_type": "stream",
          "name": "stderr",
          "text": [
            "/usr/local/lib/python3.11/dist-packages/albumentations/core/composition.py:250: UserWarning: Got processor for keypoints, but no transform to process it.\n",
            "  self._set_keys()\n",
            "/usr/local/lib/python3.11/dist-packages/albumentations/core/composition.py:250: UserWarning: Got processor for keypoints, but no transform to process it.\n",
            "  self._set_keys()\n",
            "/usr/local/lib/python3.11/dist-packages/albumentations/core/composition.py:250: UserWarning: Got processor for keypoints, but no transform to process it.\n",
            "  self._set_keys()\n",
            "/usr/local/lib/python3.11/dist-packages/albumentations/core/composition.py:250: UserWarning: Got processor for keypoints, but no transform to process it.\n",
            "  self._set_keys()\n",
            "/usr/local/lib/python3.11/dist-packages/albumentations/core/composition.py:250: UserWarning: Got processor for keypoints, but no transform to process it.\n",
            "  self._set_keys()\n",
            "/usr/local/lib/python3.11/dist-packages/albumentations/core/composition.py:250: UserWarning: Got processor for keypoints, but no transform to process it.\n",
            "  self._set_keys()\n",
            "/usr/local/lib/python3.11/dist-packages/albumentations/core/composition.py:250: UserWarning: Got processor for keypoints, but no transform to process it.\n",
            "  self._set_keys()\n",
            "/usr/local/lib/python3.11/dist-packages/albumentations/core/composition.py:250: UserWarning: Got processor for keypoints, but no transform to process it.\n",
            "  self._set_keys()\n",
            "/usr/local/lib/python3.11/dist-packages/albumentations/core/composition.py:250: UserWarning: Got processor for keypoints, but no transform to process it.\n",
            "  self._set_keys()\n",
            "INFO:20250408_validation:[VALIDATION] - Epoch: [1] [ 71/532] eta: 0:01:01 n: 1 recall: 0.0 precision: 0.0 f1-score: 0.0 MAE: 1.0 MSE: 1.0 RMSE: 1.0 time: 0.1191 data: 0.0096 max mem: 14747\n",
            "/usr/local/lib/python3.11/dist-packages/albumentations/core/composition.py:250: UserWarning: Got processor for keypoints, but no transform to process it.\n",
            "  self._set_keys()\n"
          ]
        },
        {
          "output_type": "stream",
          "name": "stdout",
          "text": [
            "[VALIDATION] - Epoch: [1] [ 71/532] eta: 0:01:01 n: 1 recall: 0.0 precision: 0.0 f1-score: 0.0 MAE: 1.0 MSE: 1.0 RMSE: 1.0 time: 0.1191 data: 0.0096 max mem: 14747\n"
          ]
        },
        {
          "output_type": "stream",
          "name": "stderr",
          "text": [
            "/usr/local/lib/python3.11/dist-packages/albumentations/core/composition.py:250: UserWarning: Got processor for keypoints, but no transform to process it.\n",
            "  self._set_keys()\n",
            "/usr/local/lib/python3.11/dist-packages/albumentations/core/composition.py:250: UserWarning: Got processor for keypoints, but no transform to process it.\n",
            "  self._set_keys()\n",
            "/usr/local/lib/python3.11/dist-packages/albumentations/core/composition.py:250: UserWarning: Got processor for keypoints, but no transform to process it.\n",
            "  self._set_keys()\n",
            "/usr/local/lib/python3.11/dist-packages/albumentations/core/composition.py:250: UserWarning: Got processor for keypoints, but no transform to process it.\n",
            "  self._set_keys()\n",
            "/usr/local/lib/python3.11/dist-packages/albumentations/core/composition.py:250: UserWarning: Got processor for keypoints, but no transform to process it.\n",
            "  self._set_keys()\n",
            "/usr/local/lib/python3.11/dist-packages/albumentations/core/composition.py:250: UserWarning: Got processor for keypoints, but no transform to process it.\n",
            "  self._set_keys()\n",
            "/usr/local/lib/python3.11/dist-packages/albumentations/core/composition.py:250: UserWarning: Got processor for keypoints, but no transform to process it.\n",
            "  self._set_keys()\n",
            "/usr/local/lib/python3.11/dist-packages/albumentations/core/composition.py:250: UserWarning: Got processor for keypoints, but no transform to process it.\n",
            "  self._set_keys()\n",
            "/usr/local/lib/python3.11/dist-packages/albumentations/core/composition.py:250: UserWarning: Got processor for keypoints, but no transform to process it.\n",
            "  self._set_keys()\n",
            "INFO:20250408_validation:[VALIDATION] - Epoch: [1] [ 81/532] eta: 0:00:59 n: 1 recall: 0.0 precision: 0.0 f1-score: 0.0 MAE: 1.0 MSE: 1.0 RMSE: 1.0 time: 0.1194 data: 0.0097 max mem: 14747\n",
            "/usr/local/lib/python3.11/dist-packages/albumentations/core/composition.py:250: UserWarning: Got processor for keypoints, but no transform to process it.\n",
            "  self._set_keys()\n"
          ]
        },
        {
          "output_type": "stream",
          "name": "stdout",
          "text": [
            "[VALIDATION] - Epoch: [1] [ 81/532] eta: 0:00:59 n: 1 recall: 0.0 precision: 0.0 f1-score: 0.0 MAE: 1.0 MSE: 1.0 RMSE: 1.0 time: 0.1194 data: 0.0097 max mem: 14747\n"
          ]
        },
        {
          "output_type": "stream",
          "name": "stderr",
          "text": [
            "/usr/local/lib/python3.11/dist-packages/albumentations/core/composition.py:250: UserWarning: Got processor for keypoints, but no transform to process it.\n",
            "  self._set_keys()\n",
            "/usr/local/lib/python3.11/dist-packages/albumentations/core/composition.py:250: UserWarning: Got processor for keypoints, but no transform to process it.\n",
            "  self._set_keys()\n",
            "/usr/local/lib/python3.11/dist-packages/albumentations/core/composition.py:250: UserWarning: Got processor for keypoints, but no transform to process it.\n",
            "  self._set_keys()\n",
            "/usr/local/lib/python3.11/dist-packages/albumentations/core/composition.py:250: UserWarning: Got processor for keypoints, but no transform to process it.\n",
            "  self._set_keys()\n",
            "/usr/local/lib/python3.11/dist-packages/albumentations/core/composition.py:250: UserWarning: Got processor for keypoints, but no transform to process it.\n",
            "  self._set_keys()\n",
            "/usr/local/lib/python3.11/dist-packages/albumentations/core/composition.py:250: UserWarning: Got processor for keypoints, but no transform to process it.\n",
            "  self._set_keys()\n",
            "/usr/local/lib/python3.11/dist-packages/albumentations/core/composition.py:250: UserWarning: Got processor for keypoints, but no transform to process it.\n",
            "  self._set_keys()\n",
            "/usr/local/lib/python3.11/dist-packages/albumentations/core/composition.py:250: UserWarning: Got processor for keypoints, but no transform to process it.\n",
            "  self._set_keys()\n",
            "/usr/local/lib/python3.11/dist-packages/albumentations/core/composition.py:250: UserWarning: Got processor for keypoints, but no transform to process it.\n",
            "  self._set_keys()\n",
            "INFO:20250408_validation:[VALIDATION] - Epoch: [1] [ 91/532] eta: 0:00:57 n: 3 recall: 0.0 precision: 0.0 f1-score: 0.0 MAE: 3.0 MSE: 9.0 RMSE: 3.0 time: 0.1205 data: 0.0098 max mem: 14747\n",
            "/usr/local/lib/python3.11/dist-packages/albumentations/core/composition.py:250: UserWarning: Got processor for keypoints, but no transform to process it.\n",
            "  self._set_keys()\n"
          ]
        },
        {
          "output_type": "stream",
          "name": "stdout",
          "text": [
            "[VALIDATION] - Epoch: [1] [ 91/532] eta: 0:00:57 n: 3 recall: 0.0 precision: 0.0 f1-score: 0.0 MAE: 3.0 MSE: 9.0 RMSE: 3.0 time: 0.1205 data: 0.0098 max mem: 14747\n"
          ]
        },
        {
          "output_type": "stream",
          "name": "stderr",
          "text": [
            "/usr/local/lib/python3.11/dist-packages/albumentations/core/composition.py:250: UserWarning: Got processor for keypoints, but no transform to process it.\n",
            "  self._set_keys()\n",
            "/usr/local/lib/python3.11/dist-packages/albumentations/core/composition.py:250: UserWarning: Got processor for keypoints, but no transform to process it.\n",
            "  self._set_keys()\n",
            "/usr/local/lib/python3.11/dist-packages/albumentations/core/composition.py:250: UserWarning: Got processor for keypoints, but no transform to process it.\n",
            "  self._set_keys()\n",
            "/usr/local/lib/python3.11/dist-packages/albumentations/core/composition.py:250: UserWarning: Got processor for keypoints, but no transform to process it.\n",
            "  self._set_keys()\n",
            "/usr/local/lib/python3.11/dist-packages/albumentations/core/composition.py:250: UserWarning: Got processor for keypoints, but no transform to process it.\n",
            "  self._set_keys()\n",
            "/usr/local/lib/python3.11/dist-packages/albumentations/core/composition.py:250: UserWarning: Got processor for keypoints, but no transform to process it.\n",
            "  self._set_keys()\n",
            "/usr/local/lib/python3.11/dist-packages/albumentations/core/composition.py:250: UserWarning: Got processor for keypoints, but no transform to process it.\n",
            "  self._set_keys()\n",
            "/usr/local/lib/python3.11/dist-packages/albumentations/core/composition.py:250: UserWarning: Got processor for keypoints, but no transform to process it.\n",
            "  self._set_keys()\n",
            "/usr/local/lib/python3.11/dist-packages/albumentations/core/composition.py:250: UserWarning: Got processor for keypoints, but no transform to process it.\n",
            "  self._set_keys()\n",
            "INFO:20250408_validation:[VALIDATION] - Epoch: [1] [101/532] eta: 0:00:56 n: 1 recall: 0.0 precision: 0.0 f1-score: 0.0 MAE: 1.0 MSE: 1.0 RMSE: 1.0 time: 0.1288 data: 0.0104 max mem: 14747\n",
            "/usr/local/lib/python3.11/dist-packages/albumentations/core/composition.py:250: UserWarning: Got processor for keypoints, but no transform to process it.\n",
            "  self._set_keys()\n"
          ]
        },
        {
          "output_type": "stream",
          "name": "stdout",
          "text": [
            "[VALIDATION] - Epoch: [1] [101/532] eta: 0:00:56 n: 1 recall: 0.0 precision: 0.0 f1-score: 0.0 MAE: 1.0 MSE: 1.0 RMSE: 1.0 time: 0.1288 data: 0.0104 max mem: 14747\n"
          ]
        },
        {
          "output_type": "stream",
          "name": "stderr",
          "text": [
            "/usr/local/lib/python3.11/dist-packages/albumentations/core/composition.py:250: UserWarning: Got processor for keypoints, but no transform to process it.\n",
            "  self._set_keys()\n",
            "/usr/local/lib/python3.11/dist-packages/albumentations/core/composition.py:250: UserWarning: Got processor for keypoints, but no transform to process it.\n",
            "  self._set_keys()\n",
            "/usr/local/lib/python3.11/dist-packages/albumentations/core/composition.py:250: UserWarning: Got processor for keypoints, but no transform to process it.\n",
            "  self._set_keys()\n",
            "/usr/local/lib/python3.11/dist-packages/albumentations/core/composition.py:250: UserWarning: Got processor for keypoints, but no transform to process it.\n",
            "  self._set_keys()\n",
            "/usr/local/lib/python3.11/dist-packages/albumentations/core/composition.py:250: UserWarning: Got processor for keypoints, but no transform to process it.\n",
            "  self._set_keys()\n",
            "/usr/local/lib/python3.11/dist-packages/albumentations/core/composition.py:250: UserWarning: Got processor for keypoints, but no transform to process it.\n",
            "  self._set_keys()\n",
            "/usr/local/lib/python3.11/dist-packages/albumentations/core/composition.py:250: UserWarning: Got processor for keypoints, but no transform to process it.\n",
            "  self._set_keys()\n",
            "/usr/local/lib/python3.11/dist-packages/albumentations/core/composition.py:250: UserWarning: Got processor for keypoints, but no transform to process it.\n",
            "  self._set_keys()\n",
            "/usr/local/lib/python3.11/dist-packages/albumentations/core/composition.py:250: UserWarning: Got processor for keypoints, but no transform to process it.\n",
            "  self._set_keys()\n",
            "INFO:20250408_validation:[VALIDATION] - Epoch: [1] [111/532] eta: 0:00:55 n: 2 recall: 0.0 precision: 0.0 f1-score: 0.0 MAE: 2.0 MSE: 4.0 RMSE: 2.0 time: 0.1440 data: 0.0127 max mem: 14747\n",
            "/usr/local/lib/python3.11/dist-packages/albumentations/core/composition.py:250: UserWarning: Got processor for keypoints, but no transform to process it.\n",
            "  self._set_keys()\n"
          ]
        },
        {
          "output_type": "stream",
          "name": "stdout",
          "text": [
            "[VALIDATION] - Epoch: [1] [111/532] eta: 0:00:55 n: 2 recall: 0.0 precision: 0.0 f1-score: 0.0 MAE: 2.0 MSE: 4.0 RMSE: 2.0 time: 0.1440 data: 0.0127 max mem: 14747\n"
          ]
        },
        {
          "output_type": "stream",
          "name": "stderr",
          "text": [
            "/usr/local/lib/python3.11/dist-packages/albumentations/core/composition.py:250: UserWarning: Got processor for keypoints, but no transform to process it.\n",
            "  self._set_keys()\n",
            "/usr/local/lib/python3.11/dist-packages/albumentations/core/composition.py:250: UserWarning: Got processor for keypoints, but no transform to process it.\n",
            "  self._set_keys()\n",
            "/usr/local/lib/python3.11/dist-packages/albumentations/core/composition.py:250: UserWarning: Got processor for keypoints, but no transform to process it.\n",
            "  self._set_keys()\n",
            "/usr/local/lib/python3.11/dist-packages/albumentations/core/composition.py:250: UserWarning: Got processor for keypoints, but no transform to process it.\n",
            "  self._set_keys()\n",
            "/usr/local/lib/python3.11/dist-packages/albumentations/core/composition.py:250: UserWarning: Got processor for keypoints, but no transform to process it.\n",
            "  self._set_keys()\n",
            "/usr/local/lib/python3.11/dist-packages/albumentations/core/composition.py:250: UserWarning: Got processor for keypoints, but no transform to process it.\n",
            "  self._set_keys()\n",
            "/usr/local/lib/python3.11/dist-packages/albumentations/core/composition.py:250: UserWarning: Got processor for keypoints, but no transform to process it.\n",
            "  self._set_keys()\n",
            "/usr/local/lib/python3.11/dist-packages/albumentations/core/composition.py:250: UserWarning: Got processor for keypoints, but no transform to process it.\n",
            "  self._set_keys()\n",
            "/usr/local/lib/python3.11/dist-packages/albumentations/core/composition.py:250: UserWarning: Got processor for keypoints, but no transform to process it.\n",
            "  self._set_keys()\n",
            "INFO:20250408_validation:[VALIDATION] - Epoch: [1] [121/532] eta: 0:00:54 n: 1 recall: 1.0 precision: 0.17 f1-score: 0.29 MAE: 5.0 MSE: 25.0 RMSE: 5.0 time: 0.1482 data: 0.0131 max mem: 14747\n",
            "/usr/local/lib/python3.11/dist-packages/albumentations/core/composition.py:250: UserWarning: Got processor for keypoints, but no transform to process it.\n",
            "  self._set_keys()\n"
          ]
        },
        {
          "output_type": "stream",
          "name": "stdout",
          "text": [
            "[VALIDATION] - Epoch: [1] [121/532] eta: 0:00:54 n: 1 recall: 1.0 precision: 0.17 f1-score: 0.29 MAE: 5.0 MSE: 25.0 RMSE: 5.0 time: 0.1482 data: 0.0131 max mem: 14747\n"
          ]
        },
        {
          "output_type": "stream",
          "name": "stderr",
          "text": [
            "/usr/local/lib/python3.11/dist-packages/albumentations/core/composition.py:250: UserWarning: Got processor for keypoints, but no transform to process it.\n",
            "  self._set_keys()\n",
            "/usr/local/lib/python3.11/dist-packages/albumentations/core/composition.py:250: UserWarning: Got processor for keypoints, but no transform to process it.\n",
            "  self._set_keys()\n",
            "/usr/local/lib/python3.11/dist-packages/albumentations/core/composition.py:250: UserWarning: Got processor for keypoints, but no transform to process it.\n",
            "  self._set_keys()\n",
            "/usr/local/lib/python3.11/dist-packages/albumentations/core/composition.py:250: UserWarning: Got processor for keypoints, but no transform to process it.\n",
            "  self._set_keys()\n",
            "/usr/local/lib/python3.11/dist-packages/albumentations/core/composition.py:250: UserWarning: Got processor for keypoints, but no transform to process it.\n",
            "  self._set_keys()\n",
            "/usr/local/lib/python3.11/dist-packages/albumentations/core/composition.py:250: UserWarning: Got processor for keypoints, but no transform to process it.\n",
            "  self._set_keys()\n",
            "/usr/local/lib/python3.11/dist-packages/albumentations/core/composition.py:250: UserWarning: Got processor for keypoints, but no transform to process it.\n",
            "  self._set_keys()\n",
            "/usr/local/lib/python3.11/dist-packages/albumentations/core/composition.py:250: UserWarning: Got processor for keypoints, but no transform to process it.\n",
            "  self._set_keys()\n",
            "/usr/local/lib/python3.11/dist-packages/albumentations/core/composition.py:250: UserWarning: Got processor for keypoints, but no transform to process it.\n",
            "  self._set_keys()\n",
            "INFO:20250408_validation:[VALIDATION] - Epoch: [1] [131/532] eta: 0:00:53 n: 3 recall: 1.0 precision: 0.25 f1-score: 0.4 MAE: 9.0 MSE: 81.0 RMSE: 9.0 time: 0.1279 data: 0.0101 max mem: 14747\n",
            "/usr/local/lib/python3.11/dist-packages/albumentations/core/composition.py:250: UserWarning: Got processor for keypoints, but no transform to process it.\n",
            "  self._set_keys()\n"
          ]
        },
        {
          "output_type": "stream",
          "name": "stdout",
          "text": [
            "[VALIDATION] - Epoch: [1] [131/532] eta: 0:00:53 n: 3 recall: 1.0 precision: 0.25 f1-score: 0.4 MAE: 9.0 MSE: 81.0 RMSE: 9.0 time: 0.1279 data: 0.0101 max mem: 14747\n"
          ]
        },
        {
          "output_type": "stream",
          "name": "stderr",
          "text": [
            "/usr/local/lib/python3.11/dist-packages/albumentations/core/composition.py:250: UserWarning: Got processor for keypoints, but no transform to process it.\n",
            "  self._set_keys()\n",
            "/usr/local/lib/python3.11/dist-packages/albumentations/core/composition.py:250: UserWarning: Got processor for keypoints, but no transform to process it.\n",
            "  self._set_keys()\n",
            "/usr/local/lib/python3.11/dist-packages/albumentations/core/composition.py:250: UserWarning: Got processor for keypoints, but no transform to process it.\n",
            "  self._set_keys()\n",
            "/usr/local/lib/python3.11/dist-packages/albumentations/core/composition.py:250: UserWarning: Got processor for keypoints, but no transform to process it.\n",
            "  self._set_keys()\n",
            "/usr/local/lib/python3.11/dist-packages/albumentations/core/composition.py:250: UserWarning: Got processor for keypoints, but no transform to process it.\n",
            "  self._set_keys()\n",
            "/usr/local/lib/python3.11/dist-packages/albumentations/core/composition.py:250: UserWarning: Got processor for keypoints, but no transform to process it.\n",
            "  self._set_keys()\n",
            "/usr/local/lib/python3.11/dist-packages/albumentations/core/composition.py:250: UserWarning: Got processor for keypoints, but no transform to process it.\n",
            "  self._set_keys()\n",
            "/usr/local/lib/python3.11/dist-packages/albumentations/core/composition.py:250: UserWarning: Got processor for keypoints, but no transform to process it.\n",
            "  self._set_keys()\n",
            "/usr/local/lib/python3.11/dist-packages/albumentations/core/composition.py:250: UserWarning: Got processor for keypoints, but no transform to process it.\n",
            "  self._set_keys()\n",
            "INFO:20250408_validation:[VALIDATION] - Epoch: [1] [141/532] eta: 0:00:51 n: 3 recall: 1.0 precision: 0.27 f1-score: 0.43 MAE: 8.0 MSE: 64.0 RMSE: 8.0 time: 0.1134 data: 0.0089 max mem: 14747\n",
            "/usr/local/lib/python3.11/dist-packages/albumentations/core/composition.py:250: UserWarning: Got processor for keypoints, but no transform to process it.\n",
            "  self._set_keys()\n"
          ]
        },
        {
          "output_type": "stream",
          "name": "stdout",
          "text": [
            "[VALIDATION] - Epoch: [1] [141/532] eta: 0:00:51 n: 3 recall: 1.0 precision: 0.27 f1-score: 0.43 MAE: 8.0 MSE: 64.0 RMSE: 8.0 time: 0.1134 data: 0.0089 max mem: 14747\n"
          ]
        },
        {
          "output_type": "stream",
          "name": "stderr",
          "text": [
            "/usr/local/lib/python3.11/dist-packages/albumentations/core/composition.py:250: UserWarning: Got processor for keypoints, but no transform to process it.\n",
            "  self._set_keys()\n",
            "/usr/local/lib/python3.11/dist-packages/albumentations/core/composition.py:250: UserWarning: Got processor for keypoints, but no transform to process it.\n",
            "  self._set_keys()\n",
            "/usr/local/lib/python3.11/dist-packages/albumentations/core/composition.py:250: UserWarning: Got processor for keypoints, but no transform to process it.\n",
            "  self._set_keys()\n",
            "/usr/local/lib/python3.11/dist-packages/albumentations/core/composition.py:250: UserWarning: Got processor for keypoints, but no transform to process it.\n",
            "  self._set_keys()\n",
            "/usr/local/lib/python3.11/dist-packages/albumentations/core/composition.py:250: UserWarning: Got processor for keypoints, but no transform to process it.\n",
            "  self._set_keys()\n",
            "/usr/local/lib/python3.11/dist-packages/albumentations/core/composition.py:250: UserWarning: Got processor for keypoints, but no transform to process it.\n",
            "  self._set_keys()\n",
            "/usr/local/lib/python3.11/dist-packages/albumentations/core/composition.py:250: UserWarning: Got processor for keypoints, but no transform to process it.\n",
            "  self._set_keys()\n",
            "/usr/local/lib/python3.11/dist-packages/albumentations/core/composition.py:250: UserWarning: Got processor for keypoints, but no transform to process it.\n",
            "  self._set_keys()\n",
            "/usr/local/lib/python3.11/dist-packages/albumentations/core/composition.py:250: UserWarning: Got processor for keypoints, but no transform to process it.\n",
            "  self._set_keys()\n",
            "INFO:20250408_validation:[VALIDATION] - Epoch: [1] [151/532] eta: 0:00:49 n: 2 recall: 1.0 precision: 0.22 f1-score: 0.36 MAE: 7.0 MSE: 49.0 RMSE: 7.0 time: 0.1137 data: 0.0089 max mem: 14747\n",
            "/usr/local/lib/python3.11/dist-packages/albumentations/core/composition.py:250: UserWarning: Got processor for keypoints, but no transform to process it.\n",
            "  self._set_keys()\n"
          ]
        },
        {
          "output_type": "stream",
          "name": "stdout",
          "text": [
            "[VALIDATION] - Epoch: [1] [151/532] eta: 0:00:49 n: 2 recall: 1.0 precision: 0.22 f1-score: 0.36 MAE: 7.0 MSE: 49.0 RMSE: 7.0 time: 0.1137 data: 0.0089 max mem: 14747\n"
          ]
        },
        {
          "output_type": "stream",
          "name": "stderr",
          "text": [
            "/usr/local/lib/python3.11/dist-packages/albumentations/core/composition.py:250: UserWarning: Got processor for keypoints, but no transform to process it.\n",
            "  self._set_keys()\n",
            "/usr/local/lib/python3.11/dist-packages/albumentations/core/composition.py:250: UserWarning: Got processor for keypoints, but no transform to process it.\n",
            "  self._set_keys()\n",
            "/usr/local/lib/python3.11/dist-packages/albumentations/core/composition.py:250: UserWarning: Got processor for keypoints, but no transform to process it.\n",
            "  self._set_keys()\n",
            "/usr/local/lib/python3.11/dist-packages/albumentations/core/composition.py:250: UserWarning: Got processor for keypoints, but no transform to process it.\n",
            "  self._set_keys()\n",
            "/usr/local/lib/python3.11/dist-packages/albumentations/core/composition.py:250: UserWarning: Got processor for keypoints, but no transform to process it.\n",
            "  self._set_keys()\n",
            "/usr/local/lib/python3.11/dist-packages/albumentations/core/composition.py:250: UserWarning: Got processor for keypoints, but no transform to process it.\n",
            "  self._set_keys()\n",
            "/usr/local/lib/python3.11/dist-packages/albumentations/core/composition.py:250: UserWarning: Got processor for keypoints, but no transform to process it.\n",
            "  self._set_keys()\n",
            "/usr/local/lib/python3.11/dist-packages/albumentations/core/composition.py:250: UserWarning: Got processor for keypoints, but no transform to process it.\n",
            "  self._set_keys()\n",
            "/usr/local/lib/python3.11/dist-packages/albumentations/core/composition.py:250: UserWarning: Got processor for keypoints, but no transform to process it.\n",
            "  self._set_keys()\n",
            "INFO:20250408_validation:[VALIDATION] - Epoch: [1] [161/532] eta: 0:00:47 n: 1 recall: 1.0 precision: 0.09 f1-score: 0.17 MAE: 10.0 MSE: 100.0 RMSE: 10.0 time: 0.1132 data: 0.0088 max mem: 14747\n",
            "/usr/local/lib/python3.11/dist-packages/albumentations/core/composition.py:250: UserWarning: Got processor for keypoints, but no transform to process it.\n",
            "  self._set_keys()\n"
          ]
        },
        {
          "output_type": "stream",
          "name": "stdout",
          "text": [
            "[VALIDATION] - Epoch: [1] [161/532] eta: 0:00:47 n: 1 recall: 1.0 precision: 0.09 f1-score: 0.17 MAE: 10.0 MSE: 100.0 RMSE: 10.0 time: 0.1132 data: 0.0088 max mem: 14747\n"
          ]
        },
        {
          "output_type": "stream",
          "name": "stderr",
          "text": [
            "/usr/local/lib/python3.11/dist-packages/albumentations/core/composition.py:250: UserWarning: Got processor for keypoints, but no transform to process it.\n",
            "  self._set_keys()\n",
            "/usr/local/lib/python3.11/dist-packages/albumentations/core/composition.py:250: UserWarning: Got processor for keypoints, but no transform to process it.\n",
            "  self._set_keys()\n",
            "/usr/local/lib/python3.11/dist-packages/albumentations/core/composition.py:250: UserWarning: Got processor for keypoints, but no transform to process it.\n",
            "  self._set_keys()\n",
            "/usr/local/lib/python3.11/dist-packages/albumentations/core/composition.py:250: UserWarning: Got processor for keypoints, but no transform to process it.\n",
            "  self._set_keys()\n",
            "/usr/local/lib/python3.11/dist-packages/albumentations/core/composition.py:250: UserWarning: Got processor for keypoints, but no transform to process it.\n",
            "  self._set_keys()\n",
            "/usr/local/lib/python3.11/dist-packages/albumentations/core/composition.py:250: UserWarning: Got processor for keypoints, but no transform to process it.\n",
            "  self._set_keys()\n",
            "/usr/local/lib/python3.11/dist-packages/albumentations/core/composition.py:250: UserWarning: Got processor for keypoints, but no transform to process it.\n",
            "  self._set_keys()\n",
            "/usr/local/lib/python3.11/dist-packages/albumentations/core/composition.py:250: UserWarning: Got processor for keypoints, but no transform to process it.\n",
            "  self._set_keys()\n",
            "/usr/local/lib/python3.11/dist-packages/albumentations/core/composition.py:250: UserWarning: Got processor for keypoints, but no transform to process it.\n",
            "  self._set_keys()\n",
            "INFO:20250408_validation:[VALIDATION] - Epoch: [1] [171/532] eta: 0:00:46 n: 1 recall: 1.0 precision: 0.11 f1-score: 0.2 MAE: 8.0 MSE: 64.0 RMSE: 8.0 time: 0.1142 data: 0.0090 max mem: 14747\n",
            "/usr/local/lib/python3.11/dist-packages/albumentations/core/composition.py:250: UserWarning: Got processor for keypoints, but no transform to process it.\n",
            "  self._set_keys()\n"
          ]
        },
        {
          "output_type": "stream",
          "name": "stdout",
          "text": [
            "[VALIDATION] - Epoch: [1] [171/532] eta: 0:00:46 n: 1 recall: 1.0 precision: 0.11 f1-score: 0.2 MAE: 8.0 MSE: 64.0 RMSE: 8.0 time: 0.1142 data: 0.0090 max mem: 14747\n"
          ]
        },
        {
          "output_type": "stream",
          "name": "stderr",
          "text": [
            "/usr/local/lib/python3.11/dist-packages/albumentations/core/composition.py:250: UserWarning: Got processor for keypoints, but no transform to process it.\n",
            "  self._set_keys()\n",
            "/usr/local/lib/python3.11/dist-packages/albumentations/core/composition.py:250: UserWarning: Got processor for keypoints, but no transform to process it.\n",
            "  self._set_keys()\n",
            "/usr/local/lib/python3.11/dist-packages/albumentations/core/composition.py:250: UserWarning: Got processor for keypoints, but no transform to process it.\n",
            "  self._set_keys()\n",
            "/usr/local/lib/python3.11/dist-packages/albumentations/core/composition.py:250: UserWarning: Got processor for keypoints, but no transform to process it.\n",
            "  self._set_keys()\n",
            "/usr/local/lib/python3.11/dist-packages/albumentations/core/composition.py:250: UserWarning: Got processor for keypoints, but no transform to process it.\n",
            "  self._set_keys()\n",
            "/usr/local/lib/python3.11/dist-packages/albumentations/core/composition.py:250: UserWarning: Got processor for keypoints, but no transform to process it.\n",
            "  self._set_keys()\n",
            "/usr/local/lib/python3.11/dist-packages/albumentations/core/composition.py:250: UserWarning: Got processor for keypoints, but no transform to process it.\n",
            "  self._set_keys()\n",
            "/usr/local/lib/python3.11/dist-packages/albumentations/core/composition.py:250: UserWarning: Got processor for keypoints, but no transform to process it.\n",
            "  self._set_keys()\n",
            "/usr/local/lib/python3.11/dist-packages/albumentations/core/composition.py:250: UserWarning: Got processor for keypoints, but no transform to process it.\n",
            "  self._set_keys()\n",
            "INFO:20250408_validation:[VALIDATION] - Epoch: [1] [181/532] eta: 0:00:44 n: 1 recall: 1.0 precision: 0.33 f1-score: 0.5 MAE: 2.0 MSE: 4.0 RMSE: 2.0 time: 0.1148 data: 0.0088 max mem: 14747\n",
            "/usr/local/lib/python3.11/dist-packages/albumentations/core/composition.py:250: UserWarning: Got processor for keypoints, but no transform to process it.\n",
            "  self._set_keys()\n"
          ]
        },
        {
          "output_type": "stream",
          "name": "stdout",
          "text": [
            "[VALIDATION] - Epoch: [1] [181/532] eta: 0:00:44 n: 1 recall: 1.0 precision: 0.33 f1-score: 0.5 MAE: 2.0 MSE: 4.0 RMSE: 2.0 time: 0.1148 data: 0.0088 max mem: 14747\n"
          ]
        },
        {
          "output_type": "stream",
          "name": "stderr",
          "text": [
            "/usr/local/lib/python3.11/dist-packages/albumentations/core/composition.py:250: UserWarning: Got processor for keypoints, but no transform to process it.\n",
            "  self._set_keys()\n",
            "/usr/local/lib/python3.11/dist-packages/albumentations/core/composition.py:250: UserWarning: Got processor for keypoints, but no transform to process it.\n",
            "  self._set_keys()\n",
            "/usr/local/lib/python3.11/dist-packages/albumentations/core/composition.py:250: UserWarning: Got processor for keypoints, but no transform to process it.\n",
            "  self._set_keys()\n",
            "/usr/local/lib/python3.11/dist-packages/albumentations/core/composition.py:250: UserWarning: Got processor for keypoints, but no transform to process it.\n",
            "  self._set_keys()\n",
            "/usr/local/lib/python3.11/dist-packages/albumentations/core/composition.py:250: UserWarning: Got processor for keypoints, but no transform to process it.\n",
            "  self._set_keys()\n",
            "/usr/local/lib/python3.11/dist-packages/albumentations/core/composition.py:250: UserWarning: Got processor for keypoints, but no transform to process it.\n",
            "  self._set_keys()\n",
            "/usr/local/lib/python3.11/dist-packages/albumentations/core/composition.py:250: UserWarning: Got processor for keypoints, but no transform to process it.\n",
            "  self._set_keys()\n",
            "/usr/local/lib/python3.11/dist-packages/albumentations/core/composition.py:250: UserWarning: Got processor for keypoints, but no transform to process it.\n",
            "  self._set_keys()\n",
            "/usr/local/lib/python3.11/dist-packages/albumentations/core/composition.py:250: UserWarning: Got processor for keypoints, but no transform to process it.\n",
            "  self._set_keys()\n",
            "INFO:20250408_validation:[VALIDATION] - Epoch: [1] [191/532] eta: 0:00:43 n: 1 recall: 0.0 precision: 0.0 f1-score: 0.0 MAE: 1.0 MSE: 1.0 RMSE: 1.0 time: 0.1138 data: 0.0085 max mem: 14747\n",
            "/usr/local/lib/python3.11/dist-packages/albumentations/core/composition.py:250: UserWarning: Got processor for keypoints, but no transform to process it.\n",
            "  self._set_keys()\n"
          ]
        },
        {
          "output_type": "stream",
          "name": "stdout",
          "text": [
            "[VALIDATION] - Epoch: [1] [191/532] eta: 0:00:43 n: 1 recall: 0.0 precision: 0.0 f1-score: 0.0 MAE: 1.0 MSE: 1.0 RMSE: 1.0 time: 0.1138 data: 0.0085 max mem: 14747\n"
          ]
        },
        {
          "output_type": "stream",
          "name": "stderr",
          "text": [
            "/usr/local/lib/python3.11/dist-packages/albumentations/core/composition.py:250: UserWarning: Got processor for keypoints, but no transform to process it.\n",
            "  self._set_keys()\n",
            "/usr/local/lib/python3.11/dist-packages/albumentations/core/composition.py:250: UserWarning: Got processor for keypoints, but no transform to process it.\n",
            "  self._set_keys()\n",
            "/usr/local/lib/python3.11/dist-packages/albumentations/core/composition.py:250: UserWarning: Got processor for keypoints, but no transform to process it.\n",
            "  self._set_keys()\n",
            "/usr/local/lib/python3.11/dist-packages/albumentations/core/composition.py:250: UserWarning: Got processor for keypoints, but no transform to process it.\n",
            "  self._set_keys()\n",
            "/usr/local/lib/python3.11/dist-packages/albumentations/core/composition.py:250: UserWarning: Got processor for keypoints, but no transform to process it.\n",
            "  self._set_keys()\n",
            "/usr/local/lib/python3.11/dist-packages/albumentations/core/composition.py:250: UserWarning: Got processor for keypoints, but no transform to process it.\n",
            "  self._set_keys()\n",
            "/usr/local/lib/python3.11/dist-packages/albumentations/core/composition.py:250: UserWarning: Got processor for keypoints, but no transform to process it.\n",
            "  self._set_keys()\n",
            "/usr/local/lib/python3.11/dist-packages/albumentations/core/composition.py:250: UserWarning: Got processor for keypoints, but no transform to process it.\n",
            "  self._set_keys()\n",
            "/usr/local/lib/python3.11/dist-packages/albumentations/core/composition.py:250: UserWarning: Got processor for keypoints, but no transform to process it.\n",
            "  self._set_keys()\n",
            "INFO:20250408_validation:[VALIDATION] - Epoch: [1] [201/532] eta: 0:00:41 n: 3 recall: 1.0 precision: 0.38 f1-score: 0.55 MAE: 5.0 MSE: 25.0 RMSE: 5.0 time: 0.1141 data: 0.0087 max mem: 14747\n",
            "/usr/local/lib/python3.11/dist-packages/albumentations/core/composition.py:250: UserWarning: Got processor for keypoints, but no transform to process it.\n",
            "  self._set_keys()\n"
          ]
        },
        {
          "output_type": "stream",
          "name": "stdout",
          "text": [
            "[VALIDATION] - Epoch: [1] [201/532] eta: 0:00:41 n: 3 recall: 1.0 precision: 0.38 f1-score: 0.55 MAE: 5.0 MSE: 25.0 RMSE: 5.0 time: 0.1141 data: 0.0087 max mem: 14747\n"
          ]
        },
        {
          "output_type": "stream",
          "name": "stderr",
          "text": [
            "/usr/local/lib/python3.11/dist-packages/albumentations/core/composition.py:250: UserWarning: Got processor for keypoints, but no transform to process it.\n",
            "  self._set_keys()\n",
            "/usr/local/lib/python3.11/dist-packages/albumentations/core/composition.py:250: UserWarning: Got processor for keypoints, but no transform to process it.\n",
            "  self._set_keys()\n",
            "/usr/local/lib/python3.11/dist-packages/albumentations/core/composition.py:250: UserWarning: Got processor for keypoints, but no transform to process it.\n",
            "  self._set_keys()\n",
            "/usr/local/lib/python3.11/dist-packages/albumentations/core/composition.py:250: UserWarning: Got processor for keypoints, but no transform to process it.\n",
            "  self._set_keys()\n",
            "/usr/local/lib/python3.11/dist-packages/albumentations/core/composition.py:250: UserWarning: Got processor for keypoints, but no transform to process it.\n",
            "  self._set_keys()\n",
            "/usr/local/lib/python3.11/dist-packages/albumentations/core/composition.py:250: UserWarning: Got processor for keypoints, but no transform to process it.\n",
            "  self._set_keys()\n",
            "/usr/local/lib/python3.11/dist-packages/albumentations/core/composition.py:250: UserWarning: Got processor for keypoints, but no transform to process it.\n",
            "  self._set_keys()\n",
            "/usr/local/lib/python3.11/dist-packages/albumentations/core/composition.py:250: UserWarning: Got processor for keypoints, but no transform to process it.\n",
            "  self._set_keys()\n",
            "/usr/local/lib/python3.11/dist-packages/albumentations/core/composition.py:250: UserWarning: Got processor for keypoints, but no transform to process it.\n",
            "  self._set_keys()\n",
            "INFO:20250408_validation:[VALIDATION] - Epoch: [1] [211/532] eta: 0:00:40 n: 2 recall: 1.0 precision: 0.29 f1-score: 0.44 MAE: 5.0 MSE: 25.0 RMSE: 5.0 time: 0.1234 data: 0.0102 max mem: 14747\n",
            "/usr/local/lib/python3.11/dist-packages/albumentations/core/composition.py:250: UserWarning: Got processor for keypoints, but no transform to process it.\n",
            "  self._set_keys()\n"
          ]
        },
        {
          "output_type": "stream",
          "name": "stdout",
          "text": [
            "[VALIDATION] - Epoch: [1] [211/532] eta: 0:00:40 n: 2 recall: 1.0 precision: 0.29 f1-score: 0.44 MAE: 5.0 MSE: 25.0 RMSE: 5.0 time: 0.1234 data: 0.0102 max mem: 14747\n"
          ]
        },
        {
          "output_type": "stream",
          "name": "stderr",
          "text": [
            "/usr/local/lib/python3.11/dist-packages/albumentations/core/composition.py:250: UserWarning: Got processor for keypoints, but no transform to process it.\n",
            "  self._set_keys()\n",
            "/usr/local/lib/python3.11/dist-packages/albumentations/core/composition.py:250: UserWarning: Got processor for keypoints, but no transform to process it.\n",
            "  self._set_keys()\n",
            "/usr/local/lib/python3.11/dist-packages/albumentations/core/composition.py:250: UserWarning: Got processor for keypoints, but no transform to process it.\n",
            "  self._set_keys()\n",
            "/usr/local/lib/python3.11/dist-packages/albumentations/core/composition.py:250: UserWarning: Got processor for keypoints, but no transform to process it.\n",
            "  self._set_keys()\n",
            "/usr/local/lib/python3.11/dist-packages/albumentations/core/composition.py:250: UserWarning: Got processor for keypoints, but no transform to process it.\n",
            "  self._set_keys()\n",
            "/usr/local/lib/python3.11/dist-packages/albumentations/core/composition.py:250: UserWarning: Got processor for keypoints, but no transform to process it.\n",
            "  self._set_keys()\n",
            "/usr/local/lib/python3.11/dist-packages/albumentations/core/composition.py:250: UserWarning: Got processor for keypoints, but no transform to process it.\n",
            "  self._set_keys()\n",
            "/usr/local/lib/python3.11/dist-packages/albumentations/core/composition.py:250: UserWarning: Got processor for keypoints, but no transform to process it.\n",
            "  self._set_keys()\n",
            "/usr/local/lib/python3.11/dist-packages/albumentations/core/composition.py:250: UserWarning: Got processor for keypoints, but no transform to process it.\n",
            "  self._set_keys()\n",
            "INFO:20250408_validation:[VALIDATION] - Epoch: [1] [221/532] eta: 0:00:39 n: 2 recall: 1.0 precision: 0.29 f1-score: 0.44 MAE: 5.0 MSE: 25.0 RMSE: 5.0 time: 0.1346 data: 0.0118 max mem: 14747\n",
            "/usr/local/lib/python3.11/dist-packages/albumentations/core/composition.py:250: UserWarning: Got processor for keypoints, but no transform to process it.\n",
            "  self._set_keys()\n"
          ]
        },
        {
          "output_type": "stream",
          "name": "stdout",
          "text": [
            "[VALIDATION] - Epoch: [1] [221/532] eta: 0:00:39 n: 2 recall: 1.0 precision: 0.29 f1-score: 0.44 MAE: 5.0 MSE: 25.0 RMSE: 5.0 time: 0.1346 data: 0.0118 max mem: 14747\n"
          ]
        },
        {
          "output_type": "stream",
          "name": "stderr",
          "text": [
            "/usr/local/lib/python3.11/dist-packages/albumentations/core/composition.py:250: UserWarning: Got processor for keypoints, but no transform to process it.\n",
            "  self._set_keys()\n",
            "/usr/local/lib/python3.11/dist-packages/albumentations/core/composition.py:250: UserWarning: Got processor for keypoints, but no transform to process it.\n",
            "  self._set_keys()\n",
            "/usr/local/lib/python3.11/dist-packages/albumentations/core/composition.py:250: UserWarning: Got processor for keypoints, but no transform to process it.\n",
            "  self._set_keys()\n",
            "/usr/local/lib/python3.11/dist-packages/albumentations/core/composition.py:250: UserWarning: Got processor for keypoints, but no transform to process it.\n",
            "  self._set_keys()\n",
            "/usr/local/lib/python3.11/dist-packages/albumentations/core/composition.py:250: UserWarning: Got processor for keypoints, but no transform to process it.\n",
            "  self._set_keys()\n",
            "/usr/local/lib/python3.11/dist-packages/albumentations/core/composition.py:250: UserWarning: Got processor for keypoints, but no transform to process it.\n",
            "  self._set_keys()\n",
            "/usr/local/lib/python3.11/dist-packages/albumentations/core/composition.py:250: UserWarning: Got processor for keypoints, but no transform to process it.\n",
            "  self._set_keys()\n",
            "/usr/local/lib/python3.11/dist-packages/albumentations/core/composition.py:250: UserWarning: Got processor for keypoints, but no transform to process it.\n",
            "  self._set_keys()\n",
            "/usr/local/lib/python3.11/dist-packages/albumentations/core/composition.py:250: UserWarning: Got processor for keypoints, but no transform to process it.\n",
            "  self._set_keys()\n",
            "INFO:20250408_validation:[VALIDATION] - Epoch: [1] [231/532] eta: 0:00:38 n: 2 recall: 1.0 precision: 0.33 f1-score: 0.5 MAE: 4.0 MSE: 16.0 RMSE: 4.0 time: 0.1354 data: 0.0116 max mem: 14747\n",
            "/usr/local/lib/python3.11/dist-packages/albumentations/core/composition.py:250: UserWarning: Got processor for keypoints, but no transform to process it.\n",
            "  self._set_keys()\n"
          ]
        },
        {
          "output_type": "stream",
          "name": "stdout",
          "text": [
            "[VALIDATION] - Epoch: [1] [231/532] eta: 0:00:38 n: 2 recall: 1.0 precision: 0.33 f1-score: 0.5 MAE: 4.0 MSE: 16.0 RMSE: 4.0 time: 0.1354 data: 0.0116 max mem: 14747\n"
          ]
        },
        {
          "output_type": "stream",
          "name": "stderr",
          "text": [
            "/usr/local/lib/python3.11/dist-packages/albumentations/core/composition.py:250: UserWarning: Got processor for keypoints, but no transform to process it.\n",
            "  self._set_keys()\n",
            "/usr/local/lib/python3.11/dist-packages/albumentations/core/composition.py:250: UserWarning: Got processor for keypoints, but no transform to process it.\n",
            "  self._set_keys()\n",
            "/usr/local/lib/python3.11/dist-packages/albumentations/core/composition.py:250: UserWarning: Got processor for keypoints, but no transform to process it.\n",
            "  self._set_keys()\n",
            "/usr/local/lib/python3.11/dist-packages/albumentations/core/composition.py:250: UserWarning: Got processor for keypoints, but no transform to process it.\n",
            "  self._set_keys()\n",
            "/usr/local/lib/python3.11/dist-packages/albumentations/core/composition.py:250: UserWarning: Got processor for keypoints, but no transform to process it.\n",
            "  self._set_keys()\n",
            "/usr/local/lib/python3.11/dist-packages/albumentations/core/composition.py:250: UserWarning: Got processor for keypoints, but no transform to process it.\n",
            "  self._set_keys()\n",
            "/usr/local/lib/python3.11/dist-packages/albumentations/core/composition.py:250: UserWarning: Got processor for keypoints, but no transform to process it.\n",
            "  self._set_keys()\n",
            "/usr/local/lib/python3.11/dist-packages/albumentations/core/composition.py:250: UserWarning: Got processor for keypoints, but no transform to process it.\n",
            "  self._set_keys()\n",
            "/usr/local/lib/python3.11/dist-packages/albumentations/core/composition.py:250: UserWarning: Got processor for keypoints, but no transform to process it.\n",
            "  self._set_keys()\n",
            "INFO:20250408_validation:[VALIDATION] - Epoch: [1] [241/532] eta: 0:00:36 n: 2 recall: 0.5 precision: 0.2 f1-score: 0.29 MAE: 3.0 MSE: 9.0 RMSE: 3.0 time: 0.1243 data: 0.0099 max mem: 14747\n",
            "/usr/local/lib/python3.11/dist-packages/albumentations/core/composition.py:250: UserWarning: Got processor for keypoints, but no transform to process it.\n",
            "  self._set_keys()\n"
          ]
        },
        {
          "output_type": "stream",
          "name": "stdout",
          "text": [
            "[VALIDATION] - Epoch: [1] [241/532] eta: 0:00:36 n: 2 recall: 0.5 precision: 0.2 f1-score: 0.29 MAE: 3.0 MSE: 9.0 RMSE: 3.0 time: 0.1243 data: 0.0099 max mem: 14747\n"
          ]
        },
        {
          "output_type": "stream",
          "name": "stderr",
          "text": [
            "/usr/local/lib/python3.11/dist-packages/albumentations/core/composition.py:250: UserWarning: Got processor for keypoints, but no transform to process it.\n",
            "  self._set_keys()\n",
            "/usr/local/lib/python3.11/dist-packages/albumentations/core/composition.py:250: UserWarning: Got processor for keypoints, but no transform to process it.\n",
            "  self._set_keys()\n",
            "/usr/local/lib/python3.11/dist-packages/albumentations/core/composition.py:250: UserWarning: Got processor for keypoints, but no transform to process it.\n",
            "  self._set_keys()\n",
            "/usr/local/lib/python3.11/dist-packages/albumentations/core/composition.py:250: UserWarning: Got processor for keypoints, but no transform to process it.\n",
            "  self._set_keys()\n",
            "/usr/local/lib/python3.11/dist-packages/albumentations/core/composition.py:250: UserWarning: Got processor for keypoints, but no transform to process it.\n",
            "  self._set_keys()\n",
            "/usr/local/lib/python3.11/dist-packages/albumentations/core/composition.py:250: UserWarning: Got processor for keypoints, but no transform to process it.\n",
            "  self._set_keys()\n",
            "/usr/local/lib/python3.11/dist-packages/albumentations/core/composition.py:250: UserWarning: Got processor for keypoints, but no transform to process it.\n",
            "  self._set_keys()\n",
            "/usr/local/lib/python3.11/dist-packages/albumentations/core/composition.py:250: UserWarning: Got processor for keypoints, but no transform to process it.\n",
            "  self._set_keys()\n",
            "/usr/local/lib/python3.11/dist-packages/albumentations/core/composition.py:250: UserWarning: Got processor for keypoints, but no transform to process it.\n",
            "  self._set_keys()\n",
            "INFO:20250408_validation:[VALIDATION] - Epoch: [1] [251/532] eta: 0:00:35 n: 5 recall: 0.8 precision: 0.67 f1-score: 0.73 MAE: 1.0 MSE: 1.0 RMSE: 1.0 time: 0.1150 data: 0.0088 max mem: 14747\n",
            "/usr/local/lib/python3.11/dist-packages/albumentations/core/composition.py:250: UserWarning: Got processor for keypoints, but no transform to process it.\n",
            "  self._set_keys()\n"
          ]
        },
        {
          "output_type": "stream",
          "name": "stdout",
          "text": [
            "[VALIDATION] - Epoch: [1] [251/532] eta: 0:00:35 n: 5 recall: 0.8 precision: 0.67 f1-score: 0.73 MAE: 1.0 MSE: 1.0 RMSE: 1.0 time: 0.1150 data: 0.0088 max mem: 14747\n"
          ]
        },
        {
          "output_type": "stream",
          "name": "stderr",
          "text": [
            "/usr/local/lib/python3.11/dist-packages/albumentations/core/composition.py:250: UserWarning: Got processor for keypoints, but no transform to process it.\n",
            "  self._set_keys()\n",
            "/usr/local/lib/python3.11/dist-packages/albumentations/core/composition.py:250: UserWarning: Got processor for keypoints, but no transform to process it.\n",
            "  self._set_keys()\n",
            "/usr/local/lib/python3.11/dist-packages/albumentations/core/composition.py:250: UserWarning: Got processor for keypoints, but no transform to process it.\n",
            "  self._set_keys()\n",
            "/usr/local/lib/python3.11/dist-packages/albumentations/core/composition.py:250: UserWarning: Got processor for keypoints, but no transform to process it.\n",
            "  self._set_keys()\n",
            "/usr/local/lib/python3.11/dist-packages/albumentations/core/composition.py:250: UserWarning: Got processor for keypoints, but no transform to process it.\n",
            "  self._set_keys()\n",
            "/usr/local/lib/python3.11/dist-packages/albumentations/core/composition.py:250: UserWarning: Got processor for keypoints, but no transform to process it.\n",
            "  self._set_keys()\n",
            "/usr/local/lib/python3.11/dist-packages/albumentations/core/composition.py:250: UserWarning: Got processor for keypoints, but no transform to process it.\n",
            "  self._set_keys()\n",
            "/usr/local/lib/python3.11/dist-packages/albumentations/core/composition.py:250: UserWarning: Got processor for keypoints, but no transform to process it.\n",
            "  self._set_keys()\n",
            "/usr/local/lib/python3.11/dist-packages/albumentations/core/composition.py:250: UserWarning: Got processor for keypoints, but no transform to process it.\n",
            "  self._set_keys()\n",
            "INFO:20250408_validation:[VALIDATION] - Epoch: [1] [261/532] eta: 0:00:34 n: 1 recall: 1.0 precision: 0.25 f1-score: 0.4 MAE: 3.0 MSE: 9.0 RMSE: 3.0 time: 0.1147 data: 0.0088 max mem: 14747\n",
            "/usr/local/lib/python3.11/dist-packages/albumentations/core/composition.py:250: UserWarning: Got processor for keypoints, but no transform to process it.\n",
            "  self._set_keys()\n"
          ]
        },
        {
          "output_type": "stream",
          "name": "stdout",
          "text": [
            "[VALIDATION] - Epoch: [1] [261/532] eta: 0:00:34 n: 1 recall: 1.0 precision: 0.25 f1-score: 0.4 MAE: 3.0 MSE: 9.0 RMSE: 3.0 time: 0.1147 data: 0.0088 max mem: 14747\n"
          ]
        },
        {
          "output_type": "stream",
          "name": "stderr",
          "text": [
            "/usr/local/lib/python3.11/dist-packages/albumentations/core/composition.py:250: UserWarning: Got processor for keypoints, but no transform to process it.\n",
            "  self._set_keys()\n",
            "/usr/local/lib/python3.11/dist-packages/albumentations/core/composition.py:250: UserWarning: Got processor for keypoints, but no transform to process it.\n",
            "  self._set_keys()\n",
            "/usr/local/lib/python3.11/dist-packages/albumentations/core/composition.py:250: UserWarning: Got processor for keypoints, but no transform to process it.\n",
            "  self._set_keys()\n",
            "/usr/local/lib/python3.11/dist-packages/albumentations/core/composition.py:250: UserWarning: Got processor for keypoints, but no transform to process it.\n",
            "  self._set_keys()\n",
            "/usr/local/lib/python3.11/dist-packages/albumentations/core/composition.py:250: UserWarning: Got processor for keypoints, but no transform to process it.\n",
            "  self._set_keys()\n",
            "/usr/local/lib/python3.11/dist-packages/albumentations/core/composition.py:250: UserWarning: Got processor for keypoints, but no transform to process it.\n",
            "  self._set_keys()\n",
            "/usr/local/lib/python3.11/dist-packages/albumentations/core/composition.py:250: UserWarning: Got processor for keypoints, but no transform to process it.\n",
            "  self._set_keys()\n",
            "/usr/local/lib/python3.11/dist-packages/albumentations/core/composition.py:250: UserWarning: Got processor for keypoints, but no transform to process it.\n",
            "  self._set_keys()\n",
            "/usr/local/lib/python3.11/dist-packages/albumentations/core/composition.py:250: UserWarning: Got processor for keypoints, but no transform to process it.\n",
            "  self._set_keys()\n",
            "INFO:20250408_validation:[VALIDATION] - Epoch: [1] [271/532] eta: 0:00:32 n: 1 recall: 1.0 precision: 0.14 f1-score: 0.25 MAE: 6.0 MSE: 36.0 RMSE: 6.0 time: 0.1139 data: 0.0085 max mem: 14747\n",
            "/usr/local/lib/python3.11/dist-packages/albumentations/core/composition.py:250: UserWarning: Got processor for keypoints, but no transform to process it.\n",
            "  self._set_keys()\n"
          ]
        },
        {
          "output_type": "stream",
          "name": "stdout",
          "text": [
            "[VALIDATION] - Epoch: [1] [271/532] eta: 0:00:32 n: 1 recall: 1.0 precision: 0.14 f1-score: 0.25 MAE: 6.0 MSE: 36.0 RMSE: 6.0 time: 0.1139 data: 0.0085 max mem: 14747\n"
          ]
        },
        {
          "output_type": "stream",
          "name": "stderr",
          "text": [
            "/usr/local/lib/python3.11/dist-packages/albumentations/core/composition.py:250: UserWarning: Got processor for keypoints, but no transform to process it.\n",
            "  self._set_keys()\n",
            "/usr/local/lib/python3.11/dist-packages/albumentations/core/composition.py:250: UserWarning: Got processor for keypoints, but no transform to process it.\n",
            "  self._set_keys()\n",
            "/usr/local/lib/python3.11/dist-packages/albumentations/core/composition.py:250: UserWarning: Got processor for keypoints, but no transform to process it.\n",
            "  self._set_keys()\n",
            "/usr/local/lib/python3.11/dist-packages/albumentations/core/composition.py:250: UserWarning: Got processor for keypoints, but no transform to process it.\n",
            "  self._set_keys()\n",
            "/usr/local/lib/python3.11/dist-packages/albumentations/core/composition.py:250: UserWarning: Got processor for keypoints, but no transform to process it.\n",
            "  self._set_keys()\n",
            "/usr/local/lib/python3.11/dist-packages/albumentations/core/composition.py:250: UserWarning: Got processor for keypoints, but no transform to process it.\n",
            "  self._set_keys()\n",
            "/usr/local/lib/python3.11/dist-packages/albumentations/core/composition.py:250: UserWarning: Got processor for keypoints, but no transform to process it.\n",
            "  self._set_keys()\n",
            "/usr/local/lib/python3.11/dist-packages/albumentations/core/composition.py:250: UserWarning: Got processor for keypoints, but no transform to process it.\n",
            "  self._set_keys()\n",
            "/usr/local/lib/python3.11/dist-packages/albumentations/core/composition.py:250: UserWarning: Got processor for keypoints, but no transform to process it.\n",
            "  self._set_keys()\n",
            "INFO:20250408_validation:[VALIDATION] - Epoch: [1] [281/532] eta: 0:00:31 n: 1 recall: 1.0 precision: 0.1 f1-score: 0.18 MAE: 9.0 MSE: 81.0 RMSE: 9.0 time: 0.1143 data: 0.0089 max mem: 14747\n",
            "/usr/local/lib/python3.11/dist-packages/albumentations/core/composition.py:250: UserWarning: Got processor for keypoints, but no transform to process it.\n",
            "  self._set_keys()\n"
          ]
        },
        {
          "output_type": "stream",
          "name": "stdout",
          "text": [
            "[VALIDATION] - Epoch: [1] [281/532] eta: 0:00:31 n: 1 recall: 1.0 precision: 0.1 f1-score: 0.18 MAE: 9.0 MSE: 81.0 RMSE: 9.0 time: 0.1143 data: 0.0089 max mem: 14747\n"
          ]
        },
        {
          "output_type": "stream",
          "name": "stderr",
          "text": [
            "/usr/local/lib/python3.11/dist-packages/albumentations/core/composition.py:250: UserWarning: Got processor for keypoints, but no transform to process it.\n",
            "  self._set_keys()\n",
            "/usr/local/lib/python3.11/dist-packages/albumentations/core/composition.py:250: UserWarning: Got processor for keypoints, but no transform to process it.\n",
            "  self._set_keys()\n",
            "/usr/local/lib/python3.11/dist-packages/albumentations/core/composition.py:250: UserWarning: Got processor for keypoints, but no transform to process it.\n",
            "  self._set_keys()\n",
            "/usr/local/lib/python3.11/dist-packages/albumentations/core/composition.py:250: UserWarning: Got processor for keypoints, but no transform to process it.\n",
            "  self._set_keys()\n",
            "/usr/local/lib/python3.11/dist-packages/albumentations/core/composition.py:250: UserWarning: Got processor for keypoints, but no transform to process it.\n",
            "  self._set_keys()\n",
            "/usr/local/lib/python3.11/dist-packages/albumentations/core/composition.py:250: UserWarning: Got processor for keypoints, but no transform to process it.\n",
            "  self._set_keys()\n",
            "/usr/local/lib/python3.11/dist-packages/albumentations/core/composition.py:250: UserWarning: Got processor for keypoints, but no transform to process it.\n",
            "  self._set_keys()\n",
            "/usr/local/lib/python3.11/dist-packages/albumentations/core/composition.py:250: UserWarning: Got processor for keypoints, but no transform to process it.\n",
            "  self._set_keys()\n",
            "/usr/local/lib/python3.11/dist-packages/albumentations/core/composition.py:250: UserWarning: Got processor for keypoints, but no transform to process it.\n",
            "  self._set_keys()\n",
            "INFO:20250408_validation:[VALIDATION] - Epoch: [1] [291/532] eta: 0:00:30 n: 1 recall: 0.0 precision: 0.0 f1-score: 0.0 MAE: 1.0 MSE: 1.0 RMSE: 1.0 time: 0.1152 data: 0.0090 max mem: 14747\n",
            "/usr/local/lib/python3.11/dist-packages/albumentations/core/composition.py:250: UserWarning: Got processor for keypoints, but no transform to process it.\n",
            "  self._set_keys()\n"
          ]
        },
        {
          "output_type": "stream",
          "name": "stdout",
          "text": [
            "[VALIDATION] - Epoch: [1] [291/532] eta: 0:00:30 n: 1 recall: 0.0 precision: 0.0 f1-score: 0.0 MAE: 1.0 MSE: 1.0 RMSE: 1.0 time: 0.1152 data: 0.0090 max mem: 14747\n"
          ]
        },
        {
          "output_type": "stream",
          "name": "stderr",
          "text": [
            "/usr/local/lib/python3.11/dist-packages/albumentations/core/composition.py:250: UserWarning: Got processor for keypoints, but no transform to process it.\n",
            "  self._set_keys()\n",
            "/usr/local/lib/python3.11/dist-packages/albumentations/core/composition.py:250: UserWarning: Got processor for keypoints, but no transform to process it.\n",
            "  self._set_keys()\n",
            "/usr/local/lib/python3.11/dist-packages/albumentations/core/composition.py:250: UserWarning: Got processor for keypoints, but no transform to process it.\n",
            "  self._set_keys()\n",
            "/usr/local/lib/python3.11/dist-packages/albumentations/core/composition.py:250: UserWarning: Got processor for keypoints, but no transform to process it.\n",
            "  self._set_keys()\n",
            "/usr/local/lib/python3.11/dist-packages/albumentations/core/composition.py:250: UserWarning: Got processor for keypoints, but no transform to process it.\n",
            "  self._set_keys()\n",
            "/usr/local/lib/python3.11/dist-packages/albumentations/core/composition.py:250: UserWarning: Got processor for keypoints, but no transform to process it.\n",
            "  self._set_keys()\n",
            "/usr/local/lib/python3.11/dist-packages/albumentations/core/composition.py:250: UserWarning: Got processor for keypoints, but no transform to process it.\n",
            "  self._set_keys()\n",
            "/usr/local/lib/python3.11/dist-packages/albumentations/core/composition.py:250: UserWarning: Got processor for keypoints, but no transform to process it.\n",
            "  self._set_keys()\n",
            "/usr/local/lib/python3.11/dist-packages/albumentations/core/composition.py:250: UserWarning: Got processor for keypoints, but no transform to process it.\n",
            "  self._set_keys()\n",
            "INFO:20250408_validation:[VALIDATION] - Epoch: [1] [301/532] eta: 0:00:28 n: 1 recall: 1.0 precision: 0.2 f1-score: 0.33 MAE: 4.0 MSE: 16.0 RMSE: 4.0 time: 0.1151 data: 0.0090 max mem: 14747\n",
            "/usr/local/lib/python3.11/dist-packages/albumentations/core/composition.py:250: UserWarning: Got processor for keypoints, but no transform to process it.\n",
            "  self._set_keys()\n"
          ]
        },
        {
          "output_type": "stream",
          "name": "stdout",
          "text": [
            "[VALIDATION] - Epoch: [1] [301/532] eta: 0:00:28 n: 1 recall: 1.0 precision: 0.2 f1-score: 0.33 MAE: 4.0 MSE: 16.0 RMSE: 4.0 time: 0.1151 data: 0.0090 max mem: 14747\n"
          ]
        },
        {
          "output_type": "stream",
          "name": "stderr",
          "text": [
            "/usr/local/lib/python3.11/dist-packages/albumentations/core/composition.py:250: UserWarning: Got processor for keypoints, but no transform to process it.\n",
            "  self._set_keys()\n",
            "/usr/local/lib/python3.11/dist-packages/albumentations/core/composition.py:250: UserWarning: Got processor for keypoints, but no transform to process it.\n",
            "  self._set_keys()\n",
            "/usr/local/lib/python3.11/dist-packages/albumentations/core/composition.py:250: UserWarning: Got processor for keypoints, but no transform to process it.\n",
            "  self._set_keys()\n",
            "/usr/local/lib/python3.11/dist-packages/albumentations/core/composition.py:250: UserWarning: Got processor for keypoints, but no transform to process it.\n",
            "  self._set_keys()\n",
            "/usr/local/lib/python3.11/dist-packages/albumentations/core/composition.py:250: UserWarning: Got processor for keypoints, but no transform to process it.\n",
            "  self._set_keys()\n",
            "/usr/local/lib/python3.11/dist-packages/albumentations/core/composition.py:250: UserWarning: Got processor for keypoints, but no transform to process it.\n",
            "  self._set_keys()\n",
            "/usr/local/lib/python3.11/dist-packages/albumentations/core/composition.py:250: UserWarning: Got processor for keypoints, but no transform to process it.\n",
            "  self._set_keys()\n",
            "/usr/local/lib/python3.11/dist-packages/albumentations/core/composition.py:250: UserWarning: Got processor for keypoints, but no transform to process it.\n",
            "  self._set_keys()\n",
            "/usr/local/lib/python3.11/dist-packages/albumentations/core/composition.py:250: UserWarning: Got processor for keypoints, but no transform to process it.\n",
            "  self._set_keys()\n",
            "INFO:20250408_validation:[VALIDATION] - Epoch: [1] [311/532] eta: 0:00:27 n: 2 recall: 1.0 precision: 0.18 f1-score: 0.31 MAE: 9.0 MSE: 81.0 RMSE: 9.0 time: 0.1153 data: 0.0092 max mem: 14747\n",
            "/usr/local/lib/python3.11/dist-packages/albumentations/core/composition.py:250: UserWarning: Got processor for keypoints, but no transform to process it.\n",
            "  self._set_keys()\n"
          ]
        },
        {
          "output_type": "stream",
          "name": "stdout",
          "text": [
            "[VALIDATION] - Epoch: [1] [311/532] eta: 0:00:27 n: 2 recall: 1.0 precision: 0.18 f1-score: 0.31 MAE: 9.0 MSE: 81.0 RMSE: 9.0 time: 0.1153 data: 0.0092 max mem: 14747\n"
          ]
        },
        {
          "output_type": "stream",
          "name": "stderr",
          "text": [
            "/usr/local/lib/python3.11/dist-packages/albumentations/core/composition.py:250: UserWarning: Got processor for keypoints, but no transform to process it.\n",
            "  self._set_keys()\n",
            "/usr/local/lib/python3.11/dist-packages/albumentations/core/composition.py:250: UserWarning: Got processor for keypoints, but no transform to process it.\n",
            "  self._set_keys()\n",
            "/usr/local/lib/python3.11/dist-packages/albumentations/core/composition.py:250: UserWarning: Got processor for keypoints, but no transform to process it.\n",
            "  self._set_keys()\n",
            "/usr/local/lib/python3.11/dist-packages/albumentations/core/composition.py:250: UserWarning: Got processor for keypoints, but no transform to process it.\n",
            "  self._set_keys()\n",
            "/usr/local/lib/python3.11/dist-packages/albumentations/core/composition.py:250: UserWarning: Got processor for keypoints, but no transform to process it.\n",
            "  self._set_keys()\n",
            "/usr/local/lib/python3.11/dist-packages/albumentations/core/composition.py:250: UserWarning: Got processor for keypoints, but no transform to process it.\n",
            "  self._set_keys()\n",
            "/usr/local/lib/python3.11/dist-packages/albumentations/core/composition.py:250: UserWarning: Got processor for keypoints, but no transform to process it.\n",
            "  self._set_keys()\n",
            "/usr/local/lib/python3.11/dist-packages/albumentations/core/composition.py:250: UserWarning: Got processor for keypoints, but no transform to process it.\n",
            "  self._set_keys()\n",
            "/usr/local/lib/python3.11/dist-packages/albumentations/core/composition.py:250: UserWarning: Got processor for keypoints, but no transform to process it.\n",
            "  self._set_keys()\n",
            "INFO:20250408_validation:[VALIDATION] - Epoch: [1] [321/532] eta: 0:00:26 n: 2 recall: 0.0 precision: 0.0 f1-score: 0.0 MAE: 2.0 MSE: 4.0 RMSE: 2.0 time: 0.1235 data: 0.0103 max mem: 14747\n",
            "/usr/local/lib/python3.11/dist-packages/albumentations/core/composition.py:250: UserWarning: Got processor for keypoints, but no transform to process it.\n",
            "  self._set_keys()\n"
          ]
        },
        {
          "output_type": "stream",
          "name": "stdout",
          "text": [
            "[VALIDATION] - Epoch: [1] [321/532] eta: 0:00:26 n: 2 recall: 0.0 precision: 0.0 f1-score: 0.0 MAE: 2.0 MSE: 4.0 RMSE: 2.0 time: 0.1235 data: 0.0103 max mem: 14747\n"
          ]
        },
        {
          "output_type": "stream",
          "name": "stderr",
          "text": [
            "/usr/local/lib/python3.11/dist-packages/albumentations/core/composition.py:250: UserWarning: Got processor for keypoints, but no transform to process it.\n",
            "  self._set_keys()\n",
            "/usr/local/lib/python3.11/dist-packages/albumentations/core/composition.py:250: UserWarning: Got processor for keypoints, but no transform to process it.\n",
            "  self._set_keys()\n",
            "/usr/local/lib/python3.11/dist-packages/albumentations/core/composition.py:250: UserWarning: Got processor for keypoints, but no transform to process it.\n",
            "  self._set_keys()\n",
            "/usr/local/lib/python3.11/dist-packages/albumentations/core/composition.py:250: UserWarning: Got processor for keypoints, but no transform to process it.\n",
            "  self._set_keys()\n",
            "/usr/local/lib/python3.11/dist-packages/albumentations/core/composition.py:250: UserWarning: Got processor for keypoints, but no transform to process it.\n",
            "  self._set_keys()\n",
            "/usr/local/lib/python3.11/dist-packages/albumentations/core/composition.py:250: UserWarning: Got processor for keypoints, but no transform to process it.\n",
            "  self._set_keys()\n",
            "/usr/local/lib/python3.11/dist-packages/albumentations/core/composition.py:250: UserWarning: Got processor for keypoints, but no transform to process it.\n",
            "  self._set_keys()\n",
            "/usr/local/lib/python3.11/dist-packages/albumentations/core/composition.py:250: UserWarning: Got processor for keypoints, but no transform to process it.\n",
            "  self._set_keys()\n",
            "/usr/local/lib/python3.11/dist-packages/albumentations/core/composition.py:250: UserWarning: Got processor for keypoints, but no transform to process it.\n",
            "  self._set_keys()\n",
            "INFO:20250408_validation:[VALIDATION] - Epoch: [1] [331/532] eta: 0:00:25 n: 6 recall: 1.0 precision: 0.15 f1-score: 0.27 MAE: 33.0 MSE: 1089.0 RMSE: 33.0 time: 0.1349 data: 0.0126 max mem: 14747\n",
            "/usr/local/lib/python3.11/dist-packages/albumentations/core/composition.py:250: UserWarning: Got processor for keypoints, but no transform to process it.\n",
            "  self._set_keys()\n"
          ]
        },
        {
          "output_type": "stream",
          "name": "stdout",
          "text": [
            "[VALIDATION] - Epoch: [1] [331/532] eta: 0:00:25 n: 6 recall: 1.0 precision: 0.15 f1-score: 0.27 MAE: 33.0 MSE: 1089.0 RMSE: 33.0 time: 0.1349 data: 0.0126 max mem: 14747\n"
          ]
        },
        {
          "output_type": "stream",
          "name": "stderr",
          "text": [
            "/usr/local/lib/python3.11/dist-packages/albumentations/core/composition.py:250: UserWarning: Got processor for keypoints, but no transform to process it.\n",
            "  self._set_keys()\n",
            "/usr/local/lib/python3.11/dist-packages/albumentations/core/composition.py:250: UserWarning: Got processor for keypoints, but no transform to process it.\n",
            "  self._set_keys()\n",
            "/usr/local/lib/python3.11/dist-packages/albumentations/core/composition.py:250: UserWarning: Got processor for keypoints, but no transform to process it.\n",
            "  self._set_keys()\n",
            "/usr/local/lib/python3.11/dist-packages/albumentations/core/composition.py:250: UserWarning: Got processor for keypoints, but no transform to process it.\n",
            "  self._set_keys()\n",
            "/usr/local/lib/python3.11/dist-packages/albumentations/core/composition.py:250: UserWarning: Got processor for keypoints, but no transform to process it.\n",
            "  self._set_keys()\n",
            "/usr/local/lib/python3.11/dist-packages/albumentations/core/composition.py:250: UserWarning: Got processor for keypoints, but no transform to process it.\n",
            "  self._set_keys()\n",
            "/usr/local/lib/python3.11/dist-packages/albumentations/core/composition.py:250: UserWarning: Got processor for keypoints, but no transform to process it.\n",
            "  self._set_keys()\n",
            "/usr/local/lib/python3.11/dist-packages/albumentations/core/composition.py:250: UserWarning: Got processor for keypoints, but no transform to process it.\n",
            "  self._set_keys()\n",
            "/usr/local/lib/python3.11/dist-packages/albumentations/core/composition.py:250: UserWarning: Got processor for keypoints, but no transform to process it.\n",
            "  self._set_keys()\n",
            "INFO:20250408_validation:[VALIDATION] - Epoch: [1] [341/532] eta: 0:00:23 n: 1 recall: 0.0 precision: 0.0 f1-score: 0.0 MAE: 1.0 MSE: 1.0 RMSE: 1.0 time: 0.1356 data: 0.0127 max mem: 14747\n",
            "/usr/local/lib/python3.11/dist-packages/albumentations/core/composition.py:250: UserWarning: Got processor for keypoints, but no transform to process it.\n",
            "  self._set_keys()\n"
          ]
        },
        {
          "output_type": "stream",
          "name": "stdout",
          "text": [
            "[VALIDATION] - Epoch: [1] [341/532] eta: 0:00:23 n: 1 recall: 0.0 precision: 0.0 f1-score: 0.0 MAE: 1.0 MSE: 1.0 RMSE: 1.0 time: 0.1356 data: 0.0127 max mem: 14747\n"
          ]
        },
        {
          "output_type": "stream",
          "name": "stderr",
          "text": [
            "/usr/local/lib/python3.11/dist-packages/albumentations/core/composition.py:250: UserWarning: Got processor for keypoints, but no transform to process it.\n",
            "  self._set_keys()\n",
            "/usr/local/lib/python3.11/dist-packages/albumentations/core/composition.py:250: UserWarning: Got processor for keypoints, but no transform to process it.\n",
            "  self._set_keys()\n",
            "/usr/local/lib/python3.11/dist-packages/albumentations/core/composition.py:250: UserWarning: Got processor for keypoints, but no transform to process it.\n",
            "  self._set_keys()\n",
            "/usr/local/lib/python3.11/dist-packages/albumentations/core/composition.py:250: UserWarning: Got processor for keypoints, but no transform to process it.\n",
            "  self._set_keys()\n",
            "/usr/local/lib/python3.11/dist-packages/albumentations/core/composition.py:250: UserWarning: Got processor for keypoints, but no transform to process it.\n",
            "  self._set_keys()\n",
            "/usr/local/lib/python3.11/dist-packages/albumentations/core/composition.py:250: UserWarning: Got processor for keypoints, but no transform to process it.\n",
            "  self._set_keys()\n",
            "/usr/local/lib/python3.11/dist-packages/albumentations/core/composition.py:250: UserWarning: Got processor for keypoints, but no transform to process it.\n",
            "  self._set_keys()\n",
            "/usr/local/lib/python3.11/dist-packages/albumentations/core/composition.py:250: UserWarning: Got processor for keypoints, but no transform to process it.\n",
            "  self._set_keys()\n",
            "/usr/local/lib/python3.11/dist-packages/albumentations/core/composition.py:250: UserWarning: Got processor for keypoints, but no transform to process it.\n",
            "  self._set_keys()\n",
            "INFO:20250408_validation:[VALIDATION] - Epoch: [1] [351/532] eta: 0:00:22 n: 1 recall: 1.0 precision: 0.17 f1-score: 0.29 MAE: 5.0 MSE: 25.0 RMSE: 5.0 time: 0.1234 data: 0.0102 max mem: 14747\n",
            "/usr/local/lib/python3.11/dist-packages/albumentations/core/composition.py:250: UserWarning: Got processor for keypoints, but no transform to process it.\n",
            "  self._set_keys()\n"
          ]
        },
        {
          "output_type": "stream",
          "name": "stdout",
          "text": [
            "[VALIDATION] - Epoch: [1] [351/532] eta: 0:00:22 n: 1 recall: 1.0 precision: 0.17 f1-score: 0.29 MAE: 5.0 MSE: 25.0 RMSE: 5.0 time: 0.1234 data: 0.0102 max mem: 14747\n"
          ]
        },
        {
          "output_type": "stream",
          "name": "stderr",
          "text": [
            "/usr/local/lib/python3.11/dist-packages/albumentations/core/composition.py:250: UserWarning: Got processor for keypoints, but no transform to process it.\n",
            "  self._set_keys()\n",
            "/usr/local/lib/python3.11/dist-packages/albumentations/core/composition.py:250: UserWarning: Got processor for keypoints, but no transform to process it.\n",
            "  self._set_keys()\n",
            "/usr/local/lib/python3.11/dist-packages/albumentations/core/composition.py:250: UserWarning: Got processor for keypoints, but no transform to process it.\n",
            "  self._set_keys()\n",
            "/usr/local/lib/python3.11/dist-packages/albumentations/core/composition.py:250: UserWarning: Got processor for keypoints, but no transform to process it.\n",
            "  self._set_keys()\n",
            "/usr/local/lib/python3.11/dist-packages/albumentations/core/composition.py:250: UserWarning: Got processor for keypoints, but no transform to process it.\n",
            "  self._set_keys()\n",
            "/usr/local/lib/python3.11/dist-packages/albumentations/core/composition.py:250: UserWarning: Got processor for keypoints, but no transform to process it.\n",
            "  self._set_keys()\n",
            "/usr/local/lib/python3.11/dist-packages/albumentations/core/composition.py:250: UserWarning: Got processor for keypoints, but no transform to process it.\n",
            "  self._set_keys()\n",
            "/usr/local/lib/python3.11/dist-packages/albumentations/core/composition.py:250: UserWarning: Got processor for keypoints, but no transform to process it.\n",
            "  self._set_keys()\n",
            "/usr/local/lib/python3.11/dist-packages/albumentations/core/composition.py:250: UserWarning: Got processor for keypoints, but no transform to process it.\n",
            "  self._set_keys()\n",
            "INFO:20250408_validation:[VALIDATION] - Epoch: [1] [361/532] eta: 0:00:21 n: 3 recall: 0.67 precision: 0.17 f1-score: 0.27 MAE: 9.0 MSE: 81.0 RMSE: 9.0 time: 0.1144 data: 0.0088 max mem: 14747\n",
            "/usr/local/lib/python3.11/dist-packages/albumentations/core/composition.py:250: UserWarning: Got processor for keypoints, but no transform to process it.\n",
            "  self._set_keys()\n"
          ]
        },
        {
          "output_type": "stream",
          "name": "stdout",
          "text": [
            "[VALIDATION] - Epoch: [1] [361/532] eta: 0:00:21 n: 3 recall: 0.67 precision: 0.17 f1-score: 0.27 MAE: 9.0 MSE: 81.0 RMSE: 9.0 time: 0.1144 data: 0.0088 max mem: 14747\n"
          ]
        },
        {
          "output_type": "stream",
          "name": "stderr",
          "text": [
            "/usr/local/lib/python3.11/dist-packages/albumentations/core/composition.py:250: UserWarning: Got processor for keypoints, but no transform to process it.\n",
            "  self._set_keys()\n",
            "/usr/local/lib/python3.11/dist-packages/albumentations/core/composition.py:250: UserWarning: Got processor for keypoints, but no transform to process it.\n",
            "  self._set_keys()\n",
            "/usr/local/lib/python3.11/dist-packages/albumentations/core/composition.py:250: UserWarning: Got processor for keypoints, but no transform to process it.\n",
            "  self._set_keys()\n",
            "/usr/local/lib/python3.11/dist-packages/albumentations/core/composition.py:250: UserWarning: Got processor for keypoints, but no transform to process it.\n",
            "  self._set_keys()\n",
            "/usr/local/lib/python3.11/dist-packages/albumentations/core/composition.py:250: UserWarning: Got processor for keypoints, but no transform to process it.\n",
            "  self._set_keys()\n",
            "/usr/local/lib/python3.11/dist-packages/albumentations/core/composition.py:250: UserWarning: Got processor for keypoints, but no transform to process it.\n",
            "  self._set_keys()\n",
            "/usr/local/lib/python3.11/dist-packages/albumentations/core/composition.py:250: UserWarning: Got processor for keypoints, but no transform to process it.\n",
            "  self._set_keys()\n",
            "/usr/local/lib/python3.11/dist-packages/albumentations/core/composition.py:250: UserWarning: Got processor for keypoints, but no transform to process it.\n",
            "  self._set_keys()\n",
            "/usr/local/lib/python3.11/dist-packages/albumentations/core/composition.py:250: UserWarning: Got processor for keypoints, but no transform to process it.\n",
            "  self._set_keys()\n",
            "INFO:20250408_validation:[VALIDATION] - Epoch: [1] [371/532] eta: 0:00:20 n: 2 recall: 1.0 precision: 0.22 f1-score: 0.36 MAE: 7.0 MSE: 49.0 RMSE: 7.0 time: 0.1148 data: 0.0087 max mem: 14747\n",
            "/usr/local/lib/python3.11/dist-packages/albumentations/core/composition.py:250: UserWarning: Got processor for keypoints, but no transform to process it.\n",
            "  self._set_keys()\n"
          ]
        },
        {
          "output_type": "stream",
          "name": "stdout",
          "text": [
            "[VALIDATION] - Epoch: [1] [371/532] eta: 0:00:20 n: 2 recall: 1.0 precision: 0.22 f1-score: 0.36 MAE: 7.0 MSE: 49.0 RMSE: 7.0 time: 0.1148 data: 0.0087 max mem: 14747\n"
          ]
        },
        {
          "output_type": "stream",
          "name": "stderr",
          "text": [
            "/usr/local/lib/python3.11/dist-packages/albumentations/core/composition.py:250: UserWarning: Got processor for keypoints, but no transform to process it.\n",
            "  self._set_keys()\n",
            "/usr/local/lib/python3.11/dist-packages/albumentations/core/composition.py:250: UserWarning: Got processor for keypoints, but no transform to process it.\n",
            "  self._set_keys()\n",
            "/usr/local/lib/python3.11/dist-packages/albumentations/core/composition.py:250: UserWarning: Got processor for keypoints, but no transform to process it.\n",
            "  self._set_keys()\n",
            "/usr/local/lib/python3.11/dist-packages/albumentations/core/composition.py:250: UserWarning: Got processor for keypoints, but no transform to process it.\n",
            "  self._set_keys()\n",
            "/usr/local/lib/python3.11/dist-packages/albumentations/core/composition.py:250: UserWarning: Got processor for keypoints, but no transform to process it.\n",
            "  self._set_keys()\n",
            "/usr/local/lib/python3.11/dist-packages/albumentations/core/composition.py:250: UserWarning: Got processor for keypoints, but no transform to process it.\n",
            "  self._set_keys()\n",
            "/usr/local/lib/python3.11/dist-packages/albumentations/core/composition.py:250: UserWarning: Got processor for keypoints, but no transform to process it.\n",
            "  self._set_keys()\n",
            "/usr/local/lib/python3.11/dist-packages/albumentations/core/composition.py:250: UserWarning: Got processor for keypoints, but no transform to process it.\n",
            "  self._set_keys()\n",
            "/usr/local/lib/python3.11/dist-packages/albumentations/core/composition.py:250: UserWarning: Got processor for keypoints, but no transform to process it.\n",
            "  self._set_keys()\n",
            "INFO:20250408_validation:[VALIDATION] - Epoch: [1] [381/532] eta: 0:00:18 n: 2 recall: 1.0 precision: 0.4 f1-score: 0.57 MAE: 3.0 MSE: 9.0 RMSE: 3.0 time: 0.1147 data: 0.0086 max mem: 14747\n",
            "/usr/local/lib/python3.11/dist-packages/albumentations/core/composition.py:250: UserWarning: Got processor for keypoints, but no transform to process it.\n",
            "  self._set_keys()\n"
          ]
        },
        {
          "output_type": "stream",
          "name": "stdout",
          "text": [
            "[VALIDATION] - Epoch: [1] [381/532] eta: 0:00:18 n: 2 recall: 1.0 precision: 0.4 f1-score: 0.57 MAE: 3.0 MSE: 9.0 RMSE: 3.0 time: 0.1147 data: 0.0086 max mem: 14747\n"
          ]
        },
        {
          "output_type": "stream",
          "name": "stderr",
          "text": [
            "/usr/local/lib/python3.11/dist-packages/albumentations/core/composition.py:250: UserWarning: Got processor for keypoints, but no transform to process it.\n",
            "  self._set_keys()\n",
            "/usr/local/lib/python3.11/dist-packages/albumentations/core/composition.py:250: UserWarning: Got processor for keypoints, but no transform to process it.\n",
            "  self._set_keys()\n",
            "/usr/local/lib/python3.11/dist-packages/albumentations/core/composition.py:250: UserWarning: Got processor for keypoints, but no transform to process it.\n",
            "  self._set_keys()\n",
            "/usr/local/lib/python3.11/dist-packages/albumentations/core/composition.py:250: UserWarning: Got processor for keypoints, but no transform to process it.\n",
            "  self._set_keys()\n",
            "/usr/local/lib/python3.11/dist-packages/albumentations/core/composition.py:250: UserWarning: Got processor for keypoints, but no transform to process it.\n",
            "  self._set_keys()\n",
            "/usr/local/lib/python3.11/dist-packages/albumentations/core/composition.py:250: UserWarning: Got processor for keypoints, but no transform to process it.\n",
            "  self._set_keys()\n",
            "/usr/local/lib/python3.11/dist-packages/albumentations/core/composition.py:250: UserWarning: Got processor for keypoints, but no transform to process it.\n",
            "  self._set_keys()\n",
            "/usr/local/lib/python3.11/dist-packages/albumentations/core/composition.py:250: UserWarning: Got processor for keypoints, but no transform to process it.\n",
            "  self._set_keys()\n",
            "/usr/local/lib/python3.11/dist-packages/albumentations/core/composition.py:250: UserWarning: Got processor for keypoints, but no transform to process it.\n",
            "  self._set_keys()\n",
            "INFO:20250408_validation:[VALIDATION] - Epoch: [1] [391/532] eta: 0:00:17 n: 1 recall: 1.0 precision: 0.1 f1-score: 0.18 MAE: 9.0 MSE: 81.0 RMSE: 9.0 time: 0.1146 data: 0.0087 max mem: 14747\n",
            "/usr/local/lib/python3.11/dist-packages/albumentations/core/composition.py:250: UserWarning: Got processor for keypoints, but no transform to process it.\n",
            "  self._set_keys()\n"
          ]
        },
        {
          "output_type": "stream",
          "name": "stdout",
          "text": [
            "[VALIDATION] - Epoch: [1] [391/532] eta: 0:00:17 n: 1 recall: 1.0 precision: 0.1 f1-score: 0.18 MAE: 9.0 MSE: 81.0 RMSE: 9.0 time: 0.1146 data: 0.0087 max mem: 14747\n"
          ]
        },
        {
          "output_type": "stream",
          "name": "stderr",
          "text": [
            "/usr/local/lib/python3.11/dist-packages/albumentations/core/composition.py:250: UserWarning: Got processor for keypoints, but no transform to process it.\n",
            "  self._set_keys()\n",
            "/usr/local/lib/python3.11/dist-packages/albumentations/core/composition.py:250: UserWarning: Got processor for keypoints, but no transform to process it.\n",
            "  self._set_keys()\n",
            "/usr/local/lib/python3.11/dist-packages/albumentations/core/composition.py:250: UserWarning: Got processor for keypoints, but no transform to process it.\n",
            "  self._set_keys()\n",
            "/usr/local/lib/python3.11/dist-packages/albumentations/core/composition.py:250: UserWarning: Got processor for keypoints, but no transform to process it.\n",
            "  self._set_keys()\n",
            "/usr/local/lib/python3.11/dist-packages/albumentations/core/composition.py:250: UserWarning: Got processor for keypoints, but no transform to process it.\n",
            "  self._set_keys()\n",
            "/usr/local/lib/python3.11/dist-packages/albumentations/core/composition.py:250: UserWarning: Got processor for keypoints, but no transform to process it.\n",
            "  self._set_keys()\n",
            "/usr/local/lib/python3.11/dist-packages/albumentations/core/composition.py:250: UserWarning: Got processor for keypoints, but no transform to process it.\n",
            "  self._set_keys()\n",
            "/usr/local/lib/python3.11/dist-packages/albumentations/core/composition.py:250: UserWarning: Got processor for keypoints, but no transform to process it.\n",
            "  self._set_keys()\n",
            "/usr/local/lib/python3.11/dist-packages/albumentations/core/composition.py:250: UserWarning: Got processor for keypoints, but no transform to process it.\n",
            "  self._set_keys()\n",
            "INFO:20250408_validation:[VALIDATION] - Epoch: [1] [401/532] eta: 0:00:16 n: 2 recall: 1.0 precision: 0.4 f1-score: 0.57 MAE: 3.0 MSE: 9.0 RMSE: 3.0 time: 0.1148 data: 0.0089 max mem: 14747\n",
            "/usr/local/lib/python3.11/dist-packages/albumentations/core/composition.py:250: UserWarning: Got processor for keypoints, but no transform to process it.\n",
            "  self._set_keys()\n"
          ]
        },
        {
          "output_type": "stream",
          "name": "stdout",
          "text": [
            "[VALIDATION] - Epoch: [1] [401/532] eta: 0:00:16 n: 2 recall: 1.0 precision: 0.4 f1-score: 0.57 MAE: 3.0 MSE: 9.0 RMSE: 3.0 time: 0.1148 data: 0.0089 max mem: 14747\n"
          ]
        },
        {
          "output_type": "stream",
          "name": "stderr",
          "text": [
            "/usr/local/lib/python3.11/dist-packages/albumentations/core/composition.py:250: UserWarning: Got processor for keypoints, but no transform to process it.\n",
            "  self._set_keys()\n",
            "/usr/local/lib/python3.11/dist-packages/albumentations/core/composition.py:250: UserWarning: Got processor for keypoints, but no transform to process it.\n",
            "  self._set_keys()\n",
            "/usr/local/lib/python3.11/dist-packages/albumentations/core/composition.py:250: UserWarning: Got processor for keypoints, but no transform to process it.\n",
            "  self._set_keys()\n",
            "/usr/local/lib/python3.11/dist-packages/albumentations/core/composition.py:250: UserWarning: Got processor for keypoints, but no transform to process it.\n",
            "  self._set_keys()\n",
            "/usr/local/lib/python3.11/dist-packages/albumentations/core/composition.py:250: UserWarning: Got processor for keypoints, but no transform to process it.\n",
            "  self._set_keys()\n",
            "/usr/local/lib/python3.11/dist-packages/albumentations/core/composition.py:250: UserWarning: Got processor for keypoints, but no transform to process it.\n",
            "  self._set_keys()\n",
            "/usr/local/lib/python3.11/dist-packages/albumentations/core/composition.py:250: UserWarning: Got processor for keypoints, but no transform to process it.\n",
            "  self._set_keys()\n",
            "/usr/local/lib/python3.11/dist-packages/albumentations/core/composition.py:250: UserWarning: Got processor for keypoints, but no transform to process it.\n",
            "  self._set_keys()\n",
            "/usr/local/lib/python3.11/dist-packages/albumentations/core/composition.py:250: UserWarning: Got processor for keypoints, but no transform to process it.\n",
            "  self._set_keys()\n",
            "INFO:20250408_validation:[VALIDATION] - Epoch: [1] [411/532] eta: 0:00:14 n: 1 recall: 0.0 precision: 0.0 f1-score: 0.0 MAE: 1.0 MSE: 1.0 RMSE: 1.0 time: 0.1145 data: 0.0090 max mem: 14747\n",
            "/usr/local/lib/python3.11/dist-packages/albumentations/core/composition.py:250: UserWarning: Got processor for keypoints, but no transform to process it.\n",
            "  self._set_keys()\n"
          ]
        },
        {
          "output_type": "stream",
          "name": "stdout",
          "text": [
            "[VALIDATION] - Epoch: [1] [411/532] eta: 0:00:14 n: 1 recall: 0.0 precision: 0.0 f1-score: 0.0 MAE: 1.0 MSE: 1.0 RMSE: 1.0 time: 0.1145 data: 0.0090 max mem: 14747\n"
          ]
        },
        {
          "output_type": "stream",
          "name": "stderr",
          "text": [
            "/usr/local/lib/python3.11/dist-packages/albumentations/core/composition.py:250: UserWarning: Got processor for keypoints, but no transform to process it.\n",
            "  self._set_keys()\n",
            "/usr/local/lib/python3.11/dist-packages/albumentations/core/composition.py:250: UserWarning: Got processor for keypoints, but no transform to process it.\n",
            "  self._set_keys()\n",
            "/usr/local/lib/python3.11/dist-packages/albumentations/core/composition.py:250: UserWarning: Got processor for keypoints, but no transform to process it.\n",
            "  self._set_keys()\n",
            "/usr/local/lib/python3.11/dist-packages/albumentations/core/composition.py:250: UserWarning: Got processor for keypoints, but no transform to process it.\n",
            "  self._set_keys()\n",
            "/usr/local/lib/python3.11/dist-packages/albumentations/core/composition.py:250: UserWarning: Got processor for keypoints, but no transform to process it.\n",
            "  self._set_keys()\n",
            "/usr/local/lib/python3.11/dist-packages/albumentations/core/composition.py:250: UserWarning: Got processor for keypoints, but no transform to process it.\n",
            "  self._set_keys()\n",
            "/usr/local/lib/python3.11/dist-packages/albumentations/core/composition.py:250: UserWarning: Got processor for keypoints, but no transform to process it.\n",
            "  self._set_keys()\n",
            "/usr/local/lib/python3.11/dist-packages/albumentations/core/composition.py:250: UserWarning: Got processor for keypoints, but no transform to process it.\n",
            "  self._set_keys()\n",
            "/usr/local/lib/python3.11/dist-packages/albumentations/core/composition.py:250: UserWarning: Got processor for keypoints, but no transform to process it.\n",
            "  self._set_keys()\n",
            "INFO:20250408_validation:[VALIDATION] - Epoch: [1] [421/532] eta: 0:00:13 n: 1 recall: 1.0 precision: 0.17 f1-score: 0.29 MAE: 5.0 MSE: 25.0 RMSE: 5.0 time: 0.1148 data: 0.0090 max mem: 14747\n",
            "/usr/local/lib/python3.11/dist-packages/albumentations/core/composition.py:250: UserWarning: Got processor for keypoints, but no transform to process it.\n",
            "  self._set_keys()\n"
          ]
        },
        {
          "output_type": "stream",
          "name": "stdout",
          "text": [
            "[VALIDATION] - Epoch: [1] [421/532] eta: 0:00:13 n: 1 recall: 1.0 precision: 0.17 f1-score: 0.29 MAE: 5.0 MSE: 25.0 RMSE: 5.0 time: 0.1148 data: 0.0090 max mem: 14747\n"
          ]
        },
        {
          "output_type": "stream",
          "name": "stderr",
          "text": [
            "/usr/local/lib/python3.11/dist-packages/albumentations/core/composition.py:250: UserWarning: Got processor for keypoints, but no transform to process it.\n",
            "  self._set_keys()\n",
            "/usr/local/lib/python3.11/dist-packages/albumentations/core/composition.py:250: UserWarning: Got processor for keypoints, but no transform to process it.\n",
            "  self._set_keys()\n",
            "/usr/local/lib/python3.11/dist-packages/albumentations/core/composition.py:250: UserWarning: Got processor for keypoints, but no transform to process it.\n",
            "  self._set_keys()\n",
            "/usr/local/lib/python3.11/dist-packages/albumentations/core/composition.py:250: UserWarning: Got processor for keypoints, but no transform to process it.\n",
            "  self._set_keys()\n",
            "/usr/local/lib/python3.11/dist-packages/albumentations/core/composition.py:250: UserWarning: Got processor for keypoints, but no transform to process it.\n",
            "  self._set_keys()\n",
            "/usr/local/lib/python3.11/dist-packages/albumentations/core/composition.py:250: UserWarning: Got processor for keypoints, but no transform to process it.\n",
            "  self._set_keys()\n",
            "/usr/local/lib/python3.11/dist-packages/albumentations/core/composition.py:250: UserWarning: Got processor for keypoints, but no transform to process it.\n",
            "  self._set_keys()\n",
            "/usr/local/lib/python3.11/dist-packages/albumentations/core/composition.py:250: UserWarning: Got processor for keypoints, but no transform to process it.\n",
            "  self._set_keys()\n",
            "/usr/local/lib/python3.11/dist-packages/albumentations/core/composition.py:250: UserWarning: Got processor for keypoints, but no transform to process it.\n",
            "  self._set_keys()\n",
            "INFO:20250408_validation:[VALIDATION] - Epoch: [1] [431/532] eta: 0:00:12 n: 2 recall: 1.0 precision: 0.4 f1-score: 0.57 MAE: 3.0 MSE: 9.0 RMSE: 3.0 time: 0.1250 data: 0.0104 max mem: 14747\n",
            "/usr/local/lib/python3.11/dist-packages/albumentations/core/composition.py:250: UserWarning: Got processor for keypoints, but no transform to process it.\n",
            "  self._set_keys()\n"
          ]
        },
        {
          "output_type": "stream",
          "name": "stdout",
          "text": [
            "[VALIDATION] - Epoch: [1] [431/532] eta: 0:00:12 n: 2 recall: 1.0 precision: 0.4 f1-score: 0.57 MAE: 3.0 MSE: 9.0 RMSE: 3.0 time: 0.1250 data: 0.0104 max mem: 14747\n"
          ]
        },
        {
          "output_type": "stream",
          "name": "stderr",
          "text": [
            "/usr/local/lib/python3.11/dist-packages/albumentations/core/composition.py:250: UserWarning: Got processor for keypoints, but no transform to process it.\n",
            "  self._set_keys()\n",
            "/usr/local/lib/python3.11/dist-packages/albumentations/core/composition.py:250: UserWarning: Got processor for keypoints, but no transform to process it.\n",
            "  self._set_keys()\n",
            "/usr/local/lib/python3.11/dist-packages/albumentations/core/composition.py:250: UserWarning: Got processor for keypoints, but no transform to process it.\n",
            "  self._set_keys()\n",
            "/usr/local/lib/python3.11/dist-packages/albumentations/core/composition.py:250: UserWarning: Got processor for keypoints, but no transform to process it.\n",
            "  self._set_keys()\n",
            "/usr/local/lib/python3.11/dist-packages/albumentations/core/composition.py:250: UserWarning: Got processor for keypoints, but no transform to process it.\n",
            "  self._set_keys()\n",
            "/usr/local/lib/python3.11/dist-packages/albumentations/core/composition.py:250: UserWarning: Got processor for keypoints, but no transform to process it.\n",
            "  self._set_keys()\n",
            "/usr/local/lib/python3.11/dist-packages/albumentations/core/composition.py:250: UserWarning: Got processor for keypoints, but no transform to process it.\n",
            "  self._set_keys()\n",
            "/usr/local/lib/python3.11/dist-packages/albumentations/core/composition.py:250: UserWarning: Got processor for keypoints, but no transform to process it.\n",
            "  self._set_keys()\n",
            "/usr/local/lib/python3.11/dist-packages/albumentations/core/composition.py:250: UserWarning: Got processor for keypoints, but no transform to process it.\n",
            "  self._set_keys()\n",
            "INFO:20250408_validation:[VALIDATION] - Epoch: [1] [441/532] eta: 0:00:11 n: 1 recall: 1.0 precision: 0.17 f1-score: 0.29 MAE: 5.0 MSE: 25.0 RMSE: 5.0 time: 0.1393 data: 0.0124 max mem: 14747\n",
            "/usr/local/lib/python3.11/dist-packages/albumentations/core/composition.py:250: UserWarning: Got processor for keypoints, but no transform to process it.\n",
            "  self._set_keys()\n"
          ]
        },
        {
          "output_type": "stream",
          "name": "stdout",
          "text": [
            "[VALIDATION] - Epoch: [1] [441/532] eta: 0:00:11 n: 1 recall: 1.0 precision: 0.17 f1-score: 0.29 MAE: 5.0 MSE: 25.0 RMSE: 5.0 time: 0.1393 data: 0.0124 max mem: 14747\n"
          ]
        },
        {
          "output_type": "stream",
          "name": "stderr",
          "text": [
            "/usr/local/lib/python3.11/dist-packages/albumentations/core/composition.py:250: UserWarning: Got processor for keypoints, but no transform to process it.\n",
            "  self._set_keys()\n",
            "/usr/local/lib/python3.11/dist-packages/albumentations/core/composition.py:250: UserWarning: Got processor for keypoints, but no transform to process it.\n",
            "  self._set_keys()\n",
            "/usr/local/lib/python3.11/dist-packages/albumentations/core/composition.py:250: UserWarning: Got processor for keypoints, but no transform to process it.\n",
            "  self._set_keys()\n",
            "/usr/local/lib/python3.11/dist-packages/albumentations/core/composition.py:250: UserWarning: Got processor for keypoints, but no transform to process it.\n",
            "  self._set_keys()\n",
            "/usr/local/lib/python3.11/dist-packages/albumentations/core/composition.py:250: UserWarning: Got processor for keypoints, but no transform to process it.\n",
            "  self._set_keys()\n",
            "/usr/local/lib/python3.11/dist-packages/albumentations/core/composition.py:250: UserWarning: Got processor for keypoints, but no transform to process it.\n",
            "  self._set_keys()\n",
            "/usr/local/lib/python3.11/dist-packages/albumentations/core/composition.py:250: UserWarning: Got processor for keypoints, but no transform to process it.\n",
            "  self._set_keys()\n",
            "/usr/local/lib/python3.11/dist-packages/albumentations/core/composition.py:250: UserWarning: Got processor for keypoints, but no transform to process it.\n",
            "  self._set_keys()\n",
            "/usr/local/lib/python3.11/dist-packages/albumentations/core/composition.py:250: UserWarning: Got processor for keypoints, but no transform to process it.\n",
            "  self._set_keys()\n",
            "INFO:20250408_validation:[VALIDATION] - Epoch: [1] [451/532] eta: 0:00:10 n: 1 recall: 1.0 precision: 0.33 f1-score: 0.5 MAE: 2.0 MSE: 4.0 RMSE: 2.0 time: 0.1394 data: 0.0119 max mem: 14747\n",
            "/usr/local/lib/python3.11/dist-packages/albumentations/core/composition.py:250: UserWarning: Got processor for keypoints, but no transform to process it.\n",
            "  self._set_keys()\n"
          ]
        },
        {
          "output_type": "stream",
          "name": "stdout",
          "text": [
            "[VALIDATION] - Epoch: [1] [451/532] eta: 0:00:10 n: 1 recall: 1.0 precision: 0.33 f1-score: 0.5 MAE: 2.0 MSE: 4.0 RMSE: 2.0 time: 0.1394 data: 0.0119 max mem: 14747\n"
          ]
        },
        {
          "output_type": "stream",
          "name": "stderr",
          "text": [
            "/usr/local/lib/python3.11/dist-packages/albumentations/core/composition.py:250: UserWarning: Got processor for keypoints, but no transform to process it.\n",
            "  self._set_keys()\n",
            "/usr/local/lib/python3.11/dist-packages/albumentations/core/composition.py:250: UserWarning: Got processor for keypoints, but no transform to process it.\n",
            "  self._set_keys()\n",
            "/usr/local/lib/python3.11/dist-packages/albumentations/core/composition.py:250: UserWarning: Got processor for keypoints, but no transform to process it.\n",
            "  self._set_keys()\n",
            "/usr/local/lib/python3.11/dist-packages/albumentations/core/composition.py:250: UserWarning: Got processor for keypoints, but no transform to process it.\n",
            "  self._set_keys()\n",
            "/usr/local/lib/python3.11/dist-packages/albumentations/core/composition.py:250: UserWarning: Got processor for keypoints, but no transform to process it.\n",
            "  self._set_keys()\n",
            "/usr/local/lib/python3.11/dist-packages/albumentations/core/composition.py:250: UserWarning: Got processor for keypoints, but no transform to process it.\n",
            "  self._set_keys()\n",
            "/usr/local/lib/python3.11/dist-packages/albumentations/core/composition.py:250: UserWarning: Got processor for keypoints, but no transform to process it.\n",
            "  self._set_keys()\n",
            "/usr/local/lib/python3.11/dist-packages/albumentations/core/composition.py:250: UserWarning: Got processor for keypoints, but no transform to process it.\n",
            "  self._set_keys()\n",
            "/usr/local/lib/python3.11/dist-packages/albumentations/core/composition.py:250: UserWarning: Got processor for keypoints, but no transform to process it.\n",
            "  self._set_keys()\n",
            "INFO:20250408_validation:[VALIDATION] - Epoch: [1] [461/532] eta: 0:00:08 n: 2 recall: 1.0 precision: 0.4 f1-score: 0.57 MAE: 3.0 MSE: 9.0 RMSE: 3.0 time: 0.1254 data: 0.0100 max mem: 14747\n",
            "/usr/local/lib/python3.11/dist-packages/albumentations/core/composition.py:250: UserWarning: Got processor for keypoints, but no transform to process it.\n",
            "  self._set_keys()\n"
          ]
        },
        {
          "output_type": "stream",
          "name": "stdout",
          "text": [
            "[VALIDATION] - Epoch: [1] [461/532] eta: 0:00:08 n: 2 recall: 1.0 precision: 0.4 f1-score: 0.57 MAE: 3.0 MSE: 9.0 RMSE: 3.0 time: 0.1254 data: 0.0100 max mem: 14747\n"
          ]
        },
        {
          "output_type": "stream",
          "name": "stderr",
          "text": [
            "/usr/local/lib/python3.11/dist-packages/albumentations/core/composition.py:250: UserWarning: Got processor for keypoints, but no transform to process it.\n",
            "  self._set_keys()\n",
            "/usr/local/lib/python3.11/dist-packages/albumentations/core/composition.py:250: UserWarning: Got processor for keypoints, but no transform to process it.\n",
            "  self._set_keys()\n",
            "/usr/local/lib/python3.11/dist-packages/albumentations/core/composition.py:250: UserWarning: Got processor for keypoints, but no transform to process it.\n",
            "  self._set_keys()\n",
            "/usr/local/lib/python3.11/dist-packages/albumentations/core/composition.py:250: UserWarning: Got processor for keypoints, but no transform to process it.\n",
            "  self._set_keys()\n",
            "/usr/local/lib/python3.11/dist-packages/albumentations/core/composition.py:250: UserWarning: Got processor for keypoints, but no transform to process it.\n",
            "  self._set_keys()\n",
            "/usr/local/lib/python3.11/dist-packages/albumentations/core/composition.py:250: UserWarning: Got processor for keypoints, but no transform to process it.\n",
            "  self._set_keys()\n",
            "/usr/local/lib/python3.11/dist-packages/albumentations/core/composition.py:250: UserWarning: Got processor for keypoints, but no transform to process it.\n",
            "  self._set_keys()\n",
            "/usr/local/lib/python3.11/dist-packages/albumentations/core/composition.py:250: UserWarning: Got processor for keypoints, but no transform to process it.\n",
            "  self._set_keys()\n",
            "/usr/local/lib/python3.11/dist-packages/albumentations/core/composition.py:250: UserWarning: Got processor for keypoints, but no transform to process it.\n",
            "  self._set_keys()\n",
            "INFO:20250408_validation:[VALIDATION] - Epoch: [1] [471/532] eta: 0:00:07 n: 1 recall: 0.0 precision: 0.0 f1-score: 0.0 MAE: 1.0 MSE: 1.0 RMSE: 1.0 time: 0.1161 data: 0.0091 max mem: 14747\n",
            "/usr/local/lib/python3.11/dist-packages/albumentations/core/composition.py:250: UserWarning: Got processor for keypoints, but no transform to process it.\n",
            "  self._set_keys()\n"
          ]
        },
        {
          "output_type": "stream",
          "name": "stdout",
          "text": [
            "[VALIDATION] - Epoch: [1] [471/532] eta: 0:00:07 n: 1 recall: 0.0 precision: 0.0 f1-score: 0.0 MAE: 1.0 MSE: 1.0 RMSE: 1.0 time: 0.1161 data: 0.0091 max mem: 14747\n"
          ]
        },
        {
          "output_type": "stream",
          "name": "stderr",
          "text": [
            "/usr/local/lib/python3.11/dist-packages/albumentations/core/composition.py:250: UserWarning: Got processor for keypoints, but no transform to process it.\n",
            "  self._set_keys()\n",
            "/usr/local/lib/python3.11/dist-packages/albumentations/core/composition.py:250: UserWarning: Got processor for keypoints, but no transform to process it.\n",
            "  self._set_keys()\n",
            "/usr/local/lib/python3.11/dist-packages/albumentations/core/composition.py:250: UserWarning: Got processor for keypoints, but no transform to process it.\n",
            "  self._set_keys()\n",
            "/usr/local/lib/python3.11/dist-packages/albumentations/core/composition.py:250: UserWarning: Got processor for keypoints, but no transform to process it.\n",
            "  self._set_keys()\n",
            "/usr/local/lib/python3.11/dist-packages/albumentations/core/composition.py:250: UserWarning: Got processor for keypoints, but no transform to process it.\n",
            "  self._set_keys()\n",
            "/usr/local/lib/python3.11/dist-packages/albumentations/core/composition.py:250: UserWarning: Got processor for keypoints, but no transform to process it.\n",
            "  self._set_keys()\n",
            "/usr/local/lib/python3.11/dist-packages/albumentations/core/composition.py:250: UserWarning: Got processor for keypoints, but no transform to process it.\n",
            "  self._set_keys()\n",
            "/usr/local/lib/python3.11/dist-packages/albumentations/core/composition.py:250: UserWarning: Got processor for keypoints, but no transform to process it.\n",
            "  self._set_keys()\n",
            "/usr/local/lib/python3.11/dist-packages/albumentations/core/composition.py:250: UserWarning: Got processor for keypoints, but no transform to process it.\n",
            "  self._set_keys()\n",
            "INFO:20250408_validation:[VALIDATION] - Epoch: [1] [481/532] eta: 0:00:06 n: 1 recall: 0.0 precision: 0.0 f1-score: 0.0 MAE: 1.0 MSE: 1.0 RMSE: 1.0 time: 0.1149 data: 0.0090 max mem: 14747\n",
            "/usr/local/lib/python3.11/dist-packages/albumentations/core/composition.py:250: UserWarning: Got processor for keypoints, but no transform to process it.\n",
            "  self._set_keys()\n"
          ]
        },
        {
          "output_type": "stream",
          "name": "stdout",
          "text": [
            "[VALIDATION] - Epoch: [1] [481/532] eta: 0:00:06 n: 1 recall: 0.0 precision: 0.0 f1-score: 0.0 MAE: 1.0 MSE: 1.0 RMSE: 1.0 time: 0.1149 data: 0.0090 max mem: 14747\n"
          ]
        },
        {
          "output_type": "stream",
          "name": "stderr",
          "text": [
            "/usr/local/lib/python3.11/dist-packages/albumentations/core/composition.py:250: UserWarning: Got processor for keypoints, but no transform to process it.\n",
            "  self._set_keys()\n",
            "/usr/local/lib/python3.11/dist-packages/albumentations/core/composition.py:250: UserWarning: Got processor for keypoints, but no transform to process it.\n",
            "  self._set_keys()\n",
            "/usr/local/lib/python3.11/dist-packages/albumentations/core/composition.py:250: UserWarning: Got processor for keypoints, but no transform to process it.\n",
            "  self._set_keys()\n",
            "/usr/local/lib/python3.11/dist-packages/albumentations/core/composition.py:250: UserWarning: Got processor for keypoints, but no transform to process it.\n",
            "  self._set_keys()\n",
            "/usr/local/lib/python3.11/dist-packages/albumentations/core/composition.py:250: UserWarning: Got processor for keypoints, but no transform to process it.\n",
            "  self._set_keys()\n",
            "/usr/local/lib/python3.11/dist-packages/albumentations/core/composition.py:250: UserWarning: Got processor for keypoints, but no transform to process it.\n",
            "  self._set_keys()\n",
            "/usr/local/lib/python3.11/dist-packages/albumentations/core/composition.py:250: UserWarning: Got processor for keypoints, but no transform to process it.\n",
            "  self._set_keys()\n",
            "/usr/local/lib/python3.11/dist-packages/albumentations/core/composition.py:250: UserWarning: Got processor for keypoints, but no transform to process it.\n",
            "  self._set_keys()\n",
            "/usr/local/lib/python3.11/dist-packages/albumentations/core/composition.py:250: UserWarning: Got processor for keypoints, but no transform to process it.\n",
            "  self._set_keys()\n",
            "INFO:20250408_validation:[VALIDATION] - Epoch: [1] [491/532] eta: 0:00:05 n: 1 recall: 1.0 precision: 0.17 f1-score: 0.29 MAE: 5.0 MSE: 25.0 RMSE: 5.0 time: 0.1149 data: 0.0089 max mem: 14747\n",
            "/usr/local/lib/python3.11/dist-packages/albumentations/core/composition.py:250: UserWarning: Got processor for keypoints, but no transform to process it.\n",
            "  self._set_keys()\n"
          ]
        },
        {
          "output_type": "stream",
          "name": "stdout",
          "text": [
            "[VALIDATION] - Epoch: [1] [491/532] eta: 0:00:05 n: 1 recall: 1.0 precision: 0.17 f1-score: 0.29 MAE: 5.0 MSE: 25.0 RMSE: 5.0 time: 0.1149 data: 0.0089 max mem: 14747\n"
          ]
        },
        {
          "output_type": "stream",
          "name": "stderr",
          "text": [
            "/usr/local/lib/python3.11/dist-packages/albumentations/core/composition.py:250: UserWarning: Got processor for keypoints, but no transform to process it.\n",
            "  self._set_keys()\n",
            "/usr/local/lib/python3.11/dist-packages/albumentations/core/composition.py:250: UserWarning: Got processor for keypoints, but no transform to process it.\n",
            "  self._set_keys()\n",
            "/usr/local/lib/python3.11/dist-packages/albumentations/core/composition.py:250: UserWarning: Got processor for keypoints, but no transform to process it.\n",
            "  self._set_keys()\n",
            "/usr/local/lib/python3.11/dist-packages/albumentations/core/composition.py:250: UserWarning: Got processor for keypoints, but no transform to process it.\n",
            "  self._set_keys()\n",
            "/usr/local/lib/python3.11/dist-packages/albumentations/core/composition.py:250: UserWarning: Got processor for keypoints, but no transform to process it.\n",
            "  self._set_keys()\n",
            "/usr/local/lib/python3.11/dist-packages/albumentations/core/composition.py:250: UserWarning: Got processor for keypoints, but no transform to process it.\n",
            "  self._set_keys()\n",
            "/usr/local/lib/python3.11/dist-packages/albumentations/core/composition.py:250: UserWarning: Got processor for keypoints, but no transform to process it.\n",
            "  self._set_keys()\n",
            "/usr/local/lib/python3.11/dist-packages/albumentations/core/composition.py:250: UserWarning: Got processor for keypoints, but no transform to process it.\n",
            "  self._set_keys()\n",
            "/usr/local/lib/python3.11/dist-packages/albumentations/core/composition.py:250: UserWarning: Got processor for keypoints, but no transform to process it.\n",
            "  self._set_keys()\n",
            "INFO:20250408_validation:[VALIDATION] - Epoch: [1] [501/532] eta: 0:00:03 n: 3 recall: 1.0 precision: 0.3 f1-score: 0.46 MAE: 7.0 MSE: 49.0 RMSE: 7.0 time: 0.1146 data: 0.0088 max mem: 14747\n",
            "/usr/local/lib/python3.11/dist-packages/albumentations/core/composition.py:250: UserWarning: Got processor for keypoints, but no transform to process it.\n",
            "  self._set_keys()\n"
          ]
        },
        {
          "output_type": "stream",
          "name": "stdout",
          "text": [
            "[VALIDATION] - Epoch: [1] [501/532] eta: 0:00:03 n: 3 recall: 1.0 precision: 0.3 f1-score: 0.46 MAE: 7.0 MSE: 49.0 RMSE: 7.0 time: 0.1146 data: 0.0088 max mem: 14747\n"
          ]
        },
        {
          "output_type": "stream",
          "name": "stderr",
          "text": [
            "/usr/local/lib/python3.11/dist-packages/albumentations/core/composition.py:250: UserWarning: Got processor for keypoints, but no transform to process it.\n",
            "  self._set_keys()\n",
            "/usr/local/lib/python3.11/dist-packages/albumentations/core/composition.py:250: UserWarning: Got processor for keypoints, but no transform to process it.\n",
            "  self._set_keys()\n",
            "/usr/local/lib/python3.11/dist-packages/albumentations/core/composition.py:250: UserWarning: Got processor for keypoints, but no transform to process it.\n",
            "  self._set_keys()\n",
            "/usr/local/lib/python3.11/dist-packages/albumentations/core/composition.py:250: UserWarning: Got processor for keypoints, but no transform to process it.\n",
            "  self._set_keys()\n",
            "/usr/local/lib/python3.11/dist-packages/albumentations/core/composition.py:250: UserWarning: Got processor for keypoints, but no transform to process it.\n",
            "  self._set_keys()\n",
            "/usr/local/lib/python3.11/dist-packages/albumentations/core/composition.py:250: UserWarning: Got processor for keypoints, but no transform to process it.\n",
            "  self._set_keys()\n",
            "/usr/local/lib/python3.11/dist-packages/albumentations/core/composition.py:250: UserWarning: Got processor for keypoints, but no transform to process it.\n",
            "  self._set_keys()\n",
            "/usr/local/lib/python3.11/dist-packages/albumentations/core/composition.py:250: UserWarning: Got processor for keypoints, but no transform to process it.\n",
            "  self._set_keys()\n",
            "/usr/local/lib/python3.11/dist-packages/albumentations/core/composition.py:250: UserWarning: Got processor for keypoints, but no transform to process it.\n",
            "  self._set_keys()\n",
            "INFO:20250408_validation:[VALIDATION] - Epoch: [1] [511/532] eta: 0:00:02 n: 1 recall: 1.0 precision: 0.2 f1-score: 0.33 MAE: 4.0 MSE: 16.0 RMSE: 4.0 time: 0.1141 data: 0.0087 max mem: 14747\n",
            "/usr/local/lib/python3.11/dist-packages/albumentations/core/composition.py:250: UserWarning: Got processor for keypoints, but no transform to process it.\n",
            "  self._set_keys()\n"
          ]
        },
        {
          "output_type": "stream",
          "name": "stdout",
          "text": [
            "[VALIDATION] - Epoch: [1] [511/532] eta: 0:00:02 n: 1 recall: 1.0 precision: 0.2 f1-score: 0.33 MAE: 4.0 MSE: 16.0 RMSE: 4.0 time: 0.1141 data: 0.0087 max mem: 14747\n"
          ]
        },
        {
          "output_type": "stream",
          "name": "stderr",
          "text": [
            "/usr/local/lib/python3.11/dist-packages/albumentations/core/composition.py:250: UserWarning: Got processor for keypoints, but no transform to process it.\n",
            "  self._set_keys()\n",
            "/usr/local/lib/python3.11/dist-packages/albumentations/core/composition.py:250: UserWarning: Got processor for keypoints, but no transform to process it.\n",
            "  self._set_keys()\n",
            "/usr/local/lib/python3.11/dist-packages/albumentations/core/composition.py:250: UserWarning: Got processor for keypoints, but no transform to process it.\n",
            "  self._set_keys()\n",
            "/usr/local/lib/python3.11/dist-packages/albumentations/core/composition.py:250: UserWarning: Got processor for keypoints, but no transform to process it.\n",
            "  self._set_keys()\n",
            "/usr/local/lib/python3.11/dist-packages/albumentations/core/composition.py:250: UserWarning: Got processor for keypoints, but no transform to process it.\n",
            "  self._set_keys()\n",
            "/usr/local/lib/python3.11/dist-packages/albumentations/core/composition.py:250: UserWarning: Got processor for keypoints, but no transform to process it.\n",
            "  self._set_keys()\n",
            "/usr/local/lib/python3.11/dist-packages/albumentations/core/composition.py:250: UserWarning: Got processor for keypoints, but no transform to process it.\n",
            "  self._set_keys()\n",
            "/usr/local/lib/python3.11/dist-packages/albumentations/core/composition.py:250: UserWarning: Got processor for keypoints, but no transform to process it.\n",
            "  self._set_keys()\n",
            "/usr/local/lib/python3.11/dist-packages/albumentations/core/composition.py:250: UserWarning: Got processor for keypoints, but no transform to process it.\n",
            "  self._set_keys()\n",
            "INFO:20250408_validation:[VALIDATION] - Epoch: [1] [521/532] eta: 0:00:01 n: 1 recall: 0.0 precision: 0.0 f1-score: 0.0 MAE: 1.0 MSE: 1.0 RMSE: 1.0 time: 0.1139 data: 0.0086 max mem: 14747\n",
            "/usr/local/lib/python3.11/dist-packages/albumentations/core/composition.py:250: UserWarning: Got processor for keypoints, but no transform to process it.\n",
            "  self._set_keys()\n"
          ]
        },
        {
          "output_type": "stream",
          "name": "stdout",
          "text": [
            "[VALIDATION] - Epoch: [1] [521/532] eta: 0:00:01 n: 1 recall: 0.0 precision: 0.0 f1-score: 0.0 MAE: 1.0 MSE: 1.0 RMSE: 1.0 time: 0.1139 data: 0.0086 max mem: 14747\n"
          ]
        },
        {
          "output_type": "stream",
          "name": "stderr",
          "text": [
            "/usr/local/lib/python3.11/dist-packages/albumentations/core/composition.py:250: UserWarning: Got processor for keypoints, but no transform to process it.\n",
            "  self._set_keys()\n",
            "/usr/local/lib/python3.11/dist-packages/albumentations/core/composition.py:250: UserWarning: Got processor for keypoints, but no transform to process it.\n",
            "  self._set_keys()\n",
            "/usr/local/lib/python3.11/dist-packages/albumentations/core/composition.py:250: UserWarning: Got processor for keypoints, but no transform to process it.\n",
            "  self._set_keys()\n",
            "/usr/local/lib/python3.11/dist-packages/albumentations/core/composition.py:250: UserWarning: Got processor for keypoints, but no transform to process it.\n",
            "  self._set_keys()\n",
            "/usr/local/lib/python3.11/dist-packages/albumentations/core/composition.py:250: UserWarning: Got processor for keypoints, but no transform to process it.\n",
            "  self._set_keys()\n",
            "/usr/local/lib/python3.11/dist-packages/albumentations/core/composition.py:250: UserWarning: Got processor for keypoints, but no transform to process it.\n",
            "  self._set_keys()\n",
            "/usr/local/lib/python3.11/dist-packages/albumentations/core/composition.py:250: UserWarning: Got processor for keypoints, but no transform to process it.\n",
            "  self._set_keys()\n",
            "/usr/local/lib/python3.11/dist-packages/albumentations/core/composition.py:250: UserWarning: Got processor for keypoints, but no transform to process it.\n",
            "  self._set_keys()\n",
            "/usr/local/lib/python3.11/dist-packages/albumentations/core/composition.py:250: UserWarning: Got processor for keypoints, but no transform to process it.\n",
            "  self._set_keys()\n",
            "INFO:20250408_validation:[VALIDATION] - Epoch: [1] [531/532] eta: 0:00:00 n: 1 recall: 0.0 precision: 0.0 f1-score: 0.0 MAE: 1.0 MSE: 1.0 RMSE: 1.0 time: 0.1131 data: 0.0086 max mem: 14747\n",
            "/usr/local/lib/python3.11/dist-packages/albumentations/core/composition.py:250: UserWarning: Got processor for keypoints, but no transform to process it.\n",
            "  self._set_keys()\n",
            "INFO:20250408_validation:[VALIDATION] - Epoch: [1] [532/532] eta: 0:00:00 n: 2 recall: 0.0 precision: 0.0 f1-score: 0.0 MAE: 2.0 MSE: 4.0 RMSE: 2.0 time: 0.1129 data: 0.0086 max mem: 14747\n",
            "INFO:20250408_validation:[VALIDATION] - Epoch: [1] Total time: 0:01:05 (0.1226 s / it)\n"
          ]
        },
        {
          "output_type": "stream",
          "name": "stdout",
          "text": [
            "[VALIDATION] - Epoch: [1] [531/532] eta: 0:00:00 n: 1 recall: 0.0 precision: 0.0 f1-score: 0.0 MAE: 1.0 MSE: 1.0 RMSE: 1.0 time: 0.1131 data: 0.0086 max mem: 14747\n",
            "[VALIDATION] - Epoch: [1] [532/532] eta: 0:00:00 n: 2 recall: 0.0 precision: 0.0 f1-score: 0.0 MAE: 2.0 MSE: 4.0 RMSE: 2.0 time: 0.1129 data: 0.0086 max mem: 14747\n",
            "[VALIDATION] - Epoch: [1] Total time: 0:01:05 (0.1226 s / it)\n",
            "[VALIDATION] - Epoch: [1] f1_score: 0.3483\n",
            "Best model saved - Epoch 1 - Validation value: 0.348272\n"
          ]
        },
        {
          "output_type": "stream",
          "name": "stderr",
          "text": [
            "INFO:20250408_training:[TRAINING] - Epoch: [2] [  1/389] eta: 0:18:51 lr: 0.000100 loss: 1.3016 (3.7914) focal_loss: 0.8605 (3.1014) ce_loss: 0.3846 (0.6900) time: 2.9090 data: 1.5254 max mem: 14747\n"
          ]
        },
        {
          "output_type": "stream",
          "name": "stdout",
          "text": [
            "[TRAINING] - Epoch: [2] [  1/389] eta: 0:18:51 lr: 0.000100 loss: 1.3016 (3.7914) focal_loss: 0.8605 (3.1014) ce_loss: 0.3846 (0.6900) time: 2.9090 data: 1.5254 max mem: 14747\n"
          ]
        },
        {
          "output_type": "stream",
          "name": "stderr",
          "text": [
            "INFO:20250408_training:[TRAINING] - Epoch: [2] [ 51/389] eta: 0:07:27 lr: 0.000100 loss: 1.1931 (3.5089) focal_loss: 0.7863 (2.8489) ce_loss: 0.4236 (0.6599) time: 1.2847 data: 0.0015 max mem: 14747\n"
          ]
        },
        {
          "output_type": "stream",
          "name": "stdout",
          "text": [
            "[TRAINING] - Epoch: [2] [ 51/389] eta: 0:07:27 lr: 0.000100 loss: 1.1931 (3.5089) focal_loss: 0.7863 (2.8489) ce_loss: 0.4236 (0.6599) time: 1.2847 data: 0.0015 max mem: 14747\n"
          ]
        },
        {
          "output_type": "stream",
          "name": "stderr",
          "text": [
            "INFO:20250408_training:[TRAINING] - Epoch: [2] [101/389] eta: 0:06:17 lr: 0.000100 loss: 1.1893 (3.2788) focal_loss: 0.7818 (2.6452) ce_loss: 0.3636 (0.6335) time: 1.2909 data: 0.0016 max mem: 14747\n"
          ]
        },
        {
          "output_type": "stream",
          "name": "stdout",
          "text": [
            "[TRAINING] - Epoch: [2] [101/389] eta: 0:06:17 lr: 0.000100 loss: 1.1893 (3.2788) focal_loss: 0.7818 (2.6452) ce_loss: 0.3636 (0.6335) time: 1.2909 data: 0.0016 max mem: 14747\n"
          ]
        },
        {
          "output_type": "stream",
          "name": "stderr",
          "text": [
            "INFO:20250408_training:[TRAINING] - Epoch: [2] [151/389] eta: 0:05:10 lr: 0.000100 loss: 1.1198 (3.0847) focal_loss: 0.7632 (2.4756) ce_loss: 0.2873 (0.6091) time: 1.2873 data: 0.0015 max mem: 14747\n"
          ]
        },
        {
          "output_type": "stream",
          "name": "stdout",
          "text": [
            "[TRAINING] - Epoch: [2] [151/389] eta: 0:05:10 lr: 0.000100 loss: 1.1198 (3.0847) focal_loss: 0.7632 (2.4756) ce_loss: 0.2873 (0.6091) time: 1.2873 data: 0.0015 max mem: 14747\n"
          ]
        },
        {
          "output_type": "stream",
          "name": "stderr",
          "text": [
            "INFO:20250408_training:[TRAINING] - Epoch: [2] [201/389] eta: 0:04:05 lr: 0.000100 loss: 1.2586 (2.9274) focal_loss: 0.7606 (2.3359) ce_loss: 0.3433 (0.5915) time: 1.2866 data: 0.0020 max mem: 14747\n"
          ]
        },
        {
          "output_type": "stream",
          "name": "stdout",
          "text": [
            "[TRAINING] - Epoch: [2] [201/389] eta: 0:04:05 lr: 0.000100 loss: 1.2586 (2.9274) focal_loss: 0.7606 (2.3359) ce_loss: 0.3433 (0.5915) time: 1.2866 data: 0.0020 max mem: 14747\n"
          ]
        },
        {
          "output_type": "stream",
          "name": "stderr",
          "text": [
            "INFO:20250408_training:[TRAINING] - Epoch: [2] [251/389] eta: 0:03:00 lr: 0.000100 loss: 1.1771 (2.7927) focal_loss: 0.8418 (2.2186) ce_loss: 0.3375 (0.5741) time: 1.2910 data: 0.0015 max mem: 14747\n"
          ]
        },
        {
          "output_type": "stream",
          "name": "stdout",
          "text": [
            "[TRAINING] - Epoch: [2] [251/389] eta: 0:03:00 lr: 0.000100 loss: 1.1771 (2.7927) focal_loss: 0.8418 (2.2186) ce_loss: 0.3375 (0.5741) time: 1.2910 data: 0.0015 max mem: 14747\n"
          ]
        },
        {
          "output_type": "stream",
          "name": "stderr",
          "text": [
            "INFO:20250408_training:[TRAINING] - Epoch: [2] [301/389] eta: 0:01:55 lr: 0.000100 loss: 1.1303 (2.6787) focal_loss: 0.7497 (2.1171) ce_loss: 0.3477 (0.5616) time: 1.2862 data: 0.0017 max mem: 14747\n"
          ]
        },
        {
          "output_type": "stream",
          "name": "stdout",
          "text": [
            "[TRAINING] - Epoch: [2] [301/389] eta: 0:01:55 lr: 0.000100 loss: 1.1303 (2.6787) focal_loss: 0.7497 (2.1171) ce_loss: 0.3477 (0.5616) time: 1.2862 data: 0.0017 max mem: 14747\n"
          ]
        },
        {
          "output_type": "stream",
          "name": "stderr",
          "text": [
            "INFO:20250408_training:[TRAINING] - Epoch: [2] [351/389] eta: 0:00:50 lr: 0.000100 loss: 1.1272 (2.5775) focal_loss: 0.7631 (2.0290) ce_loss: 0.3680 (0.5485) time: 1.2856 data: 0.0012 max mem: 14747\n"
          ]
        },
        {
          "output_type": "stream",
          "name": "stdout",
          "text": [
            "[TRAINING] - Epoch: [2] [351/389] eta: 0:00:50 lr: 0.000100 loss: 1.1272 (2.5775) focal_loss: 0.7631 (2.0290) ce_loss: 0.3680 (0.5485) time: 1.2856 data: 0.0012 max mem: 14747\n"
          ]
        },
        {
          "output_type": "stream",
          "name": "stderr",
          "text": [
            "INFO:20250408_training:[TRAINING] - Epoch: [2] [389/389] eta: 0:00:01 lr: 0.000100 loss: 1.0302 (2.5082) focal_loss: 0.6998 (1.9679) ce_loss: 0.3181 (0.5404) time: 1.2279 data: 0.0021 max mem: 14747\n",
            "INFO:20250408_training:[TRAINING] - Epoch: [2] Total time: 0:08:22 (1.2906 s / it)\n"
          ]
        },
        {
          "output_type": "stream",
          "name": "stdout",
          "text": [
            "[TRAINING] - Epoch: [2] [389/389] eta: 0:00:01 lr: 0.000100 loss: 1.0302 (2.5082) focal_loss: 0.6998 (1.9679) ce_loss: 0.3181 (0.5404) time: 1.2279 data: 0.0021 max mem: 14747\n",
            "[TRAINING] - Epoch: [2] Total time: 0:08:22 (1.2906 s / it)\n",
            "[TRAINING] - Epoch: [2] mean loss: 1.2191\n",
            "[VALIDATION] - Epoch: [2] [  1/532] eta: 0:01:05 n: 1 recall: 1.0 precision: 1.0 f1-score: 1.0 MAE: 0.0 MSE: 0.0 RMSE: 0.0 time: 0.1225 data: 0.0144 max mem: 14747\n"
          ]
        },
        {
          "output_type": "stream",
          "name": "stderr",
          "text": [
            "/usr/local/lib/python3.11/dist-packages/albumentations/core/composition.py:250: UserWarning: Got processor for keypoints, but no transform to process it.\n",
            "  self._set_keys()\n",
            "INFO:20250408_validation:[VALIDATION] - Epoch: [2] [  1/532] eta: 0:01:05 n: 1 recall: 1.0 precision: 1.0 f1-score: 1.0 MAE: 0.0 MSE: 0.0 RMSE: 0.0 time: 0.1225 data: 0.0144 max mem: 14747\n",
            "/usr/local/lib/python3.11/dist-packages/albumentations/core/composition.py:250: UserWarning: Got processor for keypoints, but no transform to process it.\n",
            "  self._set_keys()\n",
            "/usr/local/lib/python3.11/dist-packages/albumentations/core/composition.py:250: UserWarning: Got processor for keypoints, but no transform to process it.\n",
            "  self._set_keys()\n",
            "/usr/local/lib/python3.11/dist-packages/albumentations/core/composition.py:250: UserWarning: Got processor for keypoints, but no transform to process it.\n",
            "  self._set_keys()\n",
            "/usr/local/lib/python3.11/dist-packages/albumentations/core/composition.py:250: UserWarning: Got processor for keypoints, but no transform to process it.\n",
            "  self._set_keys()\n",
            "/usr/local/lib/python3.11/dist-packages/albumentations/core/composition.py:250: UserWarning: Got processor for keypoints, but no transform to process it.\n",
            "  self._set_keys()\n",
            "/usr/local/lib/python3.11/dist-packages/albumentations/core/composition.py:250: UserWarning: Got processor for keypoints, but no transform to process it.\n",
            "  self._set_keys()\n",
            "/usr/local/lib/python3.11/dist-packages/albumentations/core/composition.py:250: UserWarning: Got processor for keypoints, but no transform to process it.\n",
            "  self._set_keys()\n",
            "/usr/local/lib/python3.11/dist-packages/albumentations/core/composition.py:250: UserWarning: Got processor for keypoints, but no transform to process it.\n",
            "  self._set_keys()\n",
            "/usr/local/lib/python3.11/dist-packages/albumentations/core/composition.py:250: UserWarning: Got processor for keypoints, but no transform to process it.\n",
            "  self._set_keys()\n",
            "/usr/local/lib/python3.11/dist-packages/albumentations/core/composition.py:250: UserWarning: Got processor for keypoints, but no transform to process it.\n",
            "  self._set_keys()\n",
            "INFO:20250408_validation:[VALIDATION] - Epoch: [2] [ 11/532] eta: 0:01:02 n: 1 recall: 1.0 precision: 0.07 f1-score: 0.12 MAE: 14.0 MSE: 196.0 RMSE: 14.0 time: 0.1206 data: 0.0103 max mem: 14747\n",
            "/usr/local/lib/python3.11/dist-packages/albumentations/core/composition.py:250: UserWarning: Got processor for keypoints, but no transform to process it.\n",
            "  self._set_keys()\n"
          ]
        },
        {
          "output_type": "stream",
          "name": "stdout",
          "text": [
            "[VALIDATION] - Epoch: [2] [ 11/532] eta: 0:01:02 n: 1 recall: 1.0 precision: 0.07 f1-score: 0.12 MAE: 14.0 MSE: 196.0 RMSE: 14.0 time: 0.1206 data: 0.0103 max mem: 14747\n"
          ]
        },
        {
          "output_type": "stream",
          "name": "stderr",
          "text": [
            "/usr/local/lib/python3.11/dist-packages/albumentations/core/composition.py:250: UserWarning: Got processor for keypoints, but no transform to process it.\n",
            "  self._set_keys()\n",
            "/usr/local/lib/python3.11/dist-packages/albumentations/core/composition.py:250: UserWarning: Got processor for keypoints, but no transform to process it.\n",
            "  self._set_keys()\n",
            "/usr/local/lib/python3.11/dist-packages/albumentations/core/composition.py:250: UserWarning: Got processor for keypoints, but no transform to process it.\n",
            "  self._set_keys()\n",
            "/usr/local/lib/python3.11/dist-packages/albumentations/core/composition.py:250: UserWarning: Got processor for keypoints, but no transform to process it.\n",
            "  self._set_keys()\n",
            "/usr/local/lib/python3.11/dist-packages/albumentations/core/composition.py:250: UserWarning: Got processor for keypoints, but no transform to process it.\n",
            "  self._set_keys()\n",
            "/usr/local/lib/python3.11/dist-packages/albumentations/core/composition.py:250: UserWarning: Got processor for keypoints, but no transform to process it.\n",
            "  self._set_keys()\n",
            "/usr/local/lib/python3.11/dist-packages/albumentations/core/composition.py:250: UserWarning: Got processor for keypoints, but no transform to process it.\n",
            "  self._set_keys()\n",
            "/usr/local/lib/python3.11/dist-packages/albumentations/core/composition.py:250: UserWarning: Got processor for keypoints, but no transform to process it.\n",
            "  self._set_keys()\n",
            "/usr/local/lib/python3.11/dist-packages/albumentations/core/composition.py:250: UserWarning: Got processor for keypoints, but no transform to process it.\n",
            "  self._set_keys()\n",
            "INFO:20250408_validation:[VALIDATION] - Epoch: [2] [ 21/532] eta: 0:01:00 n: 1 recall: 0.0 precision: 0.0 f1-score: 0.0 MAE: 1.0 MSE: 1.0 RMSE: 1.0 time: 0.1174 data: 0.0094 max mem: 14747\n",
            "/usr/local/lib/python3.11/dist-packages/albumentations/core/composition.py:250: UserWarning: Got processor for keypoints, but no transform to process it.\n",
            "  self._set_keys()\n"
          ]
        },
        {
          "output_type": "stream",
          "name": "stdout",
          "text": [
            "[VALIDATION] - Epoch: [2] [ 21/532] eta: 0:01:00 n: 1 recall: 0.0 precision: 0.0 f1-score: 0.0 MAE: 1.0 MSE: 1.0 RMSE: 1.0 time: 0.1174 data: 0.0094 max mem: 14747\n"
          ]
        },
        {
          "output_type": "stream",
          "name": "stderr",
          "text": [
            "/usr/local/lib/python3.11/dist-packages/albumentations/core/composition.py:250: UserWarning: Got processor for keypoints, but no transform to process it.\n",
            "  self._set_keys()\n",
            "/usr/local/lib/python3.11/dist-packages/albumentations/core/composition.py:250: UserWarning: Got processor for keypoints, but no transform to process it.\n",
            "  self._set_keys()\n",
            "/usr/local/lib/python3.11/dist-packages/albumentations/core/composition.py:250: UserWarning: Got processor for keypoints, but no transform to process it.\n",
            "  self._set_keys()\n",
            "/usr/local/lib/python3.11/dist-packages/albumentations/core/composition.py:250: UserWarning: Got processor for keypoints, but no transform to process it.\n",
            "  self._set_keys()\n",
            "/usr/local/lib/python3.11/dist-packages/albumentations/core/composition.py:250: UserWarning: Got processor for keypoints, but no transform to process it.\n",
            "  self._set_keys()\n",
            "/usr/local/lib/python3.11/dist-packages/albumentations/core/composition.py:250: UserWarning: Got processor for keypoints, but no transform to process it.\n",
            "  self._set_keys()\n",
            "/usr/local/lib/python3.11/dist-packages/albumentations/core/composition.py:250: UserWarning: Got processor for keypoints, but no transform to process it.\n",
            "  self._set_keys()\n",
            "/usr/local/lib/python3.11/dist-packages/albumentations/core/composition.py:250: UserWarning: Got processor for keypoints, but no transform to process it.\n",
            "  self._set_keys()\n",
            "/usr/local/lib/python3.11/dist-packages/albumentations/core/composition.py:250: UserWarning: Got processor for keypoints, but no transform to process it.\n",
            "  self._set_keys()\n",
            "INFO:20250408_validation:[VALIDATION] - Epoch: [2] [ 31/532] eta: 0:00:58 n: 6 recall: 1.0 precision: 0.25 f1-score: 0.4 MAE: 18.0 MSE: 324.0 RMSE: 18.0 time: 0.1157 data: 0.0091 max mem: 14747\n",
            "/usr/local/lib/python3.11/dist-packages/albumentations/core/composition.py:250: UserWarning: Got processor for keypoints, but no transform to process it.\n",
            "  self._set_keys()\n"
          ]
        },
        {
          "output_type": "stream",
          "name": "stdout",
          "text": [
            "[VALIDATION] - Epoch: [2] [ 31/532] eta: 0:00:58 n: 6 recall: 1.0 precision: 0.25 f1-score: 0.4 MAE: 18.0 MSE: 324.0 RMSE: 18.0 time: 0.1157 data: 0.0091 max mem: 14747\n"
          ]
        },
        {
          "output_type": "stream",
          "name": "stderr",
          "text": [
            "/usr/local/lib/python3.11/dist-packages/albumentations/core/composition.py:250: UserWarning: Got processor for keypoints, but no transform to process it.\n",
            "  self._set_keys()\n",
            "/usr/local/lib/python3.11/dist-packages/albumentations/core/composition.py:250: UserWarning: Got processor for keypoints, but no transform to process it.\n",
            "  self._set_keys()\n",
            "/usr/local/lib/python3.11/dist-packages/albumentations/core/composition.py:250: UserWarning: Got processor for keypoints, but no transform to process it.\n",
            "  self._set_keys()\n",
            "/usr/local/lib/python3.11/dist-packages/albumentations/core/composition.py:250: UserWarning: Got processor for keypoints, but no transform to process it.\n",
            "  self._set_keys()\n",
            "/usr/local/lib/python3.11/dist-packages/albumentations/core/composition.py:250: UserWarning: Got processor for keypoints, but no transform to process it.\n",
            "  self._set_keys()\n",
            "/usr/local/lib/python3.11/dist-packages/albumentations/core/composition.py:250: UserWarning: Got processor for keypoints, but no transform to process it.\n",
            "  self._set_keys()\n",
            "/usr/local/lib/python3.11/dist-packages/albumentations/core/composition.py:250: UserWarning: Got processor for keypoints, but no transform to process it.\n",
            "  self._set_keys()\n",
            "/usr/local/lib/python3.11/dist-packages/albumentations/core/composition.py:250: UserWarning: Got processor for keypoints, but no transform to process it.\n",
            "  self._set_keys()\n",
            "/usr/local/lib/python3.11/dist-packages/albumentations/core/composition.py:250: UserWarning: Got processor for keypoints, but no transform to process it.\n",
            "  self._set_keys()\n",
            "INFO:20250408_validation:[VALIDATION] - Epoch: [2] [ 41/532] eta: 0:00:57 n: 1 recall: 0.0 precision: 0.0 f1-score: 0.0 MAE: 1.0 MSE: 1.0 RMSE: 1.0 time: 0.1158 data: 0.0091 max mem: 14747\n",
            "/usr/local/lib/python3.11/dist-packages/albumentations/core/composition.py:250: UserWarning: Got processor for keypoints, but no transform to process it.\n",
            "  self._set_keys()\n"
          ]
        },
        {
          "output_type": "stream",
          "name": "stdout",
          "text": [
            "[VALIDATION] - Epoch: [2] [ 41/532] eta: 0:00:57 n: 1 recall: 0.0 precision: 0.0 f1-score: 0.0 MAE: 1.0 MSE: 1.0 RMSE: 1.0 time: 0.1158 data: 0.0091 max mem: 14747\n"
          ]
        },
        {
          "output_type": "stream",
          "name": "stderr",
          "text": [
            "/usr/local/lib/python3.11/dist-packages/albumentations/core/composition.py:250: UserWarning: Got processor for keypoints, but no transform to process it.\n",
            "  self._set_keys()\n",
            "/usr/local/lib/python3.11/dist-packages/albumentations/core/composition.py:250: UserWarning: Got processor for keypoints, but no transform to process it.\n",
            "  self._set_keys()\n",
            "/usr/local/lib/python3.11/dist-packages/albumentations/core/composition.py:250: UserWarning: Got processor for keypoints, but no transform to process it.\n",
            "  self._set_keys()\n",
            "/usr/local/lib/python3.11/dist-packages/albumentations/core/composition.py:250: UserWarning: Got processor for keypoints, but no transform to process it.\n",
            "  self._set_keys()\n",
            "/usr/local/lib/python3.11/dist-packages/albumentations/core/composition.py:250: UserWarning: Got processor for keypoints, but no transform to process it.\n",
            "  self._set_keys()\n",
            "/usr/local/lib/python3.11/dist-packages/albumentations/core/composition.py:250: UserWarning: Got processor for keypoints, but no transform to process it.\n",
            "  self._set_keys()\n",
            "/usr/local/lib/python3.11/dist-packages/albumentations/core/composition.py:250: UserWarning: Got processor for keypoints, but no transform to process it.\n",
            "  self._set_keys()\n",
            "/usr/local/lib/python3.11/dist-packages/albumentations/core/composition.py:250: UserWarning: Got processor for keypoints, but no transform to process it.\n",
            "  self._set_keys()\n",
            "/usr/local/lib/python3.11/dist-packages/albumentations/core/composition.py:250: UserWarning: Got processor for keypoints, but no transform to process it.\n",
            "  self._set_keys()\n",
            "INFO:20250408_validation:[VALIDATION] - Epoch: [2] [ 51/532] eta: 0:00:55 n: 4 recall: 1.0 precision: 0.22 f1-score: 0.36 MAE: 14.0 MSE: 196.0 RMSE: 14.0 time: 0.1138 data: 0.0089 max mem: 14747\n",
            "/usr/local/lib/python3.11/dist-packages/albumentations/core/composition.py:250: UserWarning: Got processor for keypoints, but no transform to process it.\n",
            "  self._set_keys()\n"
          ]
        },
        {
          "output_type": "stream",
          "name": "stdout",
          "text": [
            "[VALIDATION] - Epoch: [2] [ 51/532] eta: 0:00:55 n: 4 recall: 1.0 precision: 0.22 f1-score: 0.36 MAE: 14.0 MSE: 196.0 RMSE: 14.0 time: 0.1138 data: 0.0089 max mem: 14747\n"
          ]
        },
        {
          "output_type": "stream",
          "name": "stderr",
          "text": [
            "/usr/local/lib/python3.11/dist-packages/albumentations/core/composition.py:250: UserWarning: Got processor for keypoints, but no transform to process it.\n",
            "  self._set_keys()\n",
            "/usr/local/lib/python3.11/dist-packages/albumentations/core/composition.py:250: UserWarning: Got processor for keypoints, but no transform to process it.\n",
            "  self._set_keys()\n",
            "/usr/local/lib/python3.11/dist-packages/albumentations/core/composition.py:250: UserWarning: Got processor for keypoints, but no transform to process it.\n",
            "  self._set_keys()\n",
            "/usr/local/lib/python3.11/dist-packages/albumentations/core/composition.py:250: UserWarning: Got processor for keypoints, but no transform to process it.\n",
            "  self._set_keys()\n",
            "/usr/local/lib/python3.11/dist-packages/albumentations/core/composition.py:250: UserWarning: Got processor for keypoints, but no transform to process it.\n",
            "  self._set_keys()\n",
            "/usr/local/lib/python3.11/dist-packages/albumentations/core/composition.py:250: UserWarning: Got processor for keypoints, but no transform to process it.\n",
            "  self._set_keys()\n",
            "/usr/local/lib/python3.11/dist-packages/albumentations/core/composition.py:250: UserWarning: Got processor for keypoints, but no transform to process it.\n",
            "  self._set_keys()\n",
            "/usr/local/lib/python3.11/dist-packages/albumentations/core/composition.py:250: UserWarning: Got processor for keypoints, but no transform to process it.\n",
            "  self._set_keys()\n",
            "/usr/local/lib/python3.11/dist-packages/albumentations/core/composition.py:250: UserWarning: Got processor for keypoints, but no transform to process it.\n",
            "  self._set_keys()\n",
            "INFO:20250408_validation:[VALIDATION] - Epoch: [2] [ 61/532] eta: 0:00:54 n: 4 recall: 1.0 precision: 0.36 f1-score: 0.53 MAE: 7.0 MSE: 49.0 RMSE: 7.0 time: 0.1133 data: 0.0089 max mem: 14747\n",
            "/usr/local/lib/python3.11/dist-packages/albumentations/core/composition.py:250: UserWarning: Got processor for keypoints, but no transform to process it.\n",
            "  self._set_keys()\n"
          ]
        },
        {
          "output_type": "stream",
          "name": "stdout",
          "text": [
            "[VALIDATION] - Epoch: [2] [ 61/532] eta: 0:00:54 n: 4 recall: 1.0 precision: 0.36 f1-score: 0.53 MAE: 7.0 MSE: 49.0 RMSE: 7.0 time: 0.1133 data: 0.0089 max mem: 14747\n"
          ]
        },
        {
          "output_type": "stream",
          "name": "stderr",
          "text": [
            "/usr/local/lib/python3.11/dist-packages/albumentations/core/composition.py:250: UserWarning: Got processor for keypoints, but no transform to process it.\n",
            "  self._set_keys()\n",
            "/usr/local/lib/python3.11/dist-packages/albumentations/core/composition.py:250: UserWarning: Got processor for keypoints, but no transform to process it.\n",
            "  self._set_keys()\n",
            "/usr/local/lib/python3.11/dist-packages/albumentations/core/composition.py:250: UserWarning: Got processor for keypoints, but no transform to process it.\n",
            "  self._set_keys()\n",
            "/usr/local/lib/python3.11/dist-packages/albumentations/core/composition.py:250: UserWarning: Got processor for keypoints, but no transform to process it.\n",
            "  self._set_keys()\n",
            "/usr/local/lib/python3.11/dist-packages/albumentations/core/composition.py:250: UserWarning: Got processor for keypoints, but no transform to process it.\n",
            "  self._set_keys()\n",
            "/usr/local/lib/python3.11/dist-packages/albumentations/core/composition.py:250: UserWarning: Got processor for keypoints, but no transform to process it.\n",
            "  self._set_keys()\n",
            "/usr/local/lib/python3.11/dist-packages/albumentations/core/composition.py:250: UserWarning: Got processor for keypoints, but no transform to process it.\n",
            "  self._set_keys()\n",
            "/usr/local/lib/python3.11/dist-packages/albumentations/core/composition.py:250: UserWarning: Got processor for keypoints, but no transform to process it.\n",
            "  self._set_keys()\n",
            "/usr/local/lib/python3.11/dist-packages/albumentations/core/composition.py:250: UserWarning: Got processor for keypoints, but no transform to process it.\n",
            "  self._set_keys()\n",
            "INFO:20250408_validation:[VALIDATION] - Epoch: [2] [ 71/532] eta: 0:00:53 n: 1 recall: 0.0 precision: 0.0 f1-score: 0.0 MAE: 1.0 MSE: 1.0 RMSE: 1.0 time: 0.1136 data: 0.0088 max mem: 14747\n",
            "/usr/local/lib/python3.11/dist-packages/albumentations/core/composition.py:250: UserWarning: Got processor for keypoints, but no transform to process it.\n",
            "  self._set_keys()\n"
          ]
        },
        {
          "output_type": "stream",
          "name": "stdout",
          "text": [
            "[VALIDATION] - Epoch: [2] [ 71/532] eta: 0:00:53 n: 1 recall: 0.0 precision: 0.0 f1-score: 0.0 MAE: 1.0 MSE: 1.0 RMSE: 1.0 time: 0.1136 data: 0.0088 max mem: 14747\n"
          ]
        },
        {
          "output_type": "stream",
          "name": "stderr",
          "text": [
            "/usr/local/lib/python3.11/dist-packages/albumentations/core/composition.py:250: UserWarning: Got processor for keypoints, but no transform to process it.\n",
            "  self._set_keys()\n",
            "/usr/local/lib/python3.11/dist-packages/albumentations/core/composition.py:250: UserWarning: Got processor for keypoints, but no transform to process it.\n",
            "  self._set_keys()\n",
            "/usr/local/lib/python3.11/dist-packages/albumentations/core/composition.py:250: UserWarning: Got processor for keypoints, but no transform to process it.\n",
            "  self._set_keys()\n",
            "/usr/local/lib/python3.11/dist-packages/albumentations/core/composition.py:250: UserWarning: Got processor for keypoints, but no transform to process it.\n",
            "  self._set_keys()\n",
            "/usr/local/lib/python3.11/dist-packages/albumentations/core/composition.py:250: UserWarning: Got processor for keypoints, but no transform to process it.\n",
            "  self._set_keys()\n",
            "/usr/local/lib/python3.11/dist-packages/albumentations/core/composition.py:250: UserWarning: Got processor for keypoints, but no transform to process it.\n",
            "  self._set_keys()\n",
            "/usr/local/lib/python3.11/dist-packages/albumentations/core/composition.py:250: UserWarning: Got processor for keypoints, but no transform to process it.\n",
            "  self._set_keys()\n",
            "/usr/local/lib/python3.11/dist-packages/albumentations/core/composition.py:250: UserWarning: Got processor for keypoints, but no transform to process it.\n",
            "  self._set_keys()\n",
            "/usr/local/lib/python3.11/dist-packages/albumentations/core/composition.py:250: UserWarning: Got processor for keypoints, but no transform to process it.\n",
            "  self._set_keys()\n",
            "INFO:20250408_validation:[VALIDATION] - Epoch: [2] [ 81/532] eta: 0:00:53 n: 1 recall: 1.0 precision: 0.2 f1-score: 0.33 MAE: 4.0 MSE: 16.0 RMSE: 4.0 time: 0.1250 data: 0.0103 max mem: 14747\n",
            "/usr/local/lib/python3.11/dist-packages/albumentations/core/composition.py:250: UserWarning: Got processor for keypoints, but no transform to process it.\n",
            "  self._set_keys()\n"
          ]
        },
        {
          "output_type": "stream",
          "name": "stdout",
          "text": [
            "[VALIDATION] - Epoch: [2] [ 81/532] eta: 0:00:53 n: 1 recall: 1.0 precision: 0.2 f1-score: 0.33 MAE: 4.0 MSE: 16.0 RMSE: 4.0 time: 0.1250 data: 0.0103 max mem: 14747\n"
          ]
        },
        {
          "output_type": "stream",
          "name": "stderr",
          "text": [
            "/usr/local/lib/python3.11/dist-packages/albumentations/core/composition.py:250: UserWarning: Got processor for keypoints, but no transform to process it.\n",
            "  self._set_keys()\n",
            "/usr/local/lib/python3.11/dist-packages/albumentations/core/composition.py:250: UserWarning: Got processor for keypoints, but no transform to process it.\n",
            "  self._set_keys()\n",
            "/usr/local/lib/python3.11/dist-packages/albumentations/core/composition.py:250: UserWarning: Got processor for keypoints, but no transform to process it.\n",
            "  self._set_keys()\n",
            "/usr/local/lib/python3.11/dist-packages/albumentations/core/composition.py:250: UserWarning: Got processor for keypoints, but no transform to process it.\n",
            "  self._set_keys()\n",
            "/usr/local/lib/python3.11/dist-packages/albumentations/core/composition.py:250: UserWarning: Got processor for keypoints, but no transform to process it.\n",
            "  self._set_keys()\n",
            "/usr/local/lib/python3.11/dist-packages/albumentations/core/composition.py:250: UserWarning: Got processor for keypoints, but no transform to process it.\n",
            "  self._set_keys()\n",
            "/usr/local/lib/python3.11/dist-packages/albumentations/core/composition.py:250: UserWarning: Got processor for keypoints, but no transform to process it.\n",
            "  self._set_keys()\n",
            "/usr/local/lib/python3.11/dist-packages/albumentations/core/composition.py:250: UserWarning: Got processor for keypoints, but no transform to process it.\n",
            "  self._set_keys()\n",
            "/usr/local/lib/python3.11/dist-packages/albumentations/core/composition.py:250: UserWarning: Got processor for keypoints, but no transform to process it.\n",
            "  self._set_keys()\n",
            "INFO:20250408_validation:[VALIDATION] - Epoch: [2] [ 91/532] eta: 0:00:53 n: 3 recall: 1.0 precision: 0.23 f1-score: 0.38 MAE: 10.0 MSE: 100.0 RMSE: 10.0 time: 0.1397 data: 0.0122 max mem: 14747\n",
            "/usr/local/lib/python3.11/dist-packages/albumentations/core/composition.py:250: UserWarning: Got processor for keypoints, but no transform to process it.\n",
            "  self._set_keys()\n"
          ]
        },
        {
          "output_type": "stream",
          "name": "stdout",
          "text": [
            "[VALIDATION] - Epoch: [2] [ 91/532] eta: 0:00:53 n: 3 recall: 1.0 precision: 0.23 f1-score: 0.38 MAE: 10.0 MSE: 100.0 RMSE: 10.0 time: 0.1397 data: 0.0122 max mem: 14747\n"
          ]
        },
        {
          "output_type": "stream",
          "name": "stderr",
          "text": [
            "/usr/local/lib/python3.11/dist-packages/albumentations/core/composition.py:250: UserWarning: Got processor for keypoints, but no transform to process it.\n",
            "  self._set_keys()\n",
            "/usr/local/lib/python3.11/dist-packages/albumentations/core/composition.py:250: UserWarning: Got processor for keypoints, but no transform to process it.\n",
            "  self._set_keys()\n",
            "/usr/local/lib/python3.11/dist-packages/albumentations/core/composition.py:250: UserWarning: Got processor for keypoints, but no transform to process it.\n",
            "  self._set_keys()\n",
            "/usr/local/lib/python3.11/dist-packages/albumentations/core/composition.py:250: UserWarning: Got processor for keypoints, but no transform to process it.\n",
            "  self._set_keys()\n",
            "/usr/local/lib/python3.11/dist-packages/albumentations/core/composition.py:250: UserWarning: Got processor for keypoints, but no transform to process it.\n",
            "  self._set_keys()\n",
            "/usr/local/lib/python3.11/dist-packages/albumentations/core/composition.py:250: UserWarning: Got processor for keypoints, but no transform to process it.\n",
            "  self._set_keys()\n",
            "/usr/local/lib/python3.11/dist-packages/albumentations/core/composition.py:250: UserWarning: Got processor for keypoints, but no transform to process it.\n",
            "  self._set_keys()\n",
            "/usr/local/lib/python3.11/dist-packages/albumentations/core/composition.py:250: UserWarning: Got processor for keypoints, but no transform to process it.\n",
            "  self._set_keys()\n",
            "/usr/local/lib/python3.11/dist-packages/albumentations/core/composition.py:250: UserWarning: Got processor for keypoints, but no transform to process it.\n",
            "  self._set_keys()\n",
            "INFO:20250408_validation:[VALIDATION] - Epoch: [2] [101/532] eta: 0:00:52 n: 1 recall: 0.0 precision: 0.0 f1-score: 0.0 MAE: 1.0 MSE: 1.0 RMSE: 1.0 time: 0.1340 data: 0.0114 max mem: 14747\n",
            "/usr/local/lib/python3.11/dist-packages/albumentations/core/composition.py:250: UserWarning: Got processor for keypoints, but no transform to process it.\n",
            "  self._set_keys()\n"
          ]
        },
        {
          "output_type": "stream",
          "name": "stdout",
          "text": [
            "[VALIDATION] - Epoch: [2] [101/532] eta: 0:00:52 n: 1 recall: 0.0 precision: 0.0 f1-score: 0.0 MAE: 1.0 MSE: 1.0 RMSE: 1.0 time: 0.1340 data: 0.0114 max mem: 14747\n"
          ]
        },
        {
          "output_type": "stream",
          "name": "stderr",
          "text": [
            "/usr/local/lib/python3.11/dist-packages/albumentations/core/composition.py:250: UserWarning: Got processor for keypoints, but no transform to process it.\n",
            "  self._set_keys()\n",
            "/usr/local/lib/python3.11/dist-packages/albumentations/core/composition.py:250: UserWarning: Got processor for keypoints, but no transform to process it.\n",
            "  self._set_keys()\n",
            "/usr/local/lib/python3.11/dist-packages/albumentations/core/composition.py:250: UserWarning: Got processor for keypoints, but no transform to process it.\n",
            "  self._set_keys()\n",
            "/usr/local/lib/python3.11/dist-packages/albumentations/core/composition.py:250: UserWarning: Got processor for keypoints, but no transform to process it.\n",
            "  self._set_keys()\n",
            "/usr/local/lib/python3.11/dist-packages/albumentations/core/composition.py:250: UserWarning: Got processor for keypoints, but no transform to process it.\n",
            "  self._set_keys()\n",
            "/usr/local/lib/python3.11/dist-packages/albumentations/core/composition.py:250: UserWarning: Got processor for keypoints, but no transform to process it.\n",
            "  self._set_keys()\n",
            "/usr/local/lib/python3.11/dist-packages/albumentations/core/composition.py:250: UserWarning: Got processor for keypoints, but no transform to process it.\n",
            "  self._set_keys()\n",
            "/usr/local/lib/python3.11/dist-packages/albumentations/core/composition.py:250: UserWarning: Got processor for keypoints, but no transform to process it.\n",
            "  self._set_keys()\n",
            "/usr/local/lib/python3.11/dist-packages/albumentations/core/composition.py:250: UserWarning: Got processor for keypoints, but no transform to process it.\n",
            "  self._set_keys()\n",
            "INFO:20250408_validation:[VALIDATION] - Epoch: [2] [111/532] eta: 0:00:50 n: 2 recall: 1.0 precision: 0.4 f1-score: 0.57 MAE: 3.0 MSE: 9.0 RMSE: 3.0 time: 0.1203 data: 0.0096 max mem: 14747\n",
            "/usr/local/lib/python3.11/dist-packages/albumentations/core/composition.py:250: UserWarning: Got processor for keypoints, but no transform to process it.\n",
            "  self._set_keys()\n"
          ]
        },
        {
          "output_type": "stream",
          "name": "stdout",
          "text": [
            "[VALIDATION] - Epoch: [2] [111/532] eta: 0:00:50 n: 2 recall: 1.0 precision: 0.4 f1-score: 0.57 MAE: 3.0 MSE: 9.0 RMSE: 3.0 time: 0.1203 data: 0.0096 max mem: 14747\n"
          ]
        },
        {
          "output_type": "stream",
          "name": "stderr",
          "text": [
            "/usr/local/lib/python3.11/dist-packages/albumentations/core/composition.py:250: UserWarning: Got processor for keypoints, but no transform to process it.\n",
            "  self._set_keys()\n",
            "/usr/local/lib/python3.11/dist-packages/albumentations/core/composition.py:250: UserWarning: Got processor for keypoints, but no transform to process it.\n",
            "  self._set_keys()\n",
            "/usr/local/lib/python3.11/dist-packages/albumentations/core/composition.py:250: UserWarning: Got processor for keypoints, but no transform to process it.\n",
            "  self._set_keys()\n",
            "/usr/local/lib/python3.11/dist-packages/albumentations/core/composition.py:250: UserWarning: Got processor for keypoints, but no transform to process it.\n",
            "  self._set_keys()\n",
            "/usr/local/lib/python3.11/dist-packages/albumentations/core/composition.py:250: UserWarning: Got processor for keypoints, but no transform to process it.\n",
            "  self._set_keys()\n",
            "/usr/local/lib/python3.11/dist-packages/albumentations/core/composition.py:250: UserWarning: Got processor for keypoints, but no transform to process it.\n",
            "  self._set_keys()\n",
            "/usr/local/lib/python3.11/dist-packages/albumentations/core/composition.py:250: UserWarning: Got processor for keypoints, but no transform to process it.\n",
            "  self._set_keys()\n",
            "/usr/local/lib/python3.11/dist-packages/albumentations/core/composition.py:250: UserWarning: Got processor for keypoints, but no transform to process it.\n",
            "  self._set_keys()\n",
            "/usr/local/lib/python3.11/dist-packages/albumentations/core/composition.py:250: UserWarning: Got processor for keypoints, but no transform to process it.\n",
            "  self._set_keys()\n",
            "INFO:20250408_validation:[VALIDATION] - Epoch: [2] [121/532] eta: 0:00:49 n: 1 recall: 1.0 precision: 0.2 f1-score: 0.33 MAE: 4.0 MSE: 16.0 RMSE: 4.0 time: 0.1156 data: 0.0089 max mem: 14747\n",
            "/usr/local/lib/python3.11/dist-packages/albumentations/core/composition.py:250: UserWarning: Got processor for keypoints, but no transform to process it.\n",
            "  self._set_keys()\n"
          ]
        },
        {
          "output_type": "stream",
          "name": "stdout",
          "text": [
            "[VALIDATION] - Epoch: [2] [121/532] eta: 0:00:49 n: 1 recall: 1.0 precision: 0.2 f1-score: 0.33 MAE: 4.0 MSE: 16.0 RMSE: 4.0 time: 0.1156 data: 0.0089 max mem: 14747\n"
          ]
        },
        {
          "output_type": "stream",
          "name": "stderr",
          "text": [
            "/usr/local/lib/python3.11/dist-packages/albumentations/core/composition.py:250: UserWarning: Got processor for keypoints, but no transform to process it.\n",
            "  self._set_keys()\n",
            "/usr/local/lib/python3.11/dist-packages/albumentations/core/composition.py:250: UserWarning: Got processor for keypoints, but no transform to process it.\n",
            "  self._set_keys()\n",
            "/usr/local/lib/python3.11/dist-packages/albumentations/core/composition.py:250: UserWarning: Got processor for keypoints, but no transform to process it.\n",
            "  self._set_keys()\n",
            "/usr/local/lib/python3.11/dist-packages/albumentations/core/composition.py:250: UserWarning: Got processor for keypoints, but no transform to process it.\n",
            "  self._set_keys()\n",
            "/usr/local/lib/python3.11/dist-packages/albumentations/core/composition.py:250: UserWarning: Got processor for keypoints, but no transform to process it.\n",
            "  self._set_keys()\n",
            "/usr/local/lib/python3.11/dist-packages/albumentations/core/composition.py:250: UserWarning: Got processor for keypoints, but no transform to process it.\n",
            "  self._set_keys()\n",
            "/usr/local/lib/python3.11/dist-packages/albumentations/core/composition.py:250: UserWarning: Got processor for keypoints, but no transform to process it.\n",
            "  self._set_keys()\n",
            "/usr/local/lib/python3.11/dist-packages/albumentations/core/composition.py:250: UserWarning: Got processor for keypoints, but no transform to process it.\n",
            "  self._set_keys()\n",
            "/usr/local/lib/python3.11/dist-packages/albumentations/core/composition.py:250: UserWarning: Got processor for keypoints, but no transform to process it.\n",
            "  self._set_keys()\n",
            "INFO:20250408_validation:[VALIDATION] - Epoch: [2] [131/532] eta: 0:00:48 n: 3 recall: 1.0 precision: 0.5 f1-score: 0.67 MAE: 3.0 MSE: 9.0 RMSE: 3.0 time: 0.1158 data: 0.0092 max mem: 14747\n",
            "/usr/local/lib/python3.11/dist-packages/albumentations/core/composition.py:250: UserWarning: Got processor for keypoints, but no transform to process it.\n",
            "  self._set_keys()\n"
          ]
        },
        {
          "output_type": "stream",
          "name": "stdout",
          "text": [
            "[VALIDATION] - Epoch: [2] [131/532] eta: 0:00:48 n: 3 recall: 1.0 precision: 0.5 f1-score: 0.67 MAE: 3.0 MSE: 9.0 RMSE: 3.0 time: 0.1158 data: 0.0092 max mem: 14747\n"
          ]
        },
        {
          "output_type": "stream",
          "name": "stderr",
          "text": [
            "/usr/local/lib/python3.11/dist-packages/albumentations/core/composition.py:250: UserWarning: Got processor for keypoints, but no transform to process it.\n",
            "  self._set_keys()\n",
            "/usr/local/lib/python3.11/dist-packages/albumentations/core/composition.py:250: UserWarning: Got processor for keypoints, but no transform to process it.\n",
            "  self._set_keys()\n",
            "/usr/local/lib/python3.11/dist-packages/albumentations/core/composition.py:250: UserWarning: Got processor for keypoints, but no transform to process it.\n",
            "  self._set_keys()\n",
            "/usr/local/lib/python3.11/dist-packages/albumentations/core/composition.py:250: UserWarning: Got processor for keypoints, but no transform to process it.\n",
            "  self._set_keys()\n",
            "/usr/local/lib/python3.11/dist-packages/albumentations/core/composition.py:250: UserWarning: Got processor for keypoints, but no transform to process it.\n",
            "  self._set_keys()\n",
            "/usr/local/lib/python3.11/dist-packages/albumentations/core/composition.py:250: UserWarning: Got processor for keypoints, but no transform to process it.\n",
            "  self._set_keys()\n",
            "/usr/local/lib/python3.11/dist-packages/albumentations/core/composition.py:250: UserWarning: Got processor for keypoints, but no transform to process it.\n",
            "  self._set_keys()\n",
            "/usr/local/lib/python3.11/dist-packages/albumentations/core/composition.py:250: UserWarning: Got processor for keypoints, but no transform to process it.\n",
            "  self._set_keys()\n",
            "/usr/local/lib/python3.11/dist-packages/albumentations/core/composition.py:250: UserWarning: Got processor for keypoints, but no transform to process it.\n",
            "  self._set_keys()\n",
            "INFO:20250408_validation:[VALIDATION] - Epoch: [2] [141/532] eta: 0:00:46 n: 3 recall: 1.0 precision: 0.75 f1-score: 0.86 MAE: 1.0 MSE: 1.0 RMSE: 1.0 time: 0.1157 data: 0.0093 max mem: 14747\n",
            "/usr/local/lib/python3.11/dist-packages/albumentations/core/composition.py:250: UserWarning: Got processor for keypoints, but no transform to process it.\n",
            "  self._set_keys()\n"
          ]
        },
        {
          "output_type": "stream",
          "name": "stdout",
          "text": [
            "[VALIDATION] - Epoch: [2] [141/532] eta: 0:00:46 n: 3 recall: 1.0 precision: 0.75 f1-score: 0.86 MAE: 1.0 MSE: 1.0 RMSE: 1.0 time: 0.1157 data: 0.0093 max mem: 14747\n"
          ]
        },
        {
          "output_type": "stream",
          "name": "stderr",
          "text": [
            "/usr/local/lib/python3.11/dist-packages/albumentations/core/composition.py:250: UserWarning: Got processor for keypoints, but no transform to process it.\n",
            "  self._set_keys()\n",
            "/usr/local/lib/python3.11/dist-packages/albumentations/core/composition.py:250: UserWarning: Got processor for keypoints, but no transform to process it.\n",
            "  self._set_keys()\n",
            "/usr/local/lib/python3.11/dist-packages/albumentations/core/composition.py:250: UserWarning: Got processor for keypoints, but no transform to process it.\n",
            "  self._set_keys()\n",
            "/usr/local/lib/python3.11/dist-packages/albumentations/core/composition.py:250: UserWarning: Got processor for keypoints, but no transform to process it.\n",
            "  self._set_keys()\n",
            "/usr/local/lib/python3.11/dist-packages/albumentations/core/composition.py:250: UserWarning: Got processor for keypoints, but no transform to process it.\n",
            "  self._set_keys()\n",
            "/usr/local/lib/python3.11/dist-packages/albumentations/core/composition.py:250: UserWarning: Got processor for keypoints, but no transform to process it.\n",
            "  self._set_keys()\n",
            "/usr/local/lib/python3.11/dist-packages/albumentations/core/composition.py:250: UserWarning: Got processor for keypoints, but no transform to process it.\n",
            "  self._set_keys()\n",
            "/usr/local/lib/python3.11/dist-packages/albumentations/core/composition.py:250: UserWarning: Got processor for keypoints, but no transform to process it.\n",
            "  self._set_keys()\n",
            "/usr/local/lib/python3.11/dist-packages/albumentations/core/composition.py:250: UserWarning: Got processor for keypoints, but no transform to process it.\n",
            "  self._set_keys()\n",
            "INFO:20250408_validation:[VALIDATION] - Epoch: [2] [151/532] eta: 0:00:45 n: 2 recall: 1.0 precision: 0.5 f1-score: 0.67 MAE: 2.0 MSE: 4.0 RMSE: 2.0 time: 0.1163 data: 0.0089 max mem: 14747\n",
            "/usr/local/lib/python3.11/dist-packages/albumentations/core/composition.py:250: UserWarning: Got processor for keypoints, but no transform to process it.\n",
            "  self._set_keys()\n"
          ]
        },
        {
          "output_type": "stream",
          "name": "stdout",
          "text": [
            "[VALIDATION] - Epoch: [2] [151/532] eta: 0:00:45 n: 2 recall: 1.0 precision: 0.5 f1-score: 0.67 MAE: 2.0 MSE: 4.0 RMSE: 2.0 time: 0.1163 data: 0.0089 max mem: 14747\n"
          ]
        },
        {
          "output_type": "stream",
          "name": "stderr",
          "text": [
            "/usr/local/lib/python3.11/dist-packages/albumentations/core/composition.py:250: UserWarning: Got processor for keypoints, but no transform to process it.\n",
            "  self._set_keys()\n",
            "/usr/local/lib/python3.11/dist-packages/albumentations/core/composition.py:250: UserWarning: Got processor for keypoints, but no transform to process it.\n",
            "  self._set_keys()\n",
            "/usr/local/lib/python3.11/dist-packages/albumentations/core/composition.py:250: UserWarning: Got processor for keypoints, but no transform to process it.\n",
            "  self._set_keys()\n",
            "/usr/local/lib/python3.11/dist-packages/albumentations/core/composition.py:250: UserWarning: Got processor for keypoints, but no transform to process it.\n",
            "  self._set_keys()\n",
            "/usr/local/lib/python3.11/dist-packages/albumentations/core/composition.py:250: UserWarning: Got processor for keypoints, but no transform to process it.\n",
            "  self._set_keys()\n",
            "/usr/local/lib/python3.11/dist-packages/albumentations/core/composition.py:250: UserWarning: Got processor for keypoints, but no transform to process it.\n",
            "  self._set_keys()\n",
            "/usr/local/lib/python3.11/dist-packages/albumentations/core/composition.py:250: UserWarning: Got processor for keypoints, but no transform to process it.\n",
            "  self._set_keys()\n",
            "/usr/local/lib/python3.11/dist-packages/albumentations/core/composition.py:250: UserWarning: Got processor for keypoints, but no transform to process it.\n",
            "  self._set_keys()\n",
            "/usr/local/lib/python3.11/dist-packages/albumentations/core/composition.py:250: UserWarning: Got processor for keypoints, but no transform to process it.\n",
            "  self._set_keys()\n",
            "INFO:20250408_validation:[VALIDATION] - Epoch: [2] [161/532] eta: 0:00:44 n: 1 recall: 1.0 precision: 0.17 f1-score: 0.29 MAE: 5.0 MSE: 25.0 RMSE: 5.0 time: 0.1157 data: 0.0087 max mem: 14747\n",
            "/usr/local/lib/python3.11/dist-packages/albumentations/core/composition.py:250: UserWarning: Got processor for keypoints, but no transform to process it.\n",
            "  self._set_keys()\n"
          ]
        },
        {
          "output_type": "stream",
          "name": "stdout",
          "text": [
            "[VALIDATION] - Epoch: [2] [161/532] eta: 0:00:44 n: 1 recall: 1.0 precision: 0.17 f1-score: 0.29 MAE: 5.0 MSE: 25.0 RMSE: 5.0 time: 0.1157 data: 0.0087 max mem: 14747\n"
          ]
        },
        {
          "output_type": "stream",
          "name": "stderr",
          "text": [
            "/usr/local/lib/python3.11/dist-packages/albumentations/core/composition.py:250: UserWarning: Got processor for keypoints, but no transform to process it.\n",
            "  self._set_keys()\n",
            "/usr/local/lib/python3.11/dist-packages/albumentations/core/composition.py:250: UserWarning: Got processor for keypoints, but no transform to process it.\n",
            "  self._set_keys()\n",
            "/usr/local/lib/python3.11/dist-packages/albumentations/core/composition.py:250: UserWarning: Got processor for keypoints, but no transform to process it.\n",
            "  self._set_keys()\n",
            "/usr/local/lib/python3.11/dist-packages/albumentations/core/composition.py:250: UserWarning: Got processor for keypoints, but no transform to process it.\n",
            "  self._set_keys()\n",
            "/usr/local/lib/python3.11/dist-packages/albumentations/core/composition.py:250: UserWarning: Got processor for keypoints, but no transform to process it.\n",
            "  self._set_keys()\n",
            "/usr/local/lib/python3.11/dist-packages/albumentations/core/composition.py:250: UserWarning: Got processor for keypoints, but no transform to process it.\n",
            "  self._set_keys()\n",
            "/usr/local/lib/python3.11/dist-packages/albumentations/core/composition.py:250: UserWarning: Got processor for keypoints, but no transform to process it.\n",
            "  self._set_keys()\n",
            "/usr/local/lib/python3.11/dist-packages/albumentations/core/composition.py:250: UserWarning: Got processor for keypoints, but no transform to process it.\n",
            "  self._set_keys()\n",
            "/usr/local/lib/python3.11/dist-packages/albumentations/core/composition.py:250: UserWarning: Got processor for keypoints, but no transform to process it.\n",
            "  self._set_keys()\n",
            "INFO:20250408_validation:[VALIDATION] - Epoch: [2] [171/532] eta: 0:00:43 n: 1 recall: 1.0 precision: 0.17 f1-score: 0.29 MAE: 5.0 MSE: 25.0 RMSE: 5.0 time: 0.1151 data: 0.0089 max mem: 14747\n",
            "/usr/local/lib/python3.11/dist-packages/albumentations/core/composition.py:250: UserWarning: Got processor for keypoints, but no transform to process it.\n",
            "  self._set_keys()\n"
          ]
        },
        {
          "output_type": "stream",
          "name": "stdout",
          "text": [
            "[VALIDATION] - Epoch: [2] [171/532] eta: 0:00:43 n: 1 recall: 1.0 precision: 0.17 f1-score: 0.29 MAE: 5.0 MSE: 25.0 RMSE: 5.0 time: 0.1151 data: 0.0089 max mem: 14747\n"
          ]
        },
        {
          "output_type": "stream",
          "name": "stderr",
          "text": [
            "/usr/local/lib/python3.11/dist-packages/albumentations/core/composition.py:250: UserWarning: Got processor for keypoints, but no transform to process it.\n",
            "  self._set_keys()\n",
            "/usr/local/lib/python3.11/dist-packages/albumentations/core/composition.py:250: UserWarning: Got processor for keypoints, but no transform to process it.\n",
            "  self._set_keys()\n",
            "/usr/local/lib/python3.11/dist-packages/albumentations/core/composition.py:250: UserWarning: Got processor for keypoints, but no transform to process it.\n",
            "  self._set_keys()\n",
            "/usr/local/lib/python3.11/dist-packages/albumentations/core/composition.py:250: UserWarning: Got processor for keypoints, but no transform to process it.\n",
            "  self._set_keys()\n",
            "/usr/local/lib/python3.11/dist-packages/albumentations/core/composition.py:250: UserWarning: Got processor for keypoints, but no transform to process it.\n",
            "  self._set_keys()\n",
            "/usr/local/lib/python3.11/dist-packages/albumentations/core/composition.py:250: UserWarning: Got processor for keypoints, but no transform to process it.\n",
            "  self._set_keys()\n",
            "/usr/local/lib/python3.11/dist-packages/albumentations/core/composition.py:250: UserWarning: Got processor for keypoints, but no transform to process it.\n",
            "  self._set_keys()\n",
            "/usr/local/lib/python3.11/dist-packages/albumentations/core/composition.py:250: UserWarning: Got processor for keypoints, but no transform to process it.\n",
            "  self._set_keys()\n",
            "/usr/local/lib/python3.11/dist-packages/albumentations/core/composition.py:250: UserWarning: Got processor for keypoints, but no transform to process it.\n",
            "  self._set_keys()\n",
            "INFO:20250408_validation:[VALIDATION] - Epoch: [2] [181/532] eta: 0:00:41 n: 1 recall: 1.0 precision: 0.5 f1-score: 0.67 MAE: 1.0 MSE: 1.0 RMSE: 1.0 time: 0.1164 data: 0.0088 max mem: 14747\n",
            "/usr/local/lib/python3.11/dist-packages/albumentations/core/composition.py:250: UserWarning: Got processor for keypoints, but no transform to process it.\n",
            "  self._set_keys()\n"
          ]
        },
        {
          "output_type": "stream",
          "name": "stdout",
          "text": [
            "[VALIDATION] - Epoch: [2] [181/532] eta: 0:00:41 n: 1 recall: 1.0 precision: 0.5 f1-score: 0.67 MAE: 1.0 MSE: 1.0 RMSE: 1.0 time: 0.1164 data: 0.0088 max mem: 14747\n"
          ]
        },
        {
          "output_type": "stream",
          "name": "stderr",
          "text": [
            "/usr/local/lib/python3.11/dist-packages/albumentations/core/composition.py:250: UserWarning: Got processor for keypoints, but no transform to process it.\n",
            "  self._set_keys()\n",
            "/usr/local/lib/python3.11/dist-packages/albumentations/core/composition.py:250: UserWarning: Got processor for keypoints, but no transform to process it.\n",
            "  self._set_keys()\n",
            "/usr/local/lib/python3.11/dist-packages/albumentations/core/composition.py:250: UserWarning: Got processor for keypoints, but no transform to process it.\n",
            "  self._set_keys()\n",
            "/usr/local/lib/python3.11/dist-packages/albumentations/core/composition.py:250: UserWarning: Got processor for keypoints, but no transform to process it.\n",
            "  self._set_keys()\n",
            "/usr/local/lib/python3.11/dist-packages/albumentations/core/composition.py:250: UserWarning: Got processor for keypoints, but no transform to process it.\n",
            "  self._set_keys()\n",
            "/usr/local/lib/python3.11/dist-packages/albumentations/core/composition.py:250: UserWarning: Got processor for keypoints, but no transform to process it.\n",
            "  self._set_keys()\n",
            "/usr/local/lib/python3.11/dist-packages/albumentations/core/composition.py:250: UserWarning: Got processor for keypoints, but no transform to process it.\n",
            "  self._set_keys()\n",
            "/usr/local/lib/python3.11/dist-packages/albumentations/core/composition.py:250: UserWarning: Got processor for keypoints, but no transform to process it.\n",
            "  self._set_keys()\n",
            "/usr/local/lib/python3.11/dist-packages/albumentations/core/composition.py:250: UserWarning: Got processor for keypoints, but no transform to process it.\n",
            "  self._set_keys()\n",
            "INFO:20250408_validation:[VALIDATION] - Epoch: [2] [191/532] eta: 0:00:40 n: 1 recall: 1.0 precision: 0.33 f1-score: 0.5 MAE: 2.0 MSE: 4.0 RMSE: 2.0 time: 0.1279 data: 0.0110 max mem: 14747\n",
            "/usr/local/lib/python3.11/dist-packages/albumentations/core/composition.py:250: UserWarning: Got processor for keypoints, but no transform to process it.\n",
            "  self._set_keys()\n"
          ]
        },
        {
          "output_type": "stream",
          "name": "stdout",
          "text": [
            "[VALIDATION] - Epoch: [2] [191/532] eta: 0:00:40 n: 1 recall: 1.0 precision: 0.33 f1-score: 0.5 MAE: 2.0 MSE: 4.0 RMSE: 2.0 time: 0.1279 data: 0.0110 max mem: 14747\n"
          ]
        },
        {
          "output_type": "stream",
          "name": "stderr",
          "text": [
            "/usr/local/lib/python3.11/dist-packages/albumentations/core/composition.py:250: UserWarning: Got processor for keypoints, but no transform to process it.\n",
            "  self._set_keys()\n",
            "/usr/local/lib/python3.11/dist-packages/albumentations/core/composition.py:250: UserWarning: Got processor for keypoints, but no transform to process it.\n",
            "  self._set_keys()\n",
            "/usr/local/lib/python3.11/dist-packages/albumentations/core/composition.py:250: UserWarning: Got processor for keypoints, but no transform to process it.\n",
            "  self._set_keys()\n",
            "/usr/local/lib/python3.11/dist-packages/albumentations/core/composition.py:250: UserWarning: Got processor for keypoints, but no transform to process it.\n",
            "  self._set_keys()\n",
            "/usr/local/lib/python3.11/dist-packages/albumentations/core/composition.py:250: UserWarning: Got processor for keypoints, but no transform to process it.\n",
            "  self._set_keys()\n",
            "/usr/local/lib/python3.11/dist-packages/albumentations/core/composition.py:250: UserWarning: Got processor for keypoints, but no transform to process it.\n",
            "  self._set_keys()\n",
            "/usr/local/lib/python3.11/dist-packages/albumentations/core/composition.py:250: UserWarning: Got processor for keypoints, but no transform to process it.\n",
            "  self._set_keys()\n",
            "/usr/local/lib/python3.11/dist-packages/albumentations/core/composition.py:250: UserWarning: Got processor for keypoints, but no transform to process it.\n",
            "  self._set_keys()\n",
            "/usr/local/lib/python3.11/dist-packages/albumentations/core/composition.py:250: UserWarning: Got processor for keypoints, but no transform to process it.\n",
            "  self._set_keys()\n",
            "INFO:20250408_validation:[VALIDATION] - Epoch: [2] [201/532] eta: 0:00:40 n: 3 recall: 1.0 precision: 0.6 f1-score: 0.75 MAE: 2.0 MSE: 4.0 RMSE: 2.0 time: 0.1454 data: 0.0136 max mem: 14747\n",
            "/usr/local/lib/python3.11/dist-packages/albumentations/core/composition.py:250: UserWarning: Got processor for keypoints, but no transform to process it.\n",
            "  self._set_keys()\n"
          ]
        },
        {
          "output_type": "stream",
          "name": "stdout",
          "text": [
            "[VALIDATION] - Epoch: [2] [201/532] eta: 0:00:40 n: 3 recall: 1.0 precision: 0.6 f1-score: 0.75 MAE: 2.0 MSE: 4.0 RMSE: 2.0 time: 0.1454 data: 0.0136 max mem: 14747\n"
          ]
        },
        {
          "output_type": "stream",
          "name": "stderr",
          "text": [
            "/usr/local/lib/python3.11/dist-packages/albumentations/core/composition.py:250: UserWarning: Got processor for keypoints, but no transform to process it.\n",
            "  self._set_keys()\n",
            "/usr/local/lib/python3.11/dist-packages/albumentations/core/composition.py:250: UserWarning: Got processor for keypoints, but no transform to process it.\n",
            "  self._set_keys()\n",
            "/usr/local/lib/python3.11/dist-packages/albumentations/core/composition.py:250: UserWarning: Got processor for keypoints, but no transform to process it.\n",
            "  self._set_keys()\n",
            "/usr/local/lib/python3.11/dist-packages/albumentations/core/composition.py:250: UserWarning: Got processor for keypoints, but no transform to process it.\n",
            "  self._set_keys()\n",
            "/usr/local/lib/python3.11/dist-packages/albumentations/core/composition.py:250: UserWarning: Got processor for keypoints, but no transform to process it.\n",
            "  self._set_keys()\n",
            "/usr/local/lib/python3.11/dist-packages/albumentations/core/composition.py:250: UserWarning: Got processor for keypoints, but no transform to process it.\n",
            "  self._set_keys()\n",
            "/usr/local/lib/python3.11/dist-packages/albumentations/core/composition.py:250: UserWarning: Got processor for keypoints, but no transform to process it.\n",
            "  self._set_keys()\n",
            "/usr/local/lib/python3.11/dist-packages/albumentations/core/composition.py:250: UserWarning: Got processor for keypoints, but no transform to process it.\n",
            "  self._set_keys()\n",
            "/usr/local/lib/python3.11/dist-packages/albumentations/core/composition.py:250: UserWarning: Got processor for keypoints, but no transform to process it.\n",
            "  self._set_keys()\n",
            "INFO:20250408_validation:[VALIDATION] - Epoch: [2] [211/532] eta: 0:00:39 n: 2 recall: 1.0 precision: 0.22 f1-score: 0.36 MAE: 7.0 MSE: 49.0 RMSE: 7.0 time: 0.1377 data: 0.0119 max mem: 14747\n",
            "/usr/local/lib/python3.11/dist-packages/albumentations/core/composition.py:250: UserWarning: Got processor for keypoints, but no transform to process it.\n",
            "  self._set_keys()\n"
          ]
        },
        {
          "output_type": "stream",
          "name": "stdout",
          "text": [
            "[VALIDATION] - Epoch: [2] [211/532] eta: 0:00:39 n: 2 recall: 1.0 precision: 0.22 f1-score: 0.36 MAE: 7.0 MSE: 49.0 RMSE: 7.0 time: 0.1377 data: 0.0119 max mem: 14747\n"
          ]
        },
        {
          "output_type": "stream",
          "name": "stderr",
          "text": [
            "/usr/local/lib/python3.11/dist-packages/albumentations/core/composition.py:250: UserWarning: Got processor for keypoints, but no transform to process it.\n",
            "  self._set_keys()\n",
            "/usr/local/lib/python3.11/dist-packages/albumentations/core/composition.py:250: UserWarning: Got processor for keypoints, but no transform to process it.\n",
            "  self._set_keys()\n",
            "/usr/local/lib/python3.11/dist-packages/albumentations/core/composition.py:250: UserWarning: Got processor for keypoints, but no transform to process it.\n",
            "  self._set_keys()\n",
            "/usr/local/lib/python3.11/dist-packages/albumentations/core/composition.py:250: UserWarning: Got processor for keypoints, but no transform to process it.\n",
            "  self._set_keys()\n",
            "/usr/local/lib/python3.11/dist-packages/albumentations/core/composition.py:250: UserWarning: Got processor for keypoints, but no transform to process it.\n",
            "  self._set_keys()\n",
            "/usr/local/lib/python3.11/dist-packages/albumentations/core/composition.py:250: UserWarning: Got processor for keypoints, but no transform to process it.\n",
            "  self._set_keys()\n",
            "/usr/local/lib/python3.11/dist-packages/albumentations/core/composition.py:250: UserWarning: Got processor for keypoints, but no transform to process it.\n",
            "  self._set_keys()\n",
            "/usr/local/lib/python3.11/dist-packages/albumentations/core/composition.py:250: UserWarning: Got processor for keypoints, but no transform to process it.\n",
            "  self._set_keys()\n",
            "/usr/local/lib/python3.11/dist-packages/albumentations/core/composition.py:250: UserWarning: Got processor for keypoints, but no transform to process it.\n",
            "  self._set_keys()\n",
            "INFO:20250408_validation:[VALIDATION] - Epoch: [2] [221/532] eta: 0:00:37 n: 2 recall: 1.0 precision: 0.4 f1-score: 0.57 MAE: 3.0 MSE: 9.0 RMSE: 3.0 time: 0.1194 data: 0.0093 max mem: 14747\n",
            "/usr/local/lib/python3.11/dist-packages/albumentations/core/composition.py:250: UserWarning: Got processor for keypoints, but no transform to process it.\n",
            "  self._set_keys()\n"
          ]
        },
        {
          "output_type": "stream",
          "name": "stdout",
          "text": [
            "[VALIDATION] - Epoch: [2] [221/532] eta: 0:00:37 n: 2 recall: 1.0 precision: 0.4 f1-score: 0.57 MAE: 3.0 MSE: 9.0 RMSE: 3.0 time: 0.1194 data: 0.0093 max mem: 14747\n"
          ]
        },
        {
          "output_type": "stream",
          "name": "stderr",
          "text": [
            "/usr/local/lib/python3.11/dist-packages/albumentations/core/composition.py:250: UserWarning: Got processor for keypoints, but no transform to process it.\n",
            "  self._set_keys()\n",
            "/usr/local/lib/python3.11/dist-packages/albumentations/core/composition.py:250: UserWarning: Got processor for keypoints, but no transform to process it.\n",
            "  self._set_keys()\n",
            "/usr/local/lib/python3.11/dist-packages/albumentations/core/composition.py:250: UserWarning: Got processor for keypoints, but no transform to process it.\n",
            "  self._set_keys()\n",
            "/usr/local/lib/python3.11/dist-packages/albumentations/core/composition.py:250: UserWarning: Got processor for keypoints, but no transform to process it.\n",
            "  self._set_keys()\n",
            "/usr/local/lib/python3.11/dist-packages/albumentations/core/composition.py:250: UserWarning: Got processor for keypoints, but no transform to process it.\n",
            "  self._set_keys()\n",
            "/usr/local/lib/python3.11/dist-packages/albumentations/core/composition.py:250: UserWarning: Got processor for keypoints, but no transform to process it.\n",
            "  self._set_keys()\n",
            "/usr/local/lib/python3.11/dist-packages/albumentations/core/composition.py:250: UserWarning: Got processor for keypoints, but no transform to process it.\n",
            "  self._set_keys()\n",
            "/usr/local/lib/python3.11/dist-packages/albumentations/core/composition.py:250: UserWarning: Got processor for keypoints, but no transform to process it.\n",
            "  self._set_keys()\n",
            "/usr/local/lib/python3.11/dist-packages/albumentations/core/composition.py:250: UserWarning: Got processor for keypoints, but no transform to process it.\n",
            "  self._set_keys()\n",
            "INFO:20250408_validation:[VALIDATION] - Epoch: [2] [231/532] eta: 0:00:36 n: 2 recall: 1.0 precision: 0.67 f1-score: 0.8 MAE: 1.0 MSE: 1.0 RMSE: 1.0 time: 0.1154 data: 0.0089 max mem: 14747\n",
            "/usr/local/lib/python3.11/dist-packages/albumentations/core/composition.py:250: UserWarning: Got processor for keypoints, but no transform to process it.\n",
            "  self._set_keys()\n"
          ]
        },
        {
          "output_type": "stream",
          "name": "stdout",
          "text": [
            "[VALIDATION] - Epoch: [2] [231/532] eta: 0:00:36 n: 2 recall: 1.0 precision: 0.67 f1-score: 0.8 MAE: 1.0 MSE: 1.0 RMSE: 1.0 time: 0.1154 data: 0.0089 max mem: 14747\n"
          ]
        },
        {
          "output_type": "stream",
          "name": "stderr",
          "text": [
            "/usr/local/lib/python3.11/dist-packages/albumentations/core/composition.py:250: UserWarning: Got processor for keypoints, but no transform to process it.\n",
            "  self._set_keys()\n",
            "/usr/local/lib/python3.11/dist-packages/albumentations/core/composition.py:250: UserWarning: Got processor for keypoints, but no transform to process it.\n",
            "  self._set_keys()\n",
            "/usr/local/lib/python3.11/dist-packages/albumentations/core/composition.py:250: UserWarning: Got processor for keypoints, but no transform to process it.\n",
            "  self._set_keys()\n",
            "/usr/local/lib/python3.11/dist-packages/albumentations/core/composition.py:250: UserWarning: Got processor for keypoints, but no transform to process it.\n",
            "  self._set_keys()\n",
            "/usr/local/lib/python3.11/dist-packages/albumentations/core/composition.py:250: UserWarning: Got processor for keypoints, but no transform to process it.\n",
            "  self._set_keys()\n",
            "/usr/local/lib/python3.11/dist-packages/albumentations/core/composition.py:250: UserWarning: Got processor for keypoints, but no transform to process it.\n",
            "  self._set_keys()\n",
            "/usr/local/lib/python3.11/dist-packages/albumentations/core/composition.py:250: UserWarning: Got processor for keypoints, but no transform to process it.\n",
            "  self._set_keys()\n",
            "/usr/local/lib/python3.11/dist-packages/albumentations/core/composition.py:250: UserWarning: Got processor for keypoints, but no transform to process it.\n",
            "  self._set_keys()\n",
            "/usr/local/lib/python3.11/dist-packages/albumentations/core/composition.py:250: UserWarning: Got processor for keypoints, but no transform to process it.\n",
            "  self._set_keys()\n",
            "INFO:20250408_validation:[VALIDATION] - Epoch: [2] [241/532] eta: 0:00:35 n: 2 recall: 0.5 precision: 0.33 f1-score: 0.4 MAE: 1.0 MSE: 1.0 RMSE: 1.0 time: 0.1158 data: 0.0090 max mem: 14747\n",
            "/usr/local/lib/python3.11/dist-packages/albumentations/core/composition.py:250: UserWarning: Got processor for keypoints, but no transform to process it.\n",
            "  self._set_keys()\n"
          ]
        },
        {
          "output_type": "stream",
          "name": "stdout",
          "text": [
            "[VALIDATION] - Epoch: [2] [241/532] eta: 0:00:35 n: 2 recall: 0.5 precision: 0.33 f1-score: 0.4 MAE: 1.0 MSE: 1.0 RMSE: 1.0 time: 0.1158 data: 0.0090 max mem: 14747\n"
          ]
        },
        {
          "output_type": "stream",
          "name": "stderr",
          "text": [
            "/usr/local/lib/python3.11/dist-packages/albumentations/core/composition.py:250: UserWarning: Got processor for keypoints, but no transform to process it.\n",
            "  self._set_keys()\n",
            "/usr/local/lib/python3.11/dist-packages/albumentations/core/composition.py:250: UserWarning: Got processor for keypoints, but no transform to process it.\n",
            "  self._set_keys()\n",
            "/usr/local/lib/python3.11/dist-packages/albumentations/core/composition.py:250: UserWarning: Got processor for keypoints, but no transform to process it.\n",
            "  self._set_keys()\n",
            "/usr/local/lib/python3.11/dist-packages/albumentations/core/composition.py:250: UserWarning: Got processor for keypoints, but no transform to process it.\n",
            "  self._set_keys()\n",
            "/usr/local/lib/python3.11/dist-packages/albumentations/core/composition.py:250: UserWarning: Got processor for keypoints, but no transform to process it.\n",
            "  self._set_keys()\n",
            "/usr/local/lib/python3.11/dist-packages/albumentations/core/composition.py:250: UserWarning: Got processor for keypoints, but no transform to process it.\n",
            "  self._set_keys()\n",
            "/usr/local/lib/python3.11/dist-packages/albumentations/core/composition.py:250: UserWarning: Got processor for keypoints, but no transform to process it.\n",
            "  self._set_keys()\n",
            "/usr/local/lib/python3.11/dist-packages/albumentations/core/composition.py:250: UserWarning: Got processor for keypoints, but no transform to process it.\n",
            "  self._set_keys()\n",
            "/usr/local/lib/python3.11/dist-packages/albumentations/core/composition.py:250: UserWarning: Got processor for keypoints, but no transform to process it.\n",
            "  self._set_keys()\n",
            "INFO:20250408_validation:[VALIDATION] - Epoch: [2] [251/532] eta: 0:00:34 n: 5 recall: 0.8 precision: 1.0 f1-score: 0.89 MAE: 1.0 MSE: 1.0 RMSE: 1.0 time: 0.1161 data: 0.0091 max mem: 14747\n",
            "/usr/local/lib/python3.11/dist-packages/albumentations/core/composition.py:250: UserWarning: Got processor for keypoints, but no transform to process it.\n",
            "  self._set_keys()\n"
          ]
        },
        {
          "output_type": "stream",
          "name": "stdout",
          "text": [
            "[VALIDATION] - Epoch: [2] [251/532] eta: 0:00:34 n: 5 recall: 0.8 precision: 1.0 f1-score: 0.89 MAE: 1.0 MSE: 1.0 RMSE: 1.0 time: 0.1161 data: 0.0091 max mem: 14747\n"
          ]
        },
        {
          "output_type": "stream",
          "name": "stderr",
          "text": [
            "/usr/local/lib/python3.11/dist-packages/albumentations/core/composition.py:250: UserWarning: Got processor for keypoints, but no transform to process it.\n",
            "  self._set_keys()\n",
            "/usr/local/lib/python3.11/dist-packages/albumentations/core/composition.py:250: UserWarning: Got processor for keypoints, but no transform to process it.\n",
            "  self._set_keys()\n",
            "/usr/local/lib/python3.11/dist-packages/albumentations/core/composition.py:250: UserWarning: Got processor for keypoints, but no transform to process it.\n",
            "  self._set_keys()\n",
            "/usr/local/lib/python3.11/dist-packages/albumentations/core/composition.py:250: UserWarning: Got processor for keypoints, but no transform to process it.\n",
            "  self._set_keys()\n",
            "/usr/local/lib/python3.11/dist-packages/albumentations/core/composition.py:250: UserWarning: Got processor for keypoints, but no transform to process it.\n",
            "  self._set_keys()\n",
            "/usr/local/lib/python3.11/dist-packages/albumentations/core/composition.py:250: UserWarning: Got processor for keypoints, but no transform to process it.\n",
            "  self._set_keys()\n",
            "/usr/local/lib/python3.11/dist-packages/albumentations/core/composition.py:250: UserWarning: Got processor for keypoints, but no transform to process it.\n",
            "  self._set_keys()\n",
            "/usr/local/lib/python3.11/dist-packages/albumentations/core/composition.py:250: UserWarning: Got processor for keypoints, but no transform to process it.\n",
            "  self._set_keys()\n",
            "/usr/local/lib/python3.11/dist-packages/albumentations/core/composition.py:250: UserWarning: Got processor for keypoints, but no transform to process it.\n",
            "  self._set_keys()\n",
            "INFO:20250408_validation:[VALIDATION] - Epoch: [2] [261/532] eta: 0:00:32 n: 1 recall: 1.0 precision: 0.25 f1-score: 0.4 MAE: 3.0 MSE: 9.0 RMSE: 3.0 time: 0.1167 data: 0.0091 max mem: 14747\n",
            "/usr/local/lib/python3.11/dist-packages/albumentations/core/composition.py:250: UserWarning: Got processor for keypoints, but no transform to process it.\n",
            "  self._set_keys()\n"
          ]
        },
        {
          "output_type": "stream",
          "name": "stdout",
          "text": [
            "[VALIDATION] - Epoch: [2] [261/532] eta: 0:00:32 n: 1 recall: 1.0 precision: 0.25 f1-score: 0.4 MAE: 3.0 MSE: 9.0 RMSE: 3.0 time: 0.1167 data: 0.0091 max mem: 14747\n"
          ]
        },
        {
          "output_type": "stream",
          "name": "stderr",
          "text": [
            "/usr/local/lib/python3.11/dist-packages/albumentations/core/composition.py:250: UserWarning: Got processor for keypoints, but no transform to process it.\n",
            "  self._set_keys()\n",
            "/usr/local/lib/python3.11/dist-packages/albumentations/core/composition.py:250: UserWarning: Got processor for keypoints, but no transform to process it.\n",
            "  self._set_keys()\n",
            "/usr/local/lib/python3.11/dist-packages/albumentations/core/composition.py:250: UserWarning: Got processor for keypoints, but no transform to process it.\n",
            "  self._set_keys()\n",
            "/usr/local/lib/python3.11/dist-packages/albumentations/core/composition.py:250: UserWarning: Got processor for keypoints, but no transform to process it.\n",
            "  self._set_keys()\n",
            "/usr/local/lib/python3.11/dist-packages/albumentations/core/composition.py:250: UserWarning: Got processor for keypoints, but no transform to process it.\n",
            "  self._set_keys()\n",
            "/usr/local/lib/python3.11/dist-packages/albumentations/core/composition.py:250: UserWarning: Got processor for keypoints, but no transform to process it.\n",
            "  self._set_keys()\n",
            "/usr/local/lib/python3.11/dist-packages/albumentations/core/composition.py:250: UserWarning: Got processor for keypoints, but no transform to process it.\n",
            "  self._set_keys()\n",
            "/usr/local/lib/python3.11/dist-packages/albumentations/core/composition.py:250: UserWarning: Got processor for keypoints, but no transform to process it.\n",
            "  self._set_keys()\n",
            "/usr/local/lib/python3.11/dist-packages/albumentations/core/composition.py:250: UserWarning: Got processor for keypoints, but no transform to process it.\n",
            "  self._set_keys()\n",
            "INFO:20250408_validation:[VALIDATION] - Epoch: [2] [271/532] eta: 0:00:31 n: 1 recall: 1.0 precision: 0.25 f1-score: 0.4 MAE: 3.0 MSE: 9.0 RMSE: 3.0 time: 0.1166 data: 0.0090 max mem: 14747\n",
            "/usr/local/lib/python3.11/dist-packages/albumentations/core/composition.py:250: UserWarning: Got processor for keypoints, but no transform to process it.\n",
            "  self._set_keys()\n"
          ]
        },
        {
          "output_type": "stream",
          "name": "stdout",
          "text": [
            "[VALIDATION] - Epoch: [2] [271/532] eta: 0:00:31 n: 1 recall: 1.0 precision: 0.25 f1-score: 0.4 MAE: 3.0 MSE: 9.0 RMSE: 3.0 time: 0.1166 data: 0.0090 max mem: 14747\n"
          ]
        },
        {
          "output_type": "stream",
          "name": "stderr",
          "text": [
            "/usr/local/lib/python3.11/dist-packages/albumentations/core/composition.py:250: UserWarning: Got processor for keypoints, but no transform to process it.\n",
            "  self._set_keys()\n",
            "/usr/local/lib/python3.11/dist-packages/albumentations/core/composition.py:250: UserWarning: Got processor for keypoints, but no transform to process it.\n",
            "  self._set_keys()\n",
            "/usr/local/lib/python3.11/dist-packages/albumentations/core/composition.py:250: UserWarning: Got processor for keypoints, but no transform to process it.\n",
            "  self._set_keys()\n",
            "/usr/local/lib/python3.11/dist-packages/albumentations/core/composition.py:250: UserWarning: Got processor for keypoints, but no transform to process it.\n",
            "  self._set_keys()\n",
            "/usr/local/lib/python3.11/dist-packages/albumentations/core/composition.py:250: UserWarning: Got processor for keypoints, but no transform to process it.\n",
            "  self._set_keys()\n",
            "/usr/local/lib/python3.11/dist-packages/albumentations/core/composition.py:250: UserWarning: Got processor for keypoints, but no transform to process it.\n",
            "  self._set_keys()\n",
            "/usr/local/lib/python3.11/dist-packages/albumentations/core/composition.py:250: UserWarning: Got processor for keypoints, but no transform to process it.\n",
            "  self._set_keys()\n",
            "/usr/local/lib/python3.11/dist-packages/albumentations/core/composition.py:250: UserWarning: Got processor for keypoints, but no transform to process it.\n",
            "  self._set_keys()\n",
            "/usr/local/lib/python3.11/dist-packages/albumentations/core/composition.py:250: UserWarning: Got processor for keypoints, but no transform to process it.\n",
            "  self._set_keys()\n",
            "INFO:20250408_validation:[VALIDATION] - Epoch: [2] [281/532] eta: 0:00:30 n: 1 recall: 1.0 precision: 0.33 f1-score: 0.5 MAE: 2.0 MSE: 4.0 RMSE: 2.0 time: 0.1153 data: 0.0088 max mem: 14747\n",
            "/usr/local/lib/python3.11/dist-packages/albumentations/core/composition.py:250: UserWarning: Got processor for keypoints, but no transform to process it.\n",
            "  self._set_keys()\n"
          ]
        },
        {
          "output_type": "stream",
          "name": "stdout",
          "text": [
            "[VALIDATION] - Epoch: [2] [281/532] eta: 0:00:30 n: 1 recall: 1.0 precision: 0.33 f1-score: 0.5 MAE: 2.0 MSE: 4.0 RMSE: 2.0 time: 0.1153 data: 0.0088 max mem: 14747\n"
          ]
        },
        {
          "output_type": "stream",
          "name": "stderr",
          "text": [
            "/usr/local/lib/python3.11/dist-packages/albumentations/core/composition.py:250: UserWarning: Got processor for keypoints, but no transform to process it.\n",
            "  self._set_keys()\n",
            "/usr/local/lib/python3.11/dist-packages/albumentations/core/composition.py:250: UserWarning: Got processor for keypoints, but no transform to process it.\n",
            "  self._set_keys()\n",
            "/usr/local/lib/python3.11/dist-packages/albumentations/core/composition.py:250: UserWarning: Got processor for keypoints, but no transform to process it.\n",
            "  self._set_keys()\n",
            "/usr/local/lib/python3.11/dist-packages/albumentations/core/composition.py:250: UserWarning: Got processor for keypoints, but no transform to process it.\n",
            "  self._set_keys()\n",
            "/usr/local/lib/python3.11/dist-packages/albumentations/core/composition.py:250: UserWarning: Got processor for keypoints, but no transform to process it.\n",
            "  self._set_keys()\n",
            "/usr/local/lib/python3.11/dist-packages/albumentations/core/composition.py:250: UserWarning: Got processor for keypoints, but no transform to process it.\n",
            "  self._set_keys()\n",
            "/usr/local/lib/python3.11/dist-packages/albumentations/core/composition.py:250: UserWarning: Got processor for keypoints, but no transform to process it.\n",
            "  self._set_keys()\n",
            "/usr/local/lib/python3.11/dist-packages/albumentations/core/composition.py:250: UserWarning: Got processor for keypoints, but no transform to process it.\n",
            "  self._set_keys()\n",
            "/usr/local/lib/python3.11/dist-packages/albumentations/core/composition.py:250: UserWarning: Got processor for keypoints, but no transform to process it.\n",
            "  self._set_keys()\n",
            "INFO:20250408_validation:[VALIDATION] - Epoch: [2] [291/532] eta: 0:00:29 n: 1 recall: 1.0 precision: 0.17 f1-score: 0.29 MAE: 5.0 MSE: 25.0 RMSE: 5.0 time: 0.1191 data: 0.0090 max mem: 14747\n",
            "/usr/local/lib/python3.11/dist-packages/albumentations/core/composition.py:250: UserWarning: Got processor for keypoints, but no transform to process it.\n",
            "  self._set_keys()\n"
          ]
        },
        {
          "output_type": "stream",
          "name": "stdout",
          "text": [
            "[VALIDATION] - Epoch: [2] [291/532] eta: 0:00:29 n: 1 recall: 1.0 precision: 0.17 f1-score: 0.29 MAE: 5.0 MSE: 25.0 RMSE: 5.0 time: 0.1191 data: 0.0090 max mem: 14747\n"
          ]
        },
        {
          "output_type": "stream",
          "name": "stderr",
          "text": [
            "/usr/local/lib/python3.11/dist-packages/albumentations/core/composition.py:250: UserWarning: Got processor for keypoints, but no transform to process it.\n",
            "  self._set_keys()\n",
            "/usr/local/lib/python3.11/dist-packages/albumentations/core/composition.py:250: UserWarning: Got processor for keypoints, but no transform to process it.\n",
            "  self._set_keys()\n",
            "/usr/local/lib/python3.11/dist-packages/albumentations/core/composition.py:250: UserWarning: Got processor for keypoints, but no transform to process it.\n",
            "  self._set_keys()\n",
            "/usr/local/lib/python3.11/dist-packages/albumentations/core/composition.py:250: UserWarning: Got processor for keypoints, but no transform to process it.\n",
            "  self._set_keys()\n",
            "/usr/local/lib/python3.11/dist-packages/albumentations/core/composition.py:250: UserWarning: Got processor for keypoints, but no transform to process it.\n",
            "  self._set_keys()\n",
            "/usr/local/lib/python3.11/dist-packages/albumentations/core/composition.py:250: UserWarning: Got processor for keypoints, but no transform to process it.\n",
            "  self._set_keys()\n",
            "/usr/local/lib/python3.11/dist-packages/albumentations/core/composition.py:250: UserWarning: Got processor for keypoints, but no transform to process it.\n",
            "  self._set_keys()\n",
            "/usr/local/lib/python3.11/dist-packages/albumentations/core/composition.py:250: UserWarning: Got processor for keypoints, but no transform to process it.\n",
            "  self._set_keys()\n",
            "/usr/local/lib/python3.11/dist-packages/albumentations/core/composition.py:250: UserWarning: Got processor for keypoints, but no transform to process it.\n",
            "  self._set_keys()\n",
            "INFO:20250408_validation:[VALIDATION] - Epoch: [2] [301/532] eta: 0:00:28 n: 1 recall: 1.0 precision: 0.5 f1-score: 0.67 MAE: 1.0 MSE: 1.0 RMSE: 1.0 time: 0.1307 data: 0.0105 max mem: 14747\n",
            "/usr/local/lib/python3.11/dist-packages/albumentations/core/composition.py:250: UserWarning: Got processor for keypoints, but no transform to process it.\n",
            "  self._set_keys()\n"
          ]
        },
        {
          "output_type": "stream",
          "name": "stdout",
          "text": [
            "[VALIDATION] - Epoch: [2] [301/532] eta: 0:00:28 n: 1 recall: 1.0 precision: 0.5 f1-score: 0.67 MAE: 1.0 MSE: 1.0 RMSE: 1.0 time: 0.1307 data: 0.0105 max mem: 14747\n"
          ]
        },
        {
          "output_type": "stream",
          "name": "stderr",
          "text": [
            "/usr/local/lib/python3.11/dist-packages/albumentations/core/composition.py:250: UserWarning: Got processor for keypoints, but no transform to process it.\n",
            "  self._set_keys()\n",
            "/usr/local/lib/python3.11/dist-packages/albumentations/core/composition.py:250: UserWarning: Got processor for keypoints, but no transform to process it.\n",
            "  self._set_keys()\n",
            "/usr/local/lib/python3.11/dist-packages/albumentations/core/composition.py:250: UserWarning: Got processor for keypoints, but no transform to process it.\n",
            "  self._set_keys()\n",
            "/usr/local/lib/python3.11/dist-packages/albumentations/core/composition.py:250: UserWarning: Got processor for keypoints, but no transform to process it.\n",
            "  self._set_keys()\n",
            "/usr/local/lib/python3.11/dist-packages/albumentations/core/composition.py:250: UserWarning: Got processor for keypoints, but no transform to process it.\n",
            "  self._set_keys()\n",
            "/usr/local/lib/python3.11/dist-packages/albumentations/core/composition.py:250: UserWarning: Got processor for keypoints, but no transform to process it.\n",
            "  self._set_keys()\n",
            "/usr/local/lib/python3.11/dist-packages/albumentations/core/composition.py:250: UserWarning: Got processor for keypoints, but no transform to process it.\n",
            "  self._set_keys()\n",
            "/usr/local/lib/python3.11/dist-packages/albumentations/core/composition.py:250: UserWarning: Got processor for keypoints, but no transform to process it.\n",
            "  self._set_keys()\n",
            "/usr/local/lib/python3.11/dist-packages/albumentations/core/composition.py:250: UserWarning: Got processor for keypoints, but no transform to process it.\n",
            "  self._set_keys()\n",
            "INFO:20250408_validation:[VALIDATION] - Epoch: [2] [311/532] eta: 0:00:27 n: 2 recall: 1.0 precision: 0.67 f1-score: 0.8 MAE: 1.0 MSE: 1.0 RMSE: 1.0 time: 0.1423 data: 0.0125 max mem: 14747\n",
            "/usr/local/lib/python3.11/dist-packages/albumentations/core/composition.py:250: UserWarning: Got processor for keypoints, but no transform to process it.\n",
            "  self._set_keys()\n"
          ]
        },
        {
          "output_type": "stream",
          "name": "stdout",
          "text": [
            "[VALIDATION] - Epoch: [2] [311/532] eta: 0:00:27 n: 2 recall: 1.0 precision: 0.67 f1-score: 0.8 MAE: 1.0 MSE: 1.0 RMSE: 1.0 time: 0.1423 data: 0.0125 max mem: 14747\n"
          ]
        },
        {
          "output_type": "stream",
          "name": "stderr",
          "text": [
            "/usr/local/lib/python3.11/dist-packages/albumentations/core/composition.py:250: UserWarning: Got processor for keypoints, but no transform to process it.\n",
            "  self._set_keys()\n",
            "/usr/local/lib/python3.11/dist-packages/albumentations/core/composition.py:250: UserWarning: Got processor for keypoints, but no transform to process it.\n",
            "  self._set_keys()\n",
            "/usr/local/lib/python3.11/dist-packages/albumentations/core/composition.py:250: UserWarning: Got processor for keypoints, but no transform to process it.\n",
            "  self._set_keys()\n",
            "/usr/local/lib/python3.11/dist-packages/albumentations/core/composition.py:250: UserWarning: Got processor for keypoints, but no transform to process it.\n",
            "  self._set_keys()\n",
            "/usr/local/lib/python3.11/dist-packages/albumentations/core/composition.py:250: UserWarning: Got processor for keypoints, but no transform to process it.\n",
            "  self._set_keys()\n",
            "/usr/local/lib/python3.11/dist-packages/albumentations/core/composition.py:250: UserWarning: Got processor for keypoints, but no transform to process it.\n",
            "  self._set_keys()\n",
            "/usr/local/lib/python3.11/dist-packages/albumentations/core/composition.py:250: UserWarning: Got processor for keypoints, but no transform to process it.\n",
            "  self._set_keys()\n",
            "/usr/local/lib/python3.11/dist-packages/albumentations/core/composition.py:250: UserWarning: Got processor for keypoints, but no transform to process it.\n",
            "  self._set_keys()\n",
            "/usr/local/lib/python3.11/dist-packages/albumentations/core/composition.py:250: UserWarning: Got processor for keypoints, but no transform to process it.\n",
            "  self._set_keys()\n",
            "INFO:20250408_validation:[VALIDATION] - Epoch: [2] [321/532] eta: 0:00:25 n: 2 recall: 1.0 precision: 1.0 f1-score: 1.0 MAE: 0.0 MSE: 0.0 RMSE: 0.0 time: 0.1312 data: 0.0108 max mem: 14747\n",
            "/usr/local/lib/python3.11/dist-packages/albumentations/core/composition.py:250: UserWarning: Got processor for keypoints, but no transform to process it.\n",
            "  self._set_keys()\n"
          ]
        },
        {
          "output_type": "stream",
          "name": "stdout",
          "text": [
            "[VALIDATION] - Epoch: [2] [321/532] eta: 0:00:25 n: 2 recall: 1.0 precision: 1.0 f1-score: 1.0 MAE: 0.0 MSE: 0.0 RMSE: 0.0 time: 0.1312 data: 0.0108 max mem: 14747\n"
          ]
        },
        {
          "output_type": "stream",
          "name": "stderr",
          "text": [
            "/usr/local/lib/python3.11/dist-packages/albumentations/core/composition.py:250: UserWarning: Got processor for keypoints, but no transform to process it.\n",
            "  self._set_keys()\n",
            "/usr/local/lib/python3.11/dist-packages/albumentations/core/composition.py:250: UserWarning: Got processor for keypoints, but no transform to process it.\n",
            "  self._set_keys()\n",
            "/usr/local/lib/python3.11/dist-packages/albumentations/core/composition.py:250: UserWarning: Got processor for keypoints, but no transform to process it.\n",
            "  self._set_keys()\n",
            "/usr/local/lib/python3.11/dist-packages/albumentations/core/composition.py:250: UserWarning: Got processor for keypoints, but no transform to process it.\n",
            "  self._set_keys()\n",
            "/usr/local/lib/python3.11/dist-packages/albumentations/core/composition.py:250: UserWarning: Got processor for keypoints, but no transform to process it.\n",
            "  self._set_keys()\n",
            "/usr/local/lib/python3.11/dist-packages/albumentations/core/composition.py:250: UserWarning: Got processor for keypoints, but no transform to process it.\n",
            "  self._set_keys()\n",
            "/usr/local/lib/python3.11/dist-packages/albumentations/core/composition.py:250: UserWarning: Got processor for keypoints, but no transform to process it.\n",
            "  self._set_keys()\n",
            "/usr/local/lib/python3.11/dist-packages/albumentations/core/composition.py:250: UserWarning: Got processor for keypoints, but no transform to process it.\n",
            "  self._set_keys()\n",
            "/usr/local/lib/python3.11/dist-packages/albumentations/core/composition.py:250: UserWarning: Got processor for keypoints, but no transform to process it.\n",
            "  self._set_keys()\n",
            "INFO:20250408_validation:[VALIDATION] - Epoch: [2] [331/532] eta: 0:00:24 n: 6 recall: 1.0 precision: 0.55 f1-score: 0.71 MAE: 5.0 MSE: 25.0 RMSE: 5.0 time: 0.1156 data: 0.0089 max mem: 14747\n",
            "/usr/local/lib/python3.11/dist-packages/albumentations/core/composition.py:250: UserWarning: Got processor for keypoints, but no transform to process it.\n",
            "  self._set_keys()\n"
          ]
        },
        {
          "output_type": "stream",
          "name": "stdout",
          "text": [
            "[VALIDATION] - Epoch: [2] [331/532] eta: 0:00:24 n: 6 recall: 1.0 precision: 0.55 f1-score: 0.71 MAE: 5.0 MSE: 25.0 RMSE: 5.0 time: 0.1156 data: 0.0089 max mem: 14747\n"
          ]
        },
        {
          "output_type": "stream",
          "name": "stderr",
          "text": [
            "/usr/local/lib/python3.11/dist-packages/albumentations/core/composition.py:250: UserWarning: Got processor for keypoints, but no transform to process it.\n",
            "  self._set_keys()\n",
            "/usr/local/lib/python3.11/dist-packages/albumentations/core/composition.py:250: UserWarning: Got processor for keypoints, but no transform to process it.\n",
            "  self._set_keys()\n",
            "/usr/local/lib/python3.11/dist-packages/albumentations/core/composition.py:250: UserWarning: Got processor for keypoints, but no transform to process it.\n",
            "  self._set_keys()\n",
            "/usr/local/lib/python3.11/dist-packages/albumentations/core/composition.py:250: UserWarning: Got processor for keypoints, but no transform to process it.\n",
            "  self._set_keys()\n",
            "/usr/local/lib/python3.11/dist-packages/albumentations/core/composition.py:250: UserWarning: Got processor for keypoints, but no transform to process it.\n",
            "  self._set_keys()\n",
            "/usr/local/lib/python3.11/dist-packages/albumentations/core/composition.py:250: UserWarning: Got processor for keypoints, but no transform to process it.\n",
            "  self._set_keys()\n",
            "/usr/local/lib/python3.11/dist-packages/albumentations/core/composition.py:250: UserWarning: Got processor for keypoints, but no transform to process it.\n",
            "  self._set_keys()\n",
            "/usr/local/lib/python3.11/dist-packages/albumentations/core/composition.py:250: UserWarning: Got processor for keypoints, but no transform to process it.\n",
            "  self._set_keys()\n",
            "/usr/local/lib/python3.11/dist-packages/albumentations/core/composition.py:250: UserWarning: Got processor for keypoints, but no transform to process it.\n",
            "  self._set_keys()\n",
            "INFO:20250408_validation:[VALIDATION] - Epoch: [2] [341/532] eta: 0:00:23 n: 1 recall: 1.0 precision: 0.25 f1-score: 0.4 MAE: 3.0 MSE: 9.0 RMSE: 3.0 time: 0.1152 data: 0.0093 max mem: 14747\n",
            "/usr/local/lib/python3.11/dist-packages/albumentations/core/composition.py:250: UserWarning: Got processor for keypoints, but no transform to process it.\n",
            "  self._set_keys()\n"
          ]
        },
        {
          "output_type": "stream",
          "name": "stdout",
          "text": [
            "[VALIDATION] - Epoch: [2] [341/532] eta: 0:00:23 n: 1 recall: 1.0 precision: 0.25 f1-score: 0.4 MAE: 3.0 MSE: 9.0 RMSE: 3.0 time: 0.1152 data: 0.0093 max mem: 14747\n"
          ]
        },
        {
          "output_type": "stream",
          "name": "stderr",
          "text": [
            "/usr/local/lib/python3.11/dist-packages/albumentations/core/composition.py:250: UserWarning: Got processor for keypoints, but no transform to process it.\n",
            "  self._set_keys()\n",
            "/usr/local/lib/python3.11/dist-packages/albumentations/core/composition.py:250: UserWarning: Got processor for keypoints, but no transform to process it.\n",
            "  self._set_keys()\n",
            "/usr/local/lib/python3.11/dist-packages/albumentations/core/composition.py:250: UserWarning: Got processor for keypoints, but no transform to process it.\n",
            "  self._set_keys()\n",
            "/usr/local/lib/python3.11/dist-packages/albumentations/core/composition.py:250: UserWarning: Got processor for keypoints, but no transform to process it.\n",
            "  self._set_keys()\n",
            "/usr/local/lib/python3.11/dist-packages/albumentations/core/composition.py:250: UserWarning: Got processor for keypoints, but no transform to process it.\n",
            "  self._set_keys()\n",
            "/usr/local/lib/python3.11/dist-packages/albumentations/core/composition.py:250: UserWarning: Got processor for keypoints, but no transform to process it.\n",
            "  self._set_keys()\n",
            "/usr/local/lib/python3.11/dist-packages/albumentations/core/composition.py:250: UserWarning: Got processor for keypoints, but no transform to process it.\n",
            "  self._set_keys()\n",
            "/usr/local/lib/python3.11/dist-packages/albumentations/core/composition.py:250: UserWarning: Got processor for keypoints, but no transform to process it.\n",
            "  self._set_keys()\n",
            "/usr/local/lib/python3.11/dist-packages/albumentations/core/composition.py:250: UserWarning: Got processor for keypoints, but no transform to process it.\n",
            "  self._set_keys()\n",
            "INFO:20250408_validation:[VALIDATION] - Epoch: [2] [351/532] eta: 0:00:22 n: 1 recall: 1.0 precision: 0.33 f1-score: 0.5 MAE: 2.0 MSE: 4.0 RMSE: 2.0 time: 0.1165 data: 0.0093 max mem: 14747\n",
            "/usr/local/lib/python3.11/dist-packages/albumentations/core/composition.py:250: UserWarning: Got processor for keypoints, but no transform to process it.\n",
            "  self._set_keys()\n"
          ]
        },
        {
          "output_type": "stream",
          "name": "stdout",
          "text": [
            "[VALIDATION] - Epoch: [2] [351/532] eta: 0:00:22 n: 1 recall: 1.0 precision: 0.33 f1-score: 0.5 MAE: 2.0 MSE: 4.0 RMSE: 2.0 time: 0.1165 data: 0.0093 max mem: 14747\n"
          ]
        },
        {
          "output_type": "stream",
          "name": "stderr",
          "text": [
            "/usr/local/lib/python3.11/dist-packages/albumentations/core/composition.py:250: UserWarning: Got processor for keypoints, but no transform to process it.\n",
            "  self._set_keys()\n",
            "/usr/local/lib/python3.11/dist-packages/albumentations/core/composition.py:250: UserWarning: Got processor for keypoints, but no transform to process it.\n",
            "  self._set_keys()\n",
            "/usr/local/lib/python3.11/dist-packages/albumentations/core/composition.py:250: UserWarning: Got processor for keypoints, but no transform to process it.\n",
            "  self._set_keys()\n",
            "/usr/local/lib/python3.11/dist-packages/albumentations/core/composition.py:250: UserWarning: Got processor for keypoints, but no transform to process it.\n",
            "  self._set_keys()\n",
            "/usr/local/lib/python3.11/dist-packages/albumentations/core/composition.py:250: UserWarning: Got processor for keypoints, but no transform to process it.\n",
            "  self._set_keys()\n",
            "/usr/local/lib/python3.11/dist-packages/albumentations/core/composition.py:250: UserWarning: Got processor for keypoints, but no transform to process it.\n",
            "  self._set_keys()\n",
            "/usr/local/lib/python3.11/dist-packages/albumentations/core/composition.py:250: UserWarning: Got processor for keypoints, but no transform to process it.\n",
            "  self._set_keys()\n",
            "/usr/local/lib/python3.11/dist-packages/albumentations/core/composition.py:250: UserWarning: Got processor for keypoints, but no transform to process it.\n",
            "  self._set_keys()\n",
            "/usr/local/lib/python3.11/dist-packages/albumentations/core/composition.py:250: UserWarning: Got processor for keypoints, but no transform to process it.\n",
            "  self._set_keys()\n",
            "INFO:20250408_validation:[VALIDATION] - Epoch: [2] [361/532] eta: 0:00:20 n: 3 recall: 1.0 precision: 0.6 f1-score: 0.75 MAE: 2.0 MSE: 4.0 RMSE: 2.0 time: 0.1160 data: 0.0089 max mem: 14747\n",
            "/usr/local/lib/python3.11/dist-packages/albumentations/core/composition.py:250: UserWarning: Got processor for keypoints, but no transform to process it.\n",
            "  self._set_keys()\n"
          ]
        },
        {
          "output_type": "stream",
          "name": "stdout",
          "text": [
            "[VALIDATION] - Epoch: [2] [361/532] eta: 0:00:20 n: 3 recall: 1.0 precision: 0.6 f1-score: 0.75 MAE: 2.0 MSE: 4.0 RMSE: 2.0 time: 0.1160 data: 0.0089 max mem: 14747\n"
          ]
        },
        {
          "output_type": "stream",
          "name": "stderr",
          "text": [
            "/usr/local/lib/python3.11/dist-packages/albumentations/core/composition.py:250: UserWarning: Got processor for keypoints, but no transform to process it.\n",
            "  self._set_keys()\n",
            "/usr/local/lib/python3.11/dist-packages/albumentations/core/composition.py:250: UserWarning: Got processor for keypoints, but no transform to process it.\n",
            "  self._set_keys()\n",
            "/usr/local/lib/python3.11/dist-packages/albumentations/core/composition.py:250: UserWarning: Got processor for keypoints, but no transform to process it.\n",
            "  self._set_keys()\n",
            "/usr/local/lib/python3.11/dist-packages/albumentations/core/composition.py:250: UserWarning: Got processor for keypoints, but no transform to process it.\n",
            "  self._set_keys()\n",
            "/usr/local/lib/python3.11/dist-packages/albumentations/core/composition.py:250: UserWarning: Got processor for keypoints, but no transform to process it.\n",
            "  self._set_keys()\n",
            "/usr/local/lib/python3.11/dist-packages/albumentations/core/composition.py:250: UserWarning: Got processor for keypoints, but no transform to process it.\n",
            "  self._set_keys()\n",
            "/usr/local/lib/python3.11/dist-packages/albumentations/core/composition.py:250: UserWarning: Got processor for keypoints, but no transform to process it.\n",
            "  self._set_keys()\n",
            "/usr/local/lib/python3.11/dist-packages/albumentations/core/composition.py:250: UserWarning: Got processor for keypoints, but no transform to process it.\n",
            "  self._set_keys()\n",
            "/usr/local/lib/python3.11/dist-packages/albumentations/core/composition.py:250: UserWarning: Got processor for keypoints, but no transform to process it.\n",
            "  self._set_keys()\n",
            "INFO:20250408_validation:[VALIDATION] - Epoch: [2] [371/532] eta: 0:00:19 n: 2 recall: 1.0 precision: 0.5 f1-score: 0.67 MAE: 2.0 MSE: 4.0 RMSE: 2.0 time: 0.1153 data: 0.0087 max mem: 14747\n",
            "/usr/local/lib/python3.11/dist-packages/albumentations/core/composition.py:250: UserWarning: Got processor for keypoints, but no transform to process it.\n",
            "  self._set_keys()\n"
          ]
        },
        {
          "output_type": "stream",
          "name": "stdout",
          "text": [
            "[VALIDATION] - Epoch: [2] [371/532] eta: 0:00:19 n: 2 recall: 1.0 precision: 0.5 f1-score: 0.67 MAE: 2.0 MSE: 4.0 RMSE: 2.0 time: 0.1153 data: 0.0087 max mem: 14747\n"
          ]
        },
        {
          "output_type": "stream",
          "name": "stderr",
          "text": [
            "/usr/local/lib/python3.11/dist-packages/albumentations/core/composition.py:250: UserWarning: Got processor for keypoints, but no transform to process it.\n",
            "  self._set_keys()\n",
            "/usr/local/lib/python3.11/dist-packages/albumentations/core/composition.py:250: UserWarning: Got processor for keypoints, but no transform to process it.\n",
            "  self._set_keys()\n",
            "/usr/local/lib/python3.11/dist-packages/albumentations/core/composition.py:250: UserWarning: Got processor for keypoints, but no transform to process it.\n",
            "  self._set_keys()\n",
            "/usr/local/lib/python3.11/dist-packages/albumentations/core/composition.py:250: UserWarning: Got processor for keypoints, but no transform to process it.\n",
            "  self._set_keys()\n",
            "/usr/local/lib/python3.11/dist-packages/albumentations/core/composition.py:250: UserWarning: Got processor for keypoints, but no transform to process it.\n",
            "  self._set_keys()\n",
            "/usr/local/lib/python3.11/dist-packages/albumentations/core/composition.py:250: UserWarning: Got processor for keypoints, but no transform to process it.\n",
            "  self._set_keys()\n",
            "/usr/local/lib/python3.11/dist-packages/albumentations/core/composition.py:250: UserWarning: Got processor for keypoints, but no transform to process it.\n",
            "  self._set_keys()\n",
            "/usr/local/lib/python3.11/dist-packages/albumentations/core/composition.py:250: UserWarning: Got processor for keypoints, but no transform to process it.\n",
            "  self._set_keys()\n",
            "/usr/local/lib/python3.11/dist-packages/albumentations/core/composition.py:250: UserWarning: Got processor for keypoints, but no transform to process it.\n",
            "  self._set_keys()\n",
            "INFO:20250408_validation:[VALIDATION] - Epoch: [2] [381/532] eta: 0:00:18 n: 2 recall: 1.0 precision: 1.0 f1-score: 1.0 MAE: 0.0 MSE: 0.0 RMSE: 0.0 time: 0.1163 data: 0.0088 max mem: 14747\n",
            "/usr/local/lib/python3.11/dist-packages/albumentations/core/composition.py:250: UserWarning: Got processor for keypoints, but no transform to process it.\n",
            "  self._set_keys()\n"
          ]
        },
        {
          "output_type": "stream",
          "name": "stdout",
          "text": [
            "[VALIDATION] - Epoch: [2] [381/532] eta: 0:00:18 n: 2 recall: 1.0 precision: 1.0 f1-score: 1.0 MAE: 0.0 MSE: 0.0 RMSE: 0.0 time: 0.1163 data: 0.0088 max mem: 14747\n"
          ]
        },
        {
          "output_type": "stream",
          "name": "stderr",
          "text": [
            "/usr/local/lib/python3.11/dist-packages/albumentations/core/composition.py:250: UserWarning: Got processor for keypoints, but no transform to process it.\n",
            "  self._set_keys()\n",
            "/usr/local/lib/python3.11/dist-packages/albumentations/core/composition.py:250: UserWarning: Got processor for keypoints, but no transform to process it.\n",
            "  self._set_keys()\n",
            "/usr/local/lib/python3.11/dist-packages/albumentations/core/composition.py:250: UserWarning: Got processor for keypoints, but no transform to process it.\n",
            "  self._set_keys()\n",
            "/usr/local/lib/python3.11/dist-packages/albumentations/core/composition.py:250: UserWarning: Got processor for keypoints, but no transform to process it.\n",
            "  self._set_keys()\n",
            "/usr/local/lib/python3.11/dist-packages/albumentations/core/composition.py:250: UserWarning: Got processor for keypoints, but no transform to process it.\n",
            "  self._set_keys()\n",
            "/usr/local/lib/python3.11/dist-packages/albumentations/core/composition.py:250: UserWarning: Got processor for keypoints, but no transform to process it.\n",
            "  self._set_keys()\n",
            "/usr/local/lib/python3.11/dist-packages/albumentations/core/composition.py:250: UserWarning: Got processor for keypoints, but no transform to process it.\n",
            "  self._set_keys()\n",
            "/usr/local/lib/python3.11/dist-packages/albumentations/core/composition.py:250: UserWarning: Got processor for keypoints, but no transform to process it.\n",
            "  self._set_keys()\n",
            "/usr/local/lib/python3.11/dist-packages/albumentations/core/composition.py:250: UserWarning: Got processor for keypoints, but no transform to process it.\n",
            "  self._set_keys()\n",
            "INFO:20250408_validation:[VALIDATION] - Epoch: [2] [391/532] eta: 0:00:17 n: 1 recall: 1.0 precision: 0.2 f1-score: 0.33 MAE: 4.0 MSE: 16.0 RMSE: 4.0 time: 0.1153 data: 0.0086 max mem: 14747\n",
            "/usr/local/lib/python3.11/dist-packages/albumentations/core/composition.py:250: UserWarning: Got processor for keypoints, but no transform to process it.\n",
            "  self._set_keys()\n"
          ]
        },
        {
          "output_type": "stream",
          "name": "stdout",
          "text": [
            "[VALIDATION] - Epoch: [2] [391/532] eta: 0:00:17 n: 1 recall: 1.0 precision: 0.2 f1-score: 0.33 MAE: 4.0 MSE: 16.0 RMSE: 4.0 time: 0.1153 data: 0.0086 max mem: 14747\n"
          ]
        },
        {
          "output_type": "stream",
          "name": "stderr",
          "text": [
            "/usr/local/lib/python3.11/dist-packages/albumentations/core/composition.py:250: UserWarning: Got processor for keypoints, but no transform to process it.\n",
            "  self._set_keys()\n",
            "/usr/local/lib/python3.11/dist-packages/albumentations/core/composition.py:250: UserWarning: Got processor for keypoints, but no transform to process it.\n",
            "  self._set_keys()\n",
            "/usr/local/lib/python3.11/dist-packages/albumentations/core/composition.py:250: UserWarning: Got processor for keypoints, but no transform to process it.\n",
            "  self._set_keys()\n",
            "/usr/local/lib/python3.11/dist-packages/albumentations/core/composition.py:250: UserWarning: Got processor for keypoints, but no transform to process it.\n",
            "  self._set_keys()\n",
            "/usr/local/lib/python3.11/dist-packages/albumentations/core/composition.py:250: UserWarning: Got processor for keypoints, but no transform to process it.\n",
            "  self._set_keys()\n",
            "/usr/local/lib/python3.11/dist-packages/albumentations/core/composition.py:250: UserWarning: Got processor for keypoints, but no transform to process it.\n",
            "  self._set_keys()\n",
            "/usr/local/lib/python3.11/dist-packages/albumentations/core/composition.py:250: UserWarning: Got processor for keypoints, but no transform to process it.\n",
            "  self._set_keys()\n",
            "/usr/local/lib/python3.11/dist-packages/albumentations/core/composition.py:250: UserWarning: Got processor for keypoints, but no transform to process it.\n",
            "  self._set_keys()\n",
            "/usr/local/lib/python3.11/dist-packages/albumentations/core/composition.py:250: UserWarning: Got processor for keypoints, but no transform to process it.\n",
            "  self._set_keys()\n",
            "INFO:20250408_validation:[VALIDATION] - Epoch: [2] [401/532] eta: 0:00:15 n: 2 recall: 1.0 precision: 0.4 f1-score: 0.57 MAE: 3.0 MSE: 9.0 RMSE: 3.0 time: 0.1209 data: 0.0096 max mem: 14747\n",
            "/usr/local/lib/python3.11/dist-packages/albumentations/core/composition.py:250: UserWarning: Got processor for keypoints, but no transform to process it.\n",
            "  self._set_keys()\n"
          ]
        },
        {
          "output_type": "stream",
          "name": "stdout",
          "text": [
            "[VALIDATION] - Epoch: [2] [401/532] eta: 0:00:15 n: 2 recall: 1.0 precision: 0.4 f1-score: 0.57 MAE: 3.0 MSE: 9.0 RMSE: 3.0 time: 0.1209 data: 0.0096 max mem: 14747\n"
          ]
        },
        {
          "output_type": "stream",
          "name": "stderr",
          "text": [
            "/usr/local/lib/python3.11/dist-packages/albumentations/core/composition.py:250: UserWarning: Got processor for keypoints, but no transform to process it.\n",
            "  self._set_keys()\n",
            "/usr/local/lib/python3.11/dist-packages/albumentations/core/composition.py:250: UserWarning: Got processor for keypoints, but no transform to process it.\n",
            "  self._set_keys()\n",
            "/usr/local/lib/python3.11/dist-packages/albumentations/core/composition.py:250: UserWarning: Got processor for keypoints, but no transform to process it.\n",
            "  self._set_keys()\n",
            "/usr/local/lib/python3.11/dist-packages/albumentations/core/composition.py:250: UserWarning: Got processor for keypoints, but no transform to process it.\n",
            "  self._set_keys()\n",
            "/usr/local/lib/python3.11/dist-packages/albumentations/core/composition.py:250: UserWarning: Got processor for keypoints, but no transform to process it.\n",
            "  self._set_keys()\n",
            "/usr/local/lib/python3.11/dist-packages/albumentations/core/composition.py:250: UserWarning: Got processor for keypoints, but no transform to process it.\n",
            "  self._set_keys()\n",
            "/usr/local/lib/python3.11/dist-packages/albumentations/core/composition.py:250: UserWarning: Got processor for keypoints, but no transform to process it.\n",
            "  self._set_keys()\n",
            "/usr/local/lib/python3.11/dist-packages/albumentations/core/composition.py:250: UserWarning: Got processor for keypoints, but no transform to process it.\n",
            "  self._set_keys()\n",
            "/usr/local/lib/python3.11/dist-packages/albumentations/core/composition.py:250: UserWarning: Got processor for keypoints, but no transform to process it.\n",
            "  self._set_keys()\n",
            "INFO:20250408_validation:[VALIDATION] - Epoch: [2] [411/532] eta: 0:00:14 n: 1 recall: 1.0 precision: 0.33 f1-score: 0.5 MAE: 2.0 MSE: 4.0 RMSE: 2.0 time: 0.1308 data: 0.0112 max mem: 14747\n",
            "/usr/local/lib/python3.11/dist-packages/albumentations/core/composition.py:250: UserWarning: Got processor for keypoints, but no transform to process it.\n",
            "  self._set_keys()\n"
          ]
        },
        {
          "output_type": "stream",
          "name": "stdout",
          "text": [
            "[VALIDATION] - Epoch: [2] [411/532] eta: 0:00:14 n: 1 recall: 1.0 precision: 0.33 f1-score: 0.5 MAE: 2.0 MSE: 4.0 RMSE: 2.0 time: 0.1308 data: 0.0112 max mem: 14747\n"
          ]
        },
        {
          "output_type": "stream",
          "name": "stderr",
          "text": [
            "/usr/local/lib/python3.11/dist-packages/albumentations/core/composition.py:250: UserWarning: Got processor for keypoints, but no transform to process it.\n",
            "  self._set_keys()\n",
            "/usr/local/lib/python3.11/dist-packages/albumentations/core/composition.py:250: UserWarning: Got processor for keypoints, but no transform to process it.\n",
            "  self._set_keys()\n",
            "/usr/local/lib/python3.11/dist-packages/albumentations/core/composition.py:250: UserWarning: Got processor for keypoints, but no transform to process it.\n",
            "  self._set_keys()\n",
            "/usr/local/lib/python3.11/dist-packages/albumentations/core/composition.py:250: UserWarning: Got processor for keypoints, but no transform to process it.\n",
            "  self._set_keys()\n",
            "/usr/local/lib/python3.11/dist-packages/albumentations/core/composition.py:250: UserWarning: Got processor for keypoints, but no transform to process it.\n",
            "  self._set_keys()\n",
            "/usr/local/lib/python3.11/dist-packages/albumentations/core/composition.py:250: UserWarning: Got processor for keypoints, but no transform to process it.\n",
            "  self._set_keys()\n",
            "/usr/local/lib/python3.11/dist-packages/albumentations/core/composition.py:250: UserWarning: Got processor for keypoints, but no transform to process it.\n",
            "  self._set_keys()\n",
            "/usr/local/lib/python3.11/dist-packages/albumentations/core/composition.py:250: UserWarning: Got processor for keypoints, but no transform to process it.\n",
            "  self._set_keys()\n",
            "/usr/local/lib/python3.11/dist-packages/albumentations/core/composition.py:250: UserWarning: Got processor for keypoints, but no transform to process it.\n",
            "  self._set_keys()\n",
            "INFO:20250408_validation:[VALIDATION] - Epoch: [2] [421/532] eta: 0:00:13 n: 1 recall: 1.0 precision: 0.25 f1-score: 0.4 MAE: 3.0 MSE: 9.0 RMSE: 3.0 time: 0.1380 data: 0.0119 max mem: 14747\n",
            "/usr/local/lib/python3.11/dist-packages/albumentations/core/composition.py:250: UserWarning: Got processor for keypoints, but no transform to process it.\n",
            "  self._set_keys()\n"
          ]
        },
        {
          "output_type": "stream",
          "name": "stdout",
          "text": [
            "[VALIDATION] - Epoch: [2] [421/532] eta: 0:00:13 n: 1 recall: 1.0 precision: 0.25 f1-score: 0.4 MAE: 3.0 MSE: 9.0 RMSE: 3.0 time: 0.1380 data: 0.0119 max mem: 14747\n"
          ]
        },
        {
          "output_type": "stream",
          "name": "stderr",
          "text": [
            "/usr/local/lib/python3.11/dist-packages/albumentations/core/composition.py:250: UserWarning: Got processor for keypoints, but no transform to process it.\n",
            "  self._set_keys()\n",
            "/usr/local/lib/python3.11/dist-packages/albumentations/core/composition.py:250: UserWarning: Got processor for keypoints, but no transform to process it.\n",
            "  self._set_keys()\n",
            "/usr/local/lib/python3.11/dist-packages/albumentations/core/composition.py:250: UserWarning: Got processor for keypoints, but no transform to process it.\n",
            "  self._set_keys()\n",
            "/usr/local/lib/python3.11/dist-packages/albumentations/core/composition.py:250: UserWarning: Got processor for keypoints, but no transform to process it.\n",
            "  self._set_keys()\n",
            "/usr/local/lib/python3.11/dist-packages/albumentations/core/composition.py:250: UserWarning: Got processor for keypoints, but no transform to process it.\n",
            "  self._set_keys()\n",
            "/usr/local/lib/python3.11/dist-packages/albumentations/core/composition.py:250: UserWarning: Got processor for keypoints, but no transform to process it.\n",
            "  self._set_keys()\n",
            "/usr/local/lib/python3.11/dist-packages/albumentations/core/composition.py:250: UserWarning: Got processor for keypoints, but no transform to process it.\n",
            "  self._set_keys()\n",
            "/usr/local/lib/python3.11/dist-packages/albumentations/core/composition.py:250: UserWarning: Got processor for keypoints, but no transform to process it.\n",
            "  self._set_keys()\n",
            "/usr/local/lib/python3.11/dist-packages/albumentations/core/composition.py:250: UserWarning: Got processor for keypoints, but no transform to process it.\n",
            "  self._set_keys()\n",
            "INFO:20250408_validation:[VALIDATION] - Epoch: [2] [431/532] eta: 0:00:12 n: 2 recall: 1.0 precision: 1.0 f1-score: 1.0 MAE: 0.0 MSE: 0.0 RMSE: 0.0 time: 0.1283 data: 0.0106 max mem: 14747\n",
            "/usr/local/lib/python3.11/dist-packages/albumentations/core/composition.py:250: UserWarning: Got processor for keypoints, but no transform to process it.\n",
            "  self._set_keys()\n"
          ]
        },
        {
          "output_type": "stream",
          "name": "stdout",
          "text": [
            "[VALIDATION] - Epoch: [2] [431/532] eta: 0:00:12 n: 2 recall: 1.0 precision: 1.0 f1-score: 1.0 MAE: 0.0 MSE: 0.0 RMSE: 0.0 time: 0.1283 data: 0.0106 max mem: 14747\n"
          ]
        },
        {
          "output_type": "stream",
          "name": "stderr",
          "text": [
            "/usr/local/lib/python3.11/dist-packages/albumentations/core/composition.py:250: UserWarning: Got processor for keypoints, but no transform to process it.\n",
            "  self._set_keys()\n",
            "/usr/local/lib/python3.11/dist-packages/albumentations/core/composition.py:250: UserWarning: Got processor for keypoints, but no transform to process it.\n",
            "  self._set_keys()\n",
            "/usr/local/lib/python3.11/dist-packages/albumentations/core/composition.py:250: UserWarning: Got processor for keypoints, but no transform to process it.\n",
            "  self._set_keys()\n",
            "/usr/local/lib/python3.11/dist-packages/albumentations/core/composition.py:250: UserWarning: Got processor for keypoints, but no transform to process it.\n",
            "  self._set_keys()\n",
            "/usr/local/lib/python3.11/dist-packages/albumentations/core/composition.py:250: UserWarning: Got processor for keypoints, but no transform to process it.\n",
            "  self._set_keys()\n",
            "/usr/local/lib/python3.11/dist-packages/albumentations/core/composition.py:250: UserWarning: Got processor for keypoints, but no transform to process it.\n",
            "  self._set_keys()\n",
            "/usr/local/lib/python3.11/dist-packages/albumentations/core/composition.py:250: UserWarning: Got processor for keypoints, but no transform to process it.\n",
            "  self._set_keys()\n",
            "/usr/local/lib/python3.11/dist-packages/albumentations/core/composition.py:250: UserWarning: Got processor for keypoints, but no transform to process it.\n",
            "  self._set_keys()\n",
            "/usr/local/lib/python3.11/dist-packages/albumentations/core/composition.py:250: UserWarning: Got processor for keypoints, but no transform to process it.\n",
            "  self._set_keys()\n",
            "INFO:20250408_validation:[VALIDATION] - Epoch: [2] [441/532] eta: 0:00:11 n: 1 recall: 1.0 precision: 1.0 f1-score: 1.0 MAE: 0.0 MSE: 0.0 RMSE: 0.0 time: 0.1147 data: 0.0088 max mem: 14747\n",
            "/usr/local/lib/python3.11/dist-packages/albumentations/core/composition.py:250: UserWarning: Got processor for keypoints, but no transform to process it.\n",
            "  self._set_keys()\n"
          ]
        },
        {
          "output_type": "stream",
          "name": "stdout",
          "text": [
            "[VALIDATION] - Epoch: [2] [441/532] eta: 0:00:11 n: 1 recall: 1.0 precision: 1.0 f1-score: 1.0 MAE: 0.0 MSE: 0.0 RMSE: 0.0 time: 0.1147 data: 0.0088 max mem: 14747\n"
          ]
        },
        {
          "output_type": "stream",
          "name": "stderr",
          "text": [
            "/usr/local/lib/python3.11/dist-packages/albumentations/core/composition.py:250: UserWarning: Got processor for keypoints, but no transform to process it.\n",
            "  self._set_keys()\n",
            "/usr/local/lib/python3.11/dist-packages/albumentations/core/composition.py:250: UserWarning: Got processor for keypoints, but no transform to process it.\n",
            "  self._set_keys()\n",
            "/usr/local/lib/python3.11/dist-packages/albumentations/core/composition.py:250: UserWarning: Got processor for keypoints, but no transform to process it.\n",
            "  self._set_keys()\n",
            "/usr/local/lib/python3.11/dist-packages/albumentations/core/composition.py:250: UserWarning: Got processor for keypoints, but no transform to process it.\n",
            "  self._set_keys()\n",
            "/usr/local/lib/python3.11/dist-packages/albumentations/core/composition.py:250: UserWarning: Got processor for keypoints, but no transform to process it.\n",
            "  self._set_keys()\n",
            "/usr/local/lib/python3.11/dist-packages/albumentations/core/composition.py:250: UserWarning: Got processor for keypoints, but no transform to process it.\n",
            "  self._set_keys()\n",
            "/usr/local/lib/python3.11/dist-packages/albumentations/core/composition.py:250: UserWarning: Got processor for keypoints, but no transform to process it.\n",
            "  self._set_keys()\n",
            "/usr/local/lib/python3.11/dist-packages/albumentations/core/composition.py:250: UserWarning: Got processor for keypoints, but no transform to process it.\n",
            "  self._set_keys()\n",
            "/usr/local/lib/python3.11/dist-packages/albumentations/core/composition.py:250: UserWarning: Got processor for keypoints, but no transform to process it.\n",
            "  self._set_keys()\n",
            "INFO:20250408_validation:[VALIDATION] - Epoch: [2] [451/532] eta: 0:00:09 n: 1 recall: 1.0 precision: 1.0 f1-score: 1.0 MAE: 0.0 MSE: 0.0 RMSE: 0.0 time: 0.1146 data: 0.0087 max mem: 14747\n",
            "/usr/local/lib/python3.11/dist-packages/albumentations/core/composition.py:250: UserWarning: Got processor for keypoints, but no transform to process it.\n",
            "  self._set_keys()\n"
          ]
        },
        {
          "output_type": "stream",
          "name": "stdout",
          "text": [
            "[VALIDATION] - Epoch: [2] [451/532] eta: 0:00:09 n: 1 recall: 1.0 precision: 1.0 f1-score: 1.0 MAE: 0.0 MSE: 0.0 RMSE: 0.0 time: 0.1146 data: 0.0087 max mem: 14747\n"
          ]
        },
        {
          "output_type": "stream",
          "name": "stderr",
          "text": [
            "/usr/local/lib/python3.11/dist-packages/albumentations/core/composition.py:250: UserWarning: Got processor for keypoints, but no transform to process it.\n",
            "  self._set_keys()\n",
            "/usr/local/lib/python3.11/dist-packages/albumentations/core/composition.py:250: UserWarning: Got processor for keypoints, but no transform to process it.\n",
            "  self._set_keys()\n",
            "/usr/local/lib/python3.11/dist-packages/albumentations/core/composition.py:250: UserWarning: Got processor for keypoints, but no transform to process it.\n",
            "  self._set_keys()\n",
            "/usr/local/lib/python3.11/dist-packages/albumentations/core/composition.py:250: UserWarning: Got processor for keypoints, but no transform to process it.\n",
            "  self._set_keys()\n",
            "/usr/local/lib/python3.11/dist-packages/albumentations/core/composition.py:250: UserWarning: Got processor for keypoints, but no transform to process it.\n",
            "  self._set_keys()\n",
            "/usr/local/lib/python3.11/dist-packages/albumentations/core/composition.py:250: UserWarning: Got processor for keypoints, but no transform to process it.\n",
            "  self._set_keys()\n",
            "/usr/local/lib/python3.11/dist-packages/albumentations/core/composition.py:250: UserWarning: Got processor for keypoints, but no transform to process it.\n",
            "  self._set_keys()\n",
            "/usr/local/lib/python3.11/dist-packages/albumentations/core/composition.py:250: UserWarning: Got processor for keypoints, but no transform to process it.\n",
            "  self._set_keys()\n",
            "/usr/local/lib/python3.11/dist-packages/albumentations/core/composition.py:250: UserWarning: Got processor for keypoints, but no transform to process it.\n",
            "  self._set_keys()\n",
            "INFO:20250408_validation:[VALIDATION] - Epoch: [2] [461/532] eta: 0:00:08 n: 2 recall: 1.0 precision: 1.0 f1-score: 1.0 MAE: 0.0 MSE: 0.0 RMSE: 0.0 time: 0.1150 data: 0.0087 max mem: 14747\n",
            "/usr/local/lib/python3.11/dist-packages/albumentations/core/composition.py:250: UserWarning: Got processor for keypoints, but no transform to process it.\n",
            "  self._set_keys()\n"
          ]
        },
        {
          "output_type": "stream",
          "name": "stdout",
          "text": [
            "[VALIDATION] - Epoch: [2] [461/532] eta: 0:00:08 n: 2 recall: 1.0 precision: 1.0 f1-score: 1.0 MAE: 0.0 MSE: 0.0 RMSE: 0.0 time: 0.1150 data: 0.0087 max mem: 14747\n"
          ]
        },
        {
          "output_type": "stream",
          "name": "stderr",
          "text": [
            "/usr/local/lib/python3.11/dist-packages/albumentations/core/composition.py:250: UserWarning: Got processor for keypoints, but no transform to process it.\n",
            "  self._set_keys()\n",
            "/usr/local/lib/python3.11/dist-packages/albumentations/core/composition.py:250: UserWarning: Got processor for keypoints, but no transform to process it.\n",
            "  self._set_keys()\n",
            "/usr/local/lib/python3.11/dist-packages/albumentations/core/composition.py:250: UserWarning: Got processor for keypoints, but no transform to process it.\n",
            "  self._set_keys()\n",
            "/usr/local/lib/python3.11/dist-packages/albumentations/core/composition.py:250: UserWarning: Got processor for keypoints, but no transform to process it.\n",
            "  self._set_keys()\n",
            "/usr/local/lib/python3.11/dist-packages/albumentations/core/composition.py:250: UserWarning: Got processor for keypoints, but no transform to process it.\n",
            "  self._set_keys()\n",
            "/usr/local/lib/python3.11/dist-packages/albumentations/core/composition.py:250: UserWarning: Got processor for keypoints, but no transform to process it.\n",
            "  self._set_keys()\n",
            "/usr/local/lib/python3.11/dist-packages/albumentations/core/composition.py:250: UserWarning: Got processor for keypoints, but no transform to process it.\n",
            "  self._set_keys()\n",
            "/usr/local/lib/python3.11/dist-packages/albumentations/core/composition.py:250: UserWarning: Got processor for keypoints, but no transform to process it.\n",
            "  self._set_keys()\n",
            "/usr/local/lib/python3.11/dist-packages/albumentations/core/composition.py:250: UserWarning: Got processor for keypoints, but no transform to process it.\n",
            "  self._set_keys()\n",
            "INFO:20250408_validation:[VALIDATION] - Epoch: [2] [471/532] eta: 0:00:07 n: 1 recall: 1.0 precision: 0.5 f1-score: 0.67 MAE: 1.0 MSE: 1.0 RMSE: 1.0 time: 0.1161 data: 0.0093 max mem: 14747\n",
            "/usr/local/lib/python3.11/dist-packages/albumentations/core/composition.py:250: UserWarning: Got processor for keypoints, but no transform to process it.\n",
            "  self._set_keys()\n"
          ]
        },
        {
          "output_type": "stream",
          "name": "stdout",
          "text": [
            "[VALIDATION] - Epoch: [2] [471/532] eta: 0:00:07 n: 1 recall: 1.0 precision: 0.5 f1-score: 0.67 MAE: 1.0 MSE: 1.0 RMSE: 1.0 time: 0.1161 data: 0.0093 max mem: 14747\n"
          ]
        },
        {
          "output_type": "stream",
          "name": "stderr",
          "text": [
            "/usr/local/lib/python3.11/dist-packages/albumentations/core/composition.py:250: UserWarning: Got processor for keypoints, but no transform to process it.\n",
            "  self._set_keys()\n",
            "/usr/local/lib/python3.11/dist-packages/albumentations/core/composition.py:250: UserWarning: Got processor for keypoints, but no transform to process it.\n",
            "  self._set_keys()\n",
            "/usr/local/lib/python3.11/dist-packages/albumentations/core/composition.py:250: UserWarning: Got processor for keypoints, but no transform to process it.\n",
            "  self._set_keys()\n",
            "/usr/local/lib/python3.11/dist-packages/albumentations/core/composition.py:250: UserWarning: Got processor for keypoints, but no transform to process it.\n",
            "  self._set_keys()\n",
            "/usr/local/lib/python3.11/dist-packages/albumentations/core/composition.py:250: UserWarning: Got processor for keypoints, but no transform to process it.\n",
            "  self._set_keys()\n",
            "/usr/local/lib/python3.11/dist-packages/albumentations/core/composition.py:250: UserWarning: Got processor for keypoints, but no transform to process it.\n",
            "  self._set_keys()\n",
            "/usr/local/lib/python3.11/dist-packages/albumentations/core/composition.py:250: UserWarning: Got processor for keypoints, but no transform to process it.\n",
            "  self._set_keys()\n",
            "/usr/local/lib/python3.11/dist-packages/albumentations/core/composition.py:250: UserWarning: Got processor for keypoints, but no transform to process it.\n",
            "  self._set_keys()\n",
            "/usr/local/lib/python3.11/dist-packages/albumentations/core/composition.py:250: UserWarning: Got processor for keypoints, but no transform to process it.\n",
            "  self._set_keys()\n",
            "INFO:20250408_validation:[VALIDATION] - Epoch: [2] [481/532] eta: 0:00:06 n: 1 recall: 0.0 precision: 0.0 f1-score: 0.0 MAE: 1.0 MSE: 1.0 RMSE: 1.0 time: 0.1165 data: 0.0093 max mem: 14747\n",
            "/usr/local/lib/python3.11/dist-packages/albumentations/core/composition.py:250: UserWarning: Got processor for keypoints, but no transform to process it.\n",
            "  self._set_keys()\n"
          ]
        },
        {
          "output_type": "stream",
          "name": "stdout",
          "text": [
            "[VALIDATION] - Epoch: [2] [481/532] eta: 0:00:06 n: 1 recall: 0.0 precision: 0.0 f1-score: 0.0 MAE: 1.0 MSE: 1.0 RMSE: 1.0 time: 0.1165 data: 0.0093 max mem: 14747\n"
          ]
        },
        {
          "output_type": "stream",
          "name": "stderr",
          "text": [
            "/usr/local/lib/python3.11/dist-packages/albumentations/core/composition.py:250: UserWarning: Got processor for keypoints, but no transform to process it.\n",
            "  self._set_keys()\n",
            "/usr/local/lib/python3.11/dist-packages/albumentations/core/composition.py:250: UserWarning: Got processor for keypoints, but no transform to process it.\n",
            "  self._set_keys()\n",
            "/usr/local/lib/python3.11/dist-packages/albumentations/core/composition.py:250: UserWarning: Got processor for keypoints, but no transform to process it.\n",
            "  self._set_keys()\n",
            "/usr/local/lib/python3.11/dist-packages/albumentations/core/composition.py:250: UserWarning: Got processor for keypoints, but no transform to process it.\n",
            "  self._set_keys()\n",
            "/usr/local/lib/python3.11/dist-packages/albumentations/core/composition.py:250: UserWarning: Got processor for keypoints, but no transform to process it.\n",
            "  self._set_keys()\n",
            "/usr/local/lib/python3.11/dist-packages/albumentations/core/composition.py:250: UserWarning: Got processor for keypoints, but no transform to process it.\n",
            "  self._set_keys()\n",
            "/usr/local/lib/python3.11/dist-packages/albumentations/core/composition.py:250: UserWarning: Got processor for keypoints, but no transform to process it.\n",
            "  self._set_keys()\n",
            "/usr/local/lib/python3.11/dist-packages/albumentations/core/composition.py:250: UserWarning: Got processor for keypoints, but no transform to process it.\n",
            "  self._set_keys()\n",
            "/usr/local/lib/python3.11/dist-packages/albumentations/core/composition.py:250: UserWarning: Got processor for keypoints, but no transform to process it.\n",
            "  self._set_keys()\n",
            "INFO:20250408_validation:[VALIDATION] - Epoch: [2] [491/532] eta: 0:00:05 n: 1 recall: 1.0 precision: 1.0 f1-score: 1.0 MAE: 0.0 MSE: 0.0 RMSE: 0.0 time: 0.1169 data: 0.0090 max mem: 14747\n",
            "/usr/local/lib/python3.11/dist-packages/albumentations/core/composition.py:250: UserWarning: Got processor for keypoints, but no transform to process it.\n",
            "  self._set_keys()\n"
          ]
        },
        {
          "output_type": "stream",
          "name": "stdout",
          "text": [
            "[VALIDATION] - Epoch: [2] [491/532] eta: 0:00:05 n: 1 recall: 1.0 precision: 1.0 f1-score: 1.0 MAE: 0.0 MSE: 0.0 RMSE: 0.0 time: 0.1169 data: 0.0090 max mem: 14747\n"
          ]
        },
        {
          "output_type": "stream",
          "name": "stderr",
          "text": [
            "/usr/local/lib/python3.11/dist-packages/albumentations/core/composition.py:250: UserWarning: Got processor for keypoints, but no transform to process it.\n",
            "  self._set_keys()\n",
            "/usr/local/lib/python3.11/dist-packages/albumentations/core/composition.py:250: UserWarning: Got processor for keypoints, but no transform to process it.\n",
            "  self._set_keys()\n",
            "/usr/local/lib/python3.11/dist-packages/albumentations/core/composition.py:250: UserWarning: Got processor for keypoints, but no transform to process it.\n",
            "  self._set_keys()\n",
            "/usr/local/lib/python3.11/dist-packages/albumentations/core/composition.py:250: UserWarning: Got processor for keypoints, but no transform to process it.\n",
            "  self._set_keys()\n",
            "/usr/local/lib/python3.11/dist-packages/albumentations/core/composition.py:250: UserWarning: Got processor for keypoints, but no transform to process it.\n",
            "  self._set_keys()\n",
            "/usr/local/lib/python3.11/dist-packages/albumentations/core/composition.py:250: UserWarning: Got processor for keypoints, but no transform to process it.\n",
            "  self._set_keys()\n",
            "/usr/local/lib/python3.11/dist-packages/albumentations/core/composition.py:250: UserWarning: Got processor for keypoints, but no transform to process it.\n",
            "  self._set_keys()\n",
            "/usr/local/lib/python3.11/dist-packages/albumentations/core/composition.py:250: UserWarning: Got processor for keypoints, but no transform to process it.\n",
            "  self._set_keys()\n",
            "/usr/local/lib/python3.11/dist-packages/albumentations/core/composition.py:250: UserWarning: Got processor for keypoints, but no transform to process it.\n",
            "  self._set_keys()\n",
            "INFO:20250408_validation:[VALIDATION] - Epoch: [2] [501/532] eta: 0:00:03 n: 3 recall: 1.0 precision: 0.6 f1-score: 0.75 MAE: 2.0 MSE: 4.0 RMSE: 2.0 time: 0.1161 data: 0.0088 max mem: 14747\n",
            "/usr/local/lib/python3.11/dist-packages/albumentations/core/composition.py:250: UserWarning: Got processor for keypoints, but no transform to process it.\n",
            "  self._set_keys()\n"
          ]
        },
        {
          "output_type": "stream",
          "name": "stdout",
          "text": [
            "[VALIDATION] - Epoch: [2] [501/532] eta: 0:00:03 n: 3 recall: 1.0 precision: 0.6 f1-score: 0.75 MAE: 2.0 MSE: 4.0 RMSE: 2.0 time: 0.1161 data: 0.0088 max mem: 14747\n"
          ]
        },
        {
          "output_type": "stream",
          "name": "stderr",
          "text": [
            "/usr/local/lib/python3.11/dist-packages/albumentations/core/composition.py:250: UserWarning: Got processor for keypoints, but no transform to process it.\n",
            "  self._set_keys()\n",
            "/usr/local/lib/python3.11/dist-packages/albumentations/core/composition.py:250: UserWarning: Got processor for keypoints, but no transform to process it.\n",
            "  self._set_keys()\n",
            "/usr/local/lib/python3.11/dist-packages/albumentations/core/composition.py:250: UserWarning: Got processor for keypoints, but no transform to process it.\n",
            "  self._set_keys()\n",
            "/usr/local/lib/python3.11/dist-packages/albumentations/core/composition.py:250: UserWarning: Got processor for keypoints, but no transform to process it.\n",
            "  self._set_keys()\n",
            "/usr/local/lib/python3.11/dist-packages/albumentations/core/composition.py:250: UserWarning: Got processor for keypoints, but no transform to process it.\n",
            "  self._set_keys()\n",
            "/usr/local/lib/python3.11/dist-packages/albumentations/core/composition.py:250: UserWarning: Got processor for keypoints, but no transform to process it.\n",
            "  self._set_keys()\n",
            "/usr/local/lib/python3.11/dist-packages/albumentations/core/composition.py:250: UserWarning: Got processor for keypoints, but no transform to process it.\n",
            "  self._set_keys()\n",
            "/usr/local/lib/python3.11/dist-packages/albumentations/core/composition.py:250: UserWarning: Got processor for keypoints, but no transform to process it.\n",
            "  self._set_keys()\n",
            "/usr/local/lib/python3.11/dist-packages/albumentations/core/composition.py:250: UserWarning: Got processor for keypoints, but no transform to process it.\n",
            "  self._set_keys()\n",
            "INFO:20250408_validation:[VALIDATION] - Epoch: [2] [511/532] eta: 0:00:02 n: 1 recall: 1.0 precision: 0.5 f1-score: 0.67 MAE: 1.0 MSE: 1.0 RMSE: 1.0 time: 0.1258 data: 0.0097 max mem: 14747\n",
            "/usr/local/lib/python3.11/dist-packages/albumentations/core/composition.py:250: UserWarning: Got processor for keypoints, but no transform to process it.\n",
            "  self._set_keys()\n"
          ]
        },
        {
          "output_type": "stream",
          "name": "stdout",
          "text": [
            "[VALIDATION] - Epoch: [2] [511/532] eta: 0:00:02 n: 1 recall: 1.0 precision: 0.5 f1-score: 0.67 MAE: 1.0 MSE: 1.0 RMSE: 1.0 time: 0.1258 data: 0.0097 max mem: 14747\n"
          ]
        },
        {
          "output_type": "stream",
          "name": "stderr",
          "text": [
            "/usr/local/lib/python3.11/dist-packages/albumentations/core/composition.py:250: UserWarning: Got processor for keypoints, but no transform to process it.\n",
            "  self._set_keys()\n",
            "/usr/local/lib/python3.11/dist-packages/albumentations/core/composition.py:250: UserWarning: Got processor for keypoints, but no transform to process it.\n",
            "  self._set_keys()\n",
            "/usr/local/lib/python3.11/dist-packages/albumentations/core/composition.py:250: UserWarning: Got processor for keypoints, but no transform to process it.\n",
            "  self._set_keys()\n",
            "/usr/local/lib/python3.11/dist-packages/albumentations/core/composition.py:250: UserWarning: Got processor for keypoints, but no transform to process it.\n",
            "  self._set_keys()\n",
            "/usr/local/lib/python3.11/dist-packages/albumentations/core/composition.py:250: UserWarning: Got processor for keypoints, but no transform to process it.\n",
            "  self._set_keys()\n",
            "/usr/local/lib/python3.11/dist-packages/albumentations/core/composition.py:250: UserWarning: Got processor for keypoints, but no transform to process it.\n",
            "  self._set_keys()\n",
            "/usr/local/lib/python3.11/dist-packages/albumentations/core/composition.py:250: UserWarning: Got processor for keypoints, but no transform to process it.\n",
            "  self._set_keys()\n",
            "/usr/local/lib/python3.11/dist-packages/albumentations/core/composition.py:250: UserWarning: Got processor for keypoints, but no transform to process it.\n",
            "  self._set_keys()\n",
            "/usr/local/lib/python3.11/dist-packages/albumentations/core/composition.py:250: UserWarning: Got processor for keypoints, but no transform to process it.\n",
            "  self._set_keys()\n",
            "INFO:20250408_validation:[VALIDATION] - Epoch: [2] [521/532] eta: 0:00:01 n: 1 recall: 1.0 precision: 0.2 f1-score: 0.33 MAE: 4.0 MSE: 16.0 RMSE: 4.0 time: 0.1444 data: 0.0118 max mem: 14747\n",
            "/usr/local/lib/python3.11/dist-packages/albumentations/core/composition.py:250: UserWarning: Got processor for keypoints, but no transform to process it.\n",
            "  self._set_keys()\n"
          ]
        },
        {
          "output_type": "stream",
          "name": "stdout",
          "text": [
            "[VALIDATION] - Epoch: [2] [521/532] eta: 0:00:01 n: 1 recall: 1.0 precision: 0.2 f1-score: 0.33 MAE: 4.0 MSE: 16.0 RMSE: 4.0 time: 0.1444 data: 0.0118 max mem: 14747\n"
          ]
        },
        {
          "output_type": "stream",
          "name": "stderr",
          "text": [
            "/usr/local/lib/python3.11/dist-packages/albumentations/core/composition.py:250: UserWarning: Got processor for keypoints, but no transform to process it.\n",
            "  self._set_keys()\n",
            "/usr/local/lib/python3.11/dist-packages/albumentations/core/composition.py:250: UserWarning: Got processor for keypoints, but no transform to process it.\n",
            "  self._set_keys()\n",
            "/usr/local/lib/python3.11/dist-packages/albumentations/core/composition.py:250: UserWarning: Got processor for keypoints, but no transform to process it.\n",
            "  self._set_keys()\n",
            "/usr/local/lib/python3.11/dist-packages/albumentations/core/composition.py:250: UserWarning: Got processor for keypoints, but no transform to process it.\n",
            "  self._set_keys()\n",
            "/usr/local/lib/python3.11/dist-packages/albumentations/core/composition.py:250: UserWarning: Got processor for keypoints, but no transform to process it.\n",
            "  self._set_keys()\n",
            "/usr/local/lib/python3.11/dist-packages/albumentations/core/composition.py:250: UserWarning: Got processor for keypoints, but no transform to process it.\n",
            "  self._set_keys()\n",
            "/usr/local/lib/python3.11/dist-packages/albumentations/core/composition.py:250: UserWarning: Got processor for keypoints, but no transform to process it.\n",
            "  self._set_keys()\n",
            "/usr/local/lib/python3.11/dist-packages/albumentations/core/composition.py:250: UserWarning: Got processor for keypoints, but no transform to process it.\n",
            "  self._set_keys()\n",
            "/usr/local/lib/python3.11/dist-packages/albumentations/core/composition.py:250: UserWarning: Got processor for keypoints, but no transform to process it.\n",
            "  self._set_keys()\n",
            "INFO:20250408_validation:[VALIDATION] - Epoch: [2] [531/532] eta: 0:00:00 n: 1 recall: 0.0 precision: 0.0 f1-score: 0.0 MAE: 1.0 MSE: 1.0 RMSE: 1.0 time: 0.1537 data: 0.0139 max mem: 14747\n",
            "/usr/local/lib/python3.11/dist-packages/albumentations/core/composition.py:250: UserWarning: Got processor for keypoints, but no transform to process it.\n",
            "  self._set_keys()\n",
            "INFO:20250408_validation:[VALIDATION] - Epoch: [2] [532/532] eta: 0:00:00 n: 2 recall: 1.0 precision: 0.11 f1-score: 0.19 MAE: 17.0 MSE: 289.0 RMSE: 17.0 time: 0.1532 data: 0.0135 max mem: 14747\n",
            "INFO:20250408_validation:[VALIDATION] - Epoch: [2] Total time: 0:01:05 (0.1224 s / it)\n"
          ]
        },
        {
          "output_type": "stream",
          "name": "stdout",
          "text": [
            "[VALIDATION] - Epoch: [2] [531/532] eta: 0:00:00 n: 1 recall: 0.0 precision: 0.0 f1-score: 0.0 MAE: 1.0 MSE: 1.0 RMSE: 1.0 time: 0.1537 data: 0.0139 max mem: 14747\n",
            "[VALIDATION] - Epoch: [2] [532/532] eta: 0:00:00 n: 2 recall: 1.0 precision: 0.11 f1-score: 0.19 MAE: 17.0 MSE: 289.0 RMSE: 17.0 time: 0.1532 data: 0.0135 max mem: 14747\n",
            "[VALIDATION] - Epoch: [2] Total time: 0:01:05 (0.1224 s / it)\n",
            "[VALIDATION] - Epoch: [2] f1_score: 0.5138\n",
            "Best model saved - Epoch 2 - Validation value: 0.513839\n"
          ]
        },
        {
          "output_type": "execute_result",
          "data": {
            "text/plain": [
              "LossWrapper(\n",
              "  (model): HerdNet(\n",
              "    (base_0): DLA(\n",
              "      (base_layer): Sequential(\n",
              "        (0): Conv2d(3, 16, kernel_size=(7, 7), stride=(1, 1), padding=(3, 3), bias=False)\n",
              "        (1): BatchNorm2d(16, eps=1e-05, momentum=0.1, affine=True, track_running_stats=True)\n",
              "        (2): ReLU(inplace=True)\n",
              "      )\n",
              "      (level0): Sequential(\n",
              "        (0): Conv2d(16, 16, kernel_size=(3, 3), stride=(1, 1), padding=(1, 1), bias=False)\n",
              "        (1): BatchNorm2d(16, eps=1e-05, momentum=0.1, affine=True, track_running_stats=True)\n",
              "        (2): ReLU(inplace=True)\n",
              "      )\n",
              "      (level1): Sequential(\n",
              "        (0): Conv2d(16, 32, kernel_size=(3, 3), stride=(2, 2), padding=(1, 1), bias=False)\n",
              "        (1): BatchNorm2d(32, eps=1e-05, momentum=0.1, affine=True, track_running_stats=True)\n",
              "        (2): ReLU(inplace=True)\n",
              "      )\n",
              "      (level2): Tree(\n",
              "        (tree1): BasicBlock(\n",
              "          (conv1): Conv2d(32, 64, kernel_size=(3, 3), stride=(2, 2), padding=(1, 1), bias=False)\n",
              "          (bn1): BatchNorm2d(64, eps=1e-05, momentum=0.1, affine=True, track_running_stats=True)\n",
              "          (relu): ReLU(inplace=True)\n",
              "          (conv2): Conv2d(64, 64, kernel_size=(3, 3), stride=(1, 1), padding=(1, 1), bias=False)\n",
              "          (bn2): BatchNorm2d(64, eps=1e-05, momentum=0.1, affine=True, track_running_stats=True)\n",
              "        )\n",
              "        (tree2): BasicBlock(\n",
              "          (conv1): Conv2d(64, 64, kernel_size=(3, 3), stride=(1, 1), padding=(1, 1), bias=False)\n",
              "          (bn1): BatchNorm2d(64, eps=1e-05, momentum=0.1, affine=True, track_running_stats=True)\n",
              "          (relu): ReLU(inplace=True)\n",
              "          (conv2): Conv2d(64, 64, kernel_size=(3, 3), stride=(1, 1), padding=(1, 1), bias=False)\n",
              "          (bn2): BatchNorm2d(64, eps=1e-05, momentum=0.1, affine=True, track_running_stats=True)\n",
              "        )\n",
              "        (root): Root(\n",
              "          (conv): Conv2d(128, 64, kernel_size=(1, 1), stride=(1, 1), bias=False)\n",
              "          (bn): BatchNorm2d(64, eps=1e-05, momentum=0.1, affine=True, track_running_stats=True)\n",
              "          (relu): ReLU(inplace=True)\n",
              "        )\n",
              "        (downsample): MaxPool2d(kernel_size=2, stride=2, padding=0, dilation=1, ceil_mode=False)\n",
              "        (project): Sequential(\n",
              "          (0): Conv2d(32, 64, kernel_size=(1, 1), stride=(1, 1), bias=False)\n",
              "          (1): BatchNorm2d(64, eps=1e-05, momentum=0.1, affine=True, track_running_stats=True)\n",
              "        )\n",
              "      )\n",
              "      (level3): Tree(\n",
              "        (tree1): Tree(\n",
              "          (tree1): BasicBlock(\n",
              "            (conv1): Conv2d(64, 128, kernel_size=(3, 3), stride=(2, 2), padding=(1, 1), bias=False)\n",
              "            (bn1): BatchNorm2d(128, eps=1e-05, momentum=0.1, affine=True, track_running_stats=True)\n",
              "            (relu): ReLU(inplace=True)\n",
              "            (conv2): Conv2d(128, 128, kernel_size=(3, 3), stride=(1, 1), padding=(1, 1), bias=False)\n",
              "            (bn2): BatchNorm2d(128, eps=1e-05, momentum=0.1, affine=True, track_running_stats=True)\n",
              "          )\n",
              "          (tree2): BasicBlock(\n",
              "            (conv1): Conv2d(128, 128, kernel_size=(3, 3), stride=(1, 1), padding=(1, 1), bias=False)\n",
              "            (bn1): BatchNorm2d(128, eps=1e-05, momentum=0.1, affine=True, track_running_stats=True)\n",
              "            (relu): ReLU(inplace=True)\n",
              "            (conv2): Conv2d(128, 128, kernel_size=(3, 3), stride=(1, 1), padding=(1, 1), bias=False)\n",
              "            (bn2): BatchNorm2d(128, eps=1e-05, momentum=0.1, affine=True, track_running_stats=True)\n",
              "          )\n",
              "          (root): Root(\n",
              "            (conv): Conv2d(256, 128, kernel_size=(1, 1), stride=(1, 1), bias=False)\n",
              "            (bn): BatchNorm2d(128, eps=1e-05, momentum=0.1, affine=True, track_running_stats=True)\n",
              "            (relu): ReLU(inplace=True)\n",
              "          )\n",
              "          (downsample): MaxPool2d(kernel_size=2, stride=2, padding=0, dilation=1, ceil_mode=False)\n",
              "          (project): Sequential(\n",
              "            (0): Conv2d(64, 128, kernel_size=(1, 1), stride=(1, 1), bias=False)\n",
              "            (1): BatchNorm2d(128, eps=1e-05, momentum=0.1, affine=True, track_running_stats=True)\n",
              "          )\n",
              "        )\n",
              "        (tree2): Tree(\n",
              "          (tree1): BasicBlock(\n",
              "            (conv1): Conv2d(128, 128, kernel_size=(3, 3), stride=(1, 1), padding=(1, 1), bias=False)\n",
              "            (bn1): BatchNorm2d(128, eps=1e-05, momentum=0.1, affine=True, track_running_stats=True)\n",
              "            (relu): ReLU(inplace=True)\n",
              "            (conv2): Conv2d(128, 128, kernel_size=(3, 3), stride=(1, 1), padding=(1, 1), bias=False)\n",
              "            (bn2): BatchNorm2d(128, eps=1e-05, momentum=0.1, affine=True, track_running_stats=True)\n",
              "          )\n",
              "          (tree2): BasicBlock(\n",
              "            (conv1): Conv2d(128, 128, kernel_size=(3, 3), stride=(1, 1), padding=(1, 1), bias=False)\n",
              "            (bn1): BatchNorm2d(128, eps=1e-05, momentum=0.1, affine=True, track_running_stats=True)\n",
              "            (relu): ReLU(inplace=True)\n",
              "            (conv2): Conv2d(128, 128, kernel_size=(3, 3), stride=(1, 1), padding=(1, 1), bias=False)\n",
              "            (bn2): BatchNorm2d(128, eps=1e-05, momentum=0.1, affine=True, track_running_stats=True)\n",
              "          )\n",
              "          (root): Root(\n",
              "            (conv): Conv2d(448, 128, kernel_size=(1, 1), stride=(1, 1), bias=False)\n",
              "            (bn): BatchNorm2d(128, eps=1e-05, momentum=0.1, affine=True, track_running_stats=True)\n",
              "            (relu): ReLU(inplace=True)\n",
              "          )\n",
              "        )\n",
              "        (downsample): MaxPool2d(kernel_size=2, stride=2, padding=0, dilation=1, ceil_mode=False)\n",
              "        (project): Sequential(\n",
              "          (0): Conv2d(64, 128, kernel_size=(1, 1), stride=(1, 1), bias=False)\n",
              "          (1): BatchNorm2d(128, eps=1e-05, momentum=0.1, affine=True, track_running_stats=True)\n",
              "        )\n",
              "      )\n",
              "      (level4): Tree(\n",
              "        (tree1): Tree(\n",
              "          (tree1): BasicBlock(\n",
              "            (conv1): Conv2d(128, 256, kernel_size=(3, 3), stride=(2, 2), padding=(1, 1), bias=False)\n",
              "            (bn1): BatchNorm2d(256, eps=1e-05, momentum=0.1, affine=True, track_running_stats=True)\n",
              "            (relu): ReLU(inplace=True)\n",
              "            (conv2): Conv2d(256, 256, kernel_size=(3, 3), stride=(1, 1), padding=(1, 1), bias=False)\n",
              "            (bn2): BatchNorm2d(256, eps=1e-05, momentum=0.1, affine=True, track_running_stats=True)\n",
              "          )\n",
              "          (tree2): BasicBlock(\n",
              "            (conv1): Conv2d(256, 256, kernel_size=(3, 3), stride=(1, 1), padding=(1, 1), bias=False)\n",
              "            (bn1): BatchNorm2d(256, eps=1e-05, momentum=0.1, affine=True, track_running_stats=True)\n",
              "            (relu): ReLU(inplace=True)\n",
              "            (conv2): Conv2d(256, 256, kernel_size=(3, 3), stride=(1, 1), padding=(1, 1), bias=False)\n",
              "            (bn2): BatchNorm2d(256, eps=1e-05, momentum=0.1, affine=True, track_running_stats=True)\n",
              "          )\n",
              "          (root): Root(\n",
              "            (conv): Conv2d(512, 256, kernel_size=(1, 1), stride=(1, 1), bias=False)\n",
              "            (bn): BatchNorm2d(256, eps=1e-05, momentum=0.1, affine=True, track_running_stats=True)\n",
              "            (relu): ReLU(inplace=True)\n",
              "          )\n",
              "          (downsample): MaxPool2d(kernel_size=2, stride=2, padding=0, dilation=1, ceil_mode=False)\n",
              "          (project): Sequential(\n",
              "            (0): Conv2d(128, 256, kernel_size=(1, 1), stride=(1, 1), bias=False)\n",
              "            (1): BatchNorm2d(256, eps=1e-05, momentum=0.1, affine=True, track_running_stats=True)\n",
              "          )\n",
              "        )\n",
              "        (tree2): Tree(\n",
              "          (tree1): BasicBlock(\n",
              "            (conv1): Conv2d(256, 256, kernel_size=(3, 3), stride=(1, 1), padding=(1, 1), bias=False)\n",
              "            (bn1): BatchNorm2d(256, eps=1e-05, momentum=0.1, affine=True, track_running_stats=True)\n",
              "            (relu): ReLU(inplace=True)\n",
              "            (conv2): Conv2d(256, 256, kernel_size=(3, 3), stride=(1, 1), padding=(1, 1), bias=False)\n",
              "            (bn2): BatchNorm2d(256, eps=1e-05, momentum=0.1, affine=True, track_running_stats=True)\n",
              "          )\n",
              "          (tree2): BasicBlock(\n",
              "            (conv1): Conv2d(256, 256, kernel_size=(3, 3), stride=(1, 1), padding=(1, 1), bias=False)\n",
              "            (bn1): BatchNorm2d(256, eps=1e-05, momentum=0.1, affine=True, track_running_stats=True)\n",
              "            (relu): ReLU(inplace=True)\n",
              "            (conv2): Conv2d(256, 256, kernel_size=(3, 3), stride=(1, 1), padding=(1, 1), bias=False)\n",
              "            (bn2): BatchNorm2d(256, eps=1e-05, momentum=0.1, affine=True, track_running_stats=True)\n",
              "          )\n",
              "          (root): Root(\n",
              "            (conv): Conv2d(896, 256, kernel_size=(1, 1), stride=(1, 1), bias=False)\n",
              "            (bn): BatchNorm2d(256, eps=1e-05, momentum=0.1, affine=True, track_running_stats=True)\n",
              "            (relu): ReLU(inplace=True)\n",
              "          )\n",
              "        )\n",
              "        (downsample): MaxPool2d(kernel_size=2, stride=2, padding=0, dilation=1, ceil_mode=False)\n",
              "        (project): Sequential(\n",
              "          (0): Conv2d(128, 256, kernel_size=(1, 1), stride=(1, 1), bias=False)\n",
              "          (1): BatchNorm2d(256, eps=1e-05, momentum=0.1, affine=True, track_running_stats=True)\n",
              "        )\n",
              "      )\n",
              "      (level5): Tree(\n",
              "        (tree1): BasicBlock(\n",
              "          (conv1): Conv2d(256, 512, kernel_size=(3, 3), stride=(2, 2), padding=(1, 1), bias=False)\n",
              "          (bn1): BatchNorm2d(512, eps=1e-05, momentum=0.1, affine=True, track_running_stats=True)\n",
              "          (relu): ReLU(inplace=True)\n",
              "          (conv2): Conv2d(512, 512, kernel_size=(3, 3), stride=(1, 1), padding=(1, 1), bias=False)\n",
              "          (bn2): BatchNorm2d(512, eps=1e-05, momentum=0.1, affine=True, track_running_stats=True)\n",
              "        )\n",
              "        (tree2): BasicBlock(\n",
              "          (conv1): Conv2d(512, 512, kernel_size=(3, 3), stride=(1, 1), padding=(1, 1), bias=False)\n",
              "          (bn1): BatchNorm2d(512, eps=1e-05, momentum=0.1, affine=True, track_running_stats=True)\n",
              "          (relu): ReLU(inplace=True)\n",
              "          (conv2): Conv2d(512, 512, kernel_size=(3, 3), stride=(1, 1), padding=(1, 1), bias=False)\n",
              "          (bn2): BatchNorm2d(512, eps=1e-05, momentum=0.1, affine=True, track_running_stats=True)\n",
              "        )\n",
              "        (root): Root(\n",
              "          (conv): Conv2d(1280, 512, kernel_size=(1, 1), stride=(1, 1), bias=False)\n",
              "          (bn): BatchNorm2d(512, eps=1e-05, momentum=0.1, affine=True, track_running_stats=True)\n",
              "          (relu): ReLU(inplace=True)\n",
              "        )\n",
              "        (downsample): MaxPool2d(kernel_size=2, stride=2, padding=0, dilation=1, ceil_mode=False)\n",
              "        (project): Sequential(\n",
              "          (0): Conv2d(256, 512, kernel_size=(1, 1), stride=(1, 1), bias=False)\n",
              "          (1): BatchNorm2d(512, eps=1e-05, momentum=0.1, affine=True, track_running_stats=True)\n",
              "        )\n",
              "      )\n",
              "      (avgpool): AvgPool2d(kernel_size=7, stride=7, padding=0)\n",
              "      (fc): Conv2d(512, 1000, kernel_size=(1, 1), stride=(1, 1))\n",
              "    )\n",
              "    (dla_up): DLAUp(\n",
              "      (ida_0): IDAUp(\n",
              "        (proj_0): Identity()\n",
              "        (up_0): Identity()\n",
              "        (proj_1): Sequential(\n",
              "          (0): Conv2d(512, 256, kernel_size=(1, 1), stride=(1, 1), bias=False)\n",
              "          (1): BatchNorm2d(256, eps=1e-05, momentum=0.1, affine=True, track_running_stats=True)\n",
              "          (2): ReLU(inplace=True)\n",
              "        )\n",
              "        (up_1): ConvTranspose2d(256, 256, kernel_size=(4, 4), stride=(2, 2), padding=(1, 1), groups=256, bias=False)\n",
              "        (node_1): Sequential(\n",
              "          (0): Conv2d(512, 256, kernel_size=(3, 3), stride=(1, 1), padding=(1, 1), bias=False)\n",
              "          (1): BatchNorm2d(256, eps=1e-05, momentum=0.1, affine=True, track_running_stats=True)\n",
              "          (2): ReLU(inplace=True)\n",
              "        )\n",
              "      )\n",
              "      (ida_1): IDAUp(\n",
              "        (proj_0): Identity()\n",
              "        (up_0): Identity()\n",
              "        (proj_1): Sequential(\n",
              "          (0): Conv2d(256, 128, kernel_size=(1, 1), stride=(1, 1), bias=False)\n",
              "          (1): BatchNorm2d(128, eps=1e-05, momentum=0.1, affine=True, track_running_stats=True)\n",
              "          (2): ReLU(inplace=True)\n",
              "        )\n",
              "        (up_1): ConvTranspose2d(128, 128, kernel_size=(4, 4), stride=(2, 2), padding=(1, 1), groups=128, bias=False)\n",
              "        (proj_2): Sequential(\n",
              "          (0): Conv2d(256, 128, kernel_size=(1, 1), stride=(1, 1), bias=False)\n",
              "          (1): BatchNorm2d(128, eps=1e-05, momentum=0.1, affine=True, track_running_stats=True)\n",
              "          (2): ReLU(inplace=True)\n",
              "        )\n",
              "        (up_2): ConvTranspose2d(128, 128, kernel_size=(4, 4), stride=(2, 2), padding=(1, 1), groups=128, bias=False)\n",
              "        (node_1): Sequential(\n",
              "          (0): Conv2d(256, 128, kernel_size=(3, 3), stride=(1, 1), padding=(1, 1), bias=False)\n",
              "          (1): BatchNorm2d(128, eps=1e-05, momentum=0.1, affine=True, track_running_stats=True)\n",
              "          (2): ReLU(inplace=True)\n",
              "        )\n",
              "        (node_2): Sequential(\n",
              "          (0): Conv2d(256, 128, kernel_size=(3, 3), stride=(1, 1), padding=(1, 1), bias=False)\n",
              "          (1): BatchNorm2d(128, eps=1e-05, momentum=0.1, affine=True, track_running_stats=True)\n",
              "          (2): ReLU(inplace=True)\n",
              "        )\n",
              "      )\n",
              "      (ida_2): IDAUp(\n",
              "        (proj_0): Identity()\n",
              "        (up_0): Identity()\n",
              "        (proj_1): Sequential(\n",
              "          (0): Conv2d(128, 64, kernel_size=(1, 1), stride=(1, 1), bias=False)\n",
              "          (1): BatchNorm2d(64, eps=1e-05, momentum=0.1, affine=True, track_running_stats=True)\n",
              "          (2): ReLU(inplace=True)\n",
              "        )\n",
              "        (up_1): ConvTranspose2d(64, 64, kernel_size=(4, 4), stride=(2, 2), padding=(1, 1), groups=64, bias=False)\n",
              "        (proj_2): Sequential(\n",
              "          (0): Conv2d(128, 64, kernel_size=(1, 1), stride=(1, 1), bias=False)\n",
              "          (1): BatchNorm2d(64, eps=1e-05, momentum=0.1, affine=True, track_running_stats=True)\n",
              "          (2): ReLU(inplace=True)\n",
              "        )\n",
              "        (up_2): ConvTranspose2d(64, 64, kernel_size=(4, 4), stride=(2, 2), padding=(1, 1), groups=64, bias=False)\n",
              "        (proj_3): Sequential(\n",
              "          (0): Conv2d(128, 64, kernel_size=(1, 1), stride=(1, 1), bias=False)\n",
              "          (1): BatchNorm2d(64, eps=1e-05, momentum=0.1, affine=True, track_running_stats=True)\n",
              "          (2): ReLU(inplace=True)\n",
              "        )\n",
              "        (up_3): ConvTranspose2d(64, 64, kernel_size=(4, 4), stride=(2, 2), padding=(1, 1), groups=64, bias=False)\n",
              "        (node_1): Sequential(\n",
              "          (0): Conv2d(128, 64, kernel_size=(3, 3), stride=(1, 1), padding=(1, 1), bias=False)\n",
              "          (1): BatchNorm2d(64, eps=1e-05, momentum=0.1, affine=True, track_running_stats=True)\n",
              "          (2): ReLU(inplace=True)\n",
              "        )\n",
              "        (node_2): Sequential(\n",
              "          (0): Conv2d(128, 64, kernel_size=(3, 3), stride=(1, 1), padding=(1, 1), bias=False)\n",
              "          (1): BatchNorm2d(64, eps=1e-05, momentum=0.1, affine=True, track_running_stats=True)\n",
              "          (2): ReLU(inplace=True)\n",
              "        )\n",
              "        (node_3): Sequential(\n",
              "          (0): Conv2d(128, 64, kernel_size=(3, 3), stride=(1, 1), padding=(1, 1), bias=False)\n",
              "          (1): BatchNorm2d(64, eps=1e-05, momentum=0.1, affine=True, track_running_stats=True)\n",
              "          (2): ReLU(inplace=True)\n",
              "        )\n",
              "      )\n",
              "      (ida_3): IDAUp(\n",
              "        (proj_0): Identity()\n",
              "        (up_0): Identity()\n",
              "        (proj_1): Sequential(\n",
              "          (0): Conv2d(64, 32, kernel_size=(1, 1), stride=(1, 1), bias=False)\n",
              "          (1): BatchNorm2d(32, eps=1e-05, momentum=0.1, affine=True, track_running_stats=True)\n",
              "          (2): ReLU(inplace=True)\n",
              "        )\n",
              "        (up_1): ConvTranspose2d(32, 32, kernel_size=(4, 4), stride=(2, 2), padding=(1, 1), groups=32, bias=False)\n",
              "        (proj_2): Sequential(\n",
              "          (0): Conv2d(64, 32, kernel_size=(1, 1), stride=(1, 1), bias=False)\n",
              "          (1): BatchNorm2d(32, eps=1e-05, momentum=0.1, affine=True, track_running_stats=True)\n",
              "          (2): ReLU(inplace=True)\n",
              "        )\n",
              "        (up_2): ConvTranspose2d(32, 32, kernel_size=(4, 4), stride=(2, 2), padding=(1, 1), groups=32, bias=False)\n",
              "        (proj_3): Sequential(\n",
              "          (0): Conv2d(64, 32, kernel_size=(1, 1), stride=(1, 1), bias=False)\n",
              "          (1): BatchNorm2d(32, eps=1e-05, momentum=0.1, affine=True, track_running_stats=True)\n",
              "          (2): ReLU(inplace=True)\n",
              "        )\n",
              "        (up_3): ConvTranspose2d(32, 32, kernel_size=(4, 4), stride=(2, 2), padding=(1, 1), groups=32, bias=False)\n",
              "        (proj_4): Sequential(\n",
              "          (0): Conv2d(64, 32, kernel_size=(1, 1), stride=(1, 1), bias=False)\n",
              "          (1): BatchNorm2d(32, eps=1e-05, momentum=0.1, affine=True, track_running_stats=True)\n",
              "          (2): ReLU(inplace=True)\n",
              "        )\n",
              "        (up_4): ConvTranspose2d(32, 32, kernel_size=(4, 4), stride=(2, 2), padding=(1, 1), groups=32, bias=False)\n",
              "        (node_1): Sequential(\n",
              "          (0): Conv2d(64, 32, kernel_size=(3, 3), stride=(1, 1), padding=(1, 1), bias=False)\n",
              "          (1): BatchNorm2d(32, eps=1e-05, momentum=0.1, affine=True, track_running_stats=True)\n",
              "          (2): ReLU(inplace=True)\n",
              "        )\n",
              "        (node_2): Sequential(\n",
              "          (0): Conv2d(64, 32, kernel_size=(3, 3), stride=(1, 1), padding=(1, 1), bias=False)\n",
              "          (1): BatchNorm2d(32, eps=1e-05, momentum=0.1, affine=True, track_running_stats=True)\n",
              "          (2): ReLU(inplace=True)\n",
              "        )\n",
              "        (node_3): Sequential(\n",
              "          (0): Conv2d(64, 32, kernel_size=(3, 3), stride=(1, 1), padding=(1, 1), bias=False)\n",
              "          (1): BatchNorm2d(32, eps=1e-05, momentum=0.1, affine=True, track_running_stats=True)\n",
              "          (2): ReLU(inplace=True)\n",
              "        )\n",
              "        (node_4): Sequential(\n",
              "          (0): Conv2d(64, 32, kernel_size=(3, 3), stride=(1, 1), padding=(1, 1), bias=False)\n",
              "          (1): BatchNorm2d(32, eps=1e-05, momentum=0.1, affine=True, track_running_stats=True)\n",
              "          (2): ReLU(inplace=True)\n",
              "        )\n",
              "      )\n",
              "    )\n",
              "    (bottleneck_conv): Conv2d(512, 512, kernel_size=(1, 1), stride=(1, 1))\n",
              "    (loc_head): Sequential(\n",
              "      (0): Conv2d(32, 64, kernel_size=(3, 3), stride=(1, 1), padding=(1, 1))\n",
              "      (1): ReLU(inplace=True)\n",
              "      (2): Conv2d(64, 1, kernel_size=(1, 1), stride=(1, 1))\n",
              "      (3): Sigmoid()\n",
              "    )\n",
              "    (cls_head): Sequential(\n",
              "      (0): Conv2d(512, 64, kernel_size=(3, 3), stride=(1, 1), padding=(1, 1))\n",
              "      (1): ReLU(inplace=True)\n",
              "      (2): Conv2d(64, 7, kernel_size=(1, 1), stride=(1, 1))\n",
              "    )\n",
              "  )\n",
              ")"
            ]
          },
          "metadata": {},
          "execution_count": 24
        }
      ],
      "source": [
        "trainer.start(warmup_iters=100, checkpoints='best', select='max', validate_on='f1_score')"
      ]
    },
    {
      "cell_type": "markdown",
      "metadata": {
        "id": "_e0CQd5Bxx5T"
      },
      "source": [
        "## Test the model"
      ]
    },
    {
      "cell_type": "code",
      "execution_count": 15,
      "metadata": {
        "id": "D5133GoRz8r_",
        "colab": {
          "base_uri": "https://localhost:8080/"
        },
        "outputId": "1bc47515-1026-4dff-fd9d-107f07c01ece"
      },
      "outputs": [
        {
          "output_type": "stream",
          "name": "stderr",
          "text": [
            "Downloading...\n",
            "From (original): https://drive.google.com/uc?export=download&id=1-WUnBC4BJMVkNvRqalF_HzA1_pRkQTI_\n",
            "From (redirected): https://drive.google.com/uc?export=download&id=1-WUnBC4BJMVkNvRqalF_HzA1_pRkQTI_&confirm=t&uuid=1ab40443-9cb8-4f80-a2dd-aacdb2e38fab\n",
            "To: /content/20220413_herdnet_model.pth\n",
            "100%|██████████| 220M/220M [00:02<00:00, 98.6MB/s]\n"
          ]
        }
      ],
      "source": [
        "# Path to your .pth file\n",
        "import gdown\n",
        "\n",
        "pth_path = ''\n",
        "\n",
        "if not pth_path:\n",
        "    gdown.download(\n",
        "        'https://drive.google.com/uc?export=download&id=1-WUnBC4BJMVkNvRqalF_HzA1_pRkQTI_',\n",
        "        '/content/20220413_herdnet_model.pth'\n",
        "        )\n",
        "    pth_path = '/content/20220413_herdnet_model.pth'"
      ]
    },
    {
      "cell_type": "code",
      "execution_count": 16,
      "metadata": {
        "id": "VPHXVYWNzVDj"
      },
      "outputs": [],
      "source": [
        "# Create output folder\n",
        "test_dir = '/content/test_output'\n",
        "mkdir(test_dir)"
      ]
    },
    {
      "cell_type": "code",
      "source": [
        "# Create output folder\n",
        "import os\n",
        "test_dir = '/content/test_output'\n",
        "os.makedirs(test_dir, exist_ok=True) # Use os.makedirs instead of mkdir"
      ],
      "metadata": {
        "id": "88qosuBLuUP-"
      },
      "execution_count": 17,
      "outputs": []
    },
    {
      "cell_type": "code",
      "execution_count": 18,
      "metadata": {
        "id": "DXUsHk7dzl47"
      },
      "outputs": [],
      "source": [
        "# Load trained parameters\n",
        "from animaloc.models import load_model\n",
        "\n",
        "herdnet = load_model(herdnet, pth_path=pth_path)"
      ]
    },
    {
      "cell_type": "code",
      "execution_count": 19,
      "metadata": {
        "id": "lX3Jp883zB-D"
      },
      "outputs": [],
      "source": [
        "# Create an Evaluator\n",
        "test_evaluator = HerdNetEvaluator(\n",
        "    model=herdnet,\n",
        "    dataloader=test_dataloader,\n",
        "    metrics=metrics,\n",
        "    stitcher=stitcher,\n",
        "    work_dir=test_dir,\n",
        "    header='test'\n",
        "    )"
      ]
    },
    {
      "cell_type": "code",
      "execution_count": 20,
      "metadata": {
        "id": "CZt_wNle0488",
        "colab": {
          "base_uri": "https://localhost:8080/"
        },
        "outputId": "f500ad92-f5c8-4d49-feec-5b4728323734"
      },
      "outputs": [
        {
          "output_type": "stream",
          "name": "stderr",
          "text": [
            "/usr/local/lib/python3.11/dist-packages/albumentations/core/composition.py:250: UserWarning: Got processor for keypoints, but no transform to process it.\n",
            "  self._set_keys()\n",
            "INFO:20250408_evaluation:test [  1/258] eta: 0:22:23 n: 1 recall: 1.0 precision: 0.2 f1-score: 0.33 MAE: 4.0 MSE: 16.0 RMSE: 4.0 time: 5.2082 data: 0.7421 max mem: 1471\n"
          ]
        },
        {
          "output_type": "stream",
          "name": "stdout",
          "text": [
            "test [  1/258] eta: 0:22:23 n: 1 recall: 1.0 precision: 0.2 f1-score: 0.33 MAE: 4.0 MSE: 16.0 RMSE: 4.0 time: 5.2082 data: 0.7421 max mem: 1471\n"
          ]
        },
        {
          "output_type": "stream",
          "name": "stderr",
          "text": [
            "/usr/local/lib/python3.11/dist-packages/albumentations/core/composition.py:250: UserWarning: Got processor for keypoints, but no transform to process it.\n",
            "  self._set_keys()\n",
            "/usr/local/lib/python3.11/dist-packages/albumentations/core/composition.py:250: UserWarning: Got processor for keypoints, but no transform to process it.\n",
            "  self._set_keys()\n",
            "/usr/local/lib/python3.11/dist-packages/albumentations/core/composition.py:250: UserWarning: Got processor for keypoints, but no transform to process it.\n",
            "  self._set_keys()\n",
            "/usr/local/lib/python3.11/dist-packages/albumentations/core/composition.py:250: UserWarning: Got processor for keypoints, but no transform to process it.\n",
            "  self._set_keys()\n",
            "/usr/local/lib/python3.11/dist-packages/albumentations/core/composition.py:250: UserWarning: Got processor for keypoints, but no transform to process it.\n",
            "  self._set_keys()\n",
            "/usr/local/lib/python3.11/dist-packages/albumentations/core/composition.py:250: UserWarning: Got processor for keypoints, but no transform to process it.\n",
            "  self._set_keys()\n",
            "/usr/local/lib/python3.11/dist-packages/albumentations/core/composition.py:250: UserWarning: Got processor for keypoints, but no transform to process it.\n",
            "  self._set_keys()\n",
            "/usr/local/lib/python3.11/dist-packages/albumentations/core/composition.py:250: UserWarning: Got processor for keypoints, but no transform to process it.\n",
            "  self._set_keys()\n",
            "/usr/local/lib/python3.11/dist-packages/albumentations/core/composition.py:250: UserWarning: Got processor for keypoints, but no transform to process it.\n",
            "  self._set_keys()\n",
            "/usr/local/lib/python3.11/dist-packages/albumentations/core/composition.py:250: UserWarning: Got processor for keypoints, but no transform to process it.\n",
            "  self._set_keys()\n",
            "INFO:20250408_evaluation:test [ 11/258] eta: 0:15:04 n: 1 recall: 1.0 precision: 1.0 f1-score: 1.0 MAE: 0.0 MSE: 0.0 RMSE: 0.0 time: 3.6472 data: 0.6522 max mem: 1471\n"
          ]
        },
        {
          "output_type": "stream",
          "name": "stdout",
          "text": [
            "test [ 11/258] eta: 0:15:04 n: 1 recall: 1.0 precision: 1.0 f1-score: 1.0 MAE: 0.0 MSE: 0.0 RMSE: 0.0 time: 3.6472 data: 0.6522 max mem: 1471\n"
          ]
        },
        {
          "output_type": "stream",
          "name": "stderr",
          "text": [
            "/usr/local/lib/python3.11/dist-packages/albumentations/core/composition.py:250: UserWarning: Got processor for keypoints, but no transform to process it.\n",
            "  self._set_keys()\n",
            "/usr/local/lib/python3.11/dist-packages/albumentations/core/composition.py:250: UserWarning: Got processor for keypoints, but no transform to process it.\n",
            "  self._set_keys()\n",
            "/usr/local/lib/python3.11/dist-packages/albumentations/core/composition.py:250: UserWarning: Got processor for keypoints, but no transform to process it.\n",
            "  self._set_keys()\n",
            "/usr/local/lib/python3.11/dist-packages/albumentations/core/composition.py:250: UserWarning: Got processor for keypoints, but no transform to process it.\n",
            "  self._set_keys()\n",
            "/usr/local/lib/python3.11/dist-packages/albumentations/core/composition.py:250: UserWarning: Got processor for keypoints, but no transform to process it.\n",
            "  self._set_keys()\n",
            "/usr/local/lib/python3.11/dist-packages/albumentations/core/composition.py:250: UserWarning: Got processor for keypoints, but no transform to process it.\n",
            "  self._set_keys()\n",
            "/usr/local/lib/python3.11/dist-packages/albumentations/core/composition.py:250: UserWarning: Got processor for keypoints, but no transform to process it.\n",
            "  self._set_keys()\n",
            "/usr/local/lib/python3.11/dist-packages/albumentations/core/composition.py:250: UserWarning: Got processor for keypoints, but no transform to process it.\n",
            "  self._set_keys()\n",
            "/usr/local/lib/python3.11/dist-packages/albumentations/core/composition.py:250: UserWarning: Got processor for keypoints, but no transform to process it.\n",
            "  self._set_keys()\n",
            "/usr/local/lib/python3.11/dist-packages/albumentations/core/composition.py:250: UserWarning: Got processor for keypoints, but no transform to process it.\n",
            "  self._set_keys()\n",
            "INFO:20250408_evaluation:test [ 21/258] eta: 0:14:10 n: 1 recall: 1.0 precision: 0.33 f1-score: 0.5 MAE: 2.0 MSE: 4.0 RMSE: 2.0 time: 3.4939 data: 0.6479 max mem: 1472\n"
          ]
        },
        {
          "output_type": "stream",
          "name": "stdout",
          "text": [
            "test [ 21/258] eta: 0:14:10 n: 1 recall: 1.0 precision: 0.33 f1-score: 0.5 MAE: 2.0 MSE: 4.0 RMSE: 2.0 time: 3.4939 data: 0.6479 max mem: 1472\n"
          ]
        },
        {
          "output_type": "stream",
          "name": "stderr",
          "text": [
            "/usr/local/lib/python3.11/dist-packages/albumentations/core/composition.py:250: UserWarning: Got processor for keypoints, but no transform to process it.\n",
            "  self._set_keys()\n",
            "/usr/local/lib/python3.11/dist-packages/albumentations/core/composition.py:250: UserWarning: Got processor for keypoints, but no transform to process it.\n",
            "  self._set_keys()\n",
            "/usr/local/lib/python3.11/dist-packages/albumentations/core/composition.py:250: UserWarning: Got processor for keypoints, but no transform to process it.\n",
            "  self._set_keys()\n",
            "/usr/local/lib/python3.11/dist-packages/albumentations/core/composition.py:250: UserWarning: Got processor for keypoints, but no transform to process it.\n",
            "  self._set_keys()\n",
            "/usr/local/lib/python3.11/dist-packages/albumentations/core/composition.py:250: UserWarning: Got processor for keypoints, but no transform to process it.\n",
            "  self._set_keys()\n",
            "/usr/local/lib/python3.11/dist-packages/albumentations/core/composition.py:250: UserWarning: Got processor for keypoints, but no transform to process it.\n",
            "  self._set_keys()\n",
            "/usr/local/lib/python3.11/dist-packages/albumentations/core/composition.py:250: UserWarning: Got processor for keypoints, but no transform to process it.\n",
            "  self._set_keys()\n",
            "/usr/local/lib/python3.11/dist-packages/albumentations/core/composition.py:250: UserWarning: Got processor for keypoints, but no transform to process it.\n",
            "  self._set_keys()\n",
            "/usr/local/lib/python3.11/dist-packages/albumentations/core/composition.py:250: UserWarning: Got processor for keypoints, but no transform to process it.\n",
            "  self._set_keys()\n",
            "/usr/local/lib/python3.11/dist-packages/albumentations/core/composition.py:250: UserWarning: Got processor for keypoints, but no transform to process it.\n",
            "  self._set_keys()\n",
            "INFO:20250408_evaluation:test [ 31/258] eta: 0:13:28 n: 36 recall: 0.92 precision: 1.0 f1-score: 0.96 MAE: 3.0 MSE: 9.0 RMSE: 3.0 time: 3.4917 data: 0.6458 max mem: 1472\n"
          ]
        },
        {
          "output_type": "stream",
          "name": "stdout",
          "text": [
            "test [ 31/258] eta: 0:13:28 n: 36 recall: 0.92 precision: 1.0 f1-score: 0.96 MAE: 3.0 MSE: 9.0 RMSE: 3.0 time: 3.4917 data: 0.6458 max mem: 1472\n"
          ]
        },
        {
          "output_type": "stream",
          "name": "stderr",
          "text": [
            "/usr/local/lib/python3.11/dist-packages/albumentations/core/composition.py:250: UserWarning: Got processor for keypoints, but no transform to process it.\n",
            "  self._set_keys()\n",
            "/usr/local/lib/python3.11/dist-packages/albumentations/core/composition.py:250: UserWarning: Got processor for keypoints, but no transform to process it.\n",
            "  self._set_keys()\n",
            "/usr/local/lib/python3.11/dist-packages/albumentations/core/composition.py:250: UserWarning: Got processor for keypoints, but no transform to process it.\n",
            "  self._set_keys()\n",
            "/usr/local/lib/python3.11/dist-packages/albumentations/core/composition.py:250: UserWarning: Got processor for keypoints, but no transform to process it.\n",
            "  self._set_keys()\n",
            "/usr/local/lib/python3.11/dist-packages/albumentations/core/composition.py:250: UserWarning: Got processor for keypoints, but no transform to process it.\n",
            "  self._set_keys()\n",
            "/usr/local/lib/python3.11/dist-packages/albumentations/core/composition.py:250: UserWarning: Got processor for keypoints, but no transform to process it.\n",
            "  self._set_keys()\n",
            "/usr/local/lib/python3.11/dist-packages/albumentations/core/composition.py:250: UserWarning: Got processor for keypoints, but no transform to process it.\n",
            "  self._set_keys()\n",
            "/usr/local/lib/python3.11/dist-packages/albumentations/core/composition.py:250: UserWarning: Got processor for keypoints, but no transform to process it.\n",
            "  self._set_keys()\n",
            "/usr/local/lib/python3.11/dist-packages/albumentations/core/composition.py:250: UserWarning: Got processor for keypoints, but no transform to process it.\n",
            "  self._set_keys()\n",
            "/usr/local/lib/python3.11/dist-packages/albumentations/core/composition.py:250: UserWarning: Got processor for keypoints, but no transform to process it.\n",
            "  self._set_keys()\n",
            "INFO:20250408_evaluation:test [ 41/258] eta: 0:12:50 n: 1 recall: 1.0 precision: 0.25 f1-score: 0.4 MAE: 3.0 MSE: 9.0 RMSE: 3.0 time: 3.4866 data: 0.6442 max mem: 1472\n"
          ]
        },
        {
          "output_type": "stream",
          "name": "stdout",
          "text": [
            "test [ 41/258] eta: 0:12:50 n: 1 recall: 1.0 precision: 0.25 f1-score: 0.4 MAE: 3.0 MSE: 9.0 RMSE: 3.0 time: 3.4866 data: 0.6442 max mem: 1472\n"
          ]
        },
        {
          "output_type": "stream",
          "name": "stderr",
          "text": [
            "/usr/local/lib/python3.11/dist-packages/albumentations/core/composition.py:250: UserWarning: Got processor for keypoints, but no transform to process it.\n",
            "  self._set_keys()\n",
            "/usr/local/lib/python3.11/dist-packages/albumentations/core/composition.py:250: UserWarning: Got processor for keypoints, but no transform to process it.\n",
            "  self._set_keys()\n",
            "/usr/local/lib/python3.11/dist-packages/albumentations/core/composition.py:250: UserWarning: Got processor for keypoints, but no transform to process it.\n",
            "  self._set_keys()\n",
            "/usr/local/lib/python3.11/dist-packages/albumentations/core/composition.py:250: UserWarning: Got processor for keypoints, but no transform to process it.\n",
            "  self._set_keys()\n",
            "/usr/local/lib/python3.11/dist-packages/albumentations/core/composition.py:250: UserWarning: Got processor for keypoints, but no transform to process it.\n",
            "  self._set_keys()\n",
            "/usr/local/lib/python3.11/dist-packages/albumentations/core/composition.py:250: UserWarning: Got processor for keypoints, but no transform to process it.\n",
            "  self._set_keys()\n",
            "/usr/local/lib/python3.11/dist-packages/albumentations/core/composition.py:250: UserWarning: Got processor for keypoints, but no transform to process it.\n",
            "  self._set_keys()\n",
            "/usr/local/lib/python3.11/dist-packages/albumentations/core/composition.py:250: UserWarning: Got processor for keypoints, but no transform to process it.\n",
            "  self._set_keys()\n",
            "/usr/local/lib/python3.11/dist-packages/albumentations/core/composition.py:250: UserWarning: Got processor for keypoints, but no transform to process it.\n",
            "  self._set_keys()\n",
            "/usr/local/lib/python3.11/dist-packages/albumentations/core/composition.py:250: UserWarning: Got processor for keypoints, but no transform to process it.\n",
            "  self._set_keys()\n",
            "INFO:20250408_evaluation:test [ 51/258] eta: 0:12:12 n: 6 recall: 1.0 precision: 0.67 f1-score: 0.8 MAE: 3.0 MSE: 9.0 RMSE: 3.0 time: 3.4840 data: 0.6402 max mem: 1472\n"
          ]
        },
        {
          "output_type": "stream",
          "name": "stdout",
          "text": [
            "test [ 51/258] eta: 0:12:12 n: 6 recall: 1.0 precision: 0.67 f1-score: 0.8 MAE: 3.0 MSE: 9.0 RMSE: 3.0 time: 3.4840 data: 0.6402 max mem: 1472\n"
          ]
        },
        {
          "output_type": "stream",
          "name": "stderr",
          "text": [
            "/usr/local/lib/python3.11/dist-packages/albumentations/core/composition.py:250: UserWarning: Got processor for keypoints, but no transform to process it.\n",
            "  self._set_keys()\n",
            "/usr/local/lib/python3.11/dist-packages/albumentations/core/composition.py:250: UserWarning: Got processor for keypoints, but no transform to process it.\n",
            "  self._set_keys()\n",
            "/usr/local/lib/python3.11/dist-packages/albumentations/core/composition.py:250: UserWarning: Got processor for keypoints, but no transform to process it.\n",
            "  self._set_keys()\n",
            "/usr/local/lib/python3.11/dist-packages/albumentations/core/composition.py:250: UserWarning: Got processor for keypoints, but no transform to process it.\n",
            "  self._set_keys()\n",
            "/usr/local/lib/python3.11/dist-packages/albumentations/core/composition.py:250: UserWarning: Got processor for keypoints, but no transform to process it.\n",
            "  self._set_keys()\n",
            "/usr/local/lib/python3.11/dist-packages/albumentations/core/composition.py:250: UserWarning: Got processor for keypoints, but no transform to process it.\n",
            "  self._set_keys()\n",
            "/usr/local/lib/python3.11/dist-packages/albumentations/core/composition.py:250: UserWarning: Got processor for keypoints, but no transform to process it.\n",
            "  self._set_keys()\n",
            "/usr/local/lib/python3.11/dist-packages/albumentations/core/composition.py:250: UserWarning: Got processor for keypoints, but no transform to process it.\n",
            "  self._set_keys()\n",
            "/usr/local/lib/python3.11/dist-packages/albumentations/core/composition.py:250: UserWarning: Got processor for keypoints, but no transform to process it.\n",
            "  self._set_keys()\n",
            "/usr/local/lib/python3.11/dist-packages/albumentations/core/composition.py:250: UserWarning: Got processor for keypoints, but no transform to process it.\n",
            "  self._set_keys()\n",
            "INFO:20250408_evaluation:test [ 61/258] eta: 0:11:36 n: 2 recall: 1.0 precision: 1.0 f1-score: 1.0 MAE: 0.0 MSE: 0.0 RMSE: 0.0 time: 3.4807 data: 0.6320 max mem: 1474\n"
          ]
        },
        {
          "output_type": "stream",
          "name": "stdout",
          "text": [
            "test [ 61/258] eta: 0:11:36 n: 2 recall: 1.0 precision: 1.0 f1-score: 1.0 MAE: 0.0 MSE: 0.0 RMSE: 0.0 time: 3.4807 data: 0.6320 max mem: 1474\n"
          ]
        },
        {
          "output_type": "stream",
          "name": "stderr",
          "text": [
            "/usr/local/lib/python3.11/dist-packages/albumentations/core/composition.py:250: UserWarning: Got processor for keypoints, but no transform to process it.\n",
            "  self._set_keys()\n",
            "/usr/local/lib/python3.11/dist-packages/albumentations/core/composition.py:250: UserWarning: Got processor for keypoints, but no transform to process it.\n",
            "  self._set_keys()\n",
            "/usr/local/lib/python3.11/dist-packages/albumentations/core/composition.py:250: UserWarning: Got processor for keypoints, but no transform to process it.\n",
            "  self._set_keys()\n",
            "/usr/local/lib/python3.11/dist-packages/albumentations/core/composition.py:250: UserWarning: Got processor for keypoints, but no transform to process it.\n",
            "  self._set_keys()\n",
            "/usr/local/lib/python3.11/dist-packages/albumentations/core/composition.py:250: UserWarning: Got processor for keypoints, but no transform to process it.\n",
            "  self._set_keys()\n",
            "/usr/local/lib/python3.11/dist-packages/albumentations/core/composition.py:250: UserWarning: Got processor for keypoints, but no transform to process it.\n",
            "  self._set_keys()\n",
            "/usr/local/lib/python3.11/dist-packages/albumentations/core/composition.py:250: UserWarning: Got processor for keypoints, but no transform to process it.\n",
            "  self._set_keys()\n",
            "/usr/local/lib/python3.11/dist-packages/albumentations/core/composition.py:250: UserWarning: Got processor for keypoints, but no transform to process it.\n",
            "  self._set_keys()\n",
            "/usr/local/lib/python3.11/dist-packages/albumentations/core/composition.py:250: UserWarning: Got processor for keypoints, but no transform to process it.\n",
            "  self._set_keys()\n",
            "/usr/local/lib/python3.11/dist-packages/albumentations/core/composition.py:250: UserWarning: Got processor for keypoints, but no transform to process it.\n",
            "  self._set_keys()\n",
            "INFO:20250408_evaluation:test [ 71/258] eta: 0:10:59 n: 1 recall: 0.0 precision: 0.0 f1-score: 0.0 MAE: 1.0 MSE: 1.0 RMSE: 1.0 time: 3.4711 data: 0.6330 max mem: 1474\n"
          ]
        },
        {
          "output_type": "stream",
          "name": "stdout",
          "text": [
            "test [ 71/258] eta: 0:10:59 n: 1 recall: 0.0 precision: 0.0 f1-score: 0.0 MAE: 1.0 MSE: 1.0 RMSE: 1.0 time: 3.4711 data: 0.6330 max mem: 1474\n"
          ]
        },
        {
          "output_type": "stream",
          "name": "stderr",
          "text": [
            "/usr/local/lib/python3.11/dist-packages/albumentations/core/composition.py:250: UserWarning: Got processor for keypoints, but no transform to process it.\n",
            "  self._set_keys()\n",
            "/usr/local/lib/python3.11/dist-packages/albumentations/core/composition.py:250: UserWarning: Got processor for keypoints, but no transform to process it.\n",
            "  self._set_keys()\n",
            "/usr/local/lib/python3.11/dist-packages/albumentations/core/composition.py:250: UserWarning: Got processor for keypoints, but no transform to process it.\n",
            "  self._set_keys()\n",
            "/usr/local/lib/python3.11/dist-packages/albumentations/core/composition.py:250: UserWarning: Got processor for keypoints, but no transform to process it.\n",
            "  self._set_keys()\n",
            "/usr/local/lib/python3.11/dist-packages/albumentations/core/composition.py:250: UserWarning: Got processor for keypoints, but no transform to process it.\n",
            "  self._set_keys()\n",
            "/usr/local/lib/python3.11/dist-packages/albumentations/core/composition.py:250: UserWarning: Got processor for keypoints, but no transform to process it.\n",
            "  self._set_keys()\n",
            "/usr/local/lib/python3.11/dist-packages/albumentations/core/composition.py:250: UserWarning: Got processor for keypoints, but no transform to process it.\n",
            "  self._set_keys()\n",
            "/usr/local/lib/python3.11/dist-packages/albumentations/core/composition.py:250: UserWarning: Got processor for keypoints, but no transform to process it.\n",
            "  self._set_keys()\n",
            "/usr/local/lib/python3.11/dist-packages/albumentations/core/composition.py:250: UserWarning: Got processor for keypoints, but no transform to process it.\n",
            "  self._set_keys()\n",
            "/usr/local/lib/python3.11/dist-packages/albumentations/core/composition.py:250: UserWarning: Got processor for keypoints, but no transform to process it.\n",
            "  self._set_keys()\n",
            "INFO:20250408_evaluation:test [ 81/258] eta: 0:10:23 n: 2 recall: 1.0 precision: 1.0 f1-score: 1.0 MAE: 0.0 MSE: 0.0 RMSE: 0.0 time: 3.4646 data: 0.6343 max mem: 1474\n"
          ]
        },
        {
          "output_type": "stream",
          "name": "stdout",
          "text": [
            "test [ 81/258] eta: 0:10:23 n: 2 recall: 1.0 precision: 1.0 f1-score: 1.0 MAE: 0.0 MSE: 0.0 RMSE: 0.0 time: 3.4646 data: 0.6343 max mem: 1474\n"
          ]
        },
        {
          "output_type": "stream",
          "name": "stderr",
          "text": [
            "/usr/local/lib/python3.11/dist-packages/albumentations/core/composition.py:250: UserWarning: Got processor for keypoints, but no transform to process it.\n",
            "  self._set_keys()\n",
            "/usr/local/lib/python3.11/dist-packages/albumentations/core/composition.py:250: UserWarning: Got processor for keypoints, but no transform to process it.\n",
            "  self._set_keys()\n",
            "/usr/local/lib/python3.11/dist-packages/albumentations/core/composition.py:250: UserWarning: Got processor for keypoints, but no transform to process it.\n",
            "  self._set_keys()\n",
            "/usr/local/lib/python3.11/dist-packages/albumentations/core/composition.py:250: UserWarning: Got processor for keypoints, but no transform to process it.\n",
            "  self._set_keys()\n",
            "/usr/local/lib/python3.11/dist-packages/albumentations/core/composition.py:250: UserWarning: Got processor for keypoints, but no transform to process it.\n",
            "  self._set_keys()\n",
            "/usr/local/lib/python3.11/dist-packages/albumentations/core/composition.py:250: UserWarning: Got processor for keypoints, but no transform to process it.\n",
            "  self._set_keys()\n",
            "/usr/local/lib/python3.11/dist-packages/albumentations/core/composition.py:250: UserWarning: Got processor for keypoints, but no transform to process it.\n",
            "  self._set_keys()\n",
            "/usr/local/lib/python3.11/dist-packages/albumentations/core/composition.py:250: UserWarning: Got processor for keypoints, but no transform to process it.\n",
            "  self._set_keys()\n",
            "/usr/local/lib/python3.11/dist-packages/albumentations/core/composition.py:250: UserWarning: Got processor for keypoints, but no transform to process it.\n",
            "  self._set_keys()\n",
            "/usr/local/lib/python3.11/dist-packages/albumentations/core/composition.py:250: UserWarning: Got processor for keypoints, but no transform to process it.\n",
            "  self._set_keys()\n",
            "INFO:20250408_evaluation:test [ 91/258] eta: 0:09:47 n: 5 recall: 1.0 precision: 0.83 f1-score: 0.91 MAE: 1.0 MSE: 1.0 RMSE: 1.0 time: 3.4688 data: 0.6311 max mem: 1474\n"
          ]
        },
        {
          "output_type": "stream",
          "name": "stdout",
          "text": [
            "test [ 91/258] eta: 0:09:47 n: 5 recall: 1.0 precision: 0.83 f1-score: 0.91 MAE: 1.0 MSE: 1.0 RMSE: 1.0 time: 3.4688 data: 0.6311 max mem: 1474\n"
          ]
        },
        {
          "output_type": "stream",
          "name": "stderr",
          "text": [
            "/usr/local/lib/python3.11/dist-packages/albumentations/core/composition.py:250: UserWarning: Got processor for keypoints, but no transform to process it.\n",
            "  self._set_keys()\n",
            "/usr/local/lib/python3.11/dist-packages/albumentations/core/composition.py:250: UserWarning: Got processor for keypoints, but no transform to process it.\n",
            "  self._set_keys()\n",
            "/usr/local/lib/python3.11/dist-packages/albumentations/core/composition.py:250: UserWarning: Got processor for keypoints, but no transform to process it.\n",
            "  self._set_keys()\n",
            "/usr/local/lib/python3.11/dist-packages/albumentations/core/composition.py:250: UserWarning: Got processor for keypoints, but no transform to process it.\n",
            "  self._set_keys()\n",
            "/usr/local/lib/python3.11/dist-packages/albumentations/core/composition.py:250: UserWarning: Got processor for keypoints, but no transform to process it.\n",
            "  self._set_keys()\n",
            "/usr/local/lib/python3.11/dist-packages/albumentations/core/composition.py:250: UserWarning: Got processor for keypoints, but no transform to process it.\n",
            "  self._set_keys()\n",
            "/usr/local/lib/python3.11/dist-packages/albumentations/core/composition.py:250: UserWarning: Got processor for keypoints, but no transform to process it.\n",
            "  self._set_keys()\n",
            "/usr/local/lib/python3.11/dist-packages/albumentations/core/composition.py:250: UserWarning: Got processor for keypoints, but no transform to process it.\n",
            "  self._set_keys()\n",
            "/usr/local/lib/python3.11/dist-packages/albumentations/core/composition.py:250: UserWarning: Got processor for keypoints, but no transform to process it.\n",
            "  self._set_keys()\n",
            "/usr/local/lib/python3.11/dist-packages/albumentations/core/composition.py:250: UserWarning: Got processor for keypoints, but no transform to process it.\n",
            "  self._set_keys()\n",
            "INFO:20250408_evaluation:test [101/258] eta: 0:09:12 n: 2 recall: 1.0 precision: 1.0 f1-score: 1.0 MAE: 0.0 MSE: 0.0 RMSE: 0.0 time: 3.4742 data: 0.6294 max mem: 1474\n"
          ]
        },
        {
          "output_type": "stream",
          "name": "stdout",
          "text": [
            "test [101/258] eta: 0:09:12 n: 2 recall: 1.0 precision: 1.0 f1-score: 1.0 MAE: 0.0 MSE: 0.0 RMSE: 0.0 time: 3.4742 data: 0.6294 max mem: 1474\n"
          ]
        },
        {
          "output_type": "stream",
          "name": "stderr",
          "text": [
            "/usr/local/lib/python3.11/dist-packages/albumentations/core/composition.py:250: UserWarning: Got processor for keypoints, but no transform to process it.\n",
            "  self._set_keys()\n",
            "/usr/local/lib/python3.11/dist-packages/albumentations/core/composition.py:250: UserWarning: Got processor for keypoints, but no transform to process it.\n",
            "  self._set_keys()\n",
            "/usr/local/lib/python3.11/dist-packages/albumentations/core/composition.py:250: UserWarning: Got processor for keypoints, but no transform to process it.\n",
            "  self._set_keys()\n",
            "/usr/local/lib/python3.11/dist-packages/albumentations/core/composition.py:250: UserWarning: Got processor for keypoints, but no transform to process it.\n",
            "  self._set_keys()\n",
            "/usr/local/lib/python3.11/dist-packages/albumentations/core/composition.py:250: UserWarning: Got processor for keypoints, but no transform to process it.\n",
            "  self._set_keys()\n",
            "/usr/local/lib/python3.11/dist-packages/albumentations/core/composition.py:250: UserWarning: Got processor for keypoints, but no transform to process it.\n",
            "  self._set_keys()\n",
            "/usr/local/lib/python3.11/dist-packages/albumentations/core/composition.py:250: UserWarning: Got processor for keypoints, but no transform to process it.\n",
            "  self._set_keys()\n",
            "/usr/local/lib/python3.11/dist-packages/albumentations/core/composition.py:250: UserWarning: Got processor for keypoints, but no transform to process it.\n",
            "  self._set_keys()\n",
            "/usr/local/lib/python3.11/dist-packages/albumentations/core/composition.py:250: UserWarning: Got processor for keypoints, but no transform to process it.\n",
            "  self._set_keys()\n",
            "/usr/local/lib/python3.11/dist-packages/albumentations/core/composition.py:250: UserWarning: Got processor for keypoints, but no transform to process it.\n",
            "  self._set_keys()\n",
            "INFO:20250408_evaluation:test [111/258] eta: 0:08:36 n: 5 recall: 0.0 precision: 0.0 f1-score: 0.0 MAE: 4.0 MSE: 16.0 RMSE: 4.0 time: 3.4619 data: 0.6329 max mem: 1474\n"
          ]
        },
        {
          "output_type": "stream",
          "name": "stdout",
          "text": [
            "test [111/258] eta: 0:08:36 n: 5 recall: 0.0 precision: 0.0 f1-score: 0.0 MAE: 4.0 MSE: 16.0 RMSE: 4.0 time: 3.4619 data: 0.6329 max mem: 1474\n"
          ]
        },
        {
          "output_type": "stream",
          "name": "stderr",
          "text": [
            "/usr/local/lib/python3.11/dist-packages/albumentations/core/composition.py:250: UserWarning: Got processor for keypoints, but no transform to process it.\n",
            "  self._set_keys()\n",
            "/usr/local/lib/python3.11/dist-packages/albumentations/core/composition.py:250: UserWarning: Got processor for keypoints, but no transform to process it.\n",
            "  self._set_keys()\n",
            "/usr/local/lib/python3.11/dist-packages/albumentations/core/composition.py:250: UserWarning: Got processor for keypoints, but no transform to process it.\n",
            "  self._set_keys()\n",
            "/usr/local/lib/python3.11/dist-packages/albumentations/core/composition.py:250: UserWarning: Got processor for keypoints, but no transform to process it.\n",
            "  self._set_keys()\n",
            "/usr/local/lib/python3.11/dist-packages/albumentations/core/composition.py:250: UserWarning: Got processor for keypoints, but no transform to process it.\n",
            "  self._set_keys()\n",
            "/usr/local/lib/python3.11/dist-packages/albumentations/core/composition.py:250: UserWarning: Got processor for keypoints, but no transform to process it.\n",
            "  self._set_keys()\n",
            "/usr/local/lib/python3.11/dist-packages/albumentations/core/composition.py:250: UserWarning: Got processor for keypoints, but no transform to process it.\n",
            "  self._set_keys()\n",
            "/usr/local/lib/python3.11/dist-packages/albumentations/core/composition.py:250: UserWarning: Got processor for keypoints, but no transform to process it.\n",
            "  self._set_keys()\n",
            "/usr/local/lib/python3.11/dist-packages/albumentations/core/composition.py:250: UserWarning: Got processor for keypoints, but no transform to process it.\n",
            "  self._set_keys()\n",
            "/usr/local/lib/python3.11/dist-packages/albumentations/core/composition.py:250: UserWarning: Got processor for keypoints, but no transform to process it.\n",
            "  self._set_keys()\n",
            "INFO:20250408_evaluation:test [121/258] eta: 0:08:01 n: 1 recall: 1.0 precision: 1.0 f1-score: 1.0 MAE: 0.0 MSE: 0.0 RMSE: 0.0 time: 3.4541 data: 0.6387 max mem: 1474\n"
          ]
        },
        {
          "output_type": "stream",
          "name": "stdout",
          "text": [
            "test [121/258] eta: 0:08:01 n: 1 recall: 1.0 precision: 1.0 f1-score: 1.0 MAE: 0.0 MSE: 0.0 RMSE: 0.0 time: 3.4541 data: 0.6387 max mem: 1474\n"
          ]
        },
        {
          "output_type": "stream",
          "name": "stderr",
          "text": [
            "/usr/local/lib/python3.11/dist-packages/albumentations/core/composition.py:250: UserWarning: Got processor for keypoints, but no transform to process it.\n",
            "  self._set_keys()\n",
            "/usr/local/lib/python3.11/dist-packages/albumentations/core/composition.py:250: UserWarning: Got processor for keypoints, but no transform to process it.\n",
            "  self._set_keys()\n",
            "/usr/local/lib/python3.11/dist-packages/albumentations/core/composition.py:250: UserWarning: Got processor for keypoints, but no transform to process it.\n",
            "  self._set_keys()\n",
            "/usr/local/lib/python3.11/dist-packages/albumentations/core/composition.py:250: UserWarning: Got processor for keypoints, but no transform to process it.\n",
            "  self._set_keys()\n",
            "/usr/local/lib/python3.11/dist-packages/albumentations/core/composition.py:250: UserWarning: Got processor for keypoints, but no transform to process it.\n",
            "  self._set_keys()\n",
            "/usr/local/lib/python3.11/dist-packages/albumentations/core/composition.py:250: UserWarning: Got processor for keypoints, but no transform to process it.\n",
            "  self._set_keys()\n",
            "/usr/local/lib/python3.11/dist-packages/albumentations/core/composition.py:250: UserWarning: Got processor for keypoints, but no transform to process it.\n",
            "  self._set_keys()\n",
            "/usr/local/lib/python3.11/dist-packages/albumentations/core/composition.py:250: UserWarning: Got processor for keypoints, but no transform to process it.\n",
            "  self._set_keys()\n",
            "/usr/local/lib/python3.11/dist-packages/albumentations/core/composition.py:250: UserWarning: Got processor for keypoints, but no transform to process it.\n",
            "  self._set_keys()\n",
            "/usr/local/lib/python3.11/dist-packages/albumentations/core/composition.py:250: UserWarning: Got processor for keypoints, but no transform to process it.\n",
            "  self._set_keys()\n",
            "INFO:20250408_evaluation:test [131/258] eta: 0:07:26 n: 17 recall: 1.0 precision: 0.85 f1-score: 0.92 MAE: 3.0 MSE: 9.0 RMSE: 3.0 time: 3.4630 data: 0.6416 max mem: 1474\n"
          ]
        },
        {
          "output_type": "stream",
          "name": "stdout",
          "text": [
            "test [131/258] eta: 0:07:26 n: 17 recall: 1.0 precision: 0.85 f1-score: 0.92 MAE: 3.0 MSE: 9.0 RMSE: 3.0 time: 3.4630 data: 0.6416 max mem: 1474\n"
          ]
        },
        {
          "output_type": "stream",
          "name": "stderr",
          "text": [
            "/usr/local/lib/python3.11/dist-packages/albumentations/core/composition.py:250: UserWarning: Got processor for keypoints, but no transform to process it.\n",
            "  self._set_keys()\n",
            "/usr/local/lib/python3.11/dist-packages/albumentations/core/composition.py:250: UserWarning: Got processor for keypoints, but no transform to process it.\n",
            "  self._set_keys()\n",
            "/usr/local/lib/python3.11/dist-packages/albumentations/core/composition.py:250: UserWarning: Got processor for keypoints, but no transform to process it.\n",
            "  self._set_keys()\n",
            "/usr/local/lib/python3.11/dist-packages/albumentations/core/composition.py:250: UserWarning: Got processor for keypoints, but no transform to process it.\n",
            "  self._set_keys()\n",
            "/usr/local/lib/python3.11/dist-packages/albumentations/core/composition.py:250: UserWarning: Got processor for keypoints, but no transform to process it.\n",
            "  self._set_keys()\n",
            "/usr/local/lib/python3.11/dist-packages/albumentations/core/composition.py:250: UserWarning: Got processor for keypoints, but no transform to process it.\n",
            "  self._set_keys()\n",
            "/usr/local/lib/python3.11/dist-packages/albumentations/core/composition.py:250: UserWarning: Got processor for keypoints, but no transform to process it.\n",
            "  self._set_keys()\n",
            "/usr/local/lib/python3.11/dist-packages/albumentations/core/composition.py:250: UserWarning: Got processor for keypoints, but no transform to process it.\n",
            "  self._set_keys()\n",
            "/usr/local/lib/python3.11/dist-packages/albumentations/core/composition.py:250: UserWarning: Got processor for keypoints, but no transform to process it.\n",
            "  self._set_keys()\n",
            "/usr/local/lib/python3.11/dist-packages/albumentations/core/composition.py:250: UserWarning: Got processor for keypoints, but no transform to process it.\n",
            "  self._set_keys()\n",
            "INFO:20250408_evaluation:test [141/258] eta: 0:06:51 n: 1 recall: 1.0 precision: 0.2 f1-score: 0.33 MAE: 4.0 MSE: 16.0 RMSE: 4.0 time: 3.4665 data: 0.6406 max mem: 1474\n"
          ]
        },
        {
          "output_type": "stream",
          "name": "stdout",
          "text": [
            "test [141/258] eta: 0:06:51 n: 1 recall: 1.0 precision: 0.2 f1-score: 0.33 MAE: 4.0 MSE: 16.0 RMSE: 4.0 time: 3.4665 data: 0.6406 max mem: 1474\n"
          ]
        },
        {
          "output_type": "stream",
          "name": "stderr",
          "text": [
            "/usr/local/lib/python3.11/dist-packages/albumentations/core/composition.py:250: UserWarning: Got processor for keypoints, but no transform to process it.\n",
            "  self._set_keys()\n",
            "/usr/local/lib/python3.11/dist-packages/albumentations/core/composition.py:250: UserWarning: Got processor for keypoints, but no transform to process it.\n",
            "  self._set_keys()\n",
            "/usr/local/lib/python3.11/dist-packages/albumentations/core/composition.py:250: UserWarning: Got processor for keypoints, but no transform to process it.\n",
            "  self._set_keys()\n",
            "/usr/local/lib/python3.11/dist-packages/albumentations/core/composition.py:250: UserWarning: Got processor for keypoints, but no transform to process it.\n",
            "  self._set_keys()\n",
            "/usr/local/lib/python3.11/dist-packages/albumentations/core/composition.py:250: UserWarning: Got processor for keypoints, but no transform to process it.\n",
            "  self._set_keys()\n",
            "/usr/local/lib/python3.11/dist-packages/albumentations/core/composition.py:250: UserWarning: Got processor for keypoints, but no transform to process it.\n",
            "  self._set_keys()\n",
            "/usr/local/lib/python3.11/dist-packages/albumentations/core/composition.py:250: UserWarning: Got processor for keypoints, but no transform to process it.\n",
            "  self._set_keys()\n",
            "/usr/local/lib/python3.11/dist-packages/albumentations/core/composition.py:250: UserWarning: Got processor for keypoints, but no transform to process it.\n",
            "  self._set_keys()\n",
            "/usr/local/lib/python3.11/dist-packages/albumentations/core/composition.py:250: UserWarning: Got processor for keypoints, but no transform to process it.\n",
            "  self._set_keys()\n",
            "/usr/local/lib/python3.11/dist-packages/albumentations/core/composition.py:250: UserWarning: Got processor for keypoints, but no transform to process it.\n",
            "  self._set_keys()\n",
            "INFO:20250408_evaluation:test [151/258] eta: 0:06:16 n: 1 recall: 1.0 precision: 0.5 f1-score: 0.67 MAE: 1.0 MSE: 1.0 RMSE: 1.0 time: 3.4791 data: 0.6365 max mem: 1474\n"
          ]
        },
        {
          "output_type": "stream",
          "name": "stdout",
          "text": [
            "test [151/258] eta: 0:06:16 n: 1 recall: 1.0 precision: 0.5 f1-score: 0.67 MAE: 1.0 MSE: 1.0 RMSE: 1.0 time: 3.4791 data: 0.6365 max mem: 1474\n"
          ]
        },
        {
          "output_type": "stream",
          "name": "stderr",
          "text": [
            "/usr/local/lib/python3.11/dist-packages/albumentations/core/composition.py:250: UserWarning: Got processor for keypoints, but no transform to process it.\n",
            "  self._set_keys()\n",
            "/usr/local/lib/python3.11/dist-packages/albumentations/core/composition.py:250: UserWarning: Got processor for keypoints, but no transform to process it.\n",
            "  self._set_keys()\n",
            "/usr/local/lib/python3.11/dist-packages/albumentations/core/composition.py:250: UserWarning: Got processor for keypoints, but no transform to process it.\n",
            "  self._set_keys()\n",
            "/usr/local/lib/python3.11/dist-packages/albumentations/core/composition.py:250: UserWarning: Got processor for keypoints, but no transform to process it.\n",
            "  self._set_keys()\n",
            "/usr/local/lib/python3.11/dist-packages/albumentations/core/composition.py:250: UserWarning: Got processor for keypoints, but no transform to process it.\n",
            "  self._set_keys()\n",
            "/usr/local/lib/python3.11/dist-packages/albumentations/core/composition.py:250: UserWarning: Got processor for keypoints, but no transform to process it.\n",
            "  self._set_keys()\n",
            "/usr/local/lib/python3.11/dist-packages/albumentations/core/composition.py:250: UserWarning: Got processor for keypoints, but no transform to process it.\n",
            "  self._set_keys()\n",
            "/usr/local/lib/python3.11/dist-packages/albumentations/core/composition.py:250: UserWarning: Got processor for keypoints, but no transform to process it.\n",
            "  self._set_keys()\n",
            "/usr/local/lib/python3.11/dist-packages/albumentations/core/composition.py:250: UserWarning: Got processor for keypoints, but no transform to process it.\n",
            "  self._set_keys()\n",
            "/usr/local/lib/python3.11/dist-packages/albumentations/core/composition.py:250: UserWarning: Got processor for keypoints, but no transform to process it.\n",
            "  self._set_keys()\n",
            "INFO:20250408_evaluation:test [161/258] eta: 0:05:40 n: 1 recall: 1.0 precision: 0.5 f1-score: 0.67 MAE: 1.0 MSE: 1.0 RMSE: 1.0 time: 3.4243 data: 0.6244 max mem: 1474\n"
          ]
        },
        {
          "output_type": "stream",
          "name": "stdout",
          "text": [
            "test [161/258] eta: 0:05:40 n: 1 recall: 1.0 precision: 0.5 f1-score: 0.67 MAE: 1.0 MSE: 1.0 RMSE: 1.0 time: 3.4243 data: 0.6244 max mem: 1474\n"
          ]
        },
        {
          "output_type": "stream",
          "name": "stderr",
          "text": [
            "/usr/local/lib/python3.11/dist-packages/albumentations/core/composition.py:250: UserWarning: Got processor for keypoints, but no transform to process it.\n",
            "  self._set_keys()\n",
            "/usr/local/lib/python3.11/dist-packages/albumentations/core/composition.py:250: UserWarning: Got processor for keypoints, but no transform to process it.\n",
            "  self._set_keys()\n",
            "/usr/local/lib/python3.11/dist-packages/albumentations/core/composition.py:250: UserWarning: Got processor for keypoints, but no transform to process it.\n",
            "  self._set_keys()\n",
            "/usr/local/lib/python3.11/dist-packages/albumentations/core/composition.py:250: UserWarning: Got processor for keypoints, but no transform to process it.\n",
            "  self._set_keys()\n",
            "/usr/local/lib/python3.11/dist-packages/albumentations/core/composition.py:250: UserWarning: Got processor for keypoints, but no transform to process it.\n",
            "  self._set_keys()\n",
            "/usr/local/lib/python3.11/dist-packages/albumentations/core/composition.py:250: UserWarning: Got processor for keypoints, but no transform to process it.\n",
            "  self._set_keys()\n",
            "/usr/local/lib/python3.11/dist-packages/albumentations/core/composition.py:250: UserWarning: Got processor for keypoints, but no transform to process it.\n",
            "  self._set_keys()\n",
            "/usr/local/lib/python3.11/dist-packages/albumentations/core/composition.py:250: UserWarning: Got processor for keypoints, but no transform to process it.\n",
            "  self._set_keys()\n",
            "/usr/local/lib/python3.11/dist-packages/albumentations/core/composition.py:250: UserWarning: Got processor for keypoints, but no transform to process it.\n",
            "  self._set_keys()\n",
            "/usr/local/lib/python3.11/dist-packages/albumentations/core/composition.py:250: UserWarning: Got processor for keypoints, but no transform to process it.\n",
            "  self._set_keys()\n",
            "INFO:20250408_evaluation:test [171/258] eta: 0:05:03 n: 11 recall: 0.91 precision: 1.0 f1-score: 0.95 MAE: 1.0 MSE: 1.0 RMSE: 1.0 time: 3.1458 data: 0.5785 max mem: 1474\n"
          ]
        },
        {
          "output_type": "stream",
          "name": "stdout",
          "text": [
            "test [171/258] eta: 0:05:03 n: 11 recall: 0.91 precision: 1.0 f1-score: 0.95 MAE: 1.0 MSE: 1.0 RMSE: 1.0 time: 3.1458 data: 0.5785 max mem: 1474\n"
          ]
        },
        {
          "output_type": "stream",
          "name": "stderr",
          "text": [
            "/usr/local/lib/python3.11/dist-packages/albumentations/core/composition.py:250: UserWarning: Got processor for keypoints, but no transform to process it.\n",
            "  self._set_keys()\n",
            "/usr/local/lib/python3.11/dist-packages/albumentations/core/composition.py:250: UserWarning: Got processor for keypoints, but no transform to process it.\n",
            "  self._set_keys()\n",
            "/usr/local/lib/python3.11/dist-packages/albumentations/core/composition.py:250: UserWarning: Got processor for keypoints, but no transform to process it.\n",
            "  self._set_keys()\n",
            "/usr/local/lib/python3.11/dist-packages/albumentations/core/composition.py:250: UserWarning: Got processor for keypoints, but no transform to process it.\n",
            "  self._set_keys()\n",
            "/usr/local/lib/python3.11/dist-packages/albumentations/core/composition.py:250: UserWarning: Got processor for keypoints, but no transform to process it.\n",
            "  self._set_keys()\n",
            "/usr/local/lib/python3.11/dist-packages/albumentations/core/composition.py:250: UserWarning: Got processor for keypoints, but no transform to process it.\n",
            "  self._set_keys()\n",
            "/usr/local/lib/python3.11/dist-packages/albumentations/core/composition.py:250: UserWarning: Got processor for keypoints, but no transform to process it.\n",
            "  self._set_keys()\n",
            "/usr/local/lib/python3.11/dist-packages/albumentations/core/composition.py:250: UserWarning: Got processor for keypoints, but no transform to process it.\n",
            "  self._set_keys()\n",
            "/usr/local/lib/python3.11/dist-packages/albumentations/core/composition.py:250: UserWarning: Got processor for keypoints, but no transform to process it.\n",
            "  self._set_keys()\n",
            "/usr/local/lib/python3.11/dist-packages/albumentations/core/composition.py:250: UserWarning: Got processor for keypoints, but no transform to process it.\n",
            "  self._set_keys()\n",
            "INFO:20250408_evaluation:test [181/258] eta: 0:04:26 n: 14 recall: 0.5 precision: 0.88 f1-score: 0.64 MAE: 6.0 MSE: 36.0 RMSE: 6.0 time: 2.9595 data: 0.5408 max mem: 1474\n"
          ]
        },
        {
          "output_type": "stream",
          "name": "stdout",
          "text": [
            "test [181/258] eta: 0:04:26 n: 14 recall: 0.5 precision: 0.88 f1-score: 0.64 MAE: 6.0 MSE: 36.0 RMSE: 6.0 time: 2.9595 data: 0.5408 max mem: 1474\n"
          ]
        },
        {
          "output_type": "stream",
          "name": "stderr",
          "text": [
            "/usr/local/lib/python3.11/dist-packages/albumentations/core/composition.py:250: UserWarning: Got processor for keypoints, but no transform to process it.\n",
            "  self._set_keys()\n",
            "/usr/local/lib/python3.11/dist-packages/albumentations/core/composition.py:250: UserWarning: Got processor for keypoints, but no transform to process it.\n",
            "  self._set_keys()\n",
            "/usr/local/lib/python3.11/dist-packages/albumentations/core/composition.py:250: UserWarning: Got processor for keypoints, but no transform to process it.\n",
            "  self._set_keys()\n",
            "/usr/local/lib/python3.11/dist-packages/albumentations/core/composition.py:250: UserWarning: Got processor for keypoints, but no transform to process it.\n",
            "  self._set_keys()\n",
            "/usr/local/lib/python3.11/dist-packages/albumentations/core/composition.py:250: UserWarning: Got processor for keypoints, but no transform to process it.\n",
            "  self._set_keys()\n",
            "/usr/local/lib/python3.11/dist-packages/albumentations/core/composition.py:250: UserWarning: Got processor for keypoints, but no transform to process it.\n",
            "  self._set_keys()\n",
            "/usr/local/lib/python3.11/dist-packages/albumentations/core/composition.py:250: UserWarning: Got processor for keypoints, but no transform to process it.\n",
            "  self._set_keys()\n",
            "/usr/local/lib/python3.11/dist-packages/albumentations/core/composition.py:250: UserWarning: Got processor for keypoints, but no transform to process it.\n",
            "  self._set_keys()\n",
            "/usr/local/lib/python3.11/dist-packages/albumentations/core/composition.py:250: UserWarning: Got processor for keypoints, but no transform to process it.\n",
            "  self._set_keys()\n",
            "/usr/local/lib/python3.11/dist-packages/albumentations/core/composition.py:250: UserWarning: Got processor for keypoints, but no transform to process it.\n",
            "  self._set_keys()\n",
            "INFO:20250408_evaluation:test [191/258] eta: 0:03:51 n: 1 recall: 1.0 precision: 1.0 f1-score: 1.0 MAE: 0.0 MSE: 0.0 RMSE: 0.0 time: 2.9858 data: 0.5396 max mem: 1474\n"
          ]
        },
        {
          "output_type": "stream",
          "name": "stdout",
          "text": [
            "test [191/258] eta: 0:03:51 n: 1 recall: 1.0 precision: 1.0 f1-score: 1.0 MAE: 0.0 MSE: 0.0 RMSE: 0.0 time: 2.9858 data: 0.5396 max mem: 1474\n"
          ]
        },
        {
          "output_type": "stream",
          "name": "stderr",
          "text": [
            "/usr/local/lib/python3.11/dist-packages/albumentations/core/composition.py:250: UserWarning: Got processor for keypoints, but no transform to process it.\n",
            "  self._set_keys()\n",
            "/usr/local/lib/python3.11/dist-packages/albumentations/core/composition.py:250: UserWarning: Got processor for keypoints, but no transform to process it.\n",
            "  self._set_keys()\n",
            "/usr/local/lib/python3.11/dist-packages/albumentations/core/composition.py:250: UserWarning: Got processor for keypoints, but no transform to process it.\n",
            "  self._set_keys()\n",
            "/usr/local/lib/python3.11/dist-packages/albumentations/core/composition.py:250: UserWarning: Got processor for keypoints, but no transform to process it.\n",
            "  self._set_keys()\n",
            "/usr/local/lib/python3.11/dist-packages/albumentations/core/composition.py:250: UserWarning: Got processor for keypoints, but no transform to process it.\n",
            "  self._set_keys()\n",
            "/usr/local/lib/python3.11/dist-packages/albumentations/core/composition.py:250: UserWarning: Got processor for keypoints, but no transform to process it.\n",
            "  self._set_keys()\n",
            "/usr/local/lib/python3.11/dist-packages/albumentations/core/composition.py:250: UserWarning: Got processor for keypoints, but no transform to process it.\n",
            "  self._set_keys()\n",
            "/usr/local/lib/python3.11/dist-packages/albumentations/core/composition.py:250: UserWarning: Got processor for keypoints, but no transform to process it.\n",
            "  self._set_keys()\n",
            "/usr/local/lib/python3.11/dist-packages/albumentations/core/composition.py:250: UserWarning: Got processor for keypoints, but no transform to process it.\n",
            "  self._set_keys()\n",
            "/usr/local/lib/python3.11/dist-packages/albumentations/core/composition.py:250: UserWarning: Got processor for keypoints, but no transform to process it.\n",
            "  self._set_keys()\n",
            "INFO:20250408_evaluation:test [201/258] eta: 0:03:16 n: 1 recall: 1.0 precision: 0.2 f1-score: 0.33 MAE: 4.0 MSE: 16.0 RMSE: 4.0 time: 3.0060 data: 0.5408 max mem: 1474\n"
          ]
        },
        {
          "output_type": "stream",
          "name": "stdout",
          "text": [
            "test [201/258] eta: 0:03:16 n: 1 recall: 1.0 precision: 0.2 f1-score: 0.33 MAE: 4.0 MSE: 16.0 RMSE: 4.0 time: 3.0060 data: 0.5408 max mem: 1474\n"
          ]
        },
        {
          "output_type": "stream",
          "name": "stderr",
          "text": [
            "/usr/local/lib/python3.11/dist-packages/albumentations/core/composition.py:250: UserWarning: Got processor for keypoints, but no transform to process it.\n",
            "  self._set_keys()\n",
            "/usr/local/lib/python3.11/dist-packages/albumentations/core/composition.py:250: UserWarning: Got processor for keypoints, but no transform to process it.\n",
            "  self._set_keys()\n",
            "/usr/local/lib/python3.11/dist-packages/albumentations/core/composition.py:250: UserWarning: Got processor for keypoints, but no transform to process it.\n",
            "  self._set_keys()\n",
            "/usr/local/lib/python3.11/dist-packages/albumentations/core/composition.py:250: UserWarning: Got processor for keypoints, but no transform to process it.\n",
            "  self._set_keys()\n",
            "/usr/local/lib/python3.11/dist-packages/albumentations/core/composition.py:250: UserWarning: Got processor for keypoints, but no transform to process it.\n",
            "  self._set_keys()\n",
            "/usr/local/lib/python3.11/dist-packages/albumentations/core/composition.py:250: UserWarning: Got processor for keypoints, but no transform to process it.\n",
            "  self._set_keys()\n",
            "/usr/local/lib/python3.11/dist-packages/albumentations/core/composition.py:250: UserWarning: Got processor for keypoints, but no transform to process it.\n",
            "  self._set_keys()\n",
            "/usr/local/lib/python3.11/dist-packages/albumentations/core/composition.py:250: UserWarning: Got processor for keypoints, but no transform to process it.\n",
            "  self._set_keys()\n",
            "/usr/local/lib/python3.11/dist-packages/albumentations/core/composition.py:250: UserWarning: Got processor for keypoints, but no transform to process it.\n",
            "  self._set_keys()\n",
            "/usr/local/lib/python3.11/dist-packages/albumentations/core/composition.py:250: UserWarning: Got processor for keypoints, but no transform to process it.\n",
            "  self._set_keys()\n",
            "INFO:20250408_evaluation:test [211/258] eta: 0:02:41 n: 3 recall: 0.67 precision: 1.0 f1-score: 0.8 MAE: 1.0 MSE: 1.0 RMSE: 1.0 time: 3.0068 data: 0.5448 max mem: 1474\n"
          ]
        },
        {
          "output_type": "stream",
          "name": "stdout",
          "text": [
            "test [211/258] eta: 0:02:41 n: 3 recall: 0.67 precision: 1.0 f1-score: 0.8 MAE: 1.0 MSE: 1.0 RMSE: 1.0 time: 3.0068 data: 0.5448 max mem: 1474\n"
          ]
        },
        {
          "output_type": "stream",
          "name": "stderr",
          "text": [
            "/usr/local/lib/python3.11/dist-packages/albumentations/core/composition.py:250: UserWarning: Got processor for keypoints, but no transform to process it.\n",
            "  self._set_keys()\n",
            "/usr/local/lib/python3.11/dist-packages/albumentations/core/composition.py:250: UserWarning: Got processor for keypoints, but no transform to process it.\n",
            "  self._set_keys()\n",
            "/usr/local/lib/python3.11/dist-packages/albumentations/core/composition.py:250: UserWarning: Got processor for keypoints, but no transform to process it.\n",
            "  self._set_keys()\n",
            "/usr/local/lib/python3.11/dist-packages/albumentations/core/composition.py:250: UserWarning: Got processor for keypoints, but no transform to process it.\n",
            "  self._set_keys()\n",
            "/usr/local/lib/python3.11/dist-packages/albumentations/core/composition.py:250: UserWarning: Got processor for keypoints, but no transform to process it.\n",
            "  self._set_keys()\n",
            "/usr/local/lib/python3.11/dist-packages/albumentations/core/composition.py:250: UserWarning: Got processor for keypoints, but no transform to process it.\n",
            "  self._set_keys()\n",
            "/usr/local/lib/python3.11/dist-packages/albumentations/core/composition.py:250: UserWarning: Got processor for keypoints, but no transform to process it.\n",
            "  self._set_keys()\n",
            "/usr/local/lib/python3.11/dist-packages/albumentations/core/composition.py:250: UserWarning: Got processor for keypoints, but no transform to process it.\n",
            "  self._set_keys()\n",
            "/usr/local/lib/python3.11/dist-packages/albumentations/core/composition.py:250: UserWarning: Got processor for keypoints, but no transform to process it.\n",
            "  self._set_keys()\n",
            "/usr/local/lib/python3.11/dist-packages/albumentations/core/composition.py:250: UserWarning: Got processor for keypoints, but no transform to process it.\n",
            "  self._set_keys()\n",
            "INFO:20250408_evaluation:test [221/258] eta: 0:02:07 n: 2 recall: 1.0 precision: 0.67 f1-score: 0.8 MAE: 1.0 MSE: 1.0 RMSE: 1.0 time: 2.9757 data: 0.5509 max mem: 1474\n"
          ]
        },
        {
          "output_type": "stream",
          "name": "stdout",
          "text": [
            "test [221/258] eta: 0:02:07 n: 2 recall: 1.0 precision: 0.67 f1-score: 0.8 MAE: 1.0 MSE: 1.0 RMSE: 1.0 time: 2.9757 data: 0.5509 max mem: 1474\n"
          ]
        },
        {
          "output_type": "stream",
          "name": "stderr",
          "text": [
            "/usr/local/lib/python3.11/dist-packages/albumentations/core/composition.py:250: UserWarning: Got processor for keypoints, but no transform to process it.\n",
            "  self._set_keys()\n",
            "/usr/local/lib/python3.11/dist-packages/albumentations/core/composition.py:250: UserWarning: Got processor for keypoints, but no transform to process it.\n",
            "  self._set_keys()\n",
            "/usr/local/lib/python3.11/dist-packages/albumentations/core/composition.py:250: UserWarning: Got processor for keypoints, but no transform to process it.\n",
            "  self._set_keys()\n",
            "/usr/local/lib/python3.11/dist-packages/albumentations/core/composition.py:250: UserWarning: Got processor for keypoints, but no transform to process it.\n",
            "  self._set_keys()\n",
            "/usr/local/lib/python3.11/dist-packages/albumentations/core/composition.py:250: UserWarning: Got processor for keypoints, but no transform to process it.\n",
            "  self._set_keys()\n",
            "/usr/local/lib/python3.11/dist-packages/albumentations/core/composition.py:250: UserWarning: Got processor for keypoints, but no transform to process it.\n",
            "  self._set_keys()\n",
            "/usr/local/lib/python3.11/dist-packages/albumentations/core/composition.py:250: UserWarning: Got processor for keypoints, but no transform to process it.\n",
            "  self._set_keys()\n",
            "/usr/local/lib/python3.11/dist-packages/albumentations/core/composition.py:250: UserWarning: Got processor for keypoints, but no transform to process it.\n",
            "  self._set_keys()\n",
            "/usr/local/lib/python3.11/dist-packages/albumentations/core/composition.py:250: UserWarning: Got processor for keypoints, but no transform to process it.\n",
            "  self._set_keys()\n",
            "/usr/local/lib/python3.11/dist-packages/albumentations/core/composition.py:250: UserWarning: Got processor for keypoints, but no transform to process it.\n",
            "  self._set_keys()\n",
            "INFO:20250408_evaluation:test [231/258] eta: 0:01:33 n: 7 recall: 0.43 precision: 0.38 f1-score: 0.4 MAE: 1.0 MSE: 1.0 RMSE: 1.0 time: 2.9776 data: 0.5541 max mem: 1474\n"
          ]
        },
        {
          "output_type": "stream",
          "name": "stdout",
          "text": [
            "test [231/258] eta: 0:01:33 n: 7 recall: 0.43 precision: 0.38 f1-score: 0.4 MAE: 1.0 MSE: 1.0 RMSE: 1.0 time: 2.9776 data: 0.5541 max mem: 1474\n"
          ]
        },
        {
          "output_type": "stream",
          "name": "stderr",
          "text": [
            "/usr/local/lib/python3.11/dist-packages/albumentations/core/composition.py:250: UserWarning: Got processor for keypoints, but no transform to process it.\n",
            "  self._set_keys()\n",
            "/usr/local/lib/python3.11/dist-packages/albumentations/core/composition.py:250: UserWarning: Got processor for keypoints, but no transform to process it.\n",
            "  self._set_keys()\n",
            "/usr/local/lib/python3.11/dist-packages/albumentations/core/composition.py:250: UserWarning: Got processor for keypoints, but no transform to process it.\n",
            "  self._set_keys()\n",
            "/usr/local/lib/python3.11/dist-packages/albumentations/core/composition.py:250: UserWarning: Got processor for keypoints, but no transform to process it.\n",
            "  self._set_keys()\n",
            "/usr/local/lib/python3.11/dist-packages/albumentations/core/composition.py:250: UserWarning: Got processor for keypoints, but no transform to process it.\n",
            "  self._set_keys()\n",
            "/usr/local/lib/python3.11/dist-packages/albumentations/core/composition.py:250: UserWarning: Got processor for keypoints, but no transform to process it.\n",
            "  self._set_keys()\n",
            "/usr/local/lib/python3.11/dist-packages/albumentations/core/composition.py:250: UserWarning: Got processor for keypoints, but no transform to process it.\n",
            "  self._set_keys()\n",
            "/usr/local/lib/python3.11/dist-packages/albumentations/core/composition.py:250: UserWarning: Got processor for keypoints, but no transform to process it.\n",
            "  self._set_keys()\n",
            "/usr/local/lib/python3.11/dist-packages/albumentations/core/composition.py:250: UserWarning: Got processor for keypoints, but no transform to process it.\n",
            "  self._set_keys()\n",
            "/usr/local/lib/python3.11/dist-packages/albumentations/core/composition.py:250: UserWarning: Got processor for keypoints, but no transform to process it.\n",
            "  self._set_keys()\n",
            "INFO:20250408_evaluation:test [241/258] eta: 0:00:59 n: 13 recall: 0.46 precision: 0.86 f1-score: 0.6 MAE: 6.0 MSE: 36.0 RMSE: 6.0 time: 2.9884 data: 0.5440 max mem: 1474\n"
          ]
        },
        {
          "output_type": "stream",
          "name": "stdout",
          "text": [
            "test [241/258] eta: 0:00:59 n: 13 recall: 0.46 precision: 0.86 f1-score: 0.6 MAE: 6.0 MSE: 36.0 RMSE: 6.0 time: 2.9884 data: 0.5440 max mem: 1474\n"
          ]
        },
        {
          "output_type": "stream",
          "name": "stderr",
          "text": [
            "/usr/local/lib/python3.11/dist-packages/albumentations/core/composition.py:250: UserWarning: Got processor for keypoints, but no transform to process it.\n",
            "  self._set_keys()\n",
            "/usr/local/lib/python3.11/dist-packages/albumentations/core/composition.py:250: UserWarning: Got processor for keypoints, but no transform to process it.\n",
            "  self._set_keys()\n",
            "/usr/local/lib/python3.11/dist-packages/albumentations/core/composition.py:250: UserWarning: Got processor for keypoints, but no transform to process it.\n",
            "  self._set_keys()\n",
            "/usr/local/lib/python3.11/dist-packages/albumentations/core/composition.py:250: UserWarning: Got processor for keypoints, but no transform to process it.\n",
            "  self._set_keys()\n",
            "/usr/local/lib/python3.11/dist-packages/albumentations/core/composition.py:250: UserWarning: Got processor for keypoints, but no transform to process it.\n",
            "  self._set_keys()\n",
            "/usr/local/lib/python3.11/dist-packages/albumentations/core/composition.py:250: UserWarning: Got processor for keypoints, but no transform to process it.\n",
            "  self._set_keys()\n",
            "/usr/local/lib/python3.11/dist-packages/albumentations/core/composition.py:250: UserWarning: Got processor for keypoints, but no transform to process it.\n",
            "  self._set_keys()\n",
            "/usr/local/lib/python3.11/dist-packages/albumentations/core/composition.py:250: UserWarning: Got processor for keypoints, but no transform to process it.\n",
            "  self._set_keys()\n",
            "/usr/local/lib/python3.11/dist-packages/albumentations/core/composition.py:250: UserWarning: Got processor for keypoints, but no transform to process it.\n",
            "  self._set_keys()\n",
            "/usr/local/lib/python3.11/dist-packages/albumentations/core/composition.py:250: UserWarning: Got processor for keypoints, but no transform to process it.\n",
            "  self._set_keys()\n",
            "INFO:20250408_evaluation:test [251/258] eta: 0:00:26 n: 2 recall: 1.0 precision: 1.0 f1-score: 1.0 MAE: 0.0 MSE: 0.0 RMSE: 0.0 time: 3.0137 data: 0.5354 max mem: 1474\n"
          ]
        },
        {
          "output_type": "stream",
          "name": "stdout",
          "text": [
            "test [251/258] eta: 0:00:26 n: 2 recall: 1.0 precision: 1.0 f1-score: 1.0 MAE: 0.0 MSE: 0.0 RMSE: 0.0 time: 3.0137 data: 0.5354 max mem: 1474\n"
          ]
        },
        {
          "output_type": "stream",
          "name": "stderr",
          "text": [
            "/usr/local/lib/python3.11/dist-packages/albumentations/core/composition.py:250: UserWarning: Got processor for keypoints, but no transform to process it.\n",
            "  self._set_keys()\n",
            "/usr/local/lib/python3.11/dist-packages/albumentations/core/composition.py:250: UserWarning: Got processor for keypoints, but no transform to process it.\n",
            "  self._set_keys()\n",
            "/usr/local/lib/python3.11/dist-packages/albumentations/core/composition.py:250: UserWarning: Got processor for keypoints, but no transform to process it.\n",
            "  self._set_keys()\n",
            "/usr/local/lib/python3.11/dist-packages/albumentations/core/composition.py:250: UserWarning: Got processor for keypoints, but no transform to process it.\n",
            "  self._set_keys()\n",
            "/usr/local/lib/python3.11/dist-packages/albumentations/core/composition.py:250: UserWarning: Got processor for keypoints, but no transform to process it.\n",
            "  self._set_keys()\n",
            "/usr/local/lib/python3.11/dist-packages/albumentations/core/composition.py:250: UserWarning: Got processor for keypoints, but no transform to process it.\n",
            "  self._set_keys()\n",
            "/usr/local/lib/python3.11/dist-packages/albumentations/core/composition.py:250: UserWarning: Got processor for keypoints, but no transform to process it.\n",
            "  self._set_keys()\n",
            "INFO:20250408_evaluation:test [258/258] eta: 0:00:03 n: 3 recall: 0.67 precision: 0.67 f1-score: 0.67 MAE: 0.0 MSE: 0.0 RMSE: 0.0 time: 3.0080 data: 0.5385 max mem: 1474\n",
            "INFO:20250408_evaluation:test Total time: 0:14:10 (3.2952 s / it)\n"
          ]
        },
        {
          "output_type": "stream",
          "name": "stdout",
          "text": [
            "test [258/258] eta: 0:00:03 n: 3 recall: 0.67 precision: 0.67 f1-score: 0.67 MAE: 0.0 MSE: 0.0 RMSE: 0.0 time: 3.0080 data: 0.5385 max mem: 1474\n",
            "test Total time: 0:14:10 (3.2952 s / it)\n"
          ]
        }
      ],
      "source": [
        "# Start testing\n",
        "test_f1_score = test_evaluator.evaluate(returns='f1_score')"
      ]
    },
    {
      "cell_type": "code",
      "execution_count": 21,
      "metadata": {
        "id": "1vICHF-sFGxa",
        "colab": {
          "base_uri": "https://localhost:8080/"
        },
        "outputId": "0126ea1d-aa31-45a0-9041-951663d880ec"
      },
      "outputs": [
        {
          "output_type": "stream",
          "name": "stdout",
          "text": [
            "F1 score = 83%\n"
          ]
        }
      ],
      "source": [
        "# Print global F1 score (%)\n",
        "print(f\"F1 score = {test_f1_score * 100:0.0f}%\")"
      ]
    },
    {
      "cell_type": "code",
      "execution_count": 22,
      "metadata": {
        "id": "ANdn_feR2ZY8",
        "colab": {
          "base_uri": "https://localhost:8080/",
          "height": 269
        },
        "outputId": "5875ddfe-83c0-43a2-959c-0a2d55a66adb"
      },
      "outputs": [
        {
          "output_type": "execute_result",
          "data": {
            "text/plain": [
              "    class     n    recall  precision  f1_score  confusion       mae  \\\n",
              "0       1   675  0.875556   0.838298  0.856522   0.057416  1.718310   \n",
              "1       2   349  0.727794   0.916968  0.811502   0.066176  3.500000   \n",
              "2       3   477  0.903564   0.848425  0.875127   0.092632  1.028302   \n",
              "3       4    74  0.445946   0.388235  0.415094   0.057143  2.243243   \n",
              "4       5    36  0.694444   0.657895  0.675676   0.193548  1.230769   \n",
              "5       6   688  0.728198   0.675202  0.700699   0.001992  2.601942   \n",
              "6  binary  2299  0.844715   0.824628  0.834551   0.000000  1.906977   \n",
              "\n",
              "         mse      rmse        ap  \n",
              "0   7.887324  2.808438  0.801938  \n",
              "1  35.642857  5.970164  0.693974  \n",
              "2   3.952830  1.988173  0.859655  \n",
              "3   9.810811  3.132221  0.272273  \n",
              "4   2.153846  1.467599  0.595822  \n",
              "5  19.669903  4.435076  0.655523  \n",
              "6  13.542636  3.680032  0.722731  "
            ],
            "text/html": [
              "\n",
              "  <div id=\"df-5b396377-f653-46e3-bd03-7e505007ce61\" class=\"colab-df-container\">\n",
              "    <div>\n",
              "<style scoped>\n",
              "    .dataframe tbody tr th:only-of-type {\n",
              "        vertical-align: middle;\n",
              "    }\n",
              "\n",
              "    .dataframe tbody tr th {\n",
              "        vertical-align: top;\n",
              "    }\n",
              "\n",
              "    .dataframe thead th {\n",
              "        text-align: right;\n",
              "    }\n",
              "</style>\n",
              "<table border=\"1\" class=\"dataframe\">\n",
              "  <thead>\n",
              "    <tr style=\"text-align: right;\">\n",
              "      <th></th>\n",
              "      <th>class</th>\n",
              "      <th>n</th>\n",
              "      <th>recall</th>\n",
              "      <th>precision</th>\n",
              "      <th>f1_score</th>\n",
              "      <th>confusion</th>\n",
              "      <th>mae</th>\n",
              "      <th>mse</th>\n",
              "      <th>rmse</th>\n",
              "      <th>ap</th>\n",
              "    </tr>\n",
              "  </thead>\n",
              "  <tbody>\n",
              "    <tr>\n",
              "      <th>0</th>\n",
              "      <td>1</td>\n",
              "      <td>675</td>\n",
              "      <td>0.875556</td>\n",
              "      <td>0.838298</td>\n",
              "      <td>0.856522</td>\n",
              "      <td>0.057416</td>\n",
              "      <td>1.718310</td>\n",
              "      <td>7.887324</td>\n",
              "      <td>2.808438</td>\n",
              "      <td>0.801938</td>\n",
              "    </tr>\n",
              "    <tr>\n",
              "      <th>1</th>\n",
              "      <td>2</td>\n",
              "      <td>349</td>\n",
              "      <td>0.727794</td>\n",
              "      <td>0.916968</td>\n",
              "      <td>0.811502</td>\n",
              "      <td>0.066176</td>\n",
              "      <td>3.500000</td>\n",
              "      <td>35.642857</td>\n",
              "      <td>5.970164</td>\n",
              "      <td>0.693974</td>\n",
              "    </tr>\n",
              "    <tr>\n",
              "      <th>2</th>\n",
              "      <td>3</td>\n",
              "      <td>477</td>\n",
              "      <td>0.903564</td>\n",
              "      <td>0.848425</td>\n",
              "      <td>0.875127</td>\n",
              "      <td>0.092632</td>\n",
              "      <td>1.028302</td>\n",
              "      <td>3.952830</td>\n",
              "      <td>1.988173</td>\n",
              "      <td>0.859655</td>\n",
              "    </tr>\n",
              "    <tr>\n",
              "      <th>3</th>\n",
              "      <td>4</td>\n",
              "      <td>74</td>\n",
              "      <td>0.445946</td>\n",
              "      <td>0.388235</td>\n",
              "      <td>0.415094</td>\n",
              "      <td>0.057143</td>\n",
              "      <td>2.243243</td>\n",
              "      <td>9.810811</td>\n",
              "      <td>3.132221</td>\n",
              "      <td>0.272273</td>\n",
              "    </tr>\n",
              "    <tr>\n",
              "      <th>4</th>\n",
              "      <td>5</td>\n",
              "      <td>36</td>\n",
              "      <td>0.694444</td>\n",
              "      <td>0.657895</td>\n",
              "      <td>0.675676</td>\n",
              "      <td>0.193548</td>\n",
              "      <td>1.230769</td>\n",
              "      <td>2.153846</td>\n",
              "      <td>1.467599</td>\n",
              "      <td>0.595822</td>\n",
              "    </tr>\n",
              "    <tr>\n",
              "      <th>5</th>\n",
              "      <td>6</td>\n",
              "      <td>688</td>\n",
              "      <td>0.728198</td>\n",
              "      <td>0.675202</td>\n",
              "      <td>0.700699</td>\n",
              "      <td>0.001992</td>\n",
              "      <td>2.601942</td>\n",
              "      <td>19.669903</td>\n",
              "      <td>4.435076</td>\n",
              "      <td>0.655523</td>\n",
              "    </tr>\n",
              "    <tr>\n",
              "      <th>6</th>\n",
              "      <td>binary</td>\n",
              "      <td>2299</td>\n",
              "      <td>0.844715</td>\n",
              "      <td>0.824628</td>\n",
              "      <td>0.834551</td>\n",
              "      <td>0.000000</td>\n",
              "      <td>1.906977</td>\n",
              "      <td>13.542636</td>\n",
              "      <td>3.680032</td>\n",
              "      <td>0.722731</td>\n",
              "    </tr>\n",
              "  </tbody>\n",
              "</table>\n",
              "</div>\n",
              "    <div class=\"colab-df-buttons\">\n",
              "\n",
              "  <div class=\"colab-df-container\">\n",
              "    <button class=\"colab-df-convert\" onclick=\"convertToInteractive('df-5b396377-f653-46e3-bd03-7e505007ce61')\"\n",
              "            title=\"Convert this dataframe to an interactive table.\"\n",
              "            style=\"display:none;\">\n",
              "\n",
              "  <svg xmlns=\"http://www.w3.org/2000/svg\" height=\"24px\" viewBox=\"0 -960 960 960\">\n",
              "    <path d=\"M120-120v-720h720v720H120Zm60-500h600v-160H180v160Zm220 220h160v-160H400v160Zm0 220h160v-160H400v160ZM180-400h160v-160H180v160Zm440 0h160v-160H620v160ZM180-180h160v-160H180v160Zm440 0h160v-160H620v160Z\"/>\n",
              "  </svg>\n",
              "    </button>\n",
              "\n",
              "  <style>\n",
              "    .colab-df-container {\n",
              "      display:flex;\n",
              "      gap: 12px;\n",
              "    }\n",
              "\n",
              "    .colab-df-convert {\n",
              "      background-color: #E8F0FE;\n",
              "      border: none;\n",
              "      border-radius: 50%;\n",
              "      cursor: pointer;\n",
              "      display: none;\n",
              "      fill: #1967D2;\n",
              "      height: 32px;\n",
              "      padding: 0 0 0 0;\n",
              "      width: 32px;\n",
              "    }\n",
              "\n",
              "    .colab-df-convert:hover {\n",
              "      background-color: #E2EBFA;\n",
              "      box-shadow: 0px 1px 2px rgba(60, 64, 67, 0.3), 0px 1px 3px 1px rgba(60, 64, 67, 0.15);\n",
              "      fill: #174EA6;\n",
              "    }\n",
              "\n",
              "    .colab-df-buttons div {\n",
              "      margin-bottom: 4px;\n",
              "    }\n",
              "\n",
              "    [theme=dark] .colab-df-convert {\n",
              "      background-color: #3B4455;\n",
              "      fill: #D2E3FC;\n",
              "    }\n",
              "\n",
              "    [theme=dark] .colab-df-convert:hover {\n",
              "      background-color: #434B5C;\n",
              "      box-shadow: 0px 1px 3px 1px rgba(0, 0, 0, 0.15);\n",
              "      filter: drop-shadow(0px 1px 2px rgba(0, 0, 0, 0.3));\n",
              "      fill: #FFFFFF;\n",
              "    }\n",
              "  </style>\n",
              "\n",
              "    <script>\n",
              "      const buttonEl =\n",
              "        document.querySelector('#df-5b396377-f653-46e3-bd03-7e505007ce61 button.colab-df-convert');\n",
              "      buttonEl.style.display =\n",
              "        google.colab.kernel.accessAllowed ? 'block' : 'none';\n",
              "\n",
              "      async function convertToInteractive(key) {\n",
              "        const element = document.querySelector('#df-5b396377-f653-46e3-bd03-7e505007ce61');\n",
              "        const dataTable =\n",
              "          await google.colab.kernel.invokeFunction('convertToInteractive',\n",
              "                                                    [key], {});\n",
              "        if (!dataTable) return;\n",
              "\n",
              "        const docLinkHtml = 'Like what you see? Visit the ' +\n",
              "          '<a target=\"_blank\" href=https://colab.research.google.com/notebooks/data_table.ipynb>data table notebook</a>'\n",
              "          + ' to learn more about interactive tables.';\n",
              "        element.innerHTML = '';\n",
              "        dataTable['output_type'] = 'display_data';\n",
              "        await google.colab.output.renderOutput(dataTable, element);\n",
              "        const docLink = document.createElement('div');\n",
              "        docLink.innerHTML = docLinkHtml;\n",
              "        element.appendChild(docLink);\n",
              "      }\n",
              "    </script>\n",
              "  </div>\n",
              "\n",
              "\n",
              "<div id=\"df-77b66910-a94e-49c0-a092-22ecb8108664\">\n",
              "  <button class=\"colab-df-quickchart\" onclick=\"quickchart('df-77b66910-a94e-49c0-a092-22ecb8108664')\"\n",
              "            title=\"Suggest charts\"\n",
              "            style=\"display:none;\">\n",
              "\n",
              "<svg xmlns=\"http://www.w3.org/2000/svg\" height=\"24px\"viewBox=\"0 0 24 24\"\n",
              "     width=\"24px\">\n",
              "    <g>\n",
              "        <path d=\"M19 3H5c-1.1 0-2 .9-2 2v14c0 1.1.9 2 2 2h14c1.1 0 2-.9 2-2V5c0-1.1-.9-2-2-2zM9 17H7v-7h2v7zm4 0h-2V7h2v10zm4 0h-2v-4h2v4z\"/>\n",
              "    </g>\n",
              "</svg>\n",
              "  </button>\n",
              "\n",
              "<style>\n",
              "  .colab-df-quickchart {\n",
              "      --bg-color: #E8F0FE;\n",
              "      --fill-color: #1967D2;\n",
              "      --hover-bg-color: #E2EBFA;\n",
              "      --hover-fill-color: #174EA6;\n",
              "      --disabled-fill-color: #AAA;\n",
              "      --disabled-bg-color: #DDD;\n",
              "  }\n",
              "\n",
              "  [theme=dark] .colab-df-quickchart {\n",
              "      --bg-color: #3B4455;\n",
              "      --fill-color: #D2E3FC;\n",
              "      --hover-bg-color: #434B5C;\n",
              "      --hover-fill-color: #FFFFFF;\n",
              "      --disabled-bg-color: #3B4455;\n",
              "      --disabled-fill-color: #666;\n",
              "  }\n",
              "\n",
              "  .colab-df-quickchart {\n",
              "    background-color: var(--bg-color);\n",
              "    border: none;\n",
              "    border-radius: 50%;\n",
              "    cursor: pointer;\n",
              "    display: none;\n",
              "    fill: var(--fill-color);\n",
              "    height: 32px;\n",
              "    padding: 0;\n",
              "    width: 32px;\n",
              "  }\n",
              "\n",
              "  .colab-df-quickchart:hover {\n",
              "    background-color: var(--hover-bg-color);\n",
              "    box-shadow: 0 1px 2px rgba(60, 64, 67, 0.3), 0 1px 3px 1px rgba(60, 64, 67, 0.15);\n",
              "    fill: var(--button-hover-fill-color);\n",
              "  }\n",
              "\n",
              "  .colab-df-quickchart-complete:disabled,\n",
              "  .colab-df-quickchart-complete:disabled:hover {\n",
              "    background-color: var(--disabled-bg-color);\n",
              "    fill: var(--disabled-fill-color);\n",
              "    box-shadow: none;\n",
              "  }\n",
              "\n",
              "  .colab-df-spinner {\n",
              "    border: 2px solid var(--fill-color);\n",
              "    border-color: transparent;\n",
              "    border-bottom-color: var(--fill-color);\n",
              "    animation:\n",
              "      spin 1s steps(1) infinite;\n",
              "  }\n",
              "\n",
              "  @keyframes spin {\n",
              "    0% {\n",
              "      border-color: transparent;\n",
              "      border-bottom-color: var(--fill-color);\n",
              "      border-left-color: var(--fill-color);\n",
              "    }\n",
              "    20% {\n",
              "      border-color: transparent;\n",
              "      border-left-color: var(--fill-color);\n",
              "      border-top-color: var(--fill-color);\n",
              "    }\n",
              "    30% {\n",
              "      border-color: transparent;\n",
              "      border-left-color: var(--fill-color);\n",
              "      border-top-color: var(--fill-color);\n",
              "      border-right-color: var(--fill-color);\n",
              "    }\n",
              "    40% {\n",
              "      border-color: transparent;\n",
              "      border-right-color: var(--fill-color);\n",
              "      border-top-color: var(--fill-color);\n",
              "    }\n",
              "    60% {\n",
              "      border-color: transparent;\n",
              "      border-right-color: var(--fill-color);\n",
              "    }\n",
              "    80% {\n",
              "      border-color: transparent;\n",
              "      border-right-color: var(--fill-color);\n",
              "      border-bottom-color: var(--fill-color);\n",
              "    }\n",
              "    90% {\n",
              "      border-color: transparent;\n",
              "      border-bottom-color: var(--fill-color);\n",
              "    }\n",
              "  }\n",
              "</style>\n",
              "\n",
              "  <script>\n",
              "    async function quickchart(key) {\n",
              "      const quickchartButtonEl =\n",
              "        document.querySelector('#' + key + ' button');\n",
              "      quickchartButtonEl.disabled = true;  // To prevent multiple clicks.\n",
              "      quickchartButtonEl.classList.add('colab-df-spinner');\n",
              "      try {\n",
              "        const charts = await google.colab.kernel.invokeFunction(\n",
              "            'suggestCharts', [key], {});\n",
              "      } catch (error) {\n",
              "        console.error('Error during call to suggestCharts:', error);\n",
              "      }\n",
              "      quickchartButtonEl.classList.remove('colab-df-spinner');\n",
              "      quickchartButtonEl.classList.add('colab-df-quickchart-complete');\n",
              "    }\n",
              "    (() => {\n",
              "      let quickchartButtonEl =\n",
              "        document.querySelector('#df-77b66910-a94e-49c0-a092-22ecb8108664 button');\n",
              "      quickchartButtonEl.style.display =\n",
              "        google.colab.kernel.accessAllowed ? 'block' : 'none';\n",
              "    })();\n",
              "  </script>\n",
              "</div>\n",
              "\n",
              "  <div id=\"id_882f8f1a-78e6-4ae9-bd03-887f86093209\">\n",
              "    <style>\n",
              "      .colab-df-generate {\n",
              "        background-color: #E8F0FE;\n",
              "        border: none;\n",
              "        border-radius: 50%;\n",
              "        cursor: pointer;\n",
              "        display: none;\n",
              "        fill: #1967D2;\n",
              "        height: 32px;\n",
              "        padding: 0 0 0 0;\n",
              "        width: 32px;\n",
              "      }\n",
              "\n",
              "      .colab-df-generate:hover {\n",
              "        background-color: #E2EBFA;\n",
              "        box-shadow: 0px 1px 2px rgba(60, 64, 67, 0.3), 0px 1px 3px 1px rgba(60, 64, 67, 0.15);\n",
              "        fill: #174EA6;\n",
              "      }\n",
              "\n",
              "      [theme=dark] .colab-df-generate {\n",
              "        background-color: #3B4455;\n",
              "        fill: #D2E3FC;\n",
              "      }\n",
              "\n",
              "      [theme=dark] .colab-df-generate:hover {\n",
              "        background-color: #434B5C;\n",
              "        box-shadow: 0px 1px 3px 1px rgba(0, 0, 0, 0.15);\n",
              "        filter: drop-shadow(0px 1px 2px rgba(0, 0, 0, 0.3));\n",
              "        fill: #FFFFFF;\n",
              "      }\n",
              "    </style>\n",
              "    <button class=\"colab-df-generate\" onclick=\"generateWithVariable('detections')\"\n",
              "            title=\"Generate code using this dataframe.\"\n",
              "            style=\"display:none;\">\n",
              "\n",
              "  <svg xmlns=\"http://www.w3.org/2000/svg\" height=\"24px\"viewBox=\"0 0 24 24\"\n",
              "       width=\"24px\">\n",
              "    <path d=\"M7,19H8.4L18.45,9,17,7.55,7,17.6ZM5,21V16.75L18.45,3.32a2,2,0,0,1,2.83,0l1.4,1.43a1.91,1.91,0,0,1,.58,1.4,1.91,1.91,0,0,1-.58,1.4L9.25,21ZM18.45,9,17,7.55Zm-12,3A5.31,5.31,0,0,0,4.9,8.1,5.31,5.31,0,0,0,1,6.5,5.31,5.31,0,0,0,4.9,4.9,5.31,5.31,0,0,0,6.5,1,5.31,5.31,0,0,0,8.1,4.9,5.31,5.31,0,0,0,12,6.5,5.46,5.46,0,0,0,6.5,12Z\"/>\n",
              "  </svg>\n",
              "    </button>\n",
              "    <script>\n",
              "      (() => {\n",
              "      const buttonEl =\n",
              "        document.querySelector('#id_882f8f1a-78e6-4ae9-bd03-887f86093209 button.colab-df-generate');\n",
              "      buttonEl.style.display =\n",
              "        google.colab.kernel.accessAllowed ? 'block' : 'none';\n",
              "\n",
              "      buttonEl.onclick = () => {\n",
              "        google.colab.notebook.generateWithVariable('detections');\n",
              "      }\n",
              "      })();\n",
              "    </script>\n",
              "  </div>\n",
              "\n",
              "    </div>\n",
              "  </div>\n"
            ],
            "application/vnd.google.colaboratory.intrinsic+json": {
              "type": "dataframe",
              "variable_name": "detections",
              "summary": "{\n  \"name\": \"detections\",\n  \"rows\": 7,\n  \"fields\": [\n    {\n      \"column\": \"class\",\n      \"properties\": {\n        \"dtype\": \"string\",\n        \"num_unique_values\": 7,\n        \"samples\": [\n          \"1\",\n          \"2\",\n          \"6\"\n        ],\n        \"semantic_type\": \"\",\n        \"description\": \"\"\n      }\n    },\n    {\n      \"column\": \"n\",\n      \"properties\": {\n        \"dtype\": \"number\",\n        \"std\": 769,\n        \"min\": 36,\n        \"max\": 2299,\n        \"num_unique_values\": 7,\n        \"samples\": [\n          675,\n          349,\n          688\n        ],\n        \"semantic_type\": \"\",\n        \"description\": \"\"\n      }\n    },\n    {\n      \"column\": \"recall\",\n      \"properties\": {\n        \"dtype\": \"number\",\n        \"std\": 0.15529222760654082,\n        \"min\": 0.44594594594594594,\n        \"max\": 0.9035639412997903,\n        \"num_unique_values\": 7,\n        \"samples\": [\n          0.8755555555555555,\n          0.7277936962750716,\n          0.7281976744186046\n        ],\n        \"semantic_type\": \"\",\n        \"description\": \"\"\n      }\n    },\n    {\n      \"column\": \"precision\",\n      \"properties\": {\n        \"dtype\": \"number\",\n        \"std\": 0.18002075506983745,\n        \"min\": 0.38823529411764707,\n        \"max\": 0.9169675090252708,\n        \"num_unique_values\": 7,\n        \"samples\": [\n          0.8382978723404255,\n          0.9169675090252708,\n          0.6752021563342318\n        ],\n        \"semantic_type\": \"\",\n        \"description\": \"\"\n      }\n    },\n    {\n      \"column\": \"f1_score\",\n      \"properties\": {\n        \"dtype\": \"number\",\n        \"std\": 0.16182194389049553,\n        \"min\": 0.4150943396226415,\n        \"max\": 0.8751269035532995,\n        \"num_unique_values\": 7,\n        \"samples\": [\n          0.8565217391304347,\n          0.8115015974440895,\n          0.7006993006993006\n        ],\n        \"semantic_type\": \"\",\n        \"description\": \"\"\n      }\n    },\n    {\n      \"column\": \"confusion\",\n      \"properties\": {\n        \"dtype\": \"number\",\n        \"std\": 0.0652893511001759,\n        \"min\": 0.0,\n        \"max\": 0.19354838709677424,\n        \"num_unique_values\": 7,\n        \"samples\": [\n          0.0574162679425837,\n          0.06617647058823528,\n          0.0019920318725099584\n        ],\n        \"semantic_type\": \"\",\n        \"description\": \"\"\n      }\n    },\n    {\n      \"column\": \"mae\",\n      \"properties\": {\n        \"dtype\": \"number\",\n        \"std\": 0.8453687441595059,\n        \"min\": 1.028301886792453,\n        \"max\": 3.5,\n        \"num_unique_values\": 7,\n        \"samples\": [\n          1.7183098591549295,\n          3.5,\n          2.6019417475728157\n        ],\n        \"semantic_type\": \"\",\n        \"description\": \"\"\n      }\n    },\n    {\n      \"column\": \"mse\",\n      \"properties\": {\n        \"dtype\": \"number\",\n        \"std\": 11.495564374053922,\n        \"min\": 2.1538461538461537,\n        \"max\": 35.642857142857146,\n        \"num_unique_values\": 7,\n        \"samples\": [\n          7.887323943661972,\n          35.642857142857146,\n          19.66990291262136\n        ],\n        \"semantic_type\": \"\",\n        \"description\": \"\"\n      }\n    },\n    {\n      \"column\": \"rmse\",\n      \"properties\": {\n        \"dtype\": \"number\",\n        \"std\": 1.5215207626210172,\n        \"min\": 1.4675987714106855,\n        \"max\": 5.970163912561961,\n        \"num_unique_values\": 7,\n        \"samples\": [\n          2.8084379899976377,\n          5.970163912561961,\n          4.435076426919987\n        ],\n        \"semantic_type\": \"\",\n        \"description\": \"\"\n      }\n    },\n    {\n      \"column\": \"ap\",\n      \"properties\": {\n        \"dtype\": \"number\",\n        \"std\": 0.19127728426809995,\n        \"min\": 0.2722731765638235,\n        \"max\": 0.8596545808726058,\n        \"num_unique_values\": 7,\n        \"samples\": [\n          0.8019378479960871,\n          0.693974031981607,\n          0.655523301684279\n        ],\n        \"semantic_type\": \"\",\n        \"description\": \"\"\n      }\n    }\n  ]\n}"
            }
          },
          "metadata": {},
          "execution_count": 22
        }
      ],
      "source": [
        "# Get the detections\n",
        "detections = test_evaluator.results\n",
        "detections"
      ]
    }
  ],
  "metadata": {
    "accelerator": "GPU",
    "colab": {
      "provenance": [],
      "gpuType": "A100",
      "machine_shape": "hm"
    },
    "kernelspec": {
      "display_name": "Python 3",
      "name": "python3"
    },
    "language_info": {
      "name": "python"
    }
  },
  "nbformat": 4,
  "nbformat_minor": 0
}
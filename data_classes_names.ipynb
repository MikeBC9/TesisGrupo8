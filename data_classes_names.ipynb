{
 "cells": [
  {
   "cell_type": "code",
   "execution_count": 1,
   "id": "a1e44486",
   "metadata": {},
   "outputs": [
    {
     "name": "stdout",
     "output_type": "stream",
     "text": [
      "                    images       x       y  labels\n",
      "0  L_07_05_16_DSC00126.JPG  2504.0   392.0       3\n",
      "1  L_07_05_16_DSC00126.JPG  1726.5   458.5       3\n",
      "2  L_07_05_16_DSC00127.JPG  2626.5  2337.5       3\n",
      "3  L_07_05_16_DSC00127.JPG  1818.0  2462.5       3\n",
      "4  L_07_05_16_DSC00150.JPG  1539.0  1411.0       2\n"
     ]
    }
   ],
   "source": [
    "import pandas as pd\n",
    "\n",
    "# Ruta al archivo CSV\n",
    "ruta_archivo = 'train.csv'\n",
    "\n",
    "# Cargar el archivo en un DataFrame\n",
    "df = pd.read_csv(ruta_archivo)\n",
    "\n",
    "# Mostrar las primeras filas del DataFrame\n",
    "print(df.head())\n"
   ]
  },
  {
   "cell_type": "code",
   "execution_count": 3,
   "id": "884a9ae2",
   "metadata": {},
   "outputs": [
    {
     "name": "stdout",
     "output_type": "stream",
     "text": [
      "Valores únicos en 'labels':\n",
      "[3 2 4 5 1 6]\n"
     ]
    }
   ],
   "source": [
    "\n",
    "print(\"Valores únicos en 'labels':\")\n",
    "print(df['labels'].unique())\n"
   ]
  },
  {
   "cell_type": "code",
   "execution_count": null,
   "id": "4051ac52",
   "metadata": {},
   "outputs": [],
   "source": [
    "species_dictionary = {\n",
    "    'Buffalo': 1,\n",
    "    'Elephant': 2,\n",
    "    'kob': 3,\n",
    "    'topi': 4,\n",
    "    'warthog': 5,\n",
    "    'waterbuck':6\n",
    "}\n",
    "# kob is an antelope species, with horn pointing backwards\n",
    "# topi is an another antelope species with horns pointing upwards\n",
    "# waterbuck is an another antelope species with big horns\n"
   ]
  }
 ],
 "metadata": {
  "kernelspec": {
   "display_name": "gpu_env",
   "language": "python",
   "name": "python3"
  },
  "language_info": {
   "codemirror_mode": {
    "name": "ipython",
    "version": 3
   },
   "file_extension": ".py",
   "mimetype": "text/x-python",
   "name": "python",
   "nbconvert_exporter": "python",
   "pygments_lexer": "ipython3",
   "version": "3.12.3"
  }
 },
 "nbformat": 4,
 "nbformat_minor": 5
}
